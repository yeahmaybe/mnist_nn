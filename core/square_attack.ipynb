{
 "cells": [
  {
   "cell_type": "code",
   "execution_count": 140,
   "metadata": {
    "collapsed": true,
    "pycharm": {
     "name": "#%%\n"
    }
   },
   "outputs": [],
   "source": [
    "from art.attacks.evasion import SquareAttack\n",
    "from art.estimators.classification import PyTorchClassifier\n",
    "\n",
    "import torch\n",
    "import numpy as np\n",
    "from sklearn.datasets import fetch_openml\n",
    "import torch.nn as nn\n",
    "import torch.optim as optim\n",
    "\n",
    "from torch.utils.data import TensorDataset, DataLoader\n",
    "from art.utils import load_mnist"
   ]
  },
  {
   "cell_type": "code",
   "execution_count": 141,
   "outputs": [
    {
     "name": "stdout",
     "output_type": "stream",
     "text": [
      "(70000, 784)\n"
     ]
    }
   ],
   "source": [
    "X, y = fetch_openml('mnist_784', version=1, return_X_y=True, as_frame=False)\n",
    "y = y.astype(int)\n",
    "print(X.shape)\n"
   ],
   "metadata": {
    "collapsed": false,
    "pycharm": {
     "name": "#%%\n"
    }
   }
  },
  {
   "cell_type": "code",
   "execution_count": 142,
   "outputs": [
    {
     "name": "stdout",
     "output_type": "stream",
     "text": [
      "(70000, 1, 28, 28)\n"
     ]
    }
   ],
   "source": [
    "X = X.reshape(X.shape[0], 1, 28, 28).astype(np.float32)\n",
    "print(X.shape)\n",
    "X_train, X_test, y_train, y_test = X[:60000], X[60000:], y[:60000], y[60000:]"
   ],
   "metadata": {
    "collapsed": false,
    "pycharm": {
     "name": "#%%\n"
    }
   }
  },
  {
   "cell_type": "code",
   "execution_count": 143,
   "outputs": [],
   "source": [
    "model = torch.load('mnistnet.pkl')"
   ],
   "metadata": {
    "collapsed": false,
    "pycharm": {
     "name": "#%%\n"
    }
   }
  },
  {
   "cell_type": "code",
   "execution_count": 145,
   "outputs": [],
   "source": [
    "criterion = nn.CrossEntropyLoss()\n",
    "optimizer = optim.Adam(model.parameters(), lr=0.0001)"
   ],
   "metadata": {
    "collapsed": false,
    "pycharm": {
     "name": "#%%\n"
    }
   }
  },
  {
   "cell_type": "code",
   "execution_count": 146,
   "outputs": [],
   "source": [
    "classifier = PyTorchClassifier(\n",
    "    model=model,\n",
    "    clip_values=(0, 255),\n",
    "    loss=criterion,\n",
    "    optimizer=optimizer,\n",
    "    input_shape=(1, 28, 28),\n",
    "    nb_classes=10\n",
    ")"
   ],
   "metadata": {
    "collapsed": false,
    "pycharm": {
     "name": "#%%\n"
    }
   }
  },
  {
   "cell_type": "code",
   "execution_count": 148,
   "outputs": [],
   "source": [
    "classifier.fit(X_train, y_train)"
   ],
   "metadata": {
    "collapsed": false,
    "pycharm": {
     "name": "#%%\n"
    }
   }
  },
  {
   "cell_type": "code",
   "execution_count": 149,
   "outputs": [
    {
     "data": {
      "text/plain": "array([[ -1.2503978 , -21.410791  , -14.861835  , ..., -17.805141  ,\n         -5.6852508 ,  -2.189767  ],\n       [ 28.352997  , -37.209133  ,  -6.749797  , ..., -15.176989  ,\n         -8.52273   ,  -6.4488273 ],\n       [ -7.726456  ,   4.810106  ,  -7.888375  , ...,  -1.2868266 ,\n         -6.0416512 ,  -4.2279105 ],\n       ...,\n       [  0.06489891, -23.426529  , -17.988892  , ..., -19.636305  ,\n         -5.868191  ,  -0.92743576],\n       [ -1.168447  ,  -4.9498625 ,  -4.894342  , ..., -24.317877  ,\n         -0.8597841 , -13.592029  ],\n       [ -9.598416  ,  -7.775364  ,  -7.8008914 , ..., -16.432966  ,\n         18.466784  ,   1.437529  ]], dtype=float32)"
     },
     "execution_count": 149,
     "metadata": {},
     "output_type": "execute_result"
    }
   ],
   "source": [
    "classifier.predict(X_train)"
   ],
   "metadata": {
    "collapsed": false,
    "pycharm": {
     "name": "#%%\n"
    }
   }
  },
  {
   "cell_type": "markdown",
   "source": [],
   "metadata": {
    "collapsed": false,
    "pycharm": {
     "name": "#%% md\n"
    }
   }
  },
  {
   "cell_type": "code",
   "execution_count": 166,
   "outputs": [
    {
     "data": {
      "text/plain": "SquareAttack - restarts:   0%|          | 0/1 [00:00<?, ?it/s]",
      "application/vnd.jupyter.widget-view+json": {
       "version_major": 2,
       "version_minor": 0,
       "model_id": "08941759cfe64f9dbfe1b4c71dd430f7"
      }
     },
     "metadata": {},
     "output_type": "display_data"
    },
    {
     "data": {
      "text/plain": "SquareAttack - iterations:   0%|          | 0/2 [00:00<?, ?it/s]",
      "application/vnd.jupyter.widget-view+json": {
       "version_major": 2,
       "version_minor": 0,
       "model_id": "042c4a537ad04cc8a477defa7cc86a7d"
      }
     },
     "metadata": {},
     "output_type": "display_data"
    }
   ],
   "source": [
    "from art.attacks.evasion import FastGradientMethod\n",
    "\n",
    "# Step 6: Generate adversarial test examples\n",
    "attack = SquareAttack(estimator=classifier, eps=70, max_iter=2)\n",
    "X_test_adv = attack.generate(x=X_test)"
   ],
   "metadata": {
    "collapsed": false,
    "pycharm": {
     "name": "#%%\n"
    }
   }
  },
  {
   "cell_type": "code",
   "execution_count": 167,
   "outputs": [
    {
     "data": {
      "text/plain": "<Figure size 2000x500 with 10 Axes>",
      "image/png": "[encoded data removed]"
     },
     "metadata": {},
     "output_type": "display_data"
    }
   ],
   "source": [
    "from matplotlib import pyplot as plt\n",
    "\n",
    "plt.figure(figsize=(20, 5))\n",
    "for i in range(10):\n",
    "    plt.subplot(2, 5, i + 1)\n",
    "    plt.imshow(X_test_adv[i].reshape(28, 28), cmap='Greys')"
   ],
   "metadata": {
    "collapsed": false,
    "pycharm": {
     "name": "#%%\n"
    }
   }
  },
  {
   "cell_type": "code",
   "execution_count": 169,
   "outputs": [
    {
     "name": "stdout",
     "output_type": "stream",
     "text": [
      "0.9487 9487 / 10000\n",
      "0.9487 9487 / 10000\n"
     ]
    }
   ],
   "source": [
    "# Step 7: Evaluate the ART classifier on adversarial test examples\n",
    "test_dataset = TensorDataset(torch.from_numpy(np.array(X_test_adv)).float(),\n",
    "                             torch.from_numpy(np.array(y_test)).long())\n",
    "test_loader = DataLoader(test_dataset,\n",
    "                         shuffle=True,\n",
    "                         pin_memory=True,\n",
    "                         num_workers=8,\n",
    "                         drop_last=True,\n",
    "                         batch_size=1)\n",
    "\n",
    "correct = 0\n",
    "total = 0\n",
    "preds = []\n",
    "for images, labels in test_loader:\n",
    "    outputs = model(images)\n",
    "    predicted = torch.argmax(outputs, dim=1)\n",
    "    preds += predicted\n",
    "    correct += (predicted == labels).sum().item()\n",
    "    total += len(labels)\n",
    "print(correct/total, correct, '/', total)\n",
    "\n",
    "#8879"
   ],
   "metadata": {
    "collapsed": false,
    "pycharm": {
     "name": "#%%\n"
    }
   }
  },
  {
   "cell_type": "markdown",
   "source": [
    "Обучение"
   ],
   "metadata": {
    "collapsed": false,
    "pycharm": {
     "name": "#%% md\n"
    }
   }
  },
  {
   "cell_type": "code",
   "execution_count": 170,
   "outputs": [],
   "source": [
    "NUM_EPOCHS = 6\n",
    "BATCH_SIZE = 128\n",
    "MOMENTUM = 0.9\n",
    "LR_DECAY = 0.0005\n",
    "LR_INIT = 0.01\n",
    "IMAGE_DIM = 28\n",
    "NUM_CLASSES = 10\n",
    "DEVICE_IDS = [0, 1, 2, 3]\n",
    "\n",
    "device = torch.device('cuda' if torch.cuda.is_available() else 'cpu')"
   ],
   "metadata": {
    "collapsed": false,
    "pycharm": {
     "name": "#%%\n"
    }
   }
  },
  {
   "cell_type": "code",
   "execution_count": 171,
   "outputs": [],
   "source": [
    "def evaluate_model(nn_model):\n",
    "    nn_model.eval()\n",
    "    with torch.no_grad():\n",
    "        correct_out = 0\n",
    "        total_out = 0\n",
    "        for pics, lbls in test_loader:\n",
    "            out = nn_model(pics)\n",
    "            pred = torch.argmax(out, dim=1)\n",
    "            total_out += lbls.shape[0]\n",
    "            correct_out += (pred == lbls).sum().item()\n",
    "\n",
    "    loss_current = criterion(out, lbls)\n",
    "    return correct_out / total_out, loss_current\n"
   ],
   "metadata": {
    "collapsed": false,
    "pycharm": {
     "name": "#%%\n"
    }
   }
  },
  {
   "cell_type": "code",
   "execution_count": 172,
   "outputs": [
    {
     "data": {
      "text/plain": "SquareAttack - restarts:   0%|          | 0/1 [00:00<?, ?it/s]",
      "application/vnd.jupyter.widget-view+json": {
       "version_major": 2,
       "version_minor": 0,
       "model_id": "9d92499631924c868253f030365b316e"
      }
     },
     "metadata": {},
     "output_type": "display_data"
    },
    {
     "data": {
      "text/plain": "SquareAttack - iterations:   0%|          | 0/2 [00:00<?, ?it/s]",
      "application/vnd.jupyter.widget-view+json": {
       "version_major": 2,
       "version_minor": 0,
       "model_id": "ea786de343c5426ebe0b0fe5984ccbea"
      }
     },
     "metadata": {},
     "output_type": "display_data"
    }
   ],
   "source": [
    "X_train_adv = attack.generate(x=X_train)"
   ],
   "metadata": {
    "collapsed": false,
    "pycharm": {
     "name": "#%%\n"
    }
   }
  },
  {
   "cell_type": "code",
   "execution_count": 173,
   "outputs": [],
   "source": [
    "train_dataset = TensorDataset(torch.from_numpy(np.array(X_train_adv)).float(),\n",
    "                             torch.from_numpy(np.array(y_train)).long())\n",
    "train_loader = DataLoader(train_dataset,\n",
    "                         shuffle=True,\n",
    "                         pin_memory=True,\n",
    "                         num_workers=8,\n",
    "                         drop_last=True,\n",
    "                         batch_size=BATCH_SIZE)"
   ],
   "metadata": {
    "collapsed": false,
    "pycharm": {
     "name": "#%%\n"
    }
   }
  },
  {
   "cell_type": "code",
   "execution_count": 174,
   "outputs": [
    {
     "name": "stdout",
     "output_type": "stream",
     "text": [
      "Optimizer created\n",
      "LR Scheduler created\n"
     ]
    }
   ],
   "source": [
    "optimizer = optim.Adam(params=model.parameters(), lr=0.0001)\n",
    "print('Optimizer created')\n",
    "lr_scheduler = optim.lr_scheduler.StepLR(optimizer, step_size=30, gamma=0.1)\n",
    "print('LR Scheduler created')"
   ],
   "metadata": {
    "collapsed": false,
    "pycharm": {
     "name": "#%%\n"
    }
   }
  },
  {
   "cell_type": "code",
   "execution_count": 175,
   "outputs": [
    {
     "name": "stdout",
     "output_type": "stream",
     "text": [
      "Starting training...\n"
     ]
    },
    {
     "name": "stderr",
     "output_type": "stream",
     "text": [
      "/Users/megame/opt/anaconda3/envs/mnist_nn/lib/python3.10/site-packages/torch/optim/lr_scheduler.py:131: UserWarning: Detected call of `lr_scheduler.step()` before `optimizer.step()`. In PyTorch 1.1.0 and later, you should call them in the opposite order: `optimizer.step()` before `lr_scheduler.step()`.  Failure to do this will result in PyTorch skipping the first value of the learning rate schedule. See more details at https://pytorch.org/docs/stable/optim.html#how-to-adjust-learning-rate\n",
      "  warnings.warn(\"Detected call of `lr_scheduler.step()` before `optimizer.step()`. \"\n"
     ]
    },
    {
     "name": "stdout",
     "output_type": "stream",
     "text": [
      "Epoch: 1 \tStep: 200 \tLoss: 0.0066 \tAcc: 1.0\n",
      "Epoch: 1 \tStep: 400 \tLoss: 0.0042 \tAcc: 1.0\n",
      "Epoch: 2 \tStep: 600 \tLoss: 0.0883 \tAcc: 0.984375\n",
      "Epoch: 2 \tStep: 800 \tLoss: 0.0009 \tAcc: 1.0\n",
      "Epoch: 3 \tStep: 1000 \tLoss: 0.0010 \tAcc: 1.0\n",
      "Epoch: 3 \tStep: 1200 \tLoss: 0.0002 \tAcc: 1.0\n",
      "Epoch: 3 \tStep: 1400 \tLoss: 0.0062 \tAcc: 1.0\n",
      "Epoch: 4 \tStep: 1600 \tLoss: 0.0031 \tAcc: 1.0\n",
      "Epoch: 4 \tStep: 1800 \tLoss: 0.0012 \tAcc: 1.0\n",
      "Epoch: 5 \tStep: 2000 \tLoss: 0.0016 \tAcc: 1.0\n",
      "Epoch: 5 \tStep: 2200 \tLoss: 0.0256 \tAcc: 0.9921875\n",
      "Epoch: 6 \tStep: 2400 \tLoss: 0.0143 \tAcc: 0.9921875\n",
      "Epoch: 6 \tStep: 2600 \tLoss: 0.0011 \tAcc: 1.0\n",
      "Epoch: 6 \tStep: 2800 \tLoss: 0.0001 \tAcc: 1.0\n"
     ]
    }
   ],
   "source": [
    "import torch.nn.functional as F\n",
    "\n",
    "accuracy_test_stat = []\n",
    "accuracy_train_stat = []\n",
    "loss_test_stat = []\n",
    "loss_train_stat = []\n",
    "\n",
    "# start training!!\n",
    "print('Starting training...')\n",
    "total_steps = 1\n",
    "for epoch in range(NUM_EPOCHS):\n",
    "    epoch_tr_accuracy = 0\n",
    "    epoch_tr_loss = 0\n",
    "\n",
    "    lr_scheduler.step()\n",
    "    for imgs, classes in train_loader:\n",
    "        imgs, classes = imgs.to(device), classes.to(device)\n",
    "\n",
    "        # calculate the loss\n",
    "        output = model(imgs)\n",
    "        loss = F.cross_entropy(output, classes)\n",
    "\n",
    "        # update the parameters\n",
    "        optimizer.zero_grad()\n",
    "        loss.backward()\n",
    "        optimizer.step()\n",
    "\n",
    "        # log the information and add to tensorboard\n",
    "        if total_steps % 200 == 0:\n",
    "            with torch.no_grad():\n",
    "                predictions = torch.argmax(output, dim=1)\n",
    "                accuracy = (predictions == classes).sum() / len(predictions)\n",
    "\n",
    "                epoch_tr_accuracy = accuracy.item()\n",
    "                epoch_tr_loss = loss.item()\n",
    "\n",
    "                print('Epoch: {} \\tStep: {} \\tLoss: {:.4f} \\tAcc: {}'\n",
    "                      .format(epoch + 1, total_steps, loss.item(), epoch_tr_accuracy))\n",
    "\n",
    "        if total_steps % 400 == 0:\n",
    "            a, l = evaluate_model(model)\n",
    "            accuracy_train_stat.append(epoch_tr_accuracy)\n",
    "            accuracy_test_stat.append(a)\n",
    "\n",
    "            loss_train_stat.append(epoch_tr_loss)\n",
    "            loss_test_stat.append(l)\n",
    "        total_steps += 1\n",
    "\n",
    "    # print(accuracy_test_stat, accuracy_train_stat, loss_test_stat, loss_train_stat)"
   ],
   "metadata": {
    "collapsed": false,
    "pycharm": {
     "name": "#%%\n"
    }
   }
  },
  {
   "cell_type": "code",
   "execution_count": 180,
   "outputs": [
    {
     "data": {
      "text/plain": "<Figure size 1000x700 with 1 Axes>",
      "image/png": "[encoded data removed]"
     },
     "metadata": {},
     "output_type": "display_data"
    }
   ],
   "source": [
    "epochs = np.multiply(range(1, len(loss_train_stat) + 1), 400)\n",
    "plt.figure(figsize=(10, 7))\n",
    "plt.plot(epochs, loss_train_stat)\n",
    "plt.plot(epochs, loss_test_stat)\n",
    "plt.legend([\"Train Loss\", \"Test Loss\"])\n",
    "plt.show()"
   ],
   "metadata": {
    "collapsed": false,
    "pycharm": {
     "name": "#%%\n"
    }
   }
  },
  {
   "cell_type": "code",
   "execution_count": 179,
   "outputs": [
    {
     "name": "stdout",
     "output_type": "stream",
     "text": [
      "[0.9775, 0.9857, 0.9865, 0.9862, 0.9825, 0.9821, 0.9825]\n"
     ]
    },
    {
     "data": {
      "text/plain": "<Figure size 1000x700 with 1 Axes>",
      "image/png": "[encoded data removed]"
     },
     "metadata": {},
     "output_type": "display_data"
    }
   ],
   "source": [
    "epochs = np.multiply(range(1, len(loss_train_stat) + 1), 400)\n",
    "plt.figure(figsize=(10, 7))\n",
    "print(accuracy_test_stat)\n",
    "plt.plot(epochs, accuracy_train_stat)\n",
    "plt.plot(epochs, accuracy_test_stat)\n",
    "plt.legend([\"Train Accuracy\", \"Test Accuracy\"])\n",
    "plt.show()"
   ],
   "metadata": {
    "collapsed": false,
    "pycharm": {
     "name": "#%%\n"
    }
   }
  },
  {
   "cell_type": "code",
   "execution_count": 184,
   "outputs": [],
   "source": [
    "torch.save(classifier, 'mnistnet_square.pkl')"
   ],
   "metadata": {
    "collapsed": false,
    "pycharm": {
     "name": "#%%\n"
    }
   }
  },
  {
   "cell_type": "code",
   "execution_count": 185,
   "outputs": [
    {
     "name": "stdout",
     "output_type": "stream",
     "text": [
      "0.9847 9847 / 10000\n"
     ]
    }
   ],
   "source": [
    "test_dataset = TensorDataset(torch.from_numpy(np.array(X_test)).float(),\n",
    "                             torch.from_numpy(np.array(y_test)).long())\n",
    "test_loader = DataLoader(test_dataset,\n",
    "                         shuffle=True,\n",
    "                         pin_memory=True,\n",
    "                         num_workers=8,\n",
    "                         drop_last=True,\n",
    "                         batch_size=1)\n",
    "\n",
    "correct = 0\n",
    "total = 0\n",
    "preds = []\n",
    "for images, labels in test_loader:\n",
    "    outputs = model(images)\n",
    "    predicted = torch.argmax(outputs, dim=1)\n",
    "    preds += predicted\n",
    "    correct += (predicted == labels).sum().item()\n",
    "    total += len(labels)\n",
    "print(correct/total, correct, '/', total)\n"
   ],
   "metadata": {
    "collapsed": false,
    "pycharm": {
     "name": "#%%\n"
    }
   }
  }
 ],
 "metadata": {
  "kernelspec": {
   "display_name": "Python 3",
   "language": "python",
   "name": "python3"
  },
  "language_info": {
   "codemirror_mode": {
    "name": "ipython",
    "version": 2
   },
   "file_extension": ".py",
   "mimetype": "text/x-python",
   "name": "python",
   "nbconvert_exporter": "python",
   "pygments_lexer": "ipython2",
   "version": "2.7.6"
  }
 },
 "nbformat": 4,
 "nbformat_minor": 0
}