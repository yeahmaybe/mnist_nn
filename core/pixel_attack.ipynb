{
 "cells": [
  {
   "cell_type": "code",
   "execution_count": 12,
   "metadata": {
    "collapsed": true,
    "pycharm": {
     "name": "#%%\n"
    }
   },
   "outputs": [],
   "source": [
    "from art.attacks.evasion import PixelAttack\n",
    "from art.estimators.classification import PyTorchClassifier\n",
    "\n",
    "import torch\n",
    "import numpy as np\n",
    "from sklearn.datasets import fetch_openml\n",
    "import torch.nn as nn\n",
    "import torch.optim as optim\n",
    "\n",
    "from torch.utils.data import TensorDataset, DataLoader\n",
    "from art.utils import load_mnist"
   ]
  },
  {
   "cell_type": "code",
   "execution_count": 10,
   "outputs": [
    {
     "name": "stdout",
     "output_type": "stream",
     "text": [
      "(70000, 784)\n"
     ]
    }
   ],
   "source": [
    "X, y = fetch_openml('mnist_784', version=1, return_X_y=True, as_frame=False)\n",
    "y = y.astype(int)\n",
    "print(X.shape)\n"
   ],
   "metadata": {
    "collapsed": false,
    "pycharm": {
     "name": "#%%\n"
    }
   }
  },
  {
   "cell_type": "code",
   "execution_count": 11,
   "outputs": [
    {
     "name": "stdout",
     "output_type": "stream",
     "text": [
      "(70000, 1, 28, 28)\n"
     ]
    }
   ],
   "source": [
    "X = X.reshape(X.shape[0], 1, 28, 28).astype(np.float32)\n",
    "print(X.shape)\n",
    "X_train, X_test, y_train, y_test = X[:60000], X[60000:], y[:60000], y[60000:]"
   ],
   "metadata": {
    "collapsed": false,
    "pycharm": {
     "name": "#%%\n"
    }
   }
  },
  {
   "cell_type": "markdown",
   "source": [],
   "metadata": {
    "collapsed": false,
    "pycharm": {
     "name": "#%% md\n"
    }
   }
  },
  {
   "cell_type": "code",
   "execution_count": 15,
   "outputs": [],
   "source": [
    "model = torch.load('mnistnet.pkl')"
   ],
   "metadata": {
    "collapsed": false,
    "pycharm": {
     "name": "#%%\n"
    }
   }
  },
  {
   "cell_type": "markdown",
   "source": [],
   "metadata": {
    "collapsed": false,
    "pycharm": {
     "name": "#%% md\n"
    }
   }
  },
  {
   "cell_type": "code",
   "execution_count": 16,
   "outputs": [],
   "source": [
    "criterion = nn.CrossEntropyLoss()\n",
    "optimizer = optim.Adam(model.parameters(), lr=0.0001)"
   ],
   "metadata": {
    "collapsed": false,
    "pycharm": {
     "name": "#%%\n"
    }
   }
  },
  {
   "cell_type": "code",
   "execution_count": 17,
   "outputs": [],
   "source": [
    "classifier = PyTorchClassifier(\n",
    "    model=model,\n",
    "    clip_values=(0, 255),\n",
    "    loss=criterion,\n",
    "    optimizer=optimizer,\n",
    "    input_shape=(1, 28, 28),\n",
    "    nb_classes=10\n",
    ")"
   ],
   "metadata": {
    "collapsed": false,
    "pycharm": {
     "name": "#%%\n"
    }
   }
  },
  {
   "cell_type": "code",
   "execution_count": null,
   "outputs": [],
   "source": [
    "classifier.fit(X_train, y_train)"
   ],
   "metadata": {
    "collapsed": false,
    "pycharm": {
     "name": "#%%\n"
    }
   }
  },
  {
   "cell_type": "code",
   "execution_count": null,
   "outputs": [],
   "source": [
    "#classifier.predict(X_test)"
   ],
   "metadata": {
    "collapsed": false,
    "pycharm": {
     "name": "#%%\n"
    }
   }
  },
  {
   "cell_type": "markdown",
   "source": [],
   "metadata": {
    "collapsed": false,
    "pycharm": {
     "name": "#%% md\n"
    }
   }
  },
  {
   "cell_type": "code",
   "execution_count": 18,
   "outputs": [],
   "source": [
    "from art.attacks.evasion import PixelAttack\n",
    "\n",
    "# Step 6: Generate adversarial test examples\n",
    "attack = PixelAttack(classifier=classifier, max_iter=1)\n",
    "X_test_adv = attack.generate(x=X_test[:2000])\n",
    "\n",
    "with open(\"X_adv_pixel.txt\", \"w\") as file:\n",
    "    print(*X_test_adv, file=file, sep=\"\\n\")"
   ],
   "metadata": {
    "collapsed": false,
    "pycharm": {
     "name": "#%%\n"
    }
   }
  },
  {
   "cell_type": "code",
   "execution_count": 19,
   "outputs": [
    {
     "data": {
      "text/plain": "<Figure size 2000x500 with 1 Axes>",
      "image/png": "[encoded data removed]"
     },
     "metadata": {},
     "output_type": "display_data"
    }
   ],
   "source": [
    "from matplotlib import pyplot as plt\n",
    "\n",
    "plt.figure(figsize=(20, 5))\n",
    "for i in range(1):\n",
    "    plt.subplot(1, 1, i + 1)\n",
    "    plt.imshow(X_test_adv[2].reshape(28, 28), cmap='Greys')"
   ],
   "metadata": {
    "collapsed": false,
    "pycharm": {
     "name": "#%%\n"
    }
   }
  },
  {
   "cell_type": "code",
   "execution_count": 20,
   "outputs": [
    {
     "name": "stdout",
     "output_type": "stream",
     "text": [
      "0.311 622 / 2000\n"
     ]
    }
   ],
   "source": [
    "# Step 7: Evaluate the ART classifier on adversarial test examples\n",
    "test_dataset = TensorDataset(torch.from_numpy(np.array(X_test_adv)).float(),\n",
    "                             torch.from_numpy(np.array(y_test[:2000])).long())\n",
    "test_loader = DataLoader(test_dataset,\n",
    "                         shuffle=True,\n",
    "                         pin_memory=True,\n",
    "                         num_workers=8,\n",
    "                         drop_last=True,\n",
    "                         batch_size=1)\n",
    "\n",
    "correct = 0\n",
    "total = 0\n",
    "preds = []\n",
    "for images, labels in test_loader:\n",
    "    outputs = model(images)\n",
    "    predicted = torch.argmax(outputs, dim=1)\n",
    "    preds += predicted\n",
    "    correct += (predicted == labels).sum().item()\n",
    "    total += len(labels)\n",
    "print(correct/total, correct, '/', total)\n",
    "\n",
    "#8879"
   ],
   "metadata": {
    "collapsed": false,
    "pycharm": {
     "name": "#%%\n"
    }
   }
  },
  {
   "cell_type": "markdown",
   "source": [
    "Обучение"
   ],
   "metadata": {
    "collapsed": false,
    "pycharm": {
     "name": "#%% md\n"
    }
   }
  },
  {
   "cell_type": "code",
   "execution_count": 21,
   "outputs": [],
   "source": [
    "NUM_EPOCHS = 7\n",
    "BATCH_SIZE = 128\n",
    "MOMENTUM = 0.9\n",
    "LR_DECAY = 0.0005\n",
    "LR_INIT = 0.01\n",
    "IMAGE_DIM = 28\n",
    "NUM_CLASSES = 10\n",
    "DEVICE_IDS = [0, 1, 2, 3]\n",
    "\n",
    "device = torch.device('cuda' if torch.cuda.is_available() else 'cpu')"
   ],
   "metadata": {
    "collapsed": false,
    "pycharm": {
     "name": "#%%\n"
    }
   }
  },
  {
   "cell_type": "code",
   "execution_count": 22,
   "outputs": [],
   "source": [
    "#X_train_adv = attack.generate(x=X_train)"
   ],
   "metadata": {
    "collapsed": false,
    "pycharm": {
     "name": "#%%\n"
    }
   }
  },
  {
   "cell_type": "code",
   "execution_count": 23,
   "outputs": [],
   "source": [
    "train_dataset = TensorDataset(torch.from_numpy(np.array(X_test_adv[:1800])).float(),\n",
    "                             torch.from_numpy(np.array(y_test[:1800])).long())\n",
    "train_loader = DataLoader(train_dataset,\n",
    "                         shuffle=True,\n",
    "                         pin_memory=True,\n",
    "                         num_workers=8,\n",
    "                         drop_last=True,\n",
    "                         batch_size=32)"
   ],
   "metadata": {
    "collapsed": false,
    "pycharm": {
     "name": "#%%\n"
    }
   }
  },
  {
   "cell_type": "code",
   "execution_count": 24,
   "outputs": [],
   "source": [
    "def evaluate_model(nn_model):\n",
    "    nn_model.eval()\n",
    "    with torch.no_grad():\n",
    "        correct_out = 0\n",
    "        total_out = 0\n",
    "        for pics, lbls in test_loader:\n",
    "            out = nn_model(pics)\n",
    "            pred = torch.argmax(out, dim=1)\n",
    "            total_out += lbls.shape[0]\n",
    "            correct_out += (pred == lbls).sum().item()\n",
    "\n",
    "    loss_current = criterion(out, lbls)\n",
    "    return correct_out / total_out, loss_current\n"
   ],
   "metadata": {
    "collapsed": false,
    "pycharm": {
     "name": "#%%\n"
    }
   }
  },
  {
   "cell_type": "code",
   "execution_count": 25,
   "outputs": [
    {
     "name": "stdout",
     "output_type": "stream",
     "text": [
      "Optimizer created\n",
      "LR Scheduler created\n"
     ]
    }
   ],
   "source": [
    "optimizer = optim.Adam(params=model.parameters(), lr=0.0001)\n",
    "print('Optimizer created')\n",
    "lr_scheduler = optim.lr_scheduler.StepLR(optimizer, step_size=30, gamma=0.1)\n",
    "print('LR Scheduler created')"
   ],
   "metadata": {
    "collapsed": false,
    "pycharm": {
     "name": "#%%\n"
    }
   }
  },
  {
   "cell_type": "code",
   "execution_count": 26,
   "outputs": [
    {
     "name": "stdout",
     "output_type": "stream",
     "text": [
      "Starting training...\n"
     ]
    },
    {
     "name": "stderr",
     "output_type": "stream",
     "text": [
      "/Users/megame/opt/anaconda3/envs/mnist_nn/lib/python3.10/site-packages/torch/optim/lr_scheduler.py:131: UserWarning: Detected call of `lr_scheduler.step()` before `optimizer.step()`. In PyTorch 1.1.0 and later, you should call them in the opposite order: `optimizer.step()` before `lr_scheduler.step()`.  Failure to do this will result in PyTorch skipping the first value of the learning rate schedule. See more details at https://pytorch.org/docs/stable/optim.html#how-to-adjust-learning-rate\n",
      "  warnings.warn(\"Detected call of `lr_scheduler.step()` before `optimizer.step()`. \"\n"
     ]
    },
    {
     "name": "stdout",
     "output_type": "stream",
     "text": [
      "Epoch: 1 \tStep: 20 \tLoss: 0.6612 \tAcc: 0.71875\n",
      "Epoch: 1 \tStep: 40 \tLoss: 0.8390 \tAcc: 0.71875\n",
      "Epoch: 2 \tStep: 60 \tLoss: 0.0936 \tAcc: 1.0\n",
      "Epoch: 2 \tStep: 80 \tLoss: 0.1054 \tAcc: 0.96875\n",
      "Epoch: 2 \tStep: 100 \tLoss: 0.2182 \tAcc: 0.9375\n",
      "Epoch: 3 \tStep: 120 \tLoss: 0.0838 \tAcc: 0.96875\n",
      "Epoch: 3 \tStep: 140 \tLoss: 0.0566 \tAcc: 1.0\n",
      "Epoch: 3 \tStep: 160 \tLoss: 0.0313 \tAcc: 1.0\n",
      "Epoch: 4 \tStep: 180 \tLoss: 0.0153 \tAcc: 1.0\n",
      "Epoch: 4 \tStep: 200 \tLoss: 0.1540 \tAcc: 0.9375\n",
      "Epoch: 4 \tStep: 220 \tLoss: 0.1226 \tAcc: 0.96875\n",
      "Epoch: 5 \tStep: 240 \tLoss: 0.0371 \tAcc: 0.96875\n",
      "Epoch: 5 \tStep: 260 \tLoss: 0.0055 \tAcc: 1.0\n",
      "Epoch: 5 \tStep: 280 \tLoss: 0.0015 \tAcc: 1.0\n",
      "Epoch: 6 \tStep: 300 \tLoss: 0.0079 \tAcc: 1.0\n",
      "Epoch: 6 \tStep: 320 \tLoss: 0.0122 \tAcc: 1.0\n",
      "Epoch: 7 \tStep: 340 \tLoss: 0.0037 \tAcc: 1.0\n",
      "Epoch: 7 \tStep: 360 \tLoss: 0.0247 \tAcc: 1.0\n",
      "Epoch: 7 \tStep: 380 \tLoss: 0.0009 \tAcc: 1.0\n"
     ]
    }
   ],
   "source": [
    "import torch.nn.functional as F\n",
    "\n",
    "accuracy_test_stat = []\n",
    "accuracy_train_stat = []\n",
    "loss_test_stat = []\n",
    "loss_train_stat = []\n",
    "\n",
    "print('Starting training...')\n",
    "total_steps = 1\n",
    "for epoch in range(NUM_EPOCHS):\n",
    "    epoch_tr_accuracy = 0\n",
    "    epoch_tr_loss = 0\n",
    "\n",
    "    lr_scheduler.step()\n",
    "    for imgs, classes in train_loader:\n",
    "        imgs, classes = imgs.to(device), classes.to(device)\n",
    "\n",
    "        # calculate the loss\n",
    "        output = model(imgs)\n",
    "        loss = F.cross_entropy(output, classes)\n",
    "\n",
    "        # update the parameters\n",
    "        optimizer.zero_grad()\n",
    "        loss.backward()\n",
    "        optimizer.step()\n",
    "\n",
    "        # log the information and add to tensorboard\n",
    "        if total_steps % 20 == 0:\n",
    "            with torch.no_grad():\n",
    "                predictions = torch.argmax(output, dim=1)\n",
    "                accuracy = (predictions == classes).sum() / len(predictions)\n",
    "\n",
    "                epoch_tr_accuracy = accuracy.item()\n",
    "                epoch_tr_loss = loss.item()\n",
    "\n",
    "                print('Epoch: {} \\tStep: {} \\tLoss: {:.4f} \\tAcc: {}'\n",
    "                      .format(epoch + 1, total_steps, loss.item(), epoch_tr_accuracy))\n",
    "\n",
    "        if total_steps % 40 == 0:\n",
    "            a, l = evaluate_model(model)\n",
    "            accuracy_train_stat.append(epoch_tr_accuracy)\n",
    "            accuracy_test_stat.append(a)\n",
    "\n",
    "            loss_train_stat.append(epoch_tr_loss)\n",
    "            loss_test_stat.append(l)\n",
    "        total_steps += 1\n",
    "\n",
    "    # print(accuracy_test_stat, accuracy_train_stat, loss_test_stat, loss_train_stat)"
   ],
   "metadata": {
    "collapsed": false,
    "pycharm": {
     "name": "#%%\n"
    }
   }
  },
  {
   "cell_type": "code",
   "execution_count": 27,
   "outputs": [
    {
     "data": {
      "text/plain": "<Figure size 1000x700 with 1 Axes>",
      "image/png": "[encoded data removed]"
     },
     "metadata": {},
     "output_type": "display_data"
    }
   ],
   "source": [
    "epochs = np.multiply(range(1, len(loss_train_stat) + 1), 40)\n",
    "plt.figure(figsize=(10, 7))\n",
    "plt.plot(epochs, loss_train_stat)\n",
    "plt.plot(epochs, loss_test_stat)\n",
    "plt.legend([\"Train Loss\", \"Test Loss\"])\n",
    "plt.show()"
   ],
   "metadata": {
    "collapsed": false,
    "pycharm": {
     "name": "#%%\n"
    }
   }
  },
  {
   "cell_type": "code",
   "execution_count": 28,
   "outputs": [
    {
     "name": "stdout",
     "output_type": "stream",
     "text": [
      "[0.9165, 0.9515, 0.965, 0.9855, 0.984, 0.9775, 0.9915, 0.991, 0.9895]\n"
     ]
    },
    {
     "data": {
      "text/plain": "<Figure size 1000x700 with 1 Axes>",
      "image/png": "[encoded data removed]"
     },
     "metadata": {},
     "output_type": "display_data"
    }
   ],
   "source": [
    "epochs = np.multiply(range(1, len(loss_train_stat) + 1), 40)\n",
    "plt.figure(figsize=(10, 7))\n",
    "print(accuracy_test_stat)\n",
    "plt.plot(epochs, accuracy_train_stat)\n",
    "plt.plot(epochs, accuracy_test_stat)\n",
    "plt.legend([\"Train Accuracy\", \"Test Accuracy\"])\n",
    "plt.show()"
   ],
   "metadata": {
    "collapsed": false,
    "pycharm": {
     "name": "#%%\n"
    }
   }
  },
  {
   "cell_type": "code",
   "execution_count": 29,
   "outputs": [],
   "source": [
    "torch.save(model, 'mnistnet_art_pixel.pkl')"
   ],
   "metadata": {
    "collapsed": false,
    "pycharm": {
     "name": "#%%\n"
    }
   }
  },
  {
   "cell_type": "code",
   "execution_count": 30,
   "outputs": [
    {
     "name": "stdout",
     "output_type": "stream",
     "text": [
      "0.993 1986 / 2000\n"
     ]
    }
   ],
   "source": [
    "test_dataset = TensorDataset(torch.from_numpy(np.array(X_test_adv)).float(),\n",
    "                             torch.from_numpy(np.array(y_test[:2000])).long())\n",
    "test_loader = DataLoader(test_dataset,\n",
    "                         shuffle=True,\n",
    "                         pin_memory=True,\n",
    "                         num_workers=8,\n",
    "                         drop_last=True,\n",
    "                         batch_size=1)\n",
    "\n",
    "correct = 0\n",
    "total = 0\n",
    "preds = []\n",
    "for images, labels in test_loader:\n",
    "    outputs = model(images)\n",
    "    predicted = torch.argmax(outputs, dim=1)\n",
    "    preds += predicted\n",
    "    correct += (predicted == labels).sum().item()\n",
    "    total += len(labels)\n",
    "print(correct/total, correct, '/', total)\n"
   ],
   "metadata": {
    "collapsed": false,
    "pycharm": {
     "name": "#%%\n"
    }
   }
  }
 ],
 "metadata": {
  "kernelspec": {
   "display_name": "Python 3",
   "language": "python",
   "name": "python3"
  },
  "language_info": {
   "codemirror_mode": {
    "name": "ipython",
    "version": 2
   },
   "file_extension": ".py",
   "mimetype": "text/x-python",
   "name": "python",
   "nbconvert_exporter": "python",
   "pygments_lexer": "ipython2",
   "version": "2.7.6"
  }
 },
 "nbformat": 4,
 "nbformat_minor": 0
}