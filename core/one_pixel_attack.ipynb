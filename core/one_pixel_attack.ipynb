{
 "cells": [
  {
   "cell_type": "code",
   "execution_count": 4,
   "outputs": [],
   "source": [
    "import torch\n",
    "import torch.nn as nn\n",
    "import torch.optim as optim\n",
    "import torch.nn.functional as F\n",
    "import tqdm as tqdm\n",
    "from sklearn.datasets import fetch_openml\n",
    "from torch.utils import data\n",
    "import torchvision.datasets as datasets\n",
    "import torchvision.transforms as transforms\n",
    "from tensorboardX import SummaryWriter\n",
    "from torch.utils.data import TensorDataset, DataLoader\n",
    "import matplotlib.pyplot as plt\n",
    "import numpy as np"
   ],
   "metadata": {
    "collapsed": false,
    "pycharm": {
     "name": "#%%\n"
    }
   }
  },
  {
   "cell_type": "code",
   "execution_count": 5,
   "outputs": [],
   "source": [
    "NUM_EPOCHS = 10\n",
    "BATCH_SIZE = 128\n",
    "MOMENTUM = 0.9\n",
    "LR_DECAY = 0.0005\n",
    "LR_INIT = 0.01\n",
    "IMAGE_DIM = 28\n",
    "NUM_CLASSES = 10\n",
    "DEVICE_IDS = [0, 1, 2, 3]\n",
    "\n",
    "device = torch.device('cuda' if torch.cuda.is_available() else 'cpu')"
   ],
   "metadata": {
    "collapsed": false,
    "pycharm": {
     "name": "#%%\n"
    }
   }
  },
  {
   "cell_type": "code",
   "execution_count": 6,
   "outputs": [
    {
     "name": "stderr",
     "output_type": "stream",
     "text": [
      "/Users/megame/opt/anaconda3/envs/mnist_nn/lib/python3.10/site-packages/sklearn/datasets/_openml.py:932: FutureWarning: The default value of `parser` will change from `'liac-arff'` to `'auto'` in 1.4. You can set `parser='auto'` to silence this warning. Therefore, an `ImportError` will be raised from 1.4 if the dataset is dense and pandas is not installed. Note that the pandas parser may return different data types. See the Notes Section in fetch_openml's API doc for details.\n",
      "  warn(\n"
     ]
    },
    {
     "name": "stdout",
     "output_type": "stream",
     "text": [
      "(70000, 784)\n",
      "(70000, 1, 28, 28)\n"
     ]
    }
   ],
   "source": [
    "X, y = fetch_openml('mnist_784', version=1, return_X_y=True, as_frame=False)\n",
    "y = y.astype(int)\n",
    "print(X.shape)\n",
    "X = X.reshape(X.shape[0], 1, 28, 28)\n",
    "print(X.shape)\n",
    "X_train, X_test, y_train, y_test = X[:60000], X[60000:], y[:60000], y[60000:]\n",
    "train_dataset = TensorDataset(torch.from_numpy(X_train).float(),\n",
    "                              torch.from_numpy(y_train).long())\n",
    "train_loader = DataLoader(train_dataset,\n",
    "                          shuffle=True,\n",
    "                          pin_memory=True,\n",
    "                          num_workers=8,\n",
    "                          drop_last=True,\n",
    "                          batch_size=BATCH_SIZE)\n",
    "\n",
    "test_dataset = TensorDataset(torch.from_numpy(X_test).float(),\n",
    "                             torch.from_numpy(y_test).long())\n",
    "test_loader = DataLoader(test_dataset,\n",
    "                         shuffle=True,\n",
    "                         pin_memory=True,\n",
    "                         num_workers=8,\n",
    "                         drop_last=True,\n",
    "                         batch_size=1)\n",
    "import torch.nn as nn\n",
    "\n",
    "criterion = nn.CrossEntropyLoss()"
   ],
   "metadata": {
    "collapsed": false,
    "pycharm": {
     "name": "#%%\n"
    }
   }
  },
  {
   "cell_type": "code",
   "execution_count": 7,
   "outputs": [],
   "source": [
    "def attack_image(xs, img):\n",
    "    img = img.reshape(28, 28)\n",
    "    imgs = []\n",
    "    for i, x in enumerate(xs):\n",
    "            y_pos, x_pos, intensity = x\n",
    "            imgs.append(img.copy())\n",
    "            imgs[i][y_pos][x_pos] = intensity\n",
    "\n",
    "    return imgs"
   ],
   "metadata": {
    "collapsed": false,
    "pycharm": {
     "name": "#%%\n"
    }
   }
  },
  {
   "cell_type": "code",
   "execution_count": 8,
   "outputs": [],
   "source": [
    "def predict_labels(images):\n",
    "    dataset = TensorDataset(torch.from_numpy(np.array(images)).float(),\n",
    "                            torch.from_numpy(np.array([-1]*len(images))).long()\n",
    "                        )\n",
    "    loader = DataLoader(dataset,\n",
    "                          shuffle=True,\n",
    "                          # pin_memory=True,\n",
    "                          # num_workers=8,\n",
    "                          drop_last=False,\n",
    "                          batch_size=BATCH_SIZE)\n",
    "    predictions = []\n",
    "    for img, lbl in loader:\n",
    "        out = model(img)\n",
    "        predictions += torch.argmax(out, dim=1)\n",
    "    return predictions"
   ],
   "metadata": {
    "collapsed": false,
    "pycharm": {
     "name": "#%%\n"
    }
   }
  },
  {
   "cell_type": "code",
   "execution_count": 9,
   "outputs": [],
   "source": [
    "def attacked_predictions(image):\n",
    "    image = image.reshape(28, 28)\n",
    "    vec = []\n",
    "    for y in range(0, 28):\n",
    "        for x in range(0, 28):\n",
    "            value = 255  # if image[y][x] < 128 else 0\n",
    "            pix = [y, x, value]\n",
    "            vec.append(pix)\n",
    "    attacked_images = np.array(attack_image(vec, image))\n",
    "    attacked_images = attacked_images.reshape(len(attacked_images), 1, 28, 28)\n",
    "    predictions = np.array(predict_labels(attacked_images)).reshape(28, 28)\n",
    "    return predictions"
   ],
   "metadata": {
    "collapsed": false,
    "pycharm": {
     "name": "#%%\n"
    }
   }
  },
  {
   "cell_type": "code",
   "execution_count": 38,
   "outputs": [],
   "source": [
    "model = torch.load('mnistnet.pkl')"
   ],
   "metadata": {
    "collapsed": false,
    "pycharm": {
     "name": "#%%\n"
    }
   }
  },
  {
   "cell_type": "code",
   "execution_count": 39,
   "outputs": [
    {
     "name": "stdout",
     "output_type": "stream",
     "text": [
      "Accuracy:  0.9867934948979592\n"
     ]
    }
   ],
   "source": [
    "correct = 0\n",
    "total_pictures = 0\n",
    "for i, img in enumerate(X_test):\n",
    "    preds = attacked_predictions(img)\n",
    "    for y in range(28):\n",
    "        for x in range(28):\n",
    "            total_pictures+=1\n",
    "            correct += preds[y][x] == y_test[i]\n",
    "\n",
    "print(\"Accuracy: \", correct/total_pictures)"
   ],
   "metadata": {
    "collapsed": false,
    "pycharm": {
     "name": "#%%\n"
    }
   }
  },
  {
   "cell_type": "markdown",
   "source": [
    "Функция изменения пикселя:"
   ],
   "metadata": {
    "collapsed": false,
    "pycharm": {
     "name": "#%% md\n"
    }
   }
  },
  {
   "cell_type": "code",
   "execution_count": 23,
   "outputs": [
    {
     "name": "stdout",
     "output_type": "stream",
     "text": [
      "(28, 28)\n"
     ]
    }
   ],
   "source": [
    "image_id = 0 # Image index in the test set\n",
    "pixel = [[4, 4, 255], [7, 12, 255]] # pixel = x,y,value\n",
    "print(attack_image(pixel, X_test[image_id].reshape(28,28))[0].shape)\n",
    "image_perturbed = attack_image(pixel, X_test[image_id].reshape(28,28))"
   ],
   "metadata": {
    "collapsed": false,
    "pycharm": {
     "name": "#%%\n"
    }
   }
  },
  {
   "cell_type": "code",
   "execution_count": 424,
   "outputs": [
    {
     "data": {
      "text/plain": "<Figure size 640x480 with 4 Axes>",
      "image/png": "[encoded data removed]"
     },
     "metadata": {},
     "output_type": "display_data"
    }
   ],
   "source": [
    "xs = [[16,  5, 255],\n",
    "      [18, 10, 255],\n",
    "      [17, 13, 255],\n",
    "      [ 5, 19, 255]]\n",
    "attacked_images = attack_image(xs, X_test[259])\n",
    "\n",
    "for i in range(4):\n",
    "    plt.subplot(2, 2, i+1)\n",
    "    plt.title(\"Цифра %d\" % y_test[259])\n",
    "    plt.imshow(attacked_images[i].reshape(28, 28), cmap='Greys')"
   ],
   "metadata": {
    "collapsed": false,
    "pycharm": {
     "name": "#%%\n"
    }
   }
  },
  {
   "cell_type": "code",
   "execution_count": 277,
   "outputs": [],
   "source": [
    "# def evaluate_confidence(image, label):\n",
    "#     image = image.reshape(28, 28)\n",
    "#     vec = []\n",
    "#     for y in range(0, 28):\n",
    "#         for x in range(0, 28):\n",
    "#             value = 255  # if image[y][x] < 128 else 0\n",
    "#             pix = [y, x, value]\n",
    "#             vec.append(pix)\n",
    "#     attacked_images = np.array(attack_image(vec, image))\n",
    "#     attacked_images = attacked_images.reshape(len(attacked_images), 1, 28, 28)\n",
    "#     predictions = predict_labels(attacked_images)\n",
    "#     # print(np.sum([pred == label for pred in predictions])/len(predictions)*100, '%')\n",
    "#     plt.figure(figsize=(20, 20))\n",
    "#     # for i in range(20):\n",
    "#     #     plt.subplot(4, 5, i+1)\n",
    "#     #     plt.title(predictions[i])\n",
    "#     #     plt.imshow(attacked_images[i].reshape(28, 28), cmap='Greys')\n",
    "#     return np.sum([pred == label for pred in predictions])/len(predictions)"
   ],
   "metadata": {
    "collapsed": false,
    "pycharm": {
     "name": "#%%\n"
    }
   }
  },
  {
   "cell_type": "code",
   "execution_count": 398,
   "outputs": [
    {
     "name": "stdout",
     "output_type": "stream",
     "text": [
      "[0.0, 0.0, 0.0, 0.0, 0.0, 0.0, 0.0, 0.0, 0.0, 0.0, 0.0, 0.0, 116.0, 254.0, 216.0, 9.0, 0.0, 0.0, 0.0, 0.0, 0.0, 0.0, 0.0, 0.0, 0.0, 0.0, 0.0, 0.0]\n",
      "[0.0, 0.0, 0.0, 0.0, 16.0, 47.0, 236.0, 254.0, 255.0, 254.0, 255.0, 255.0, 255.0, 255.0, 255.0, 255.0, 255.0, 255.0, 255.0, 255.0, 244.0, 255.0, 184.0, 197.0, 0.0, 0.0, 0.0, 0.0]\n",
      "[0.0, 0.0, 64.0, 29.0, 134.0, 192.0, 254.0, 255.0, 255.0, 255.0, 255.0, 255.0, 255.0, 255.0, 255.0, 255.0, 255.0, 255.0, 255.0, 255.0, 255.0, 255.0, 255.0, 255.0, 255.0, 165.0, 0.0, 0.0]\n",
      "[0.0, 0.0, 141.0, 101.0, 139.0, 255.0, 255.0, 255.0, 255.0, 255.0, 255.0, 255.0, 255.0, 255.0, 255.0, 255.0, 255.0, 255.0, 255.0, 255.0, 255.0, 255.0, 255.0, 255.0, 255.0, 234.0, 163.0, 0.0]\n",
      "[0.0, 38.0, 144.0, 114.0, 254.0, 255.0, 255.0, 255.0, 255.0, 255.0, 255.0, 255.0, 255.0, 255.0, 255.0, 255.0, 255.0, 255.0, 255.0, 255.0, 255.0, 255.0, 255.0, 255.0, 255.0, 255.0, 246.0, 63.0]\n",
      "[0.0, 24.0, 95.0, 255.0, 255.0, 255.0, 255.0, 255.0, 255.0, 255.0, 255.0, 255.0, 255.0, 255.0, 255.0, 255.0, 255.0, 255.0, 255.0, 255.0, 255.0, 255.0, 255.0, 255.0, 255.0, 255.0, 255.0, 93.0]\n",
      "[0.0, 7.0, 210.0, 255.0, 255.0, 255.0, 255.0, 255.0, 255.0, 255.0, 255.0, 255.0, 255.0, 255.0, 255.0, 255.0, 255.0, 255.0, 255.0, 255.0, 255.0, 255.0, 255.0, 255.0, 255.0, 255.0, 254.0, 253.0]\n",
      "[47.0, 191.0, 255.0, 255.0, 255.0, 255.0, 255.0, 255.0, 255.0, 255.0, 255.0, 255.0, 255.0, 255.0, 255.0, 255.0, 255.0, 255.0, 255.0, 255.0, 255.0, 255.0, 255.0, 255.0, 255.0, 255.0, 255.0, 253.0]\n",
      "[191.0, 255.0, 255.0, 255.0, 255.0, 255.0, 255.0, 255.0, 255.0, 255.0, 255.0, 255.0, 255.0, 255.0, 255.0, 255.0, 255.0, 255.0, 255.0, 255.0, 255.0, 255.0, 255.0, 255.0, 255.0, 255.0, 254.0, 221.0]\n",
      "[184.0, 254.0, 255.0, 255.0, 255.0, 255.0, 255.0, 255.0, 255.0, 255.0, 255.0, 255.0, 255.0, 255.0, 255.0, 255.0, 255.0, 255.0, 255.0, 255.0, 255.0, 255.0, 255.0, 255.0, 255.0, 255.0, 255.0, 220.0]\n",
      "[226.0, 255.0, 255.0, 255.0, 255.0, 255.0, 255.0, 255.0, 255.0, 255.0, 255.0, 255.0, 255.0, 255.0, 255.0, 255.0, 255.0, 255.0, 255.0, 255.0, 255.0, 255.0, 255.0, 255.0, 255.0, 255.0, 254.0, 243.0]\n",
      "[150.0, 255.0, 255.0, 255.0, 255.0, 255.0, 255.0, 255.0, 255.0, 255.0, 255.0, 255.0, 255.0, 255.0, 255.0, 255.0, 255.0, 255.0, 255.0, 255.0, 255.0, 255.0, 255.0, 255.0, 255.0, 255.0, 253.0, 156.0]\n",
      "[163.0, 255.0, 255.0, 255.0, 255.0, 255.0, 255.0, 255.0, 255.0, 255.0, 255.0, 255.0, 255.0, 255.0, 255.0, 255.0, 255.0, 255.0, 255.0, 255.0, 255.0, 255.0, 255.0, 255.0, 255.0, 255.0, 252.0, 152.0]\n",
      "[32.0, 253.0, 255.0, 255.0, 255.0, 255.0, 255.0, 255.0, 255.0, 255.0, 255.0, 255.0, 255.0, 255.0, 255.0, 255.0, 255.0, 255.0, 255.0, 255.0, 255.0, 255.0, 255.0, 255.0, 255.0, 255.0, 252.0, 247.0]\n",
      "[113.0, 188.0, 254.0, 255.0, 255.0, 255.0, 255.0, 255.0, 255.0, 255.0, 255.0, 255.0, 255.0, 255.0, 255.0, 255.0, 255.0, 255.0, 255.0, 255.0, 255.0, 255.0, 255.0, 255.0, 255.0, 255.0, 254.0, 52.0]\n",
      "[37.0, 226.0, 254.0, 255.0, 255.0, 255.0, 255.0, 255.0, 255.0, 255.0, 255.0, 255.0, 255.0, 255.0, 255.0, 255.0, 255.0, 255.0, 255.0, 255.0, 255.0, 255.0, 255.0, 255.0, 255.0, 255.0, 255.0, 190.0]\n",
      "[40.0, 107.0, 254.0, 255.0, 255.0, 255.0, 255.0, 255.0, 255.0, 255.0, 255.0, 255.0, 255.0, 255.0, 255.0, 255.0, 255.0, 255.0, 255.0, 255.0, 255.0, 255.0, 255.0, 255.0, 255.0, 255.0, 254.0, 223.0]\n",
      "[0.0, 133.0, 254.0, 255.0, 255.0, 255.0, 255.0, 255.0, 255.0, 255.0, 255.0, 255.0, 255.0, 255.0, 255.0, 255.0, 255.0, 255.0, 255.0, 255.0, 255.0, 255.0, 255.0, 255.0, 255.0, 255.0, 253.0, 121.0]\n",
      "[60.0, 197.0, 255.0, 255.0, 255.0, 255.0, 255.0, 255.0, 255.0, 255.0, 255.0, 255.0, 255.0, 255.0, 255.0, 255.0, 255.0, 255.0, 255.0, 255.0, 255.0, 255.0, 255.0, 255.0, 255.0, 255.0, 255.0, 153.0]\n",
      "[15.0, 255.0, 255.0, 255.0, 255.0, 255.0, 255.0, 255.0, 255.0, 255.0, 255.0, 255.0, 255.0, 255.0, 255.0, 255.0, 255.0, 255.0, 255.0, 255.0, 255.0, 255.0, 255.0, 255.0, 255.0, 255.0, 253.0, 128.0]\n",
      "[0.0, 185.0, 255.0, 255.0, 255.0, 255.0, 255.0, 255.0, 255.0, 255.0, 255.0, 255.0, 255.0, 255.0, 255.0, 255.0, 255.0, 255.0, 255.0, 255.0, 255.0, 255.0, 255.0, 255.0, 255.0, 255.0, 255.0, 51.0]\n",
      "[32.0, 185.0, 255.0, 255.0, 255.0, 255.0, 255.0, 255.0, 255.0, 255.0, 255.0, 255.0, 255.0, 255.0, 255.0, 255.0, 255.0, 255.0, 255.0, 255.0, 255.0, 255.0, 255.0, 255.0, 255.0, 255.0, 252.0, 39.0]\n",
      "[31.0, 38.0, 255.0, 255.0, 255.0, 255.0, 255.0, 255.0, 255.0, 255.0, 255.0, 255.0, 255.0, 255.0, 255.0, 255.0, 255.0, 255.0, 255.0, 255.0, 255.0, 255.0, 255.0, 255.0, 255.0, 254.0, 225.0, 72.0]\n",
      "[0.0, 24.0, 217.0, 255.0, 255.0, 255.0, 255.0, 255.0, 255.0, 255.0, 255.0, 255.0, 255.0, 255.0, 255.0, 255.0, 255.0, 255.0, 255.0, 255.0, 255.0, 255.0, 255.0, 255.0, 255.0, 254.0, 150.0, 0.0]\n",
      "[0.0, 0.0, 253.0, 253.0, 255.0, 255.0, 255.0, 255.0, 255.0, 255.0, 255.0, 255.0, 255.0, 255.0, 255.0, 255.0, 255.0, 255.0, 255.0, 255.0, 255.0, 255.0, 255.0, 255.0, 254.0, 252.0, 98.0, 0.0]\n",
      "[0.0, 0.0, 42.0, 254.0, 255.0, 255.0, 255.0, 255.0, 255.0, 255.0, 255.0, 255.0, 255.0, 255.0, 255.0, 255.0, 255.0, 255.0, 255.0, 255.0, 255.0, 255.0, 255.0, 255.0, 253.0, 127.0, 104.0, 0.0]\n",
      "[0.0, 0.0, 0.0, 38.0, 255.0, 255.0, 255.0, 255.0, 255.0, 255.0, 255.0, 255.0, 255.0, 255.0, 255.0, 255.0, 255.0, 255.0, 255.0, 255.0, 255.0, 255.0, 255.0, 253.0, 28.0, 59.0, 0.0, 0.0]\n",
      "[0.0, 0.0, 0.0, 0.0, 94.0, 252.0, 245.0, 254.0, 254.0, 255.0, 255.0, 255.0, 255.0, 255.0, 255.0, 255.0, 255.0, 255.0, 254.0, 254.0, 253.0, 253.0, 254.0, 62.0, 0.0, 0.0, 0.0, 0.0]\n"
     ]
    }
   ],
   "source": [
    "pixel_width = []\n",
    "for y in range(28):\n",
    "    pixel_width.append([])\n",
    "    for x in range(28):\n",
    "        lcl_min = 256\n",
    "        lcl_max = -1\n",
    "        for img in X.reshape(X.shape[0], 28, 28):\n",
    "            lcl_min = min(lcl_min, img[y][x])\n",
    "            lcl_max = max(lcl_max, img[y][x])\n",
    "            if lcl_min == 0 and lcl_max == 255:\n",
    "                break\n",
    "        pixel_width[y].append(lcl_max - lcl_min)"
   ],
   "metadata": {
    "collapsed": false,
    "pycharm": {
     "name": "#%%\n"
    }
   }
  },
  {
   "cell_type": "code",
   "execution_count": 399,
   "outputs": [
    {
     "name": "stdout",
     "output_type": "stream",
     "text": [
      "[0.0, 0.0, 0.0, 0.0, 0.0, 0.0, 0.0, 0.0, 0.0, 0.0, 0.0, 0.0, 116.0, 254.0, 216.0, 9.0, 0.0, 0.0, 0.0, 0.0, 0.0, 0.0, 0.0, 0.0, 0.0, 0.0, 0.0, 0.0]\n",
      "[0.0, 0.0, 0.0, 0.0, 16.0, 47.0, 236.0, 254.0, 255.0, 254.0, 255.0, 255.0, 255.0, 255.0, 255.0, 255.0, 255.0, 255.0, 255.0, 255.0, 244.0, 255.0, 184.0, 197.0, 0.0, 0.0, 0.0, 0.0]\n",
      "[0.0, 0.0, 64.0, 29.0, 134.0, 192.0, 254.0, 255.0, 255.0, 255.0, 255.0, 255.0, 255.0, 255.0, 255.0, 255.0, 255.0, 255.0, 255.0, 255.0, 255.0, 255.0, 255.0, 255.0, 255.0, 165.0, 0.0, 0.0]\n",
      "[0.0, 0.0, 141.0, 101.0, 139.0, 255.0, 255.0, 255.0, 255.0, 255.0, 255.0, 255.0, 255.0, 255.0, 255.0, 255.0, 255.0, 255.0, 255.0, 255.0, 255.0, 255.0, 255.0, 255.0, 255.0, 234.0, 163.0, 0.0]\n",
      "[0.0, 38.0, 144.0, 114.0, 254.0, 255.0, 255.0, 255.0, 255.0, 255.0, 255.0, 255.0, 255.0, 255.0, 255.0, 255.0, 255.0, 255.0, 255.0, 255.0, 255.0, 255.0, 255.0, 255.0, 255.0, 255.0, 246.0, 63.0]\n",
      "[0.0, 24.0, 95.0, 255.0, 255.0, 255.0, 255.0, 255.0, 255.0, 255.0, 255.0, 255.0, 255.0, 255.0, 255.0, 255.0, 255.0, 255.0, 255.0, 255.0, 255.0, 255.0, 255.0, 255.0, 255.0, 255.0, 255.0, 93.0]\n",
      "[0.0, 7.0, 210.0, 255.0, 255.0, 255.0, 255.0, 255.0, 255.0, 255.0, 255.0, 255.0, 255.0, 255.0, 255.0, 255.0, 255.0, 255.0, 255.0, 255.0, 255.0, 255.0, 255.0, 255.0, 255.0, 255.0, 254.0, 253.0]\n",
      "[47.0, 191.0, 255.0, 255.0, 255.0, 255.0, 255.0, 255.0, 255.0, 255.0, 255.0, 255.0, 255.0, 255.0, 255.0, 255.0, 255.0, 255.0, 255.0, 255.0, 255.0, 255.0, 255.0, 255.0, 255.0, 255.0, 255.0, 253.0]\n",
      "[191.0, 255.0, 255.0, 255.0, 255.0, 255.0, 255.0, 255.0, 255.0, 255.0, 255.0, 255.0, 255.0, 255.0, 255.0, 255.0, 255.0, 255.0, 255.0, 255.0, 255.0, 255.0, 255.0, 255.0, 255.0, 255.0, 254.0, 221.0]\n",
      "[184.0, 254.0, 255.0, 255.0, 255.0, 255.0, 255.0, 255.0, 255.0, 255.0, 255.0, 255.0, 255.0, 255.0, 255.0, 255.0, 255.0, 255.0, 255.0, 255.0, 255.0, 255.0, 255.0, 255.0, 255.0, 255.0, 255.0, 220.0]\n",
      "[226.0, 255.0, 255.0, 255.0, 255.0, 255.0, 255.0, 255.0, 255.0, 255.0, 255.0, 255.0, 255.0, 255.0, 255.0, 255.0, 255.0, 255.0, 255.0, 255.0, 255.0, 255.0, 255.0, 255.0, 255.0, 255.0, 254.0, 243.0]\n",
      "[150.0, 255.0, 255.0, 255.0, 255.0, 255.0, 255.0, 255.0, 255.0, 255.0, 255.0, 255.0, 255.0, 255.0, 255.0, 255.0, 255.0, 255.0, 255.0, 255.0, 255.0, 255.0, 255.0, 255.0, 255.0, 255.0, 253.0, 156.0]\n",
      "[163.0, 255.0, 255.0, 255.0, 255.0, 255.0, 255.0, 255.0, 255.0, 255.0, 255.0, 255.0, 255.0, 255.0, 255.0, 255.0, 255.0, 255.0, 255.0, 255.0, 255.0, 255.0, 255.0, 255.0, 255.0, 255.0, 252.0, 152.0]\n",
      "[32.0, 253.0, 255.0, 255.0, 255.0, 255.0, 255.0, 255.0, 255.0, 255.0, 255.0, 255.0, 255.0, 255.0, 255.0, 255.0, 255.0, 255.0, 255.0, 255.0, 255.0, 255.0, 255.0, 255.0, 255.0, 255.0, 252.0, 247.0]\n",
      "[113.0, 188.0, 254.0, 255.0, 255.0, 255.0, 255.0, 255.0, 255.0, 255.0, 255.0, 255.0, 255.0, 255.0, 255.0, 255.0, 255.0, 255.0, 255.0, 255.0, 255.0, 255.0, 255.0, 255.0, 255.0, 255.0, 254.0, 52.0]\n",
      "[37.0, 226.0, 254.0, 255.0, 255.0, 255.0, 255.0, 255.0, 255.0, 255.0, 255.0, 255.0, 255.0, 255.0, 255.0, 255.0, 255.0, 255.0, 255.0, 255.0, 255.0, 255.0, 255.0, 255.0, 255.0, 255.0, 255.0, 190.0]\n",
      "[40.0, 107.0, 254.0, 255.0, 255.0, 255.0, 255.0, 255.0, 255.0, 255.0, 255.0, 255.0, 255.0, 255.0, 255.0, 255.0, 255.0, 255.0, 255.0, 255.0, 255.0, 255.0, 255.0, 255.0, 255.0, 255.0, 254.0, 223.0]\n",
      "[0.0, 133.0, 254.0, 255.0, 255.0, 255.0, 255.0, 255.0, 255.0, 255.0, 255.0, 255.0, 255.0, 255.0, 255.0, 255.0, 255.0, 255.0, 255.0, 255.0, 255.0, 255.0, 255.0, 255.0, 255.0, 255.0, 253.0, 121.0]\n",
      "[60.0, 197.0, 255.0, 255.0, 255.0, 255.0, 255.0, 255.0, 255.0, 255.0, 255.0, 255.0, 255.0, 255.0, 255.0, 255.0, 255.0, 255.0, 255.0, 255.0, 255.0, 255.0, 255.0, 255.0, 255.0, 255.0, 255.0, 153.0]\n",
      "[15.0, 255.0, 255.0, 255.0, 255.0, 255.0, 255.0, 255.0, 255.0, 255.0, 255.0, 255.0, 255.0, 255.0, 255.0, 255.0, 255.0, 255.0, 255.0, 255.0, 255.0, 255.0, 255.0, 255.0, 255.0, 255.0, 253.0, 128.0]\n",
      "[0.0, 185.0, 255.0, 255.0, 255.0, 255.0, 255.0, 255.0, 255.0, 255.0, 255.0, 255.0, 255.0, 255.0, 255.0, 255.0, 255.0, 255.0, 255.0, 255.0, 255.0, 255.0, 255.0, 255.0, 255.0, 255.0, 255.0, 51.0]\n",
      "[32.0, 185.0, 255.0, 255.0, 255.0, 255.0, 255.0, 255.0, 255.0, 255.0, 255.0, 255.0, 255.0, 255.0, 255.0, 255.0, 255.0, 255.0, 255.0, 255.0, 255.0, 255.0, 255.0, 255.0, 255.0, 255.0, 252.0, 39.0]\n",
      "[31.0, 38.0, 255.0, 255.0, 255.0, 255.0, 255.0, 255.0, 255.0, 255.0, 255.0, 255.0, 255.0, 255.0, 255.0, 255.0, 255.0, 255.0, 255.0, 255.0, 255.0, 255.0, 255.0, 255.0, 255.0, 254.0, 225.0, 72.0]\n",
      "[0.0, 24.0, 217.0, 255.0, 255.0, 255.0, 255.0, 255.0, 255.0, 255.0, 255.0, 255.0, 255.0, 255.0, 255.0, 255.0, 255.0, 255.0, 255.0, 255.0, 255.0, 255.0, 255.0, 255.0, 255.0, 254.0, 150.0, 0.0]\n",
      "[0.0, 0.0, 253.0, 253.0, 255.0, 255.0, 255.0, 255.0, 255.0, 255.0, 255.0, 255.0, 255.0, 255.0, 255.0, 255.0, 255.0, 255.0, 255.0, 255.0, 255.0, 255.0, 255.0, 255.0, 254.0, 252.0, 98.0, 0.0]\n",
      "[0.0, 0.0, 42.0, 254.0, 255.0, 255.0, 255.0, 255.0, 255.0, 255.0, 255.0, 255.0, 255.0, 255.0, 255.0, 255.0, 255.0, 255.0, 255.0, 255.0, 255.0, 255.0, 255.0, 255.0, 253.0, 127.0, 104.0, 0.0]\n",
      "[0.0, 0.0, 0.0, 38.0, 255.0, 255.0, 255.0, 255.0, 255.0, 255.0, 255.0, 255.0, 255.0, 255.0, 255.0, 255.0, 255.0, 255.0, 255.0, 255.0, 255.0, 255.0, 255.0, 253.0, 28.0, 59.0, 0.0, 0.0]\n",
      "[0.0, 0.0, 0.0, 0.0, 94.0, 252.0, 245.0, 254.0, 254.0, 255.0, 255.0, 255.0, 255.0, 255.0, 255.0, 255.0, 255.0, 255.0, 254.0, 254.0, 253.0, 253.0, 254.0, 62.0, 0.0, 0.0, 0.0, 0.0]\n"
     ]
    }
   ],
   "source": [
    "for y in range(28):\n",
    "    print(pixel_width[y])"
   ],
   "metadata": {
    "collapsed": false,
    "pycharm": {
     "name": "#%%\n"
    }
   }
  },
  {
   "cell_type": "code",
   "execution_count": 606,
   "outputs": [
    {
     "data": {
      "text/plain": "<Figure size 640x480 with 1 Axes>",
      "image/png": "[encoded data removed]"
     },
     "metadata": {},
     "output_type": "display_data"
    }
   ],
   "source": [
    "fig, ax = plt.subplots()\n",
    "im = ax.imshow(pixel_width, cmap = \"autumn_r\")"
   ],
   "metadata": {
    "collapsed": false,
    "pycharm": {
     "name": "#%%\n"
    }
   }
  },
  {
   "cell_type": "markdown",
   "source": [],
   "metadata": {
    "collapsed": false,
    "pycharm": {
     "name": "#%% md\n"
    }
   }
  },
  {
   "cell_type": "code",
   "execution_count": 396,
   "outputs": [
    {
     "data": {
      "text/plain": "[[226.0,\n  255.0,\n  255.0,\n  255.0,\n  255.0,\n  255.0,\n  255.0,\n  255.0,\n  255.0,\n  255.0,\n  255.0,\n  255.0,\n  255.0,\n  255.0,\n  255.0,\n  255.0,\n  255.0,\n  255.0,\n  255.0,\n  255.0,\n  255.0,\n  255.0,\n  255.0,\n  255.0,\n  255.0,\n  255.0,\n  254.0,\n  243.0],\n [191.0,\n  255.0,\n  255.0,\n  255.0,\n  255.0,\n  255.0,\n  255.0,\n  255.0,\n  255.0,\n  255.0,\n  255.0,\n  255.0,\n  255.0,\n  255.0,\n  255.0,\n  255.0,\n  255.0,\n  255.0,\n  255.0,\n  255.0,\n  255.0,\n  255.0,\n  255.0,\n  255.0,\n  255.0,\n  255.0,\n  254.0,\n  221.0],\n [184.0,\n  254.0,\n  255.0,\n  255.0,\n  255.0,\n  255.0,\n  255.0,\n  255.0,\n  255.0,\n  255.0,\n  255.0,\n  255.0,\n  255.0,\n  255.0,\n  255.0,\n  255.0,\n  255.0,\n  255.0,\n  255.0,\n  255.0,\n  255.0,\n  255.0,\n  255.0,\n  255.0,\n  255.0,\n  255.0,\n  255.0,\n  220.0],\n [163.0,\n  255.0,\n  255.0,\n  255.0,\n  255.0,\n  255.0,\n  255.0,\n  255.0,\n  255.0,\n  255.0,\n  255.0,\n  255.0,\n  255.0,\n  255.0,\n  255.0,\n  255.0,\n  255.0,\n  255.0,\n  255.0,\n  255.0,\n  255.0,\n  255.0,\n  255.0,\n  255.0,\n  255.0,\n  255.0,\n  252.0,\n  152.0],\n [150.0,\n  255.0,\n  255.0,\n  255.0,\n  255.0,\n  255.0,\n  255.0,\n  255.0,\n  255.0,\n  255.0,\n  255.0,\n  255.0,\n  255.0,\n  255.0,\n  255.0,\n  255.0,\n  255.0,\n  255.0,\n  255.0,\n  255.0,\n  255.0,\n  255.0,\n  255.0,\n  255.0,\n  255.0,\n  255.0,\n  253.0,\n  156.0],\n [113.0,\n  188.0,\n  254.0,\n  255.0,\n  255.0,\n  255.0,\n  255.0,\n  255.0,\n  255.0,\n  255.0,\n  255.0,\n  255.0,\n  255.0,\n  255.0,\n  255.0,\n  255.0,\n  255.0,\n  255.0,\n  255.0,\n  255.0,\n  255.0,\n  255.0,\n  255.0,\n  255.0,\n  255.0,\n  255.0,\n  254.0,\n  52.0],\n [60.0,\n  197.0,\n  255.0,\n  255.0,\n  255.0,\n  255.0,\n  255.0,\n  255.0,\n  255.0,\n  255.0,\n  255.0,\n  255.0,\n  255.0,\n  255.0,\n  255.0,\n  255.0,\n  255.0,\n  255.0,\n  255.0,\n  255.0,\n  255.0,\n  255.0,\n  255.0,\n  255.0,\n  255.0,\n  255.0,\n  255.0,\n  153.0],\n [47.0,\n  191.0,\n  255.0,\n  255.0,\n  255.0,\n  255.0,\n  255.0,\n  255.0,\n  255.0,\n  255.0,\n  255.0,\n  255.0,\n  255.0,\n  255.0,\n  255.0,\n  255.0,\n  255.0,\n  255.0,\n  255.0,\n  255.0,\n  255.0,\n  255.0,\n  255.0,\n  255.0,\n  255.0,\n  255.0,\n  255.0,\n  253.0],\n [40.0,\n  107.0,\n  254.0,\n  255.0,\n  255.0,\n  255.0,\n  255.0,\n  255.0,\n  255.0,\n  255.0,\n  255.0,\n  255.0,\n  255.0,\n  255.0,\n  255.0,\n  255.0,\n  255.0,\n  255.0,\n  255.0,\n  255.0,\n  255.0,\n  255.0,\n  255.0,\n  255.0,\n  255.0,\n  255.0,\n  254.0,\n  223.0],\n [37.0,\n  226.0,\n  254.0,\n  255.0,\n  255.0,\n  255.0,\n  255.0,\n  255.0,\n  255.0,\n  255.0,\n  255.0,\n  255.0,\n  255.0,\n  255.0,\n  255.0,\n  255.0,\n  255.0,\n  255.0,\n  255.0,\n  255.0,\n  255.0,\n  255.0,\n  255.0,\n  255.0,\n  255.0,\n  255.0,\n  255.0,\n  190.0],\n [32.0,\n  253.0,\n  255.0,\n  255.0,\n  255.0,\n  255.0,\n  255.0,\n  255.0,\n  255.0,\n  255.0,\n  255.0,\n  255.0,\n  255.0,\n  255.0,\n  255.0,\n  255.0,\n  255.0,\n  255.0,\n  255.0,\n  255.0,\n  255.0,\n  255.0,\n  255.0,\n  255.0,\n  255.0,\n  255.0,\n  252.0,\n  247.0],\n [32.0,\n  185.0,\n  255.0,\n  255.0,\n  255.0,\n  255.0,\n  255.0,\n  255.0,\n  255.0,\n  255.0,\n  255.0,\n  255.0,\n  255.0,\n  255.0,\n  255.0,\n  255.0,\n  255.0,\n  255.0,\n  255.0,\n  255.0,\n  255.0,\n  255.0,\n  255.0,\n  255.0,\n  255.0,\n  255.0,\n  252.0,\n  39.0],\n [31.0,\n  38.0,\n  255.0,\n  255.0,\n  255.0,\n  255.0,\n  255.0,\n  255.0,\n  255.0,\n  255.0,\n  255.0,\n  255.0,\n  255.0,\n  255.0,\n  255.0,\n  255.0,\n  255.0,\n  255.0,\n  255.0,\n  255.0,\n  255.0,\n  255.0,\n  255.0,\n  255.0,\n  255.0,\n  254.0,\n  225.0,\n  72.0],\n [15.0,\n  255.0,\n  255.0,\n  255.0,\n  255.0,\n  255.0,\n  255.0,\n  255.0,\n  255.0,\n  255.0,\n  255.0,\n  255.0,\n  255.0,\n  255.0,\n  255.0,\n  255.0,\n  255.0,\n  255.0,\n  255.0,\n  255.0,\n  255.0,\n  255.0,\n  255.0,\n  255.0,\n  255.0,\n  255.0,\n  253.0,\n  128.0],\n [0.0,\n  185.0,\n  255.0,\n  255.0,\n  255.0,\n  255.0,\n  255.0,\n  255.0,\n  255.0,\n  255.0,\n  255.0,\n  255.0,\n  255.0,\n  255.0,\n  255.0,\n  255.0,\n  255.0,\n  255.0,\n  255.0,\n  255.0,\n  255.0,\n  255.0,\n  255.0,\n  255.0,\n  255.0,\n  255.0,\n  255.0,\n  51.0],\n [0.0,\n  133.0,\n  254.0,\n  255.0,\n  255.0,\n  255.0,\n  255.0,\n  255.0,\n  255.0,\n  255.0,\n  255.0,\n  255.0,\n  255.0,\n  255.0,\n  255.0,\n  255.0,\n  255.0,\n  255.0,\n  255.0,\n  255.0,\n  255.0,\n  255.0,\n  255.0,\n  255.0,\n  255.0,\n  255.0,\n  253.0,\n  121.0],\n [0.0,\n  38.0,\n  144.0,\n  114.0,\n  254.0,\n  255.0,\n  255.0,\n  255.0,\n  255.0,\n  255.0,\n  255.0,\n  255.0,\n  255.0,\n  255.0,\n  255.0,\n  255.0,\n  255.0,\n  255.0,\n  255.0,\n  255.0,\n  255.0,\n  255.0,\n  255.0,\n  255.0,\n  255.0,\n  255.0,\n  246.0,\n  63.0],\n [0.0,\n  24.0,\n  217.0,\n  255.0,\n  255.0,\n  255.0,\n  255.0,\n  255.0,\n  255.0,\n  255.0,\n  255.0,\n  255.0,\n  255.0,\n  255.0,\n  255.0,\n  255.0,\n  255.0,\n  255.0,\n  255.0,\n  255.0,\n  255.0,\n  255.0,\n  255.0,\n  255.0,\n  255.0,\n  254.0,\n  150.0,\n  0.0],\n [0.0,\n  24.0,\n  95.0,\n  255.0,\n  255.0,\n  255.0,\n  255.0,\n  255.0,\n  255.0,\n  255.0,\n  255.0,\n  255.0,\n  255.0,\n  255.0,\n  255.0,\n  255.0,\n  255.0,\n  255.0,\n  255.0,\n  255.0,\n  255.0,\n  255.0,\n  255.0,\n  255.0,\n  255.0,\n  255.0,\n  255.0,\n  93.0],\n [0.0,\n  7.0,\n  210.0,\n  255.0,\n  255.0,\n  255.0,\n  255.0,\n  255.0,\n  255.0,\n  255.0,\n  255.0,\n  255.0,\n  255.0,\n  255.0,\n  255.0,\n  255.0,\n  255.0,\n  255.0,\n  255.0,\n  255.0,\n  255.0,\n  255.0,\n  255.0,\n  255.0,\n  255.0,\n  255.0,\n  254.0,\n  253.0],\n [0.0,\n  0.0,\n  253.0,\n  253.0,\n  255.0,\n  255.0,\n  255.0,\n  255.0,\n  255.0,\n  255.0,\n  255.0,\n  255.0,\n  255.0,\n  255.0,\n  255.0,\n  255.0,\n  255.0,\n  255.0,\n  255.0,\n  255.0,\n  255.0,\n  255.0,\n  255.0,\n  255.0,\n  254.0,\n  252.0,\n  98.0,\n  0.0],\n [0.0,\n  0.0,\n  141.0,\n  101.0,\n  139.0,\n  255.0,\n  255.0,\n  255.0,\n  255.0,\n  255.0,\n  255.0,\n  255.0,\n  255.0,\n  255.0,\n  255.0,\n  255.0,\n  255.0,\n  255.0,\n  255.0,\n  255.0,\n  255.0,\n  255.0,\n  255.0,\n  255.0,\n  255.0,\n  234.0,\n  163.0,\n  0.0],\n [0.0,\n  0.0,\n  64.0,\n  29.0,\n  134.0,\n  192.0,\n  254.0,\n  255.0,\n  255.0,\n  255.0,\n  255.0,\n  255.0,\n  255.0,\n  255.0,\n  255.0,\n  255.0,\n  255.0,\n  255.0,\n  255.0,\n  255.0,\n  255.0,\n  255.0,\n  255.0,\n  255.0,\n  255.0,\n  165.0,\n  0.0,\n  0.0],\n [0.0,\n  0.0,\n  42.0,\n  254.0,\n  255.0,\n  255.0,\n  255.0,\n  255.0,\n  255.0,\n  255.0,\n  255.0,\n  255.0,\n  255.0,\n  255.0,\n  255.0,\n  255.0,\n  255.0,\n  255.0,\n  255.0,\n  255.0,\n  255.0,\n  255.0,\n  255.0,\n  255.0,\n  253.0,\n  127.0,\n  104.0,\n  0.0],\n [0.0,\n  0.0,\n  0.0,\n  38.0,\n  255.0,\n  255.0,\n  255.0,\n  255.0,\n  255.0,\n  255.0,\n  255.0,\n  255.0,\n  255.0,\n  255.0,\n  255.0,\n  255.0,\n  255.0,\n  255.0,\n  255.0,\n  255.0,\n  255.0,\n  255.0,\n  255.0,\n  253.0,\n  28.0,\n  59.0,\n  0.0,\n  0.0],\n [0.0,\n  0.0,\n  0.0,\n  0.0,\n  94.0,\n  252.0,\n  245.0,\n  254.0,\n  254.0,\n  255.0,\n  255.0,\n  255.0,\n  255.0,\n  255.0,\n  255.0,\n  255.0,\n  255.0,\n  255.0,\n  254.0,\n  254.0,\n  253.0,\n  253.0,\n  254.0,\n  62.0,\n  0.0,\n  0.0,\n  0.0,\n  0.0],\n [0.0,\n  0.0,\n  0.0,\n  0.0,\n  16.0,\n  47.0,\n  236.0,\n  254.0,\n  255.0,\n  254.0,\n  255.0,\n  255.0,\n  255.0,\n  255.0,\n  255.0,\n  255.0,\n  255.0,\n  255.0,\n  255.0,\n  255.0,\n  244.0,\n  255.0,\n  184.0,\n  197.0,\n  0.0,\n  0.0,\n  0.0,\n  0.0],\n [0.0,\n  0.0,\n  0.0,\n  0.0,\n  0.0,\n  0.0,\n  0.0,\n  0.0,\n  0.0,\n  0.0,\n  0.0,\n  0.0,\n  116.0,\n  254.0,\n  216.0,\n  9.0,\n  0.0,\n  0.0,\n  0.0,\n  0.0,\n  0.0,\n  0.0,\n  0.0,\n  0.0,\n  0.0,\n  0.0,\n  0.0,\n  0.0]]"
     },
     "execution_count": 396,
     "metadata": {},
     "output_type": "execute_result"
    }
   ],
   "source": [
    "pixel_width.sort(reverse=True)\n",
    "pixel_width"
   ],
   "metadata": {
    "collapsed": false,
    "pycharm": {
     "name": "#%%\n"
    }
   }
  },
  {
   "cell_type": "code",
   "execution_count": 12,
   "outputs": [
    {
     "name": "stdout",
     "output_type": "stream",
     "text": [
      "Accuracy:  0.98544225\n"
     ]
    }
   ],
   "source": [
    "correct = 0\n",
    "total_pictures = 0\n",
    "for i, img in enumerate(X_test):\n",
    "    preds = attacked_predictions(img)\n",
    "    for y in range(28):\n",
    "        for x in range(28):\n",
    "            total_pictures+=1\n",
    "            correct += preds[y][x] == y_test[i]\n",
    "\n",
    "print(\"Accuracy: \", correct/total_pictures)"
   ],
   "metadata": {
    "collapsed": false,
    "pycharm": {
     "name": "#%%\n"
    }
   }
  },
  {
   "cell_type": "code",
   "execution_count": 549,
   "outputs": [],
   "source": [
    "pixel_vulnerability = []\n",
    "for y in range(0, 20):\n",
    "    pixel_vulnerability.append([])\n",
    "    for x in range(0, 20):\n",
    "        pixel_vulnerability[y].append(0)"
   ],
   "metadata": {
    "collapsed": false,
    "pycharm": {
     "name": "#%%\n"
    }
   }
  },
  {
   "cell_type": "code",
   "execution_count": 550,
   "outputs": [],
   "source": [
    "for i, img in enumerate(X_test):\n",
    "    preds = attacked_predictions(img)\n",
    "    for y in range(20):\n",
    "        for x in range(20):\n",
    "            pixel_vulnerability[y][x] += preds[y][x] != y_test[i]"
   ],
   "metadata": {
    "collapsed": false,
    "pycharm": {
     "name": "#%%\n"
    }
   }
  },
  {
   "cell_type": "code",
   "execution_count": 552,
   "outputs": [
    {
     "name": "stdout",
     "output_type": "stream",
     "text": [
      "[[136, 136, 139, 134, 135, 138, 136, 137, 136, 137, 129, 134, 134, 130, 136, 134, 134, 141, 137, 143], [123, 133, 133, 132, 134, 139, 136, 132, 133, 132, 133, 133, 130, 136, 134, 127, 130, 139, 133, 126], [131, 135, 136, 127, 136, 136, 137, 138, 138, 137, 134, 130, 130, 138, 140, 138, 129, 137, 136, 140], [150, 131, 137, 134, 133, 125, 141, 131, 142, 134, 132, 135, 132, 136, 134, 127, 133, 134, 138, 140], [139, 133, 131, 138, 138, 137, 126, 136, 134, 136, 135, 140, 140, 133, 137, 139, 136, 134, 143, 141], [138, 136, 134, 133, 138, 130, 140, 132, 132, 130, 139, 134, 133, 133, 138, 132, 136, 130, 141, 138], [144, 139, 132, 136, 132, 141, 135, 136, 134, 135, 129, 134, 140, 137, 134, 132, 138, 141, 144, 136], [137, 133, 137, 130, 137, 131, 137, 137, 138, 138, 134, 135, 135, 133, 131, 134, 130, 127, 130, 139], [134, 138, 136, 135, 134, 137, 134, 137, 134, 132, 134, 136, 135, 129, 136, 141, 133, 138, 134, 137], [141, 134, 131, 139, 136, 151, 140, 134, 139, 137, 137, 135, 135, 130, 130, 132, 138, 142, 138, 142], [136, 125, 136, 131, 142, 135, 135, 130, 129, 138, 141, 130, 137, 134, 133, 135, 135, 134, 132, 136], [131, 127, 135, 133, 133, 141, 137, 138, 130, 134, 137, 136, 134, 138, 138, 140, 132, 135, 137, 137], [138, 133, 133, 129, 135, 131, 139, 136, 133, 135, 139, 133, 133, 126, 127, 137, 129, 138, 133, 134], [140, 136, 136, 144, 140, 131, 137, 136, 132, 136, 137, 131, 129, 140, 144, 142, 137, 131, 135, 134], [131, 127, 129, 133, 134, 137, 131, 134, 142, 136, 132, 138, 141, 127, 132, 125, 120, 130, 137, 135], [131, 141, 135, 142, 133, 136, 130, 138, 134, 131, 137, 135, 135, 136, 138, 133, 127, 131, 139, 132], [132, 134, 139, 134, 131, 131, 133, 141, 140, 134, 135, 135, 135, 134, 139, 134, 139, 137, 140, 140], [138, 138, 131, 133, 138, 135, 132, 136, 136, 132, 139, 136, 133, 130, 136, 132, 139, 131, 134, 138], [140, 138, 136, 132, 148, 140, 133, 141, 131, 139, 135, 130, 134, 136, 138, 134, 128, 135, 136, 133], [137, 140, 136, 133, 133, 137, 139, 142, 142, 129, 133, 137, 133, 140, 130, 132, 137, 138, 135, 139]]\n",
      "[[0.11333333 0.11333333 0.11583333 0.11166667 0.1125     0.115\n",
      "  0.11333333 0.11416667 0.11333333 0.11416667 0.1075     0.11166667\n",
      "  0.11166667 0.10833333 0.11333333 0.11166667 0.11166667 0.1175\n",
      "  0.11416667 0.11916667]\n",
      " [0.1025     0.11083333 0.11083333 0.11       0.11166667 0.11583333\n",
      "  0.11333333 0.11       0.11083333 0.11       0.11083333 0.11083333\n",
      "  0.10833333 0.11333333 0.11166667 0.10583333 0.10833333 0.11583333\n",
      "  0.11083333 0.105     ]\n",
      " [0.10916667 0.1125     0.11333333 0.10583333 0.11333333 0.11333333\n",
      "  0.11416667 0.115      0.115      0.11416667 0.11166667 0.10833333\n",
      "  0.10833333 0.115      0.11666667 0.115      0.1075     0.11416667\n",
      "  0.11333333 0.11666667]\n",
      " [0.125      0.10916667 0.11416667 0.11166667 0.11083333 0.10416667\n",
      "  0.1175     0.10916667 0.11833333 0.11166667 0.11       0.1125\n",
      "  0.11       0.11333333 0.11166667 0.10583333 0.11083333 0.11166667\n",
      "  0.115      0.11666667]\n",
      " [0.11583333 0.11083333 0.10916667 0.115      0.115      0.11416667\n",
      "  0.105      0.11333333 0.11166667 0.11333333 0.1125     0.11666667\n",
      "  0.11666667 0.11083333 0.11416667 0.11583333 0.11333333 0.11166667\n",
      "  0.11916667 0.1175    ]\n",
      " [0.115      0.11333333 0.11166667 0.11083333 0.115      0.10833333\n",
      "  0.11666667 0.11       0.11       0.10833333 0.11583333 0.11166667\n",
      "  0.11083333 0.11083333 0.115      0.11       0.11333333 0.10833333\n",
      "  0.1175     0.115     ]\n",
      " [0.12       0.11583333 0.11       0.11333333 0.11       0.1175\n",
      "  0.1125     0.11333333 0.11166667 0.1125     0.1075     0.11166667\n",
      "  0.11666667 0.11416667 0.11166667 0.11       0.115      0.1175\n",
      "  0.12       0.11333333]\n",
      " [0.11416667 0.11083333 0.11416667 0.10833333 0.11416667 0.10916667\n",
      "  0.11416667 0.11416667 0.115      0.115      0.11166667 0.1125\n",
      "  0.1125     0.11083333 0.10916667 0.11166667 0.10833333 0.10583333\n",
      "  0.10833333 0.11583333]\n",
      " [0.11166667 0.115      0.11333333 0.1125     0.11166667 0.11416667\n",
      "  0.11166667 0.11416667 0.11166667 0.11       0.11166667 0.11333333\n",
      "  0.1125     0.1075     0.11333333 0.1175     0.11083333 0.115\n",
      "  0.11166667 0.11416667]\n",
      " [0.1175     0.11166667 0.10916667 0.11583333 0.11333333 0.12583333\n",
      "  0.11666667 0.11166667 0.11583333 0.11416667 0.11416667 0.1125\n",
      "  0.1125     0.10833333 0.10833333 0.11       0.115      0.11833333\n",
      "  0.115      0.11833333]\n",
      " [0.11333333 0.10416667 0.11333333 0.10916667 0.11833333 0.1125\n",
      "  0.1125     0.10833333 0.1075     0.115      0.1175     0.10833333\n",
      "  0.11416667 0.11166667 0.11083333 0.1125     0.1125     0.11166667\n",
      "  0.11       0.11333333]\n",
      " [0.10916667 0.10583333 0.1125     0.11083333 0.11083333 0.1175\n",
      "  0.11416667 0.115      0.10833333 0.11166667 0.11416667 0.11333333\n",
      "  0.11166667 0.115      0.115      0.11666667 0.11       0.1125\n",
      "  0.11416667 0.11416667]\n",
      " [0.115      0.11083333 0.11083333 0.1075     0.1125     0.10916667\n",
      "  0.11583333 0.11333333 0.11083333 0.1125     0.11583333 0.11083333\n",
      "  0.11083333 0.105      0.10583333 0.11416667 0.1075     0.115\n",
      "  0.11083333 0.11166667]\n",
      " [0.11666667 0.11333333 0.11333333 0.12       0.11666667 0.10916667\n",
      "  0.11416667 0.11333333 0.11       0.11333333 0.11416667 0.10916667\n",
      "  0.1075     0.11666667 0.12       0.11833333 0.11416667 0.10916667\n",
      "  0.1125     0.11166667]\n",
      " [0.10916667 0.10583333 0.1075     0.11083333 0.11166667 0.11416667\n",
      "  0.10916667 0.11166667 0.11833333 0.11333333 0.11       0.115\n",
      "  0.1175     0.10583333 0.11       0.10416667 0.1        0.10833333\n",
      "  0.11416667 0.1125    ]\n",
      " [0.10916667 0.1175     0.1125     0.11833333 0.11083333 0.11333333\n",
      "  0.10833333 0.115      0.11166667 0.10916667 0.11416667 0.1125\n",
      "  0.1125     0.11333333 0.115      0.11083333 0.10583333 0.10916667\n",
      "  0.11583333 0.11      ]\n",
      " [0.11       0.11166667 0.11583333 0.11166667 0.10916667 0.10916667\n",
      "  0.11083333 0.1175     0.11666667 0.11166667 0.1125     0.1125\n",
      "  0.1125     0.11166667 0.11583333 0.11166667 0.11583333 0.11416667\n",
      "  0.11666667 0.11666667]\n",
      " [0.115      0.115      0.10916667 0.11083333 0.115      0.1125\n",
      "  0.11       0.11333333 0.11333333 0.11       0.11583333 0.11333333\n",
      "  0.11083333 0.10833333 0.11333333 0.11       0.11583333 0.10916667\n",
      "  0.11166667 0.115     ]\n",
      " [0.11666667 0.115      0.11333333 0.11       0.12333333 0.11666667\n",
      "  0.11083333 0.1175     0.10916667 0.11583333 0.1125     0.10833333\n",
      "  0.11166667 0.11333333 0.115      0.11166667 0.10666667 0.1125\n",
      "  0.11333333 0.11083333]\n",
      " [0.11416667 0.11666667 0.11333333 0.11083333 0.11083333 0.11416667\n",
      "  0.11583333 0.11833333 0.11833333 0.1075     0.11083333 0.11416667\n",
      "  0.11083333 0.11666667 0.10833333 0.11       0.11416667 0.115\n",
      "  0.1125     0.11583333]]\n"
     ]
    }
   ],
   "source": [
    "print(pixel_vulnerability)\n",
    "relative_pixel_vulnerability = np.divide(pixel_vulnerability, 1200)\n",
    "print(relative_pixel_vulnerability)"
   ],
   "metadata": {
    "collapsed": false,
    "pycharm": {
     "name": "#%%\n"
    }
   }
  },
  {
   "cell_type": "code",
   "execution_count": 571,
   "outputs": [
    {
     "name": "stdout",
     "output_type": "stream",
     "text": [
      "0.125\n"
     ]
    }
   ],
   "source": [
    "print(relative_pixel_vulnerability[3][0])"
   ],
   "metadata": {
    "collapsed": false,
    "pycharm": {
     "name": "#%%\n"
    }
   }
  },
  {
   "cell_type": "code",
   "execution_count": 551,
   "outputs": [
    {
     "data": {
      "text/plain": "<Figure size 640x480 with 1 Axes>",
      "image/png": "[encoded data removed]"
     },
     "metadata": {},
     "output_type": "display_data"
    }
   ],
   "source": [
    "fig, ax = plt.subplots()\n",
    "im = ax.imshow(pixel_vulnerability, cmap='winter_r')"
   ],
   "metadata": {
    "collapsed": false,
    "pycharm": {
     "name": "#%%\n"
    }
   }
  },
  {
   "cell_type": "code",
   "execution_count": 595,
   "outputs": [
    {
     "data": {
      "text/plain": "<Figure size 640x480 with 1 Axes>",
      "image/png": "[encoded data removed]"
     },
     "metadata": {},
     "output_type": "display_data"
    }
   ],
   "source": [
    "interest_pixels = [1 if percent >= 0.118 else 0 for percent in np.array(relative_pixel_vulnerability).reshape(400)]\n",
    "interest_pixels = np.array(interest_pixels).reshape(20, 20)\n",
    "fig, ax = plt.subplots()\n",
    "im = ax.imshow(interest_pixels, cmap='autumn_r')"
   ],
   "metadata": {
    "collapsed": false,
    "pycharm": {
     "name": "#%%\n"
    }
   }
  },
  {
   "cell_type": "code",
   "execution_count": 596,
   "outputs": [],
   "source": [
    "interest_pixels_lst = []\n",
    "for row in range(0, 20):\n",
    "    for col in range(0, 20):\n",
    "        if interest_pixels[row][col] == 1:\n",
    "            interest_pixels_lst.append([row+5, col+5])"
   ],
   "metadata": {
    "collapsed": false,
    "pycharm": {
     "name": "#%%\n"
    }
   }
  },
  {
   "cell_type": "code",
   "execution_count": 597,
   "outputs": [
    {
     "data": {
      "text/plain": "[[5, 24],\n [8, 5],\n [8, 13],\n [9, 23],\n [11, 5],\n [11, 23],\n [14, 10],\n [14, 22],\n [14, 24],\n [15, 9],\n [18, 8],\n [18, 19],\n [18, 20],\n [19, 13],\n [20, 8],\n [23, 9],\n [24, 12],\n [24, 13]]"
     },
     "execution_count": 597,
     "metadata": {},
     "output_type": "execute_result"
    }
   ],
   "source": [
    "interest_pixels_lst"
   ],
   "metadata": {
    "collapsed": false,
    "pycharm": {
     "name": "#%%\n"
    }
   }
  },
  {
   "cell_type": "markdown",
   "source": [
    "Атака модели, обученной на пиксельной атаке"
   ],
   "metadata": {
    "collapsed": false,
    "pycharm": {
     "name": "#%% md\n"
    }
   }
  },
  {
   "cell_type": "code",
   "execution_count": null,
   "outputs": [],
   "source": [
    "with open(\"attack_pixels.txt\", \"w\") as file:\n",
    "    print(*interest_pixels_lst, file=file, sep=\"\\n\")"
   ],
   "metadata": {
    "collapsed": false,
    "pycharm": {
     "name": "#%%\n"
    }
   }
  },
  {
   "cell_type": "code",
   "execution_count": 10,
   "outputs": [],
   "source": [
    "model = torch.load('mnistnet_pixel1.pkl')"
   ],
   "metadata": {
    "collapsed": false,
    "pycharm": {
     "name": "#%%\n"
    }
   }
  },
  {
   "cell_type": "code",
   "execution_count": 11,
   "outputs": [
    {
     "name": "stdout",
     "output_type": "stream",
     "text": [
      "Accuracy:  99.10316326530612 %\n"
     ]
    }
   ],
   "source": [
    "correct = 0\n",
    "total_pictures = 0\n",
    "for i, img in enumerate(X_test):\n",
    "    preds = attacked_predictions(img)\n",
    "    for y in range(28):\n",
    "        for x in range(28):\n",
    "            total_pictures+=1\n",
    "            correct += preds[y][x] == y_test[i]\n",
    "\n",
    "print(\"Accuracy: \", correct/total_pictures * 100, \"%\")"
   ],
   "metadata": {
    "collapsed": false,
    "pycharm": {
     "name": "#%%\n"
    }
   }
  },
  {
   "cell_type": "code",
   "execution_count": 11,
   "outputs": [],
   "source": [
    "pixel_vulnerability = []\n",
    "for y in range(0, 20):\n",
    "    pixel_vulnerability.append([])\n",
    "    for x in range(0, 20):\n",
    "        pixel_vulnerability[y].append(0)"
   ],
   "metadata": {
    "collapsed": false,
    "pycharm": {
     "name": "#%%\n"
    }
   }
  },
  {
   "cell_type": "code",
   "execution_count": 12,
   "outputs": [],
   "source": [
    "for i, img in enumerate(X_test):\n",
    "    preds = attacked_predictions(img)\n",
    "    for y in range(20):\n",
    "        for x in range(20):\n",
    "            pixel_vulnerability[y][x] += preds[y][x] != y_test[i]"
   ],
   "metadata": {
    "collapsed": false,
    "pycharm": {
     "name": "#%%\n"
    }
   }
  },
  {
   "cell_type": "code",
   "execution_count": 13,
   "outputs": [
    {
     "name": "stdout",
     "output_type": "stream",
     "text": [
      "[[91, 88, 91, 86, 91, 91, 94, 91, 90, 90, 90, 88, 90, 89, 92, 89, 90, 89, 87, 87], [90, 93, 96, 89, 88, 90, 86, 86, 93, 85, 88, 83, 86, 89, 87, 91, 88, 86, 92, 89], [95, 93, 92, 90, 89, 85, 88, 89, 91, 91, 90, 91, 86, 88, 90, 91, 89, 87, 92, 89], [88, 87, 91, 89, 91, 89, 92, 90, 94, 93, 91, 87, 90, 91, 89, 90, 94, 92, 89, 88], [86, 90, 89, 90, 91, 92, 87, 94, 89, 91, 89, 91, 89, 96, 89, 89, 90, 89, 89, 92], [84, 87, 91, 89, 89, 88, 91, 91, 91, 89, 90, 85, 85, 94, 90, 86, 91, 91, 89, 86], [91, 88, 91, 91, 92, 88, 91, 93, 91, 86, 89, 87, 89, 92, 87, 92, 87, 92, 88, 90], [91, 89, 91, 87, 93, 92, 88, 85, 92, 88, 92, 85, 89, 91, 92, 90, 86, 89, 85, 88], [91, 92, 85, 88, 89, 87, 89, 91, 89, 93, 86, 88, 88, 88, 94, 90, 86, 91, 85, 88], [88, 92, 87, 92, 87, 88, 90, 89, 92, 92, 84, 89, 88, 91, 89, 92, 89, 90, 82, 91], [90, 97, 86, 88, 85, 89, 91, 93, 90, 87, 83, 89, 91, 86, 89, 88, 86, 87, 86, 92], [94, 90, 88, 90, 87, 89, 89, 89, 93, 86, 92, 90, 91, 88, 94, 93, 90, 92, 92, 91], [91, 88, 93, 87, 91, 88, 88, 92, 93, 89, 91, 87, 84, 86, 93, 88, 94, 91, 93, 90], [88, 93, 84, 92, 89, 89, 87, 89, 93, 90, 93, 90, 93, 86, 88, 90, 89, 90, 88, 88], [91, 86, 87, 90, 88, 88, 92, 95, 90, 95, 89, 86, 89, 89, 86, 89, 90, 92, 86, 91], [90, 89, 91, 84, 88, 91, 91, 91, 87, 85, 91, 91, 89, 93, 90, 91, 93, 89, 86, 91], [90, 89, 89, 91, 92, 87, 91, 86, 89, 95, 89, 91, 85, 91, 91, 86, 87, 93, 91, 89], [95, 93, 93, 91, 88, 90, 93, 90, 89, 93, 92, 89, 89, 89, 88, 93, 89, 89, 90, 95], [94, 91, 90, 93, 92, 91, 88, 89, 89, 89, 91, 86, 84, 92, 90, 89, 92, 91, 95, 87], [90, 93, 91, 90, 87, 85, 88, 90, 91, 89, 90, 86, 86, 93, 92, 93, 91, 88, 88, 89]]\n",
      "[[0.07583333 0.07333333 0.07583333 0.07166667 0.07583333 0.07583333\n",
      "  0.07833333 0.07583333 0.075      0.075      0.075      0.07333333\n",
      "  0.075      0.07416667 0.07666667 0.07416667 0.075      0.07416667\n",
      "  0.0725     0.0725    ]\n",
      " [0.075      0.0775     0.08       0.07416667 0.07333333 0.075\n",
      "  0.07166667 0.07166667 0.0775     0.07083333 0.07333333 0.06916667\n",
      "  0.07166667 0.07416667 0.0725     0.07583333 0.07333333 0.07166667\n",
      "  0.07666667 0.07416667]\n",
      " [0.07916667 0.0775     0.07666667 0.075      0.07416667 0.07083333\n",
      "  0.07333333 0.07416667 0.07583333 0.07583333 0.075      0.07583333\n",
      "  0.07166667 0.07333333 0.075      0.07583333 0.07416667 0.0725\n",
      "  0.07666667 0.07416667]\n",
      " [0.07333333 0.0725     0.07583333 0.07416667 0.07583333 0.07416667\n",
      "  0.07666667 0.075      0.07833333 0.0775     0.07583333 0.0725\n",
      "  0.075      0.07583333 0.07416667 0.075      0.07833333 0.07666667\n",
      "  0.07416667 0.07333333]\n",
      " [0.07166667 0.075      0.07416667 0.075      0.07583333 0.07666667\n",
      "  0.0725     0.07833333 0.07416667 0.07583333 0.07416667 0.07583333\n",
      "  0.07416667 0.08       0.07416667 0.07416667 0.075      0.07416667\n",
      "  0.07416667 0.07666667]\n",
      " [0.07       0.0725     0.07583333 0.07416667 0.07416667 0.07333333\n",
      "  0.07583333 0.07583333 0.07583333 0.07416667 0.075      0.07083333\n",
      "  0.07083333 0.07833333 0.075      0.07166667 0.07583333 0.07583333\n",
      "  0.07416667 0.07166667]\n",
      " [0.07583333 0.07333333 0.07583333 0.07583333 0.07666667 0.07333333\n",
      "  0.07583333 0.0775     0.07583333 0.07166667 0.07416667 0.0725\n",
      "  0.07416667 0.07666667 0.0725     0.07666667 0.0725     0.07666667\n",
      "  0.07333333 0.075     ]\n",
      " [0.07583333 0.07416667 0.07583333 0.0725     0.0775     0.07666667\n",
      "  0.07333333 0.07083333 0.07666667 0.07333333 0.07666667 0.07083333\n",
      "  0.07416667 0.07583333 0.07666667 0.075      0.07166667 0.07416667\n",
      "  0.07083333 0.07333333]\n",
      " [0.07583333 0.07666667 0.07083333 0.07333333 0.07416667 0.0725\n",
      "  0.07416667 0.07583333 0.07416667 0.0775     0.07166667 0.07333333\n",
      "  0.07333333 0.07333333 0.07833333 0.075      0.07166667 0.07583333\n",
      "  0.07083333 0.07333333]\n",
      " [0.07333333 0.07666667 0.0725     0.07666667 0.0725     0.07333333\n",
      "  0.075      0.07416667 0.07666667 0.07666667 0.07       0.07416667\n",
      "  0.07333333 0.07583333 0.07416667 0.07666667 0.07416667 0.075\n",
      "  0.06833333 0.07583333]\n",
      " [0.075      0.08083333 0.07166667 0.07333333 0.07083333 0.07416667\n",
      "  0.07583333 0.0775     0.075      0.0725     0.06916667 0.07416667\n",
      "  0.07583333 0.07166667 0.07416667 0.07333333 0.07166667 0.0725\n",
      "  0.07166667 0.07666667]\n",
      " [0.07833333 0.075      0.07333333 0.075      0.0725     0.07416667\n",
      "  0.07416667 0.07416667 0.0775     0.07166667 0.07666667 0.075\n",
      "  0.07583333 0.07333333 0.07833333 0.0775     0.075      0.07666667\n",
      "  0.07666667 0.07583333]\n",
      " [0.07583333 0.07333333 0.0775     0.0725     0.07583333 0.07333333\n",
      "  0.07333333 0.07666667 0.0775     0.07416667 0.07583333 0.0725\n",
      "  0.07       0.07166667 0.0775     0.07333333 0.07833333 0.07583333\n",
      "  0.0775     0.075     ]\n",
      " [0.07333333 0.0775     0.07       0.07666667 0.07416667 0.07416667\n",
      "  0.0725     0.07416667 0.0775     0.075      0.0775     0.075\n",
      "  0.0775     0.07166667 0.07333333 0.075      0.07416667 0.075\n",
      "  0.07333333 0.07333333]\n",
      " [0.07583333 0.07166667 0.0725     0.075      0.07333333 0.07333333\n",
      "  0.07666667 0.07916667 0.075      0.07916667 0.07416667 0.07166667\n",
      "  0.07416667 0.07416667 0.07166667 0.07416667 0.075      0.07666667\n",
      "  0.07166667 0.07583333]\n",
      " [0.075      0.07416667 0.07583333 0.07       0.07333333 0.07583333\n",
      "  0.07583333 0.07583333 0.0725     0.07083333 0.07583333 0.07583333\n",
      "  0.07416667 0.0775     0.075      0.07583333 0.0775     0.07416667\n",
      "  0.07166667 0.07583333]\n",
      " [0.075      0.07416667 0.07416667 0.07583333 0.07666667 0.0725\n",
      "  0.07583333 0.07166667 0.07416667 0.07916667 0.07416667 0.07583333\n",
      "  0.07083333 0.07583333 0.07583333 0.07166667 0.0725     0.0775\n",
      "  0.07583333 0.07416667]\n",
      " [0.07916667 0.0775     0.0775     0.07583333 0.07333333 0.075\n",
      "  0.0775     0.075      0.07416667 0.0775     0.07666667 0.07416667\n",
      "  0.07416667 0.07416667 0.07333333 0.0775     0.07416667 0.07416667\n",
      "  0.075      0.07916667]\n",
      " [0.07833333 0.07583333 0.075      0.0775     0.07666667 0.07583333\n",
      "  0.07333333 0.07416667 0.07416667 0.07416667 0.07583333 0.07166667\n",
      "  0.07       0.07666667 0.075      0.07416667 0.07666667 0.07583333\n",
      "  0.07916667 0.0725    ]\n",
      " [0.075      0.0775     0.07583333 0.075      0.0725     0.07083333\n",
      "  0.07333333 0.075      0.07583333 0.07416667 0.075      0.07166667\n",
      "  0.07166667 0.0775     0.07666667 0.0775     0.07583333 0.07333333\n",
      "  0.07333333 0.07416667]]\n"
     ]
    }
   ],
   "source": [
    "print(pixel_vulnerability)\n",
    "relative_pixel_vulnerability = np.divide(pixel_vulnerability, 1200)\n",
    "print(relative_pixel_vulnerability)"
   ],
   "metadata": {
    "collapsed": false,
    "pycharm": {
     "name": "#%%\n"
    }
   }
  },
  {
   "cell_type": "code",
   "execution_count": 14,
   "outputs": [
    {
     "name": "stdout",
     "output_type": "stream",
     "text": [
      "0.08083333333333333 0.06833333333333333\n"
     ]
    }
   ],
   "source": [
    "print(np.max(relative_pixel_vulnerability), np.min(relative_pixel_vulnerability))"
   ],
   "metadata": {
    "collapsed": false,
    "pycharm": {
     "name": "#%%\n"
    }
   }
  },
  {
   "cell_type": "code",
   "execution_count": 15,
   "outputs": [
    {
     "data": {
      "text/plain": "<Figure size 640x480 with 1 Axes>",
      "image/png": "[encoded data removed]"
     },
     "metadata": {},
     "output_type": "display_data"
    }
   ],
   "source": [
    "fig, ax = plt.subplots()\n",
    "im = ax.imshow(pixel_vulnerability, cmap='winter_r')"
   ],
   "metadata": {
    "collapsed": false,
    "pycharm": {
     "name": "#%%\n"
    }
   }
  }
 ],
 "metadata": {
  "kernelspec": {
   "display_name": "Python 3",
   "language": "python",
   "name": "python3"
  },
  "language_info": {
   "codemirror_mode": {
    "name": "ipython",
    "version": 2
   },
   "file_extension": ".py",
   "mimetype": "text/x-python",
   "name": "python",
   "nbconvert_exporter": "python",
   "pygments_lexer": "ipython2",
   "version": "2.7.6"
  }
 },
 "nbformat": 4,
 "nbformat_minor": 0
}