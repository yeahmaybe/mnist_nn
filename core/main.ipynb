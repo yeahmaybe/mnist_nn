{
 "cells": [
  {
   "cell_type": "code",
   "execution_count": 1,
   "outputs": [],
   "source": [
    "import os\n",
    "import random\n",
    "from tqdm import tqdm\n",
    "\n",
    "import torch\n",
    "import torch.nn as nn\n",
    "import torch.optim as optim\n",
    "import torch.nn.functional as F\n",
    "from sklearn.datasets import fetch_openml\n",
    "from torch.utils import data\n",
    "import torchvision.datasets as datasets\n",
    "import torchvision.transforms as transforms\n",
    "from tensorboardX import SummaryWriter\n",
    "from torch.utils.data import TensorDataset, DataLoader\n",
    "import matplotlib.pyplot as plt\n",
    "\n",
    "\n",
    "\n",
    "from MnistNet import MnistNet"
   ],
   "metadata": {
    "collapsed": false,
    "pycharm": {
     "name": "#%%\n"
    }
   }
  },
  {
   "cell_type": "code",
   "execution_count": 2,
   "outputs": [],
   "source": [
    "NUM_EPOCHS = 10\n",
    "BATCH_SIZE = 128\n",
    "MOMENTUM = 0.9\n",
    "LR_DECAY = 0.0005\n",
    "LR_INIT = 0.01\n",
    "IMAGE_DIM = 28\n",
    "NUM_CLASSES = 10\n",
    "DEVICE_IDS = [0, 1, 2, 3]\n",
    "\n",
    "device = torch.device('cuda' if torch.cuda.is_available() else 'cpu')"
   ],
   "metadata": {
    "collapsed": false,
    "pycharm": {
     "name": "#%%\n"
    }
   }
  },
  {
   "cell_type": "code",
   "execution_count": 3,
   "outputs": [],
   "source": [
    "# print the seed value\n",
    "# seed = torch.initial_seed()\n",
    "# print('Used seed : {}'.format(seed))"
   ],
   "metadata": {
    "collapsed": false,
    "pycharm": {
     "name": "#%%\n"
    }
   }
  },
  {
   "cell_type": "code",
   "execution_count": 4,
   "outputs": [
    {
     "name": "stdout",
     "output_type": "stream",
     "text": [
      "DataParallel(\n",
      "  (module): MnistNet(\n",
      "    (net): Sequential(\n",
      "      (0): Conv2d(1, 96, kernel_size=(11, 11), stride=(2, 2))\n",
      "      (1): ReLU()\n",
      "      (2): LocalResponseNorm(5, alpha=0.0001, beta=0.75, k=2)\n",
      "      (3): MaxPool2d(kernel_size=3, stride=2, padding=0, dilation=1, ceil_mode=False)\n",
      "      (4): Conv2d(96, 256, kernel_size=(5, 5), stride=(1, 1), padding=(2, 2))\n",
      "      (5): ReLU()\n",
      "      (6): LocalResponseNorm(5, alpha=0.0001, beta=0.75, k=2)\n",
      "      (7): MaxPool2d(kernel_size=3, stride=2, padding=0, dilation=1, ceil_mode=False)\n",
      "      (8): Conv2d(256, 384, kernel_size=(3, 3), stride=(1, 1), padding=(1, 1))\n",
      "      (9): ReLU()\n",
      "      (10): Conv2d(384, 384, kernel_size=(3, 3), stride=(1, 1), padding=(1, 1))\n",
      "      (11): ReLU()\n",
      "      (12): Conv2d(384, 256, kernel_size=(3, 3), stride=(1, 1), padding=(1, 1))\n",
      "    )\n",
      "    (classifier): Sequential(\n",
      "      (0): Dropout(p=0.5, inplace=False)\n",
      "      (1): Linear(in_features=256, out_features=4096, bias=True)\n",
      "      (2): ReLU()\n",
      "      (3): Dropout(p=0.5, inplace=False)\n",
      "      (4): Linear(in_features=4096, out_features=4096, bias=True)\n",
      "      (5): ReLU()\n",
      "      (6): Linear(in_features=4096, out_features=10, bias=True)\n",
      "    )\n",
      "  )\n",
      ")\n",
      "MnistNet created\n"
     ]
    }
   ],
   "source": [
    "mnistnet = MnistNet(num_classes=NUM_CLASSES).to(device)\n",
    "mnistnet = torch.nn.parallel.DataParallel(mnistnet, device_ids=DEVICE_IDS)\n",
    "print(mnistnet)\n",
    "print('MnistNet created')"
   ],
   "metadata": {
    "collapsed": false,
    "pycharm": {
     "name": "#%%\n"
    }
   }
  },
  {
   "cell_type": "code",
   "execution_count": 5,
   "outputs": [
    {
     "name": "stderr",
     "output_type": "stream",
     "text": [
      "/Users/megame/opt/anaconda3/envs/mnist_nn/lib/python3.10/site-packages/sklearn/datasets/_openml.py:932: FutureWarning: The default value of `parser` will change from `'liac-arff'` to `'auto'` in 1.4. You can set `parser='auto'` to silence this warning. Therefore, an `ImportError` will be raised from 1.4 if the dataset is dense and pandas is not installed. Note that the pandas parser may return different data types. See the Notes Section in fetch_openml's API doc for details.\n",
      "  warn(\n"
     ]
    }
   ],
   "source": [
    "X, y = fetch_openml('mnist_784', version=1, return_X_y=True, as_frame=False)\n",
    "y = y.astype(int)"
   ],
   "metadata": {
    "collapsed": false,
    "pycharm": {
     "name": "#%%\n"
    }
   }
  },
  {
   "cell_type": "code",
   "execution_count": 6,
   "outputs": [
    {
     "name": "stdout",
     "output_type": "stream",
     "text": [
      "(70000, 784)\n",
      "(70000, 1, 28, 28)\n"
     ]
    }
   ],
   "source": [
    "print(X.shape)\n",
    "X = X.reshape(X.shape[0], 1, 28, 28)\n",
    "print(X.shape)"
   ],
   "metadata": {
    "collapsed": false,
    "pycharm": {
     "name": "#%%\n"
    }
   }
  },
  {
   "cell_type": "code",
   "execution_count": 7,
   "outputs": [],
   "source": [
    "X_train, X_test, y_train, y_test = X[:60000], X[60000:], y[:60000], y[60000:]\n",
    "train_dataset = TensorDataset(torch.from_numpy(X_train).float(),\n",
    "                              torch.from_numpy(y_train).long())\n",
    "train_loader = DataLoader(train_dataset,\n",
    "                          shuffle=True,\n",
    "                          pin_memory=True,\n",
    "                          num_workers=8,\n",
    "                          drop_last=True,\n",
    "                          batch_size=BATCH_SIZE)\n",
    "\n",
    "test_dataset = TensorDataset(torch.from_numpy(X_test).float(),\n",
    "                             torch.from_numpy(y_test).long())\n",
    "test_loader = DataLoader(test_dataset,\n",
    "                          shuffle=True,\n",
    "                          pin_memory=True,\n",
    "                          num_workers=8,\n",
    "                          drop_last=True,\n",
    "                          batch_size=BATCH_SIZE)"
   ],
   "metadata": {
    "collapsed": false,
    "pycharm": {
     "name": "#%%\n"
    }
   }
  },
  {
   "cell_type": "code",
   "execution_count": 8,
   "outputs": [],
   "source": [
    "import torch.nn as nn\n",
    "criterion = nn.CrossEntropyLoss()"
   ],
   "metadata": {
    "collapsed": false,
    "pycharm": {
     "name": "#%%\n"
    }
   }
  },
  {
   "cell_type": "code",
   "execution_count": 9,
   "outputs": [],
   "source": [
    "def evaluate_model(nn_model):\n",
    "    nn_model.eval()\n",
    "    with torch.no_grad():\n",
    "        correct_out = 0\n",
    "        total_out = 0\n",
    "        for pics, lbls in test_loader:\n",
    "            out = nn_model(pics)\n",
    "            pred = torch.argmax(out, dim=1)\n",
    "            total_out += lbls.shape[0]\n",
    "            correct_out += (pred == lbls).sum().item()\n",
    "\n",
    "    loss_current = criterion(out, lbls)\n",
    "    return correct_out / total_out, loss_current"
   ],
   "metadata": {
    "collapsed": false,
    "pycharm": {
     "name": "#%%\n"
    }
   }
  },
  {
   "cell_type": "code",
   "execution_count": 10,
   "outputs": [
    {
     "name": "stdout",
     "output_type": "stream",
     "text": [
      "Optimizer created\n"
     ]
    }
   ],
   "source": [
    "# create optimizer\n",
    "# the one that WORKS\n",
    "optimizer = optim.Adam(params=mnistnet.parameters(), lr=0.0001)\n",
    "### BELOW is the setting proposed by the original paper - which doesn't train....\n",
    "# optimizer = optim.SGD(\n",
    "#     params=alexnet.parameters(),\n",
    "#     lr=LR_INIT,\n",
    "#     momentum=MOMENTUM,\n",
    "#     weight_decay=LR_DECAY)\n",
    "print('Optimizer created')"
   ],
   "metadata": {
    "collapsed": false,
    "pycharm": {
     "name": "#%%\n"
    }
   }
  },
  {
   "cell_type": "code",
   "execution_count": 11,
   "outputs": [
    {
     "name": "stdout",
     "output_type": "stream",
     "text": [
      "LR Scheduler created\n",
      "Starting training...\n"
     ]
    },
    {
     "name": "stderr",
     "output_type": "stream",
     "text": [
      "/Users/megame/opt/anaconda3/envs/mnist_nn/lib/python3.10/site-packages/torch/optim/lr_scheduler.py:131: UserWarning: Detected call of `lr_scheduler.step()` before `optimizer.step()`. In PyTorch 1.1.0 and later, you should call them in the opposite order: `optimizer.step()` before `lr_scheduler.step()`.  Failure to do this will result in PyTorch skipping the first value of the learning rate schedule. See more details at https://pytorch.org/docs/stable/optim.html#how-to-adjust-learning-rate\n",
      "  warnings.warn(\"Detected call of `lr_scheduler.step()` before `optimizer.step()`. \"\n",
      "  2%|▏         | 10/468 [00:12<07:20,  1.04it/s]"
     ]
    },
    {
     "name": "stdout",
     "output_type": "stream",
     "text": [
      "Epoch: 1 \tStep: 10 \tLoss: 2.2980 \tAcc: 0.078125\n"
     ]
    },
    {
     "name": "stderr",
     "output_type": "stream",
     "text": [
      "  4%|▍         | 20/468 [00:21<06:42,  1.11it/s]"
     ]
    },
    {
     "name": "stdout",
     "output_type": "stream",
     "text": [
      "Epoch: 1 \tStep: 20 \tLoss: 2.2852 \tAcc: 0.203125\n"
     ]
    },
    {
     "name": "stderr",
     "output_type": "stream",
     "text": [
      "  6%|▋         | 30/468 [00:30<06:41,  1.09it/s]"
     ]
    },
    {
     "name": "stdout",
     "output_type": "stream",
     "text": [
      "Epoch: 1 \tStep: 30 \tLoss: 2.1276 \tAcc: 0.2265625\n"
     ]
    },
    {
     "name": "stderr",
     "output_type": "stream",
     "text": [
      "  9%|▊         | 40/468 [00:39<06:27,  1.11it/s]"
     ]
    },
    {
     "name": "stdout",
     "output_type": "stream",
     "text": [
      "Epoch: 1 \tStep: 40 \tLoss: 1.5462 \tAcc: 0.4453125\n"
     ]
    },
    {
     "name": "stderr",
     "output_type": "stream",
     "text": [
      " 11%|█         | 50/468 [00:48<06:12,  1.12it/s]"
     ]
    },
    {
     "name": "stdout",
     "output_type": "stream",
     "text": [
      "Epoch: 1 \tStep: 50 \tLoss: 1.2579 \tAcc: 0.5546875\n"
     ]
    },
    {
     "name": "stderr",
     "output_type": "stream",
     "text": [
      " 13%|█▎        | 60/468 [00:57<06:04,  1.12it/s]"
     ]
    },
    {
     "name": "stdout",
     "output_type": "stream",
     "text": [
      "Epoch: 1 \tStep: 60 \tLoss: 1.0573 \tAcc: 0.625\n"
     ]
    },
    {
     "name": "stderr",
     "output_type": "stream",
     "text": [
      " 15%|█▍        | 70/468 [01:06<06:14,  1.06it/s]"
     ]
    },
    {
     "name": "stdout",
     "output_type": "stream",
     "text": [
      "Epoch: 1 \tStep: 70 \tLoss: 0.8490 \tAcc: 0.6796875\n"
     ]
    },
    {
     "name": "stderr",
     "output_type": "stream",
     "text": [
      " 17%|█▋        | 80/468 [01:15<05:45,  1.12it/s]"
     ]
    },
    {
     "name": "stdout",
     "output_type": "stream",
     "text": [
      "Epoch: 1 \tStep: 80 \tLoss: 0.9563 \tAcc: 0.671875\n"
     ]
    },
    {
     "name": "stderr",
     "output_type": "stream",
     "text": [
      " 19%|█▉        | 90/468 [01:24<05:55,  1.06it/s]"
     ]
    },
    {
     "name": "stdout",
     "output_type": "stream",
     "text": [
      "Epoch: 1 \tStep: 90 \tLoss: 0.6366 \tAcc: 0.78125\n"
     ]
    },
    {
     "name": "stderr",
     "output_type": "stream",
     "text": [
      " 21%|██▏       | 100/468 [01:38<06:16,  1.02s/it]"
     ]
    },
    {
     "name": "stdout",
     "output_type": "stream",
     "text": [
      "Epoch: 1 \tStep: 100 \tLoss: 0.6709 \tAcc: 0.796875\n",
      "**********\n",
      "\tmodule.net.0.weight - grad_avg: 0.0015289412112906575\n",
      "\tmodule.net.0.weight - param_avg: 0.000710230553522706\n",
      "\tmodule.net.0.bias - grad_avg: 2.2034189896658063e-05\n",
      "\tmodule.net.0.bias - param_avg: 0.0002548446354921907\n",
      "\tmodule.net.4.weight - grad_avg: -1.2753158671330311e-06\n",
      "\tmodule.net.4.weight - param_avg: -0.0002305808593519032\n",
      "\tmodule.net.4.bias - grad_avg: 6.882771685923217e-06\n",
      "\tmodule.net.4.bias - param_avg: 1.3720060451305471e-05\n",
      "\tmodule.net.8.weight - grad_avg: -4.8549209168413654e-05\n",
      "\tmodule.net.8.weight - param_avg: 2.1523321265704e-05\n",
      "\tmodule.net.8.bias - grad_avg: -2.818197572196368e-05\n",
      "\tmodule.net.8.bias - param_avg: 0.00017762598872650415\n",
      "\tmodule.net.10.weight - grad_avg: -6.1214300330902915e-06\n",
      "\tmodule.net.10.weight - param_avg: 3.8799724279670045e-05\n",
      "\tmodule.net.10.bias - grad_avg: -1.0959284736600239e-05\n",
      "\tmodule.net.10.bias - param_avg: 0.00016303930897265673\n",
      "\tmodule.net.12.weight - grad_avg: 5.3983940233592875e-06\n",
      "\tmodule.net.12.weight - param_avg: 2.6369405532022938e-05\n",
      "\tmodule.net.12.bias - grad_avg: 0.00011306560918455943\n",
      "\tmodule.net.12.bias - param_avg: 6.817605753894895e-05\n",
      "\tmodule.classifier.1.weight - grad_avg: 2.1292709107001428e-07\n",
      "\tmodule.classifier.1.weight - param_avg: 6.971498805796728e-05\n",
      "\tmodule.classifier.1.bias - grad_avg: 0.0001132563193095848\n",
      "\tmodule.classifier.1.bias - param_avg: 0.0022630272433161736\n",
      "\tmodule.classifier.4.weight - grad_avg: 6.820131147833308e-06\n",
      "\tmodule.classifier.4.weight - param_avg: 0.0003593485744204372\n",
      "\tmodule.classifier.4.bias - grad_avg: 5.2379440603544936e-05\n",
      "\tmodule.classifier.4.bias - param_avg: 0.000941403501201421\n",
      "\tmodule.classifier.6.weight - grad_avg: 0.0\n",
      "\tmodule.classifier.6.weight - param_avg: -0.00040071396506391466\n",
      "\tmodule.classifier.6.bias - grad_avg: 2.793967834868738e-10\n",
      "\tmodule.classifier.6.bias - param_avg: 0.007419025991111994\n"
     ]
    },
    {
     "name": "stderr",
     "output_type": "stream",
     "text": [
      " 24%|██▎       | 110/468 [01:47<05:17,  1.13it/s]"
     ]
    },
    {
     "name": "stdout",
     "output_type": "stream",
     "text": [
      "Epoch: 1 \tStep: 110 \tLoss: 0.7166 \tAcc: 0.7890625\n"
     ]
    },
    {
     "name": "stderr",
     "output_type": "stream",
     "text": [
      " 26%|██▌       | 120/468 [01:56<04:57,  1.17it/s]"
     ]
    },
    {
     "name": "stdout",
     "output_type": "stream",
     "text": [
      "Epoch: 1 \tStep: 120 \tLoss: 0.5173 \tAcc: 0.8515625\n"
     ]
    },
    {
     "name": "stderr",
     "output_type": "stream",
     "text": [
      " 28%|██▊       | 130/468 [02:04<04:41,  1.20it/s]"
     ]
    },
    {
     "name": "stdout",
     "output_type": "stream",
     "text": [
      "Epoch: 1 \tStep: 130 \tLoss: 0.4919 \tAcc: 0.8359375\n"
     ]
    },
    {
     "name": "stderr",
     "output_type": "stream",
     "text": [
      " 30%|██▉       | 140/468 [02:12<04:31,  1.21it/s]"
     ]
    },
    {
     "name": "stdout",
     "output_type": "stream",
     "text": [
      "Epoch: 1 \tStep: 140 \tLoss: 0.2509 \tAcc: 0.9296875\n"
     ]
    },
    {
     "name": "stderr",
     "output_type": "stream",
     "text": [
      " 32%|███▏      | 150/468 [02:21<04:24,  1.20it/s]"
     ]
    },
    {
     "name": "stdout",
     "output_type": "stream",
     "text": [
      "Epoch: 1 \tStep: 150 \tLoss: 0.4156 \tAcc: 0.859375\n"
     ]
    },
    {
     "name": "stderr",
     "output_type": "stream",
     "text": [
      " 34%|███▍      | 160/468 [02:29<04:12,  1.22it/s]"
     ]
    },
    {
     "name": "stdout",
     "output_type": "stream",
     "text": [
      "Epoch: 1 \tStep: 160 \tLoss: 0.4903 \tAcc: 0.859375\n"
     ]
    },
    {
     "name": "stderr",
     "output_type": "stream",
     "text": [
      " 36%|███▋      | 170/468 [02:37<04:04,  1.22it/s]"
     ]
    },
    {
     "name": "stdout",
     "output_type": "stream",
     "text": [
      "Epoch: 1 \tStep: 170 \tLoss: 0.4160 \tAcc: 0.890625\n"
     ]
    },
    {
     "name": "stderr",
     "output_type": "stream",
     "text": [
      " 38%|███▊      | 180/468 [02:46<04:07,  1.16it/s]"
     ]
    },
    {
     "name": "stdout",
     "output_type": "stream",
     "text": [
      "Epoch: 1 \tStep: 180 \tLoss: 0.2640 \tAcc: 0.90625\n"
     ]
    },
    {
     "name": "stderr",
     "output_type": "stream",
     "text": [
      " 41%|████      | 190/468 [02:54<03:50,  1.20it/s]"
     ]
    },
    {
     "name": "stdout",
     "output_type": "stream",
     "text": [
      "Epoch: 1 \tStep: 190 \tLoss: 0.4632 \tAcc: 0.890625\n"
     ]
    },
    {
     "name": "stderr",
     "output_type": "stream",
     "text": [
      " 43%|████▎     | 200/468 [03:03<03:45,  1.19it/s]"
     ]
    },
    {
     "name": "stdout",
     "output_type": "stream",
     "text": [
      "Epoch: 1 \tStep: 200 \tLoss: 0.4018 \tAcc: 0.8671875\n",
      "**********\n",
      "\tmodule.net.0.weight - grad_avg: 0.004026798997074366\n",
      "\tmodule.net.0.weight - param_avg: 0.000166365469340235\n",
      "\tmodule.net.0.bias - grad_avg: 3.10160503431689e-05\n",
      "\tmodule.net.0.bias - param_avg: -0.0006459219730459154\n",
      "\tmodule.net.4.weight - grad_avg: 5.915959627600387e-05\n",
      "\tmodule.net.4.weight - param_avg: -0.00035997104714624584\n",
      "\tmodule.net.4.bias - grad_avg: 1.0696020581235643e-05\n",
      "\tmodule.net.4.bias - param_avg: -0.00010995854972861707\n",
      "\tmodule.net.8.weight - grad_avg: 3.741010368685238e-05\n",
      "\tmodule.net.8.weight - param_avg: 1.635543412703555e-05\n",
      "\tmodule.net.8.bias - grad_avg: 4.571127283270471e-05\n",
      "\tmodule.net.8.bias - param_avg: 0.0001180481631308794\n",
      "\tmodule.net.10.weight - grad_avg: 5.3148021834203973e-05\n",
      "\tmodule.net.10.weight - param_avg: 3.870980435749516e-05\n",
      "\tmodule.net.10.bias - grad_avg: 0.000321411615004763\n",
      "\tmodule.net.10.bias - param_avg: 0.00020390200370457023\n",
      "\tmodule.net.12.weight - grad_avg: -1.8087379430653527e-05\n",
      "\tmodule.net.12.weight - param_avg: 2.520117959647905e-05\n",
      "\tmodule.net.12.bias - grad_avg: -0.00027682771906256676\n",
      "\tmodule.net.12.bias - param_avg: 3.272629692219198e-05\n",
      "\tmodule.classifier.1.weight - grad_avg: -1.8254352198709967e-06\n",
      "\tmodule.classifier.1.weight - param_avg: 7.254050433402881e-05\n",
      "\tmodule.classifier.1.bias - grad_avg: 6.105846114223823e-05\n",
      "\tmodule.classifier.1.bias - param_avg: 0.0025318018160760403\n",
      "\tmodule.classifier.4.weight - grad_avg: 1.511699338152539e-06\n",
      "\tmodule.classifier.4.weight - param_avg: 0.0003861997975036502\n",
      "\tmodule.classifier.4.bias - grad_avg: 1.4143036423774902e-05\n",
      "\tmodule.classifier.4.bias - param_avg: 0.0010202054399996996\n",
      "\tmodule.classifier.6.weight - grad_avg: 1.6298144778215118e-10\n",
      "\tmodule.classifier.6.weight - param_avg: -0.00044969626469537616\n",
      "\tmodule.classifier.6.bias - grad_avg: 3.7252903539730653e-10\n",
      "\tmodule.classifier.6.bias - param_avg: 0.007424388080835342\n"
     ]
    },
    {
     "name": "stderr",
     "output_type": "stream",
     "text": [
      " 45%|████▍     | 210/468 [03:11<03:42,  1.16it/s]"
     ]
    },
    {
     "name": "stdout",
     "output_type": "stream",
     "text": [
      "Epoch: 1 \tStep: 210 \tLoss: 0.2765 \tAcc: 0.90625\n"
     ]
    },
    {
     "name": "stderr",
     "output_type": "stream",
     "text": [
      " 47%|████▋     | 220/468 [03:20<03:34,  1.15it/s]"
     ]
    },
    {
     "name": "stdout",
     "output_type": "stream",
     "text": [
      "Epoch: 1 \tStep: 220 \tLoss: 0.2703 \tAcc: 0.890625\n"
     ]
    },
    {
     "name": "stderr",
     "output_type": "stream",
     "text": [
      " 49%|████▉     | 230/468 [03:29<03:23,  1.17it/s]"
     ]
    },
    {
     "name": "stdout",
     "output_type": "stream",
     "text": [
      "Epoch: 1 \tStep: 230 \tLoss: 0.2040 \tAcc: 0.9453125\n"
     ]
    },
    {
     "name": "stderr",
     "output_type": "stream",
     "text": [
      " 51%|█████▏    | 240/468 [03:38<03:21,  1.13it/s]"
     ]
    },
    {
     "name": "stdout",
     "output_type": "stream",
     "text": [
      "Epoch: 1 \tStep: 240 \tLoss: 0.2719 \tAcc: 0.921875\n"
     ]
    },
    {
     "name": "stderr",
     "output_type": "stream",
     "text": [
      " 53%|█████▎    | 250/468 [03:46<03:02,  1.20it/s]"
     ]
    },
    {
     "name": "stdout",
     "output_type": "stream",
     "text": [
      "Epoch: 1 \tStep: 250 \tLoss: 0.4061 \tAcc: 0.859375\n"
     ]
    },
    {
     "name": "stderr",
     "output_type": "stream",
     "text": [
      " 56%|█████▌    | 260/468 [03:54<02:50,  1.22it/s]"
     ]
    },
    {
     "name": "stdout",
     "output_type": "stream",
     "text": [
      "Epoch: 1 \tStep: 260 \tLoss: 0.1634 \tAcc: 0.953125\n"
     ]
    },
    {
     "name": "stderr",
     "output_type": "stream",
     "text": [
      " 58%|█████▊    | 270/468 [04:03<02:44,  1.20it/s]"
     ]
    },
    {
     "name": "stdout",
     "output_type": "stream",
     "text": [
      "Epoch: 1 \tStep: 270 \tLoss: 0.1287 \tAcc: 0.953125\n"
     ]
    },
    {
     "name": "stderr",
     "output_type": "stream",
     "text": [
      " 60%|█████▉    | 280/468 [04:11<02:36,  1.20it/s]"
     ]
    },
    {
     "name": "stdout",
     "output_type": "stream",
     "text": [
      "Epoch: 1 \tStep: 280 \tLoss: 0.1605 \tAcc: 0.9453125\n"
     ]
    },
    {
     "name": "stderr",
     "output_type": "stream",
     "text": [
      " 62%|██████▏   | 290/468 [04:19<02:26,  1.22it/s]"
     ]
    },
    {
     "name": "stdout",
     "output_type": "stream",
     "text": [
      "Epoch: 1 \tStep: 290 \tLoss: 0.2714 \tAcc: 0.9140625\n"
     ]
    },
    {
     "name": "stderr",
     "output_type": "stream",
     "text": [
      " 64%|██████▍   | 300/468 [04:27<02:13,  1.25it/s]"
     ]
    },
    {
     "name": "stdout",
     "output_type": "stream",
     "text": [
      "Epoch: 1 \tStep: 300 \tLoss: 0.2529 \tAcc: 0.8984375\n",
      "**********\n",
      "\tmodule.net.0.weight - grad_avg: 0.0017575209494680166\n",
      "\tmodule.net.0.weight - param_avg: -0.00011404108954593539\n",
      "\tmodule.net.0.bias - grad_avg: 4.601062755682506e-05\n",
      "\tmodule.net.0.bias - param_avg: -0.001186374225653708\n",
      "\tmodule.net.4.weight - grad_avg: -4.7358225856442004e-05\n",
      "\tmodule.net.4.weight - param_avg: -0.0004022629582323134\n",
      "\tmodule.net.4.bias - grad_avg: -1.0421409569971729e-05\n",
      "\tmodule.net.4.bias - param_avg: -0.00018179828475695103\n",
      "\tmodule.net.8.weight - grad_avg: -4.608161543728784e-05\n",
      "\tmodule.net.8.weight - param_avg: 1.3591906281362753e-05\n",
      "\tmodule.net.8.bias - grad_avg: -4.93258994538337e-05\n",
      "\tmodule.net.8.bias - param_avg: 9.361701086163521e-05\n",
      "\tmodule.net.10.weight - grad_avg: -3.135670704068616e-05\n",
      "\tmodule.net.10.weight - param_avg: 4.058454214828089e-05\n",
      "\tmodule.net.10.bias - grad_avg: -0.0002213574043707922\n",
      "\tmodule.net.10.bias - param_avg: 0.0002591139345895499\n",
      "\tmodule.net.12.weight - grad_avg: -3.259342292949441e-06\n",
      "\tmodule.net.12.weight - param_avg: 2.8049938919139095e-05\n",
      "\tmodule.net.12.bias - grad_avg: -3.7427736970130354e-05\n",
      "\tmodule.net.12.bias - param_avg: 7.591762550873682e-05\n",
      "\tmodule.classifier.1.weight - grad_avg: 5.970618985884357e-07\n",
      "\tmodule.classifier.1.weight - param_avg: 7.315086986636743e-05\n",
      "\tmodule.classifier.1.bias - grad_avg: 5.924204015173018e-05\n",
      "\tmodule.classifier.1.bias - param_avg: 0.002772619714960456\n",
      "\tmodule.classifier.4.weight - grad_avg: 1.84835471372935e-07\n",
      "\tmodule.classifier.4.weight - param_avg: 0.00042321067303419113\n",
      "\tmodule.classifier.4.bias - grad_avg: 1.0444658073538449e-05\n",
      "\tmodule.classifier.4.bias - param_avg: 0.0011129453778266907\n",
      "\tmodule.classifier.6.weight - grad_avg: 2.793967834868738e-10\n",
      "\tmodule.classifier.6.weight - param_avg: -0.0004923671367578208\n",
      "\tmodule.classifier.6.bias - grad_avg: 1.3504177776013648e-09\n",
      "\tmodule.classifier.6.bias - param_avg: 0.007433644030243158\n"
     ]
    },
    {
     "name": "stderr",
     "output_type": "stream",
     "text": [
      " 66%|██████▌   | 310/468 [04:36<02:11,  1.20it/s]"
     ]
    },
    {
     "name": "stdout",
     "output_type": "stream",
     "text": [
      "Epoch: 1 \tStep: 310 \tLoss: 0.2725 \tAcc: 0.921875\n"
     ]
    },
    {
     "name": "stderr",
     "output_type": "stream",
     "text": [
      " 68%|██████▊   | 320/468 [04:44<01:58,  1.25it/s]"
     ]
    },
    {
     "name": "stdout",
     "output_type": "stream",
     "text": [
      "Epoch: 1 \tStep: 320 \tLoss: 0.1710 \tAcc: 0.9296875\n"
     ]
    },
    {
     "name": "stderr",
     "output_type": "stream",
     "text": [
      " 71%|███████   | 330/468 [04:52<01:49,  1.26it/s]"
     ]
    },
    {
     "name": "stdout",
     "output_type": "stream",
     "text": [
      "Epoch: 1 \tStep: 330 \tLoss: 0.1581 \tAcc: 0.9453125\n"
     ]
    },
    {
     "name": "stderr",
     "output_type": "stream",
     "text": [
      " 73%|███████▎  | 340/468 [04:59<01:41,  1.26it/s]"
     ]
    },
    {
     "name": "stdout",
     "output_type": "stream",
     "text": [
      "Epoch: 1 \tStep: 340 \tLoss: 0.1304 \tAcc: 0.9375\n"
     ]
    },
    {
     "name": "stderr",
     "output_type": "stream",
     "text": [
      " 75%|███████▍  | 350/468 [05:07<01:33,  1.26it/s]"
     ]
    },
    {
     "name": "stdout",
     "output_type": "stream",
     "text": [
      "Epoch: 1 \tStep: 350 \tLoss: 0.2112 \tAcc: 0.921875\n"
     ]
    },
    {
     "name": "stderr",
     "output_type": "stream",
     "text": [
      " 77%|███████▋  | 360/468 [05:15<01:26,  1.26it/s]"
     ]
    },
    {
     "name": "stdout",
     "output_type": "stream",
     "text": [
      "Epoch: 1 \tStep: 360 \tLoss: 0.2855 \tAcc: 0.90625\n"
     ]
    },
    {
     "name": "stderr",
     "output_type": "stream",
     "text": [
      " 79%|███████▉  | 370/468 [05:23<01:17,  1.27it/s]"
     ]
    },
    {
     "name": "stdout",
     "output_type": "stream",
     "text": [
      "Epoch: 1 \tStep: 370 \tLoss: 0.1607 \tAcc: 0.953125\n"
     ]
    },
    {
     "name": "stderr",
     "output_type": "stream",
     "text": [
      " 81%|████████  | 380/468 [05:31<01:08,  1.29it/s]"
     ]
    },
    {
     "name": "stdout",
     "output_type": "stream",
     "text": [
      "Epoch: 1 \tStep: 380 \tLoss: 0.1640 \tAcc: 0.9609375\n"
     ]
    },
    {
     "name": "stderr",
     "output_type": "stream",
     "text": [
      " 83%|████████▎ | 390/468 [05:39<01:01,  1.26it/s]"
     ]
    },
    {
     "name": "stdout",
     "output_type": "stream",
     "text": [
      "Epoch: 1 \tStep: 390 \tLoss: 0.0876 \tAcc: 0.96875\n"
     ]
    },
    {
     "name": "stderr",
     "output_type": "stream",
     "text": [
      " 85%|████████▌ | 400/468 [05:47<00:53,  1.27it/s]"
     ]
    },
    {
     "name": "stdout",
     "output_type": "stream",
     "text": [
      "Epoch: 1 \tStep: 400 \tLoss: 0.1038 \tAcc: 0.96875\n",
      "**********\n",
      "\tmodule.net.0.weight - grad_avg: 0.00034858036087825894\n",
      "\tmodule.net.0.weight - param_avg: -0.0004661187413148582\n",
      "\tmodule.net.0.bias - grad_avg: -4.1190792217093986e-06\n",
      "\tmodule.net.0.bias - param_avg: -0.0018226327374577522\n",
      "\tmodule.net.4.weight - grad_avg: -1.378612250846345e-05\n",
      "\tmodule.net.4.weight - param_avg: -0.0005184866022318602\n",
      "\tmodule.net.4.bias - grad_avg: -1.09117877400422e-06\n",
      "\tmodule.net.4.bias - param_avg: -0.00029431923758238554\n",
      "\tmodule.net.8.weight - grad_avg: -2.898801540140994e-06\n",
      "\tmodule.net.8.weight - param_avg: 9.53768721956294e-06\n",
      "\tmodule.net.8.bias - grad_avg: -1.4720535546075553e-06\n",
      "\tmodule.net.8.bias - param_avg: 6.685694825137034e-05\n",
      "\tmodule.net.10.weight - grad_avg: -3.6843134694208857e-06\n",
      "\tmodule.net.10.weight - param_avg: 4.0479259041603655e-05\n",
      "\tmodule.net.10.bias - grad_avg: -2.584443245723378e-05\n",
      "\tmodule.net.10.bias - param_avg: 0.00029023666866123676\n",
      "\tmodule.net.12.weight - grad_avg: 8.878343578544445e-06\n",
      "\tmodule.net.12.weight - param_avg: 2.834120641637128e-05\n",
      "\tmodule.net.12.bias - grad_avg: 0.0002703873033169657\n",
      "\tmodule.net.12.bias - param_avg: 8.193296525860205e-05\n",
      "\tmodule.classifier.1.weight - grad_avg: -2.8577670718732406e-07\n",
      "\tmodule.classifier.1.weight - param_avg: 7.086066761985421e-05\n",
      "\tmodule.classifier.1.bias - grad_avg: -1.8890998035203665e-05\n",
      "\tmodule.classifier.1.bias - param_avg: 0.0028764335438609123\n",
      "\tmodule.classifier.4.weight - grad_avg: -8.983549264485191e-07\n",
      "\tmodule.classifier.4.weight - param_avg: 0.00043113288120366633\n",
      "\tmodule.classifier.4.bias - grad_avg: -8.624919246358331e-06\n",
      "\tmodule.classifier.4.bias - param_avg: 0.001151830772869289\n",
      "\tmodule.classifier.6.weight - grad_avg: -2.3283064712331658e-11\n",
      "\tmodule.classifier.6.weight - param_avg: -0.0005207000067457557\n",
      "\tmodule.classifier.6.bias - grad_avg: -2.3283064712331658e-11\n",
      "\tmodule.classifier.6.bias - param_avg: 0.007444086484611034\n"
     ]
    },
    {
     "name": "stderr",
     "output_type": "stream",
     "text": [
      " 88%|████████▊ | 410/468 [05:55<00:45,  1.26it/s]"
     ]
    },
    {
     "name": "stdout",
     "output_type": "stream",
     "text": [
      "Epoch: 1 \tStep: 410 \tLoss: 0.2653 \tAcc: 0.9296875\n"
     ]
    },
    {
     "name": "stderr",
     "output_type": "stream",
     "text": [
      " 90%|████████▉ | 420/468 [06:03<00:37,  1.27it/s]"
     ]
    },
    {
     "name": "stdout",
     "output_type": "stream",
     "text": [
      "Epoch: 1 \tStep: 420 \tLoss: 0.1877 \tAcc: 0.921875\n"
     ]
    },
    {
     "name": "stderr",
     "output_type": "stream",
     "text": [
      " 92%|█████████▏| 430/468 [06:11<00:29,  1.28it/s]"
     ]
    },
    {
     "name": "stdout",
     "output_type": "stream",
     "text": [
      "Epoch: 1 \tStep: 430 \tLoss: 0.1253 \tAcc: 0.9453125\n"
     ]
    },
    {
     "name": "stderr",
     "output_type": "stream",
     "text": [
      " 94%|█████████▍| 440/468 [06:18<00:21,  1.28it/s]"
     ]
    },
    {
     "name": "stdout",
     "output_type": "stream",
     "text": [
      "Epoch: 1 \tStep: 440 \tLoss: 0.1308 \tAcc: 0.96875\n"
     ]
    },
    {
     "name": "stderr",
     "output_type": "stream",
     "text": [
      " 96%|█████████▌| 450/468 [06:26<00:14,  1.27it/s]"
     ]
    },
    {
     "name": "stdout",
     "output_type": "stream",
     "text": [
      "Epoch: 1 \tStep: 450 \tLoss: 0.1545 \tAcc: 0.9453125\n"
     ]
    },
    {
     "name": "stderr",
     "output_type": "stream",
     "text": [
      " 98%|█████████▊| 460/468 [06:34<00:06,  1.24it/s]"
     ]
    },
    {
     "name": "stdout",
     "output_type": "stream",
     "text": [
      "Epoch: 1 \tStep: 460 \tLoss: 0.0672 \tAcc: 0.96875\n"
     ]
    },
    {
     "name": "stderr",
     "output_type": "stream",
     "text": [
      "100%|██████████| 468/468 [06:41<00:00,  1.16it/s]\n"
     ]
    },
    {
     "name": "stdout",
     "output_type": "stream",
     "text": [
      "[0.9633413461538461] [0.96875] [tensor(0.1371)] [0.06721928715705872]\n"
     ]
    },
    {
     "name": "stderr",
     "output_type": "stream",
     "text": [
      "  0%|          | 2/468 [00:03<11:46,  1.52s/it]"
     ]
    },
    {
     "name": "stdout",
     "output_type": "stream",
     "text": [
      "Epoch: 2 \tStep: 470 \tLoss: 0.0575 \tAcc: 0.9765625\n"
     ]
    },
    {
     "name": "stderr",
     "output_type": "stream",
     "text": [
      "  3%|▎         | 12/468 [00:11<06:00,  1.27it/s]"
     ]
    },
    {
     "name": "stdout",
     "output_type": "stream",
     "text": [
      "Epoch: 2 \tStep: 480 \tLoss: 0.0714 \tAcc: 0.96875\n"
     ]
    },
    {
     "name": "stderr",
     "output_type": "stream",
     "text": [
      "  5%|▍         | 22/468 [00:18<05:47,  1.29it/s]"
     ]
    },
    {
     "name": "stdout",
     "output_type": "stream",
     "text": [
      "Epoch: 2 \tStep: 490 \tLoss: 0.0943 \tAcc: 0.96875\n"
     ]
    },
    {
     "name": "stderr",
     "output_type": "stream",
     "text": [
      "  7%|▋         | 32/468 [00:26<05:37,  1.29it/s]"
     ]
    },
    {
     "name": "stdout",
     "output_type": "stream",
     "text": [
      "Epoch: 2 \tStep: 500 \tLoss: 0.0354 \tAcc: 0.9921875\n",
      "**********\n",
      "\tmodule.net.0.weight - grad_avg: -0.0016985803376883268\n",
      "\tmodule.net.0.weight - param_avg: -0.0005780042847618461\n",
      "\tmodule.net.0.bias - grad_avg: -2.3096783479559235e-05\n",
      "\tmodule.net.0.bias - param_avg: -0.002158294664695859\n",
      "\tmodule.net.4.weight - grad_avg: 2.1940060833003372e-05\n",
      "\tmodule.net.4.weight - param_avg: -0.0005649649538099766\n",
      "\tmodule.net.4.bias - grad_avg: 4.211293344269507e-06\n",
      "\tmodule.net.4.bias - param_avg: -0.0003207090776413679\n",
      "\tmodule.net.8.weight - grad_avg: -2.1763105451100273e-06\n",
      "\tmodule.net.8.weight - param_avg: 6.526766810566187e-06\n",
      "\tmodule.net.8.bias - grad_avg: -5.490403509611497e-06\n",
      "\tmodule.net.8.bias - param_avg: 5.951073762844317e-05\n",
      "\tmodule.net.10.weight - grad_avg: -6.39190830042935e-06\n",
      "\tmodule.net.10.weight - param_avg: 4.2117102566407993e-05\n",
      "\tmodule.net.10.bias - grad_avg: -6.395932723535225e-05\n",
      "\tmodule.net.10.bias - param_avg: 0.00034534523729234934\n",
      "\tmodule.net.12.weight - grad_avg: 2.039904302364448e-06\n",
      "\tmodule.net.12.weight - param_avg: 2.603848224680405e-05\n",
      "\tmodule.net.12.bias - grad_avg: 2.789976861095056e-05\n",
      "\tmodule.net.12.bias - param_avg: 2.907071029767394e-05\n",
      "\tmodule.classifier.1.weight - grad_avg: -3.96958768078548e-08\n",
      "\tmodule.classifier.1.weight - param_avg: 6.618645420530811e-05\n",
      "\tmodule.classifier.1.bias - grad_avg: -6.636287434957922e-05\n",
      "\tmodule.classifier.1.bias - param_avg: 0.0029838010668754578\n",
      "\tmodule.classifier.4.weight - grad_avg: -1.2357403420537594e-06\n",
      "\tmodule.classifier.4.weight - param_avg: 0.0004557316133286804\n",
      "\tmodule.classifier.4.bias - grad_avg: -1.5082958270795643e-05\n",
      "\tmodule.classifier.4.bias - param_avg: 0.0012193721486255527\n",
      "\tmodule.classifier.6.weight - grad_avg: 2.502929530301401e-10\n",
      "\tmodule.classifier.6.weight - param_avg: -0.0005727583775296807\n",
      "\tmodule.classifier.6.bias - grad_avg: 6.519257911286047e-10\n",
      "\tmodule.classifier.6.bias - param_avg: 0.007437539286911488\n"
     ]
    },
    {
     "name": "stderr",
     "output_type": "stream",
     "text": [
      "  9%|▉         | 42/468 [00:35<05:42,  1.25it/s]"
     ]
    },
    {
     "name": "stdout",
     "output_type": "stream",
     "text": [
      "Epoch: 2 \tStep: 510 \tLoss: 0.0497 \tAcc: 0.984375\n"
     ]
    },
    {
     "name": "stderr",
     "output_type": "stream",
     "text": [
      " 11%|█         | 52/468 [00:43<05:26,  1.28it/s]"
     ]
    },
    {
     "name": "stdout",
     "output_type": "stream",
     "text": [
      "Epoch: 2 \tStep: 520 \tLoss: 0.1295 \tAcc: 0.953125\n"
     ]
    },
    {
     "name": "stderr",
     "output_type": "stream",
     "text": [
      " 13%|█▎        | 62/468 [00:50<05:23,  1.26it/s]"
     ]
    },
    {
     "name": "stdout",
     "output_type": "stream",
     "text": [
      "Epoch: 2 \tStep: 530 \tLoss: 0.1554 \tAcc: 0.96875\n"
     ]
    },
    {
     "name": "stderr",
     "output_type": "stream",
     "text": [
      " 15%|█▌        | 72/468 [00:58<05:11,  1.27it/s]"
     ]
    },
    {
     "name": "stdout",
     "output_type": "stream",
     "text": [
      "Epoch: 2 \tStep: 540 \tLoss: 0.1546 \tAcc: 0.953125\n"
     ]
    },
    {
     "name": "stderr",
     "output_type": "stream",
     "text": [
      " 18%|█▊        | 82/468 [01:06<05:02,  1.28it/s]"
     ]
    },
    {
     "name": "stdout",
     "output_type": "stream",
     "text": [
      "Epoch: 2 \tStep: 550 \tLoss: 0.0645 \tAcc: 0.9609375\n"
     ]
    },
    {
     "name": "stderr",
     "output_type": "stream",
     "text": [
      " 20%|█▉        | 92/468 [01:14<04:53,  1.28it/s]"
     ]
    },
    {
     "name": "stdout",
     "output_type": "stream",
     "text": [
      "Epoch: 2 \tStep: 560 \tLoss: 0.0929 \tAcc: 0.96875\n"
     ]
    },
    {
     "name": "stderr",
     "output_type": "stream",
     "text": [
      " 22%|██▏       | 102/468 [01:22<04:47,  1.27it/s]"
     ]
    },
    {
     "name": "stdout",
     "output_type": "stream",
     "text": [
      "Epoch: 2 \tStep: 570 \tLoss: 0.0760 \tAcc: 0.9765625\n"
     ]
    },
    {
     "name": "stderr",
     "output_type": "stream",
     "text": [
      " 24%|██▍       | 112/468 [01:30<04:40,  1.27it/s]"
     ]
    },
    {
     "name": "stdout",
     "output_type": "stream",
     "text": [
      "Epoch: 2 \tStep: 580 \tLoss: 0.1964 \tAcc: 0.9375\n"
     ]
    },
    {
     "name": "stderr",
     "output_type": "stream",
     "text": [
      " 26%|██▌       | 122/468 [01:38<04:30,  1.28it/s]"
     ]
    },
    {
     "name": "stdout",
     "output_type": "stream",
     "text": [
      "Epoch: 2 \tStep: 590 \tLoss: 0.0362 \tAcc: 0.9921875\n"
     ]
    },
    {
     "name": "stderr",
     "output_type": "stream",
     "text": [
      " 28%|██▊       | 132/468 [01:46<04:28,  1.25it/s]"
     ]
    },
    {
     "name": "stdout",
     "output_type": "stream",
     "text": [
      "Epoch: 2 \tStep: 600 \tLoss: 0.1267 \tAcc: 0.9609375\n",
      "**********\n",
      "\tmodule.net.0.weight - grad_avg: 0.0012079236330464482\n",
      "\tmodule.net.0.weight - param_avg: -0.0007135325577110052\n",
      "\tmodule.net.0.bias - grad_avg: 3.267121792305261e-05\n",
      "\tmodule.net.0.bias - param_avg: -0.002509909449145198\n",
      "\tmodule.net.4.weight - grad_avg: -3.917101275874302e-05\n",
      "\tmodule.net.4.weight - param_avg: -0.0006097309524193406\n",
      "\tmodule.net.4.bias - grad_avg: -8.707237611815799e-06\n",
      "\tmodule.net.4.bias - param_avg: -0.00036675360752269626\n",
      "\tmodule.net.8.weight - grad_avg: -6.509340437332867e-06\n",
      "\tmodule.net.8.weight - param_avg: 4.910892130283173e-06\n",
      "\tmodule.net.8.bias - grad_avg: -2.0604400560841896e-05\n",
      "\tmodule.net.8.bias - param_avg: 5.815239273943007e-05\n",
      "\tmodule.net.10.weight - grad_avg: 6.5723647821869235e-06\n",
      "\tmodule.net.10.weight - param_avg: 4.337125938036479e-05\n",
      "\tmodule.net.10.bias - grad_avg: 5.487900853040628e-05\n",
      "\tmodule.net.10.bias - param_avg: 0.0003770735638681799\n",
      "\tmodule.net.12.weight - grad_avg: 1.3706185200135224e-06\n",
      "\tmodule.net.12.weight - param_avg: 2.5923729481291957e-05\n",
      "\tmodule.net.12.bias - grad_avg: 6.18133635725826e-05\n",
      "\tmodule.net.12.bias - param_avg: 2.96112266369164e-05\n",
      "\tmodule.classifier.1.weight - grad_avg: -3.238168915231654e-07\n",
      "\tmodule.classifier.1.weight - param_avg: 6.579454202437773e-05\n",
      "\tmodule.classifier.1.bias - grad_avg: 3.9094575186027214e-05\n",
      "\tmodule.classifier.1.bias - param_avg: 0.003075897926464677\n",
      "\tmodule.classifier.4.weight - grad_avg: 3.871903402341559e-07\n",
      "\tmodule.classifier.4.weight - param_avg: 0.00047142826952040195\n",
      "\tmodule.classifier.4.bias - grad_avg: 1.024243829306215e-05\n",
      "\tmodule.classifier.4.bias - param_avg: 0.0012744806008413434\n",
      "\tmodule.classifier.6.weight - grad_avg: 1.0477378686868377e-10\n",
      "\tmodule.classifier.6.weight - param_avg: -0.0005971068167127669\n",
      "\tmodule.classifier.6.bias - grad_avg: 3.7252903539730653e-10\n",
      "\tmodule.classifier.6.bias - param_avg: 0.007440946064889431\n"
     ]
    },
    {
     "name": "stderr",
     "output_type": "stream",
     "text": [
      " 30%|███       | 142/468 [01:54<04:14,  1.28it/s]"
     ]
    },
    {
     "name": "stdout",
     "output_type": "stream",
     "text": [
      "Epoch: 2 \tStep: 610 \tLoss: 0.1317 \tAcc: 0.96875\n"
     ]
    },
    {
     "name": "stderr",
     "output_type": "stream",
     "text": [
      " 32%|███▏      | 152/468 [02:01<04:08,  1.27it/s]"
     ]
    },
    {
     "name": "stdout",
     "output_type": "stream",
     "text": [
      "Epoch: 2 \tStep: 620 \tLoss: 0.1259 \tAcc: 0.9609375\n"
     ]
    },
    {
     "name": "stderr",
     "output_type": "stream",
     "text": [
      " 35%|███▍      | 162/468 [02:09<04:03,  1.26it/s]"
     ]
    },
    {
     "name": "stdout",
     "output_type": "stream",
     "text": [
      "Epoch: 2 \tStep: 630 \tLoss: 0.1101 \tAcc: 0.953125\n"
     ]
    },
    {
     "name": "stderr",
     "output_type": "stream",
     "text": [
      " 37%|███▋      | 172/468 [02:17<03:59,  1.23it/s]"
     ]
    },
    {
     "name": "stdout",
     "output_type": "stream",
     "text": [
      "Epoch: 2 \tStep: 640 \tLoss: 0.0826 \tAcc: 0.96875\n"
     ]
    },
    {
     "name": "stderr",
     "output_type": "stream",
     "text": [
      " 39%|███▉      | 182/468 [02:25<03:46,  1.26it/s]"
     ]
    },
    {
     "name": "stdout",
     "output_type": "stream",
     "text": [
      "Epoch: 2 \tStep: 650 \tLoss: 0.1317 \tAcc: 0.953125\n"
     ]
    },
    {
     "name": "stderr",
     "output_type": "stream",
     "text": [
      " 41%|████      | 192/468 [02:33<03:36,  1.27it/s]"
     ]
    },
    {
     "name": "stdout",
     "output_type": "stream",
     "text": [
      "Epoch: 2 \tStep: 660 \tLoss: 0.0849 \tAcc: 0.96875\n"
     ]
    },
    {
     "name": "stderr",
     "output_type": "stream",
     "text": [
      " 43%|████▎     | 202/468 [02:41<03:30,  1.26it/s]"
     ]
    },
    {
     "name": "stdout",
     "output_type": "stream",
     "text": [
      "Epoch: 2 \tStep: 670 \tLoss: 0.0752 \tAcc: 0.9765625\n"
     ]
    },
    {
     "name": "stderr",
     "output_type": "stream",
     "text": [
      " 45%|████▌     | 212/468 [02:49<03:24,  1.25it/s]"
     ]
    },
    {
     "name": "stdout",
     "output_type": "stream",
     "text": [
      "Epoch: 2 \tStep: 680 \tLoss: 0.0367 \tAcc: 0.9921875\n"
     ]
    },
    {
     "name": "stderr",
     "output_type": "stream",
     "text": [
      " 47%|████▋     | 222/468 [02:57<03:14,  1.27it/s]"
     ]
    },
    {
     "name": "stdout",
     "output_type": "stream",
     "text": [
      "Epoch: 2 \tStep: 690 \tLoss: 0.0492 \tAcc: 0.9921875\n"
     ]
    },
    {
     "name": "stderr",
     "output_type": "stream",
     "text": [
      " 50%|████▉     | 232/468 [03:05<03:07,  1.26it/s]"
     ]
    },
    {
     "name": "stdout",
     "output_type": "stream",
     "text": [
      "Epoch: 2 \tStep: 700 \tLoss: 0.1523 \tAcc: 0.953125\n",
      "**********\n",
      "\tmodule.net.0.weight - grad_avg: -3.633659798651934e-05\n",
      "\tmodule.net.0.weight - param_avg: -0.000829174357932061\n",
      "\tmodule.net.0.bias - grad_avg: 5.628443250316195e-05\n",
      "\tmodule.net.0.bias - param_avg: -0.002821151167154312\n",
      "\tmodule.net.4.weight - grad_avg: 0.00011745703523047268\n",
      "\tmodule.net.4.weight - param_avg: -0.0006487930077128112\n",
      "\tmodule.net.4.bias - grad_avg: 1.8280052245245315e-05\n",
      "\tmodule.net.4.bias - param_avg: -0.00040638342034071684\n",
      "\tmodule.net.8.weight - grad_avg: 4.0858958527678624e-05\n",
      "\tmodule.net.8.weight - param_avg: 2.603147322588484e-06\n",
      "\tmodule.net.8.bias - grad_avg: 9.175563900498673e-05\n",
      "\tmodule.net.8.bias - param_avg: 4.4522719690576196e-05\n",
      "\tmodule.net.10.weight - grad_avg: 3.847178959404118e-06\n",
      "\tmodule.net.10.weight - param_avg: 4.441426062840037e-05\n",
      "\tmodule.net.10.bias - grad_avg: 7.21648902981542e-05\n",
      "\tmodule.net.10.bias - param_avg: 0.0004097706696484238\n",
      "\tmodule.net.12.weight - grad_avg: -6.120871148596052e-06\n",
      "\tmodule.net.12.weight - param_avg: 2.585548281786032e-05\n",
      "\tmodule.net.12.bias - grad_avg: -0.00015847338363528252\n",
      "\tmodule.net.12.bias - param_avg: 2.745709934970364e-05\n",
      "\tmodule.classifier.1.weight - grad_avg: 1.3702224066491908e-07\n",
      "\tmodule.classifier.1.weight - param_avg: 6.41025835648179e-05\n",
      "\tmodule.classifier.1.bias - grad_avg: 2.0545581719488837e-05\n",
      "\tmodule.classifier.1.bias - param_avg: 0.0031779943965375423\n",
      "\tmodule.classifier.4.weight - grad_avg: 2.27171241817814e-07\n",
      "\tmodule.classifier.4.weight - param_avg: 0.0004938797210343182\n",
      "\tmodule.classifier.4.bias - grad_avg: 2.0783545551239513e-07\n",
      "\tmodule.classifier.4.bias - param_avg: 0.0013388869119808078\n",
      "\tmodule.classifier.6.weight - grad_avg: -1.688022222001706e-10\n",
      "\tmodule.classifier.6.weight - param_avg: -0.0006196565227583051\n",
      "\tmodule.classifier.6.bias - grad_avg: -2.3283064365386963e-10\n",
      "\tmodule.classifier.6.bias - param_avg: 0.007438336964696646\n"
     ]
    },
    {
     "name": "stderr",
     "output_type": "stream",
     "text": [
      " 52%|█████▏    | 242/468 [03:13<02:57,  1.27it/s]"
     ]
    },
    {
     "name": "stdout",
     "output_type": "stream",
     "text": [
      "Epoch: 2 \tStep: 710 \tLoss: 0.1449 \tAcc: 0.9609375\n"
     ]
    },
    {
     "name": "stderr",
     "output_type": "stream",
     "text": [
      " 54%|█████▍    | 252/468 [03:21<02:52,  1.25it/s]"
     ]
    },
    {
     "name": "stdout",
     "output_type": "stream",
     "text": [
      "Epoch: 2 \tStep: 720 \tLoss: 0.0237 \tAcc: 0.9921875\n"
     ]
    },
    {
     "name": "stderr",
     "output_type": "stream",
     "text": [
      " 56%|█████▌    | 262/468 [03:29<02:43,  1.26it/s]"
     ]
    },
    {
     "name": "stdout",
     "output_type": "stream",
     "text": [
      "Epoch: 2 \tStep: 730 \tLoss: 0.0588 \tAcc: 0.984375\n"
     ]
    },
    {
     "name": "stderr",
     "output_type": "stream",
     "text": [
      " 58%|█████▊    | 272/468 [03:37<02:39,  1.23it/s]"
     ]
    },
    {
     "name": "stdout",
     "output_type": "stream",
     "text": [
      "Epoch: 2 \tStep: 740 \tLoss: 0.0330 \tAcc: 0.9921875\n"
     ]
    },
    {
     "name": "stderr",
     "output_type": "stream",
     "text": [
      " 60%|██████    | 282/468 [03:45<02:27,  1.26it/s]"
     ]
    },
    {
     "name": "stdout",
     "output_type": "stream",
     "text": [
      "Epoch: 2 \tStep: 750 \tLoss: 0.1634 \tAcc: 0.953125\n"
     ]
    },
    {
     "name": "stderr",
     "output_type": "stream",
     "text": [
      " 62%|██████▏   | 292/468 [03:53<02:19,  1.26it/s]"
     ]
    },
    {
     "name": "stdout",
     "output_type": "stream",
     "text": [
      "Epoch: 2 \tStep: 760 \tLoss: 0.0658 \tAcc: 0.984375\n"
     ]
    },
    {
     "name": "stderr",
     "output_type": "stream",
     "text": [
      " 65%|██████▍   | 302/468 [04:01<02:10,  1.27it/s]"
     ]
    },
    {
     "name": "stdout",
     "output_type": "stream",
     "text": [
      "Epoch: 2 \tStep: 770 \tLoss: 0.0855 \tAcc: 0.9765625\n"
     ]
    },
    {
     "name": "stderr",
     "output_type": "stream",
     "text": [
      " 67%|██████▋   | 312/468 [04:09<02:11,  1.19it/s]"
     ]
    },
    {
     "name": "stdout",
     "output_type": "stream",
     "text": [
      "Epoch: 2 \tStep: 780 \tLoss: 0.0939 \tAcc: 0.9609375\n"
     ]
    },
    {
     "name": "stderr",
     "output_type": "stream",
     "text": [
      " 69%|██████▉   | 322/468 [04:17<01:57,  1.24it/s]"
     ]
    },
    {
     "name": "stdout",
     "output_type": "stream",
     "text": [
      "Epoch: 2 \tStep: 790 \tLoss: 0.0479 \tAcc: 0.984375\n"
     ]
    },
    {
     "name": "stderr",
     "output_type": "stream",
     "text": [
      " 71%|███████   | 332/468 [04:25<01:48,  1.26it/s]"
     ]
    },
    {
     "name": "stdout",
     "output_type": "stream",
     "text": [
      "Epoch: 2 \tStep: 800 \tLoss: 0.1072 \tAcc: 0.96875\n",
      "**********\n",
      "\tmodule.net.0.weight - grad_avg: 0.0023482968099415302\n",
      "\tmodule.net.0.weight - param_avg: -0.0009649423882365227\n",
      "\tmodule.net.0.bias - grad_avg: 8.41747078084154e-06\n",
      "\tmodule.net.0.bias - param_avg: -0.0032501528039574623\n",
      "\tmodule.net.4.weight - grad_avg: -7.726140029262751e-05\n",
      "\tmodule.net.4.weight - param_avg: -0.0007159028318710625\n",
      "\tmodule.net.4.bias - grad_avg: -1.1618822099990211e-05\n",
      "\tmodule.net.4.bias - param_avg: -0.00048760659410618246\n",
      "\tmodule.net.8.weight - grad_avg: -1.759564838721417e-05\n",
      "\tmodule.net.8.weight - param_avg: -3.056957439184771e-06\n",
      "\tmodule.net.8.bias - grad_avg: -4.420752520672977e-05\n",
      "\tmodule.net.8.bias - param_avg: -6.990886959101772e-06\n",
      "\tmodule.net.10.weight - grad_avg: -9.703722753329203e-06\n",
      "\tmodule.net.10.weight - param_avg: 4.4666598114417866e-05\n",
      "\tmodule.net.10.bias - grad_avg: -0.00011163023737026379\n",
      "\tmodule.net.10.bias - param_avg: 0.00042529148049652576\n",
      "\tmodule.net.12.weight - grad_avg: -4.105279458599398e-06\n",
      "\tmodule.net.12.weight - param_avg: 2.580862565082498e-05\n",
      "\tmodule.net.12.bias - grad_avg: -0.00013653893256559968\n",
      "\tmodule.net.12.bias - param_avg: 2.5537876354064792e-05\n",
      "\tmodule.classifier.1.weight - grad_avg: -7.670504231782616e-08\n",
      "\tmodule.classifier.1.weight - param_avg: 6.240798393264413e-05\n",
      "\tmodule.classifier.1.bias - grad_avg: -7.1358690547640435e-06\n",
      "\tmodule.classifier.1.bias - param_avg: 0.003200434846803546\n",
      "\tmodule.classifier.4.weight - grad_avg: -1.251123421752709e-06\n",
      "\tmodule.classifier.4.weight - param_avg: 0.0004988163709640503\n",
      "\tmodule.classifier.4.bias - grad_avg: -1.4261759133660235e-05\n",
      "\tmodule.classifier.4.bias - param_avg: 0.00135440519079566\n",
      "\tmodule.classifier.6.weight - grad_avg: 5.122274271407434e-10\n",
      "\tmodule.classifier.6.weight - param_avg: -0.0006284969276748598\n",
      "\tmodule.classifier.6.bias - grad_avg: 1.90921123355281e-09\n",
      "\tmodule.classifier.6.bias - param_avg: 0.007449193857610226\n"
     ]
    },
    {
     "name": "stderr",
     "output_type": "stream",
     "text": [
      " 73%|███████▎  | 342/468 [04:33<01:40,  1.26it/s]"
     ]
    },
    {
     "name": "stdout",
     "output_type": "stream",
     "text": [
      "Epoch: 2 \tStep: 810 \tLoss: 0.1042 \tAcc: 0.9765625\n"
     ]
    },
    {
     "name": "stderr",
     "output_type": "stream",
     "text": [
      " 75%|███████▌  | 352/468 [04:41<01:31,  1.26it/s]"
     ]
    },
    {
     "name": "stdout",
     "output_type": "stream",
     "text": [
      "Epoch: 2 \tStep: 820 \tLoss: 0.0936 \tAcc: 0.96875\n"
     ]
    },
    {
     "name": "stderr",
     "output_type": "stream",
     "text": [
      " 77%|███████▋  | 362/468 [04:49<01:24,  1.26it/s]"
     ]
    },
    {
     "name": "stdout",
     "output_type": "stream",
     "text": [
      "Epoch: 2 \tStep: 830 \tLoss: 0.1449 \tAcc: 0.9609375\n"
     ]
    },
    {
     "name": "stderr",
     "output_type": "stream",
     "text": [
      " 79%|███████▉  | 372/468 [04:57<01:17,  1.24it/s]"
     ]
    },
    {
     "name": "stdout",
     "output_type": "stream",
     "text": [
      "Epoch: 2 \tStep: 840 \tLoss: 0.0615 \tAcc: 0.9921875\n"
     ]
    },
    {
     "name": "stderr",
     "output_type": "stream",
     "text": [
      " 82%|████████▏ | 382/468 [05:05<01:08,  1.26it/s]"
     ]
    },
    {
     "name": "stdout",
     "output_type": "stream",
     "text": [
      "Epoch: 2 \tStep: 850 \tLoss: 0.1008 \tAcc: 0.96875\n"
     ]
    },
    {
     "name": "stderr",
     "output_type": "stream",
     "text": [
      " 84%|████████▍ | 392/468 [05:13<01:01,  1.23it/s]"
     ]
    },
    {
     "name": "stdout",
     "output_type": "stream",
     "text": [
      "Epoch: 2 \tStep: 860 \tLoss: 0.0465 \tAcc: 0.984375\n"
     ]
    },
    {
     "name": "stderr",
     "output_type": "stream",
     "text": [
      " 86%|████████▌ | 402/468 [05:21<00:53,  1.24it/s]"
     ]
    },
    {
     "name": "stdout",
     "output_type": "stream",
     "text": [
      "Epoch: 2 \tStep: 870 \tLoss: 0.0670 \tAcc: 0.9765625\n"
     ]
    },
    {
     "name": "stderr",
     "output_type": "stream",
     "text": [
      " 88%|████████▊ | 412/468 [05:30<00:46,  1.20it/s]"
     ]
    },
    {
     "name": "stdout",
     "output_type": "stream",
     "text": [
      "Epoch: 2 \tStep: 880 \tLoss: 0.0433 \tAcc: 0.984375\n"
     ]
    },
    {
     "name": "stderr",
     "output_type": "stream",
     "text": [
      " 90%|█████████ | 422/468 [05:38<00:37,  1.23it/s]"
     ]
    },
    {
     "name": "stdout",
     "output_type": "stream",
     "text": [
      "Epoch: 2 \tStep: 890 \tLoss: 0.1896 \tAcc: 0.9375\n"
     ]
    },
    {
     "name": "stderr",
     "output_type": "stream",
     "text": [
      " 92%|█████████▏| 432/468 [05:46<00:29,  1.21it/s]"
     ]
    },
    {
     "name": "stdout",
     "output_type": "stream",
     "text": [
      "Epoch: 2 \tStep: 900 \tLoss: 0.1458 \tAcc: 0.9453125\n",
      "**********\n",
      "\tmodule.net.0.weight - grad_avg: -0.0013048280961811543\n",
      "\tmodule.net.0.weight - param_avg: -0.0010374287376180291\n",
      "\tmodule.net.0.bias - grad_avg: -1.5697589333285578e-05\n",
      "\tmodule.net.0.bias - param_avg: -0.0035103093832731247\n",
      "\tmodule.net.4.weight - grad_avg: 7.23226330592297e-05\n",
      "\tmodule.net.4.weight - param_avg: -0.0007672244682908058\n",
      "\tmodule.net.4.bias - grad_avg: 3.123456917819567e-05\n",
      "\tmodule.net.4.bias - param_avg: -0.0005428730510175228\n",
      "\tmodule.net.8.weight - grad_avg: -8.067021326496615e-07\n",
      "\tmodule.net.8.weight - param_avg: -5.392252205638215e-06\n",
      "\tmodule.net.8.bias - grad_avg: 1.2443825653463136e-05\n",
      "\tmodule.net.8.bias - param_avg: -1.279087518923916e-05\n",
      "\tmodule.net.10.weight - grad_avg: -8.271810656879097e-06\n",
      "\tmodule.net.10.weight - param_avg: 4.469159466680139e-05\n",
      "\tmodule.net.10.bias - grad_avg: -9.004564344650134e-05\n",
      "\tmodule.net.10.bias - param_avg: 0.0004313394892960787\n",
      "\tmodule.net.12.weight - grad_avg: 4.181839813099941e-06\n",
      "\tmodule.net.12.weight - param_avg: 2.583092646091245e-05\n",
      "\tmodule.net.12.bias - grad_avg: 0.00017872393073048443\n",
      "\tmodule.net.12.bias - param_avg: 2.64753180090338e-05\n",
      "\tmodule.classifier.1.weight - grad_avg: -1.3743420623768543e-08\n",
      "\tmodule.classifier.1.weight - param_avg: 6.149118416942656e-05\n",
      "\tmodule.classifier.1.bias - grad_avg: 5.0741837185341865e-05\n",
      "\tmodule.classifier.1.bias - param_avg: 0.003219359554350376\n",
      "\tmodule.classifier.4.weight - grad_avg: 9.207114999298938e-07\n",
      "\tmodule.classifier.4.weight - param_avg: 0.0004983756225556135\n",
      "\tmodule.classifier.4.bias - grad_avg: 1.4749740330444183e-05\n",
      "\tmodule.classifier.4.bias - param_avg: 0.0013626530999317765\n",
      "\tmodule.classifier.6.weight - grad_avg: 2.3283064365386963e-10\n",
      "\tmodule.classifier.6.weight - param_avg: -0.0006406150641851127\n",
      "\tmodule.classifier.6.bias - grad_avg: 1.396983917434369e-10\n",
      "\tmodule.classifier.6.bias - param_avg: 0.0074534108862280846\n"
     ]
    },
    {
     "name": "stderr",
     "output_type": "stream",
     "text": [
      " 94%|█████████▍| 442/468 [05:57<00:28,  1.11s/it]"
     ]
    },
    {
     "name": "stdout",
     "output_type": "stream",
     "text": [
      "Epoch: 2 \tStep: 910 \tLoss: 0.1696 \tAcc: 0.953125\n"
     ]
    },
    {
     "name": "stderr",
     "output_type": "stream",
     "text": [
      " 97%|█████████▋| 452/468 [06:08<00:16,  1.01s/it]"
     ]
    },
    {
     "name": "stdout",
     "output_type": "stream",
     "text": [
      "Epoch: 2 \tStep: 920 \tLoss: 0.0678 \tAcc: 0.9921875\n"
     ]
    },
    {
     "name": "stderr",
     "output_type": "stream",
     "text": [
      " 99%|█████████▊| 462/468 [06:17<00:05,  1.11it/s]"
     ]
    },
    {
     "name": "stdout",
     "output_type": "stream",
     "text": [
      "Epoch: 2 \tStep: 930 \tLoss: 0.0877 \tAcc: 0.96875\n"
     ]
    },
    {
     "name": "stderr",
     "output_type": "stream",
     "text": [
      "100%|██████████| 468/468 [06:23<00:00,  1.22it/s]\n"
     ]
    },
    {
     "name": "stdout",
     "output_type": "stream",
     "text": [
      "[0.9633413461538461, 0.9799679487179487] [0.96875, 0.96875] [tensor(0.1371), tensor(0.0578)] [0.06721928715705872, 0.08769530802965164]\n"
     ]
    },
    {
     "name": "stderr",
     "output_type": "stream",
     "text": [
      "  1%|          | 4/468 [00:05<08:42,  1.13s/it]"
     ]
    },
    {
     "name": "stdout",
     "output_type": "stream",
     "text": [
      "Epoch: 3 \tStep: 940 \tLoss: 0.0546 \tAcc: 0.9921875\n"
     ]
    },
    {
     "name": "stderr",
     "output_type": "stream",
     "text": [
      "  3%|▎         | 14/468 [00:13<06:14,  1.21it/s]"
     ]
    },
    {
     "name": "stdout",
     "output_type": "stream",
     "text": [
      "Epoch: 3 \tStep: 950 \tLoss: 0.0226 \tAcc: 0.9921875\n"
     ]
    },
    {
     "name": "stderr",
     "output_type": "stream",
     "text": [
      "  5%|▌         | 24/468 [00:21<06:00,  1.23it/s]"
     ]
    },
    {
     "name": "stdout",
     "output_type": "stream",
     "text": [
      "Epoch: 3 \tStep: 960 \tLoss: 0.0303 \tAcc: 0.9921875\n"
     ]
    },
    {
     "name": "stderr",
     "output_type": "stream",
     "text": [
      "  7%|▋         | 34/468 [00:30<06:00,  1.20it/s]"
     ]
    },
    {
     "name": "stdout",
     "output_type": "stream",
     "text": [
      "Epoch: 3 \tStep: 970 \tLoss: 0.0238 \tAcc: 0.9921875\n"
     ]
    },
    {
     "name": "stderr",
     "output_type": "stream",
     "text": [
      "  9%|▉         | 44/468 [00:39<06:05,  1.16it/s]"
     ]
    },
    {
     "name": "stdout",
     "output_type": "stream",
     "text": [
      "Epoch: 3 \tStep: 980 \tLoss: 0.0607 \tAcc: 0.984375\n"
     ]
    },
    {
     "name": "stderr",
     "output_type": "stream",
     "text": [
      " 12%|█▏        | 54/468 [00:47<05:46,  1.19it/s]"
     ]
    },
    {
     "name": "stdout",
     "output_type": "stream",
     "text": [
      "Epoch: 3 \tStep: 990 \tLoss: 0.0381 \tAcc: 0.984375\n"
     ]
    },
    {
     "name": "stderr",
     "output_type": "stream",
     "text": [
      " 14%|█▎        | 64/468 [00:57<06:57,  1.03s/it]"
     ]
    },
    {
     "name": "stdout",
     "output_type": "stream",
     "text": [
      "Epoch: 3 \tStep: 1000 \tLoss: 0.0828 \tAcc: 0.96875\n",
      "**********\n",
      "\tmodule.net.0.weight - grad_avg: -0.002928698668256402\n",
      "\tmodule.net.0.weight - param_avg: -0.0011243431363254786\n",
      "\tmodule.net.0.bias - grad_avg: -1.6574800611124374e-05\n",
      "\tmodule.net.0.bias - param_avg: -0.0037508495151996613\n",
      "\tmodule.net.4.weight - grad_avg: 7.14590132702142e-05\n",
      "\tmodule.net.4.weight - param_avg: -0.0007919808267615736\n",
      "\tmodule.net.4.bias - grad_avg: 1.5111698303371668e-05\n",
      "\tmodule.net.4.bias - param_avg: -0.0005644013872370124\n",
      "\tmodule.net.8.weight - grad_avg: 7.38055859983433e-06\n",
      "\tmodule.net.8.weight - param_avg: -5.2347527343954425e-06\n",
      "\tmodule.net.8.bias - grad_avg: 1.505580439697951e-05\n",
      "\tmodule.net.8.bias - param_avg: -1.6474368749186397e-06\n",
      "\tmodule.net.10.weight - grad_avg: -2.871481228794437e-06\n",
      "\tmodule.net.10.weight - param_avg: 4.479368726606481e-05\n",
      "\tmodule.net.10.bias - grad_avg: -4.9594662414165214e-05\n",
      "\tmodule.net.10.bias - param_avg: 0.0004419432661961764\n",
      "\tmodule.net.12.weight - grad_avg: 8.636427082819864e-06\n",
      "\tmodule.net.12.weight - param_avg: 2.5940522391465493e-05\n",
      "\tmodule.net.12.bias - grad_avg: 0.00034752459032461047\n",
      "\tmodule.net.12.bias - param_avg: 2.6710091333370656e-05\n",
      "\tmodule.classifier.1.weight - grad_avg: 2.1948425299456176e-08\n",
      "\tmodule.classifier.1.weight - param_avg: 6.10483402851969e-05\n",
      "\tmodule.classifier.1.bias - grad_avg: -3.2002378702600254e-06\n",
      "\tmodule.classifier.1.bias - param_avg: 0.0033230299595743418\n",
      "\tmodule.classifier.4.weight - grad_avg: -1.96217058601178e-07\n",
      "\tmodule.classifier.4.weight - param_avg: 0.0005176975391805172\n",
      "\tmodule.classifier.4.bias - grad_avg: -2.197741650888929e-06\n",
      "\tmodule.classifier.4.bias - param_avg: 0.0014229428488761187\n",
      "\tmodule.classifier.6.weight - grad_avg: 5.355104693016699e-10\n",
      "\tmodule.classifier.6.weight - param_avg: -0.0006632732693105936\n",
      "\tmodule.classifier.6.bias - grad_avg: 1.210719302591201e-09\n",
      "\tmodule.classifier.6.bias - param_avg: 0.007463144604116678\n"
     ]
    },
    {
     "name": "stderr",
     "output_type": "stream",
     "text": [
      " 16%|█▌        | 74/468 [01:06<05:17,  1.24it/s]"
     ]
    },
    {
     "name": "stdout",
     "output_type": "stream",
     "text": [
      "Epoch: 3 \tStep: 1010 \tLoss: 0.1150 \tAcc: 0.96875\n"
     ]
    },
    {
     "name": "stderr",
     "output_type": "stream",
     "text": [
      " 18%|█▊        | 84/468 [01:14<05:12,  1.23it/s]"
     ]
    },
    {
     "name": "stdout",
     "output_type": "stream",
     "text": [
      "Epoch: 3 \tStep: 1020 \tLoss: 0.0269 \tAcc: 0.9921875\n"
     ]
    },
    {
     "name": "stderr",
     "output_type": "stream",
     "text": [
      " 20%|██        | 94/468 [01:22<04:59,  1.25it/s]"
     ]
    },
    {
     "name": "stdout",
     "output_type": "stream",
     "text": [
      "Epoch: 3 \tStep: 1030 \tLoss: 0.0572 \tAcc: 0.96875\n"
     ]
    },
    {
     "name": "stderr",
     "output_type": "stream",
     "text": [
      " 22%|██▏       | 104/468 [01:30<04:51,  1.25it/s]"
     ]
    },
    {
     "name": "stdout",
     "output_type": "stream",
     "text": [
      "Epoch: 3 \tStep: 1040 \tLoss: 0.0716 \tAcc: 0.96875\n"
     ]
    },
    {
     "name": "stderr",
     "output_type": "stream",
     "text": [
      " 24%|██▍       | 114/468 [01:38<04:44,  1.25it/s]"
     ]
    },
    {
     "name": "stdout",
     "output_type": "stream",
     "text": [
      "Epoch: 3 \tStep: 1050 \tLoss: 0.0331 \tAcc: 0.9921875\n"
     ]
    },
    {
     "name": "stderr",
     "output_type": "stream",
     "text": [
      " 26%|██▋       | 124/468 [01:46<04:34,  1.25it/s]"
     ]
    },
    {
     "name": "stdout",
     "output_type": "stream",
     "text": [
      "Epoch: 3 \tStep: 1060 \tLoss: 0.0334 \tAcc: 0.9765625\n"
     ]
    },
    {
     "name": "stderr",
     "output_type": "stream",
     "text": [
      " 29%|██▊       | 134/468 [01:54<04:31,  1.23it/s]"
     ]
    },
    {
     "name": "stdout",
     "output_type": "stream",
     "text": [
      "Epoch: 3 \tStep: 1070 \tLoss: 0.0257 \tAcc: 0.9921875\n"
     ]
    },
    {
     "name": "stderr",
     "output_type": "stream",
     "text": [
      " 31%|███       | 144/468 [02:02<04:17,  1.26it/s]"
     ]
    },
    {
     "name": "stdout",
     "output_type": "stream",
     "text": [
      "Epoch: 3 \tStep: 1080 \tLoss: 0.0411 \tAcc: 0.984375\n"
     ]
    },
    {
     "name": "stderr",
     "output_type": "stream",
     "text": [
      " 33%|███▎      | 154/468 [02:10<04:10,  1.25it/s]"
     ]
    },
    {
     "name": "stdout",
     "output_type": "stream",
     "text": [
      "Epoch: 3 \tStep: 1090 \tLoss: 0.1181 \tAcc: 0.984375\n"
     ]
    },
    {
     "name": "stderr",
     "output_type": "stream",
     "text": [
      " 35%|███▌      | 164/468 [02:18<04:03,  1.25it/s]"
     ]
    },
    {
     "name": "stdout",
     "output_type": "stream",
     "text": [
      "Epoch: 3 \tStep: 1100 \tLoss: 0.0275 \tAcc: 0.9921875\n",
      "**********\n",
      "\tmodule.net.0.weight - grad_avg: -0.0008019000524654984\n",
      "\tmodule.net.0.weight - param_avg: -0.0012170019326731563\n",
      "\tmodule.net.0.bias - grad_avg: -2.1712141460739076e-05\n",
      "\tmodule.net.0.bias - param_avg: -0.004037025850266218\n",
      "\tmodule.net.4.weight - grad_avg: -6.713140919600846e-06\n",
      "\tmodule.net.4.weight - param_avg: -0.0008484756690450013\n",
      "\tmodule.net.4.bias - grad_avg: 1.8518544493417721e-06\n",
      "\tmodule.net.4.bias - param_avg: -0.0006437372649088502\n",
      "\tmodule.net.8.weight - grad_avg: -4.595028258336242e-06\n",
      "\tmodule.net.8.weight - param_avg: -9.230569048668258e-06\n",
      "\tmodule.net.8.bias - grad_avg: -8.70621715876041e-06\n",
      "\tmodule.net.8.bias - param_avg: -5.180963853490539e-05\n",
      "\tmodule.net.10.weight - grad_avg: -9.9883282018709e-06\n",
      "\tmodule.net.10.weight - param_avg: 4.393043855088763e-05\n",
      "\tmodule.net.10.bias - grad_avg: -0.0001338222500635311\n",
      "\tmodule.net.10.bias - param_avg: 0.0004206757294014096\n",
      "\tmodule.net.12.weight - grad_avg: -3.7001607324782526e-06\n",
      "\tmodule.net.12.weight - param_avg: 2.608300383144524e-05\n",
      "\tmodule.net.12.bias - grad_avg: -0.0001269823987968266\n",
      "\tmodule.net.12.bias - param_avg: 3.073486004723236e-05\n",
      "\tmodule.classifier.1.weight - grad_avg: 4.77961883404987e-08\n",
      "\tmodule.classifier.1.weight - param_avg: 6.010692595737055e-05\n",
      "\tmodule.classifier.1.bias - grad_avg: -3.180650310241617e-05\n",
      "\tmodule.classifier.1.bias - param_avg: 0.0032961065880954266\n",
      "\tmodule.classifier.4.weight - grad_avg: -5.240569862507982e-07\n",
      "\tmodule.classifier.4.weight - param_avg: 0.0005103363655507565\n",
      "\tmodule.classifier.4.bias - grad_avg: -6.511507763207192e-06\n",
      "\tmodule.classifier.4.bias - param_avg: 0.0014116624370217323\n",
      "\tmodule.classifier.6.weight - grad_avg: 1.1641532182693481e-10\n",
      "\tmodule.classifier.6.weight - param_avg: -0.0006637523765675724\n",
      "\tmodule.classifier.6.bias - grad_avg: 2.561137135703717e-10\n",
      "\tmodule.classifier.6.bias - param_avg: 0.007464227266609669\n"
     ]
    },
    {
     "name": "stderr",
     "output_type": "stream",
     "text": [
      " 37%|███▋      | 174/468 [02:26<03:54,  1.26it/s]"
     ]
    },
    {
     "name": "stdout",
     "output_type": "stream",
     "text": [
      "Epoch: 3 \tStep: 1110 \tLoss: 0.0252 \tAcc: 0.984375\n"
     ]
    },
    {
     "name": "stderr",
     "output_type": "stream",
     "text": [
      " 39%|███▉      | 184/468 [02:34<03:44,  1.26it/s]"
     ]
    },
    {
     "name": "stdout",
     "output_type": "stream",
     "text": [
      "Epoch: 3 \tStep: 1120 \tLoss: 0.0236 \tAcc: 1.0\n"
     ]
    },
    {
     "name": "stderr",
     "output_type": "stream",
     "text": [
      " 41%|████▏     | 194/468 [02:42<03:37,  1.26it/s]"
     ]
    },
    {
     "name": "stdout",
     "output_type": "stream",
     "text": [
      "Epoch: 3 \tStep: 1130 \tLoss: 0.0469 \tAcc: 0.984375\n"
     ]
    },
    {
     "name": "stderr",
     "output_type": "stream",
     "text": [
      " 44%|████▎     | 204/468 [02:50<03:32,  1.24it/s]"
     ]
    },
    {
     "name": "stdout",
     "output_type": "stream",
     "text": [
      "Epoch: 3 \tStep: 1140 \tLoss: 0.0128 \tAcc: 1.0\n"
     ]
    },
    {
     "name": "stderr",
     "output_type": "stream",
     "text": [
      " 46%|████▌     | 214/468 [02:58<03:20,  1.27it/s]"
     ]
    },
    {
     "name": "stdout",
     "output_type": "stream",
     "text": [
      "Epoch: 3 \tStep: 1150 \tLoss: 0.0581 \tAcc: 0.984375\n"
     ]
    },
    {
     "name": "stderr",
     "output_type": "stream",
     "text": [
      " 48%|████▊     | 224/468 [03:06<03:18,  1.23it/s]"
     ]
    },
    {
     "name": "stdout",
     "output_type": "stream",
     "text": [
      "Epoch: 3 \tStep: 1160 \tLoss: 0.0377 \tAcc: 0.984375\n"
     ]
    },
    {
     "name": "stderr",
     "output_type": "stream",
     "text": [
      " 50%|█████     | 234/468 [03:14<03:05,  1.26it/s]"
     ]
    },
    {
     "name": "stdout",
     "output_type": "stream",
     "text": [
      "Epoch: 3 \tStep: 1170 \tLoss: 0.0527 \tAcc: 0.984375\n"
     ]
    },
    {
     "name": "stderr",
     "output_type": "stream",
     "text": [
      " 52%|█████▏    | 244/468 [03:22<02:59,  1.25it/s]"
     ]
    },
    {
     "name": "stdout",
     "output_type": "stream",
     "text": [
      "Epoch: 3 \tStep: 1180 \tLoss: 0.0610 \tAcc: 0.96875\n"
     ]
    },
    {
     "name": "stderr",
     "output_type": "stream",
     "text": [
      " 54%|█████▍    | 254/468 [03:30<02:52,  1.24it/s]"
     ]
    },
    {
     "name": "stdout",
     "output_type": "stream",
     "text": [
      "Epoch: 3 \tStep: 1190 \tLoss: 0.0277 \tAcc: 0.9921875\n"
     ]
    },
    {
     "name": "stderr",
     "output_type": "stream",
     "text": [
      " 56%|█████▋    | 264/468 [03:38<02:43,  1.25it/s]"
     ]
    },
    {
     "name": "stdout",
     "output_type": "stream",
     "text": [
      "Epoch: 3 \tStep: 1200 \tLoss: 0.0566 \tAcc: 0.984375\n",
      "**********\n",
      "\tmodule.net.0.weight - grad_avg: -0.0005132768419571221\n",
      "\tmodule.net.0.weight - param_avg: -0.001316003268584609\n",
      "\tmodule.net.0.bias - grad_avg: -4.763766992255114e-05\n",
      "\tmodule.net.0.bias - param_avg: -0.004344590473920107\n",
      "\tmodule.net.4.weight - grad_avg: -9.539616439724341e-05\n",
      "\tmodule.net.4.weight - param_avg: -0.0008850862504914403\n",
      "\tmodule.net.4.bias - grad_avg: -1.7686876162770204e-05\n",
      "\tmodule.net.4.bias - param_avg: -0.0006913488614372909\n",
      "\tmodule.net.8.weight - grad_avg: -2.2626925783697516e-05\n",
      "\tmodule.net.8.weight - param_avg: -1.3373769434110727e-05\n",
      "\tmodule.net.8.bias - grad_avg: -6.59303113934584e-05\n",
      "\tmodule.net.8.bias - param_avg: -8.347267430508509e-05\n",
      "\tmodule.net.10.weight - grad_avg: -1.265584614884574e-06\n",
      "\tmodule.net.10.weight - param_avg: 4.4219690607860684e-05\n",
      "\tmodule.net.10.bias - grad_avg: -5.106425305712037e-05\n",
      "\tmodule.net.10.bias - param_avg: 0.00043146140524186194\n",
      "\tmodule.net.12.weight - grad_avg: 5.5491842232413546e-08\n",
      "\tmodule.net.12.weight - param_avg: 2.6016670744866133e-05\n",
      "\tmodule.net.12.bias - grad_avg: -5.036694346927106e-06\n",
      "\tmodule.net.12.bias - param_avg: 2.602115273475647e-05\n",
      "\tmodule.classifier.1.weight - grad_avg: 1.870048720320483e-07\n",
      "\tmodule.classifier.1.weight - param_avg: 5.9631511248881e-05\n",
      "\tmodule.classifier.1.bias - grad_avg: -1.534473994979635e-05\n",
      "\tmodule.classifier.1.bias - param_avg: 0.003339822171255946\n",
      "\tmodule.classifier.4.weight - grad_avg: -3.341927481415041e-07\n",
      "\tmodule.classifier.4.weight - param_avg: 0.0005195371340960264\n",
      "\tmodule.classifier.4.bias - grad_avg: -7.701976755924989e-06\n",
      "\tmodule.classifier.4.bias - param_avg: 0.001437261002138257\n",
      "\tmodule.classifier.6.weight - grad_avg: 3.958121053138086e-10\n",
      "\tmodule.classifier.6.weight - param_avg: -0.0006991418194957078\n",
      "\tmodule.classifier.6.bias - grad_avg: 1.23400245577443e-09\n",
      "\tmodule.classifier.6.bias - param_avg: 0.007466824259608984\n"
     ]
    },
    {
     "name": "stderr",
     "output_type": "stream",
     "text": [
      " 59%|█████▊    | 274/468 [03:47<02:34,  1.25it/s]"
     ]
    },
    {
     "name": "stdout",
     "output_type": "stream",
     "text": [
      "Epoch: 3 \tStep: 1210 \tLoss: 0.0219 \tAcc: 0.9921875\n"
     ]
    },
    {
     "name": "stderr",
     "output_type": "stream",
     "text": [
      " 61%|██████    | 284/468 [03:55<02:25,  1.26it/s]"
     ]
    },
    {
     "name": "stdout",
     "output_type": "stream",
     "text": [
      "Epoch: 3 \tStep: 1220 \tLoss: 0.0079 \tAcc: 1.0\n"
     ]
    },
    {
     "name": "stderr",
     "output_type": "stream",
     "text": [
      " 63%|██████▎   | 294/468 [04:03<02:19,  1.24it/s]"
     ]
    },
    {
     "name": "stdout",
     "output_type": "stream",
     "text": [
      "Epoch: 3 \tStep: 1230 \tLoss: 0.0272 \tAcc: 0.984375\n"
     ]
    },
    {
     "name": "stderr",
     "output_type": "stream",
     "text": [
      " 65%|██████▍   | 304/468 [04:11<02:10,  1.26it/s]"
     ]
    },
    {
     "name": "stdout",
     "output_type": "stream",
     "text": [
      "Epoch: 3 \tStep: 1240 \tLoss: 0.0070 \tAcc: 1.0\n"
     ]
    },
    {
     "name": "stderr",
     "output_type": "stream",
     "text": [
      " 67%|██████▋   | 314/468 [04:19<02:04,  1.24it/s]"
     ]
    },
    {
     "name": "stdout",
     "output_type": "stream",
     "text": [
      "Epoch: 3 \tStep: 1250 \tLoss: 0.0372 \tAcc: 0.9921875\n"
     ]
    },
    {
     "name": "stderr",
     "output_type": "stream",
     "text": [
      " 69%|██████▉   | 324/468 [04:27<01:55,  1.25it/s]"
     ]
    },
    {
     "name": "stdout",
     "output_type": "stream",
     "text": [
      "Epoch: 3 \tStep: 1260 \tLoss: 0.0972 \tAcc: 0.9453125\n"
     ]
    },
    {
     "name": "stderr",
     "output_type": "stream",
     "text": [
      " 71%|███████▏  | 334/468 [04:36<01:54,  1.17it/s]"
     ]
    },
    {
     "name": "stdout",
     "output_type": "stream",
     "text": [
      "Epoch: 3 \tStep: 1270 \tLoss: 0.0053 \tAcc: 1.0\n"
     ]
    },
    {
     "name": "stderr",
     "output_type": "stream",
     "text": [
      " 74%|███████▎  | 344/468 [04:44<01:38,  1.26it/s]"
     ]
    },
    {
     "name": "stdout",
     "output_type": "stream",
     "text": [
      "Epoch: 3 \tStep: 1280 \tLoss: 0.1044 \tAcc: 0.9765625\n"
     ]
    },
    {
     "name": "stderr",
     "output_type": "stream",
     "text": [
      " 76%|███████▌  | 354/468 [04:52<01:29,  1.27it/s]"
     ]
    },
    {
     "name": "stdout",
     "output_type": "stream",
     "text": [
      "Epoch: 3 \tStep: 1290 \tLoss: 0.0142 \tAcc: 0.9921875\n"
     ]
    },
    {
     "name": "stderr",
     "output_type": "stream",
     "text": [
      " 78%|███████▊  | 364/468 [05:00<01:21,  1.27it/s]"
     ]
    },
    {
     "name": "stdout",
     "output_type": "stream",
     "text": [
      "Epoch: 3 \tStep: 1300 \tLoss: 0.0220 \tAcc: 0.984375\n",
      "**********\n",
      "\tmodule.net.0.weight - grad_avg: -0.002696487819775939\n",
      "\tmodule.net.0.weight - param_avg: -0.0013601579703390598\n",
      "\tmodule.net.0.bias - grad_avg: -2.8157914130133577e-05\n",
      "\tmodule.net.0.bias - param_avg: -0.004516343120485544\n",
      "\tmodule.net.4.weight - grad_avg: -3.884001853293739e-05\n",
      "\tmodule.net.4.weight - param_avg: -0.000925728993024677\n",
      "\tmodule.net.4.bias - grad_avg: -9.479496839048807e-06\n",
      "\tmodule.net.4.bias - param_avg: -0.0007393144187517464\n",
      "\tmodule.net.8.weight - grad_avg: -1.9593593606259674e-05\n",
      "\tmodule.net.8.weight - param_avg: -1.713272649794817e-05\n",
      "\tmodule.net.8.bias - grad_avg: -5.713103382731788e-05\n",
      "\tmodule.net.8.bias - param_avg: -0.00012378423707559705\n",
      "\tmodule.net.10.weight - grad_avg: -1.4011483472131658e-05\n",
      "\tmodule.net.10.weight - param_avg: 4.454794543562457e-05\n",
      "\tmodule.net.10.bias - grad_avg: -0.0002215973217971623\n",
      "\tmodule.net.10.bias - param_avg: 0.00043502403423190117\n",
      "\tmodule.net.12.weight - grad_avg: -1.9775789041887037e-06\n",
      "\tmodule.net.12.weight - param_avg: 2.6104122298420407e-05\n",
      "\tmodule.net.12.bias - grad_avg: -9.105646313400939e-05\n",
      "\tmodule.net.12.bias - param_avg: 2.9373739380389452e-05\n",
      "\tmodule.classifier.1.weight - grad_avg: -4.399506892127647e-08\n",
      "\tmodule.classifier.1.weight - param_avg: 6.076964200474322e-05\n",
      "\tmodule.classifier.1.bias - grad_avg: -9.699767360871192e-06\n",
      "\tmodule.classifier.1.bias - param_avg: 0.003334435634315014\n",
      "\tmodule.classifier.4.weight - grad_avg: -6.548257402982927e-08\n",
      "\tmodule.classifier.4.weight - param_avg: 0.0005219841841608286\n",
      "\tmodule.classifier.4.bias - grad_avg: 1.4264574019762222e-06\n",
      "\tmodule.classifier.4.bias - param_avg: 0.0014433622127398849\n",
      "\tmodule.classifier.6.weight - grad_avg: 6.984919587171845e-11\n",
      "\tmodule.classifier.6.weight - param_avg: -0.0006994522991590202\n",
      "\tmodule.classifier.6.bias - grad_avg: -6.402842839259293e-11\n",
      "\tmodule.classifier.6.bias - param_avg: 0.007472372148185968\n"
     ]
    },
    {
     "name": "stderr",
     "output_type": "stream",
     "text": [
      " 80%|███████▉  | 374/468 [05:08<01:13,  1.28it/s]"
     ]
    },
    {
     "name": "stdout",
     "output_type": "stream",
     "text": [
      "Epoch: 3 \tStep: 1310 \tLoss: 0.0531 \tAcc: 0.984375\n"
     ]
    },
    {
     "name": "stderr",
     "output_type": "stream",
     "text": [
      " 82%|████████▏ | 384/468 [05:16<01:08,  1.22it/s]"
     ]
    },
    {
     "name": "stdout",
     "output_type": "stream",
     "text": [
      "Epoch: 3 \tStep: 1320 \tLoss: 0.0239 \tAcc: 0.9921875\n"
     ]
    },
    {
     "name": "stderr",
     "output_type": "stream",
     "text": [
      " 84%|████████▍ | 394/468 [05:24<01:01,  1.20it/s]"
     ]
    },
    {
     "name": "stdout",
     "output_type": "stream",
     "text": [
      "Epoch: 3 \tStep: 1330 \tLoss: 0.0434 \tAcc: 0.984375\n"
     ]
    },
    {
     "name": "stderr",
     "output_type": "stream",
     "text": [
      " 86%|████████▋ | 404/468 [05:33<00:52,  1.22it/s]"
     ]
    },
    {
     "name": "stdout",
     "output_type": "stream",
     "text": [
      "Epoch: 3 \tStep: 1340 \tLoss: 0.0508 \tAcc: 0.9765625\n"
     ]
    },
    {
     "name": "stderr",
     "output_type": "stream",
     "text": [
      " 88%|████████▊ | 414/468 [05:41<00:43,  1.25it/s]"
     ]
    },
    {
     "name": "stdout",
     "output_type": "stream",
     "text": [
      "Epoch: 3 \tStep: 1350 \tLoss: 0.0066 \tAcc: 1.0\n"
     ]
    },
    {
     "name": "stderr",
     "output_type": "stream",
     "text": [
      " 91%|█████████ | 424/468 [05:49<00:35,  1.25it/s]"
     ]
    },
    {
     "name": "stdout",
     "output_type": "stream",
     "text": [
      "Epoch: 3 \tStep: 1360 \tLoss: 0.1085 \tAcc: 0.96875\n"
     ]
    },
    {
     "name": "stderr",
     "output_type": "stream",
     "text": [
      " 93%|█████████▎| 434/468 [05:57<00:27,  1.25it/s]"
     ]
    },
    {
     "name": "stdout",
     "output_type": "stream",
     "text": [
      "Epoch: 3 \tStep: 1370 \tLoss: 0.0355 \tAcc: 0.984375\n"
     ]
    },
    {
     "name": "stderr",
     "output_type": "stream",
     "text": [
      " 95%|█████████▍| 444/468 [06:05<00:19,  1.24it/s]"
     ]
    },
    {
     "name": "stdout",
     "output_type": "stream",
     "text": [
      "Epoch: 3 \tStep: 1380 \tLoss: 0.1079 \tAcc: 0.953125\n"
     ]
    },
    {
     "name": "stderr",
     "output_type": "stream",
     "text": [
      " 97%|█████████▋| 454/468 [06:13<00:11,  1.22it/s]"
     ]
    },
    {
     "name": "stdout",
     "output_type": "stream",
     "text": [
      "Epoch: 3 \tStep: 1390 \tLoss: 0.0206 \tAcc: 1.0\n"
     ]
    },
    {
     "name": "stderr",
     "output_type": "stream",
     "text": [
      " 99%|█████████▉| 464/468 [06:21<00:03,  1.21it/s]"
     ]
    },
    {
     "name": "stdout",
     "output_type": "stream",
     "text": [
      "Epoch: 3 \tStep: 1400 \tLoss: 0.0525 \tAcc: 0.984375\n",
      "**********\n",
      "\tmodule.net.0.weight - grad_avg: 0.002338380552828312\n",
      "\tmodule.net.0.weight - param_avg: -0.0014100219123065472\n",
      "\tmodule.net.0.bias - grad_avg: 5.355500979931094e-05\n",
      "\tmodule.net.0.bias - param_avg: -0.004817723762243986\n",
      "\tmodule.net.4.weight - grad_avg: 2.044886969088111e-05\n",
      "\tmodule.net.4.weight - param_avg: -0.0009621834615245461\n",
      "\tmodule.net.4.bias - grad_avg: 3.971927071688697e-06\n",
      "\tmodule.net.4.bias - param_avg: -0.0007862921920605004\n",
      "\tmodule.net.8.weight - grad_avg: 1.6345955373253673e-05\n",
      "\tmodule.net.8.weight - param_avg: -1.9315348254167475e-05\n",
      "\tmodule.net.8.bias - grad_avg: 4.459062256501056e-05\n",
      "\tmodule.net.8.bias - param_avg: -0.0001357951114187017\n",
      "\tmodule.net.10.weight - grad_avg: 1.956244588541267e-08\n",
      "\tmodule.net.10.weight - param_avg: 4.318604987929575e-05\n",
      "\tmodule.net.10.bias - grad_avg: -1.2134623830206692e-06\n",
      "\tmodule.net.10.bias - param_avg: 0.00042129959911108017\n",
      "\tmodule.net.12.weight - grad_avg: -8.094505687950004e-07\n",
      "\tmodule.net.12.weight - param_avg: 2.6150499252253212e-05\n",
      "\tmodule.net.12.bias - grad_avg: -4.233526124153286e-05\n",
      "\tmodule.net.12.bias - param_avg: 2.7971866074949503e-05\n",
      "\tmodule.classifier.1.weight - grad_avg: 3.891987887527648e-08\n",
      "\tmodule.classifier.1.weight - param_avg: 6.03602675255388e-05\n",
      "\tmodule.classifier.1.bias - grad_avg: -1.4353236110764556e-05\n",
      "\tmodule.classifier.1.bias - param_avg: 0.0033666014205664396\n",
      "\tmodule.classifier.4.weight - grad_avg: -1.2797863746527582e-07\n",
      "\tmodule.classifier.4.weight - param_avg: 0.0005188130307942629\n",
      "\tmodule.classifier.4.bias - grad_avg: -2.2663321033178363e-06\n",
      "\tmodule.classifier.4.bias - param_avg: 0.0014637254644185305\n",
      "\tmodule.classifier.6.weight - grad_avg: 9.313225884932663e-11\n",
      "\tmodule.classifier.6.weight - param_avg: -0.000724485726095736\n",
      "\tmodule.classifier.6.bias - grad_avg: 2.3283064365386963e-10\n",
      "\tmodule.classifier.6.bias - param_avg: 0.007475398480892181\n"
     ]
    },
    {
     "name": "stderr",
     "output_type": "stream",
     "text": [
      "100%|██████████| 468/468 [06:25<00:00,  1.21it/s]\n"
     ]
    },
    {
     "name": "stdout",
     "output_type": "stream",
     "text": [
      "[0.9633413461538461, 0.9799679487179487, 0.9800681089743589] [0.96875, 0.96875, 0.984375] [tensor(0.1371), tensor(0.0578), tensor(0.1151)] [0.06721928715705872, 0.08769530802965164, 0.052476316690444946]\n"
     ]
    },
    {
     "name": "stderr",
     "output_type": "stream",
     "text": [
      "  1%|▏         | 6/468 [00:06<07:03,  1.09it/s]"
     ]
    },
    {
     "name": "stdout",
     "output_type": "stream",
     "text": [
      "Epoch: 4 \tStep: 1410 \tLoss: 0.0268 \tAcc: 0.9921875\n"
     ]
    },
    {
     "name": "stderr",
     "output_type": "stream",
     "text": [
      "  3%|▎         | 16/468 [00:15<06:19,  1.19it/s]"
     ]
    },
    {
     "name": "stdout",
     "output_type": "stream",
     "text": [
      "Epoch: 4 \tStep: 1420 \tLoss: 0.0579 \tAcc: 0.9765625\n"
     ]
    },
    {
     "name": "stderr",
     "output_type": "stream",
     "text": [
      "  6%|▌         | 26/468 [00:23<05:58,  1.23it/s]"
     ]
    },
    {
     "name": "stdout",
     "output_type": "stream",
     "text": [
      "Epoch: 4 \tStep: 1430 \tLoss: 0.0732 \tAcc: 0.984375\n"
     ]
    },
    {
     "name": "stderr",
     "output_type": "stream",
     "text": [
      "  8%|▊         | 36/468 [00:31<05:58,  1.21it/s]"
     ]
    },
    {
     "name": "stdout",
     "output_type": "stream",
     "text": [
      "Epoch: 4 \tStep: 1440 \tLoss: 0.1337 \tAcc: 0.9765625\n"
     ]
    },
    {
     "name": "stderr",
     "output_type": "stream",
     "text": [
      " 10%|▉         | 46/468 [00:39<05:41,  1.24it/s]"
     ]
    },
    {
     "name": "stdout",
     "output_type": "stream",
     "text": [
      "Epoch: 4 \tStep: 1450 \tLoss: 0.0420 \tAcc: 0.9921875\n"
     ]
    },
    {
     "name": "stderr",
     "output_type": "stream",
     "text": [
      " 12%|█▏        | 56/468 [00:47<05:32,  1.24it/s]"
     ]
    },
    {
     "name": "stdout",
     "output_type": "stream",
     "text": [
      "Epoch: 4 \tStep: 1460 \tLoss: 0.0540 \tAcc: 0.9765625\n"
     ]
    },
    {
     "name": "stderr",
     "output_type": "stream",
     "text": [
      " 14%|█▍        | 66/468 [00:55<05:23,  1.24it/s]"
     ]
    },
    {
     "name": "stdout",
     "output_type": "stream",
     "text": [
      "Epoch: 4 \tStep: 1470 \tLoss: 0.0171 \tAcc: 0.9921875\n"
     ]
    },
    {
     "name": "stderr",
     "output_type": "stream",
     "text": [
      " 16%|█▌        | 76/468 [01:03<05:15,  1.24it/s]"
     ]
    },
    {
     "name": "stdout",
     "output_type": "stream",
     "text": [
      "Epoch: 4 \tStep: 1480 \tLoss: 0.0103 \tAcc: 1.0\n"
     ]
    },
    {
     "name": "stderr",
     "output_type": "stream",
     "text": [
      " 18%|█▊        | 86/468 [01:12<05:27,  1.17it/s]"
     ]
    },
    {
     "name": "stdout",
     "output_type": "stream",
     "text": [
      "Epoch: 4 \tStep: 1490 \tLoss: 0.0219 \tAcc: 0.984375\n"
     ]
    },
    {
     "name": "stderr",
     "output_type": "stream",
     "text": [
      " 21%|██        | 96/468 [01:20<05:06,  1.21it/s]"
     ]
    },
    {
     "name": "stdout",
     "output_type": "stream",
     "text": [
      "Epoch: 4 \tStep: 1500 \tLoss: 0.0207 \tAcc: 1.0\n",
      "**********\n",
      "\tmodule.net.0.weight - grad_avg: 0.00034135839086957276\n",
      "\tmodule.net.0.weight - param_avg: -0.0014914075145497918\n",
      "\tmodule.net.0.bias - grad_avg: -3.5999419196741655e-06\n",
      "\tmodule.net.0.bias - param_avg: -0.0050948141142725945\n",
      "\tmodule.net.4.weight - grad_avg: -3.222020313842222e-05\n",
      "\tmodule.net.4.weight - param_avg: -0.0009829920018091798\n",
      "\tmodule.net.4.bias - grad_avg: -7.968887985043693e-06\n",
      "\tmodule.net.4.bias - param_avg: -0.0008031050092540681\n",
      "\tmodule.net.8.weight - grad_avg: -6.714275059493957e-06\n",
      "\tmodule.net.8.weight - param_avg: -2.2446107323048636e-05\n",
      "\tmodule.net.8.bias - grad_avg: -2.3858321583247744e-05\n",
      "\tmodule.net.8.bias - param_avg: -0.0001553765614517033\n",
      "\tmodule.net.10.weight - grad_avg: -5.084351869300008e-06\n",
      "\tmodule.net.10.weight - param_avg: 4.2920040868921205e-05\n",
      "\tmodule.net.10.bias - grad_avg: -8.447043364867568e-05\n",
      "\tmodule.net.10.bias - param_avg: 0.0004291974473744631\n",
      "\tmodule.net.12.weight - grad_avg: -1.420352191416896e-06\n",
      "\tmodule.net.12.weight - param_avg: 2.6204288587905467e-05\n",
      "\tmodule.net.12.bias - grad_avg: -6.75550545565784e-05\n",
      "\tmodule.net.12.bias - param_avg: 2.86497815977782e-05\n",
      "\tmodule.classifier.1.weight - grad_avg: 7.826560732837606e-08\n",
      "\tmodule.classifier.1.weight - param_avg: 6.0004156694049016e-05\n",
      "\tmodule.classifier.1.bias - grad_avg: -5.0261976866750047e-05\n",
      "\tmodule.classifier.1.bias - param_avg: 0.0034407335333526134\n",
      "\tmodule.classifier.4.weight - grad_avg: -7.821784038242185e-07\n",
      "\tmodule.classifier.4.weight - param_avg: 0.0005248707602731884\n",
      "\tmodule.classifier.4.bias - grad_avg: -1.2177844837424345e-05\n",
      "\tmodule.classifier.4.bias - param_avg: 0.0015040314756333828\n",
      "\tmodule.classifier.6.weight - grad_avg: -1.1641532356165829e-11\n",
      "\tmodule.classifier.6.weight - param_avg: -0.0007506528636440635\n",
      "\tmodule.classifier.6.bias - grad_avg: 1.1059455434780929e-10\n",
      "\tmodule.classifier.6.bias - param_avg: 0.0074881031177937984\n"
     ]
    },
    {
     "name": "stderr",
     "output_type": "stream",
     "text": [
      " 23%|██▎       | 106/468 [01:28<04:52,  1.24it/s]"
     ]
    },
    {
     "name": "stdout",
     "output_type": "stream",
     "text": [
      "Epoch: 4 \tStep: 1510 \tLoss: 0.0461 \tAcc: 0.9765625\n"
     ]
    },
    {
     "name": "stderr",
     "output_type": "stream",
     "text": [
      " 25%|██▍       | 116/468 [01:36<04:43,  1.24it/s]"
     ]
    },
    {
     "name": "stdout",
     "output_type": "stream",
     "text": [
      "Epoch: 4 \tStep: 1520 \tLoss: 0.1276 \tAcc: 0.9609375\n"
     ]
    },
    {
     "name": "stderr",
     "output_type": "stream",
     "text": [
      " 27%|██▋       | 126/468 [01:44<04:35,  1.24it/s]"
     ]
    },
    {
     "name": "stdout",
     "output_type": "stream",
     "text": [
      "Epoch: 4 \tStep: 1530 \tLoss: 0.0057 \tAcc: 1.0\n"
     ]
    },
    {
     "name": "stderr",
     "output_type": "stream",
     "text": [
      " 29%|██▉       | 136/468 [01:52<04:27,  1.24it/s]"
     ]
    },
    {
     "name": "stdout",
     "output_type": "stream",
     "text": [
      "Epoch: 4 \tStep: 1540 \tLoss: 0.0426 \tAcc: 0.9921875\n"
     ]
    },
    {
     "name": "stderr",
     "output_type": "stream",
     "text": [
      " 31%|███       | 146/468 [02:00<04:18,  1.24it/s]"
     ]
    },
    {
     "name": "stdout",
     "output_type": "stream",
     "text": [
      "Epoch: 4 \tStep: 1550 \tLoss: 0.0304 \tAcc: 0.984375\n"
     ]
    },
    {
     "name": "stderr",
     "output_type": "stream",
     "text": [
      " 33%|███▎      | 156/468 [02:09<04:12,  1.24it/s]"
     ]
    },
    {
     "name": "stdout",
     "output_type": "stream",
     "text": [
      "Epoch: 4 \tStep: 1560 \tLoss: 0.0613 \tAcc: 0.984375\n"
     ]
    },
    {
     "name": "stderr",
     "output_type": "stream",
     "text": [
      " 35%|███▌      | 166/468 [02:17<04:07,  1.22it/s]"
     ]
    },
    {
     "name": "stdout",
     "output_type": "stream",
     "text": [
      "Epoch: 4 \tStep: 1570 \tLoss: 0.0571 \tAcc: 0.9765625\n"
     ]
    },
    {
     "name": "stderr",
     "output_type": "stream",
     "text": [
      " 38%|███▊      | 176/468 [02:25<04:05,  1.19it/s]"
     ]
    },
    {
     "name": "stdout",
     "output_type": "stream",
     "text": [
      "Epoch: 4 \tStep: 1580 \tLoss: 0.0084 \tAcc: 1.0\n"
     ]
    },
    {
     "name": "stderr",
     "output_type": "stream",
     "text": [
      " 40%|███▉      | 186/468 [02:33<03:48,  1.23it/s]"
     ]
    },
    {
     "name": "stdout",
     "output_type": "stream",
     "text": [
      "Epoch: 4 \tStep: 1590 \tLoss: 0.1014 \tAcc: 0.96875\n"
     ]
    },
    {
     "name": "stderr",
     "output_type": "stream",
     "text": [
      " 42%|████▏     | 196/468 [02:41<03:40,  1.24it/s]"
     ]
    },
    {
     "name": "stdout",
     "output_type": "stream",
     "text": [
      "Epoch: 4 \tStep: 1600 \tLoss: 0.0161 \tAcc: 0.9921875\n",
      "**********\n",
      "\tmodule.net.0.weight - grad_avg: -0.0004016533202957362\n",
      "\tmodule.net.0.weight - param_avg: -0.001535107265226543\n",
      "\tmodule.net.0.bias - grad_avg: 3.891444066539407e-06\n",
      "\tmodule.net.0.bias - param_avg: -0.005313585978001356\n",
      "\tmodule.net.4.weight - grad_avg: -7.864891813369468e-06\n",
      "\tmodule.net.4.weight - param_avg: -0.0010119563667103648\n",
      "\tmodule.net.4.bias - grad_avg: -3.4038207559206057e-06\n",
      "\tmodule.net.4.bias - param_avg: -0.0008263618219643831\n",
      "\tmodule.net.8.weight - grad_avg: -6.1349683164735325e-06\n",
      "\tmodule.net.8.weight - param_avg: -2.370661786699202e-05\n",
      "\tmodule.net.8.bias - grad_avg: -2.1934989490546286e-05\n",
      "\tmodule.net.8.bias - param_avg: -0.00015388433530461043\n",
      "\tmodule.net.10.weight - grad_avg: -4.390050435176818e-06\n",
      "\tmodule.net.10.weight - param_avg: 4.36246300523635e-05\n",
      "\tmodule.net.10.bias - grad_avg: -7.577173528261483e-05\n",
      "\tmodule.net.10.bias - param_avg: 0.00046046756324358284\n",
      "\tmodule.net.12.weight - grad_avg: 1.7024814269461785e-06\n",
      "\tmodule.net.12.weight - param_avg: 2.6010859073721804e-05\n",
      "\tmodule.net.12.bias - grad_avg: 6.619985651923344e-05\n",
      "\tmodule.net.12.bias - param_avg: 2.129346103174612e-05\n",
      "\tmodule.classifier.1.weight - grad_avg: 6.15749851107239e-09\n",
      "\tmodule.classifier.1.weight - param_avg: 5.8305173297412694e-05\n",
      "\tmodule.classifier.1.bias - grad_avg: -1.1296153388684615e-05\n",
      "\tmodule.classifier.1.bias - param_avg: 0.0034584226086735725\n",
      "\tmodule.classifier.4.weight - grad_avg: -2.959486948839185e-07\n",
      "\tmodule.classifier.4.weight - param_avg: 0.0005292789428494871\n",
      "\tmodule.classifier.4.bias - grad_avg: -4.165501650277292e-06\n",
      "\tmodule.classifier.4.bias - param_avg: 0.0015258699422702193\n",
      "\tmodule.classifier.6.weight - grad_avg: 2.27009883113638e-10\n",
      "\tmodule.classifier.6.weight - param_avg: -0.0007638965034857392\n",
      "\tmodule.classifier.6.bias - grad_avg: 6.519257911286047e-10\n",
      "\tmodule.classifier.6.bias - param_avg: 0.007483462803065777\n"
     ]
    },
    {
     "name": "stderr",
     "output_type": "stream",
     "text": [
      " 44%|████▍     | 206/468 [02:49<03:34,  1.22it/s]"
     ]
    },
    {
     "name": "stdout",
     "output_type": "stream",
     "text": [
      "Epoch: 4 \tStep: 1610 \tLoss: 0.0250 \tAcc: 0.9921875\n"
     ]
    },
    {
     "name": "stderr",
     "output_type": "stream",
     "text": [
      " 46%|████▌     | 216/468 [02:57<03:23,  1.24it/s]"
     ]
    },
    {
     "name": "stdout",
     "output_type": "stream",
     "text": [
      "Epoch: 4 \tStep: 1620 \tLoss: 0.1020 \tAcc: 0.96875\n"
     ]
    },
    {
     "name": "stderr",
     "output_type": "stream",
     "text": [
      " 48%|████▊     | 226/468 [03:05<03:14,  1.24it/s]"
     ]
    },
    {
     "name": "stdout",
     "output_type": "stream",
     "text": [
      "Epoch: 4 \tStep: 1630 \tLoss: 0.0196 \tAcc: 0.9921875\n"
     ]
    },
    {
     "name": "stderr",
     "output_type": "stream",
     "text": [
      " 50%|█████     | 236/468 [03:14<03:08,  1.23it/s]"
     ]
    },
    {
     "name": "stdout",
     "output_type": "stream",
     "text": [
      "Epoch: 4 \tStep: 1640 \tLoss: 0.0483 \tAcc: 0.96875\n"
     ]
    },
    {
     "name": "stderr",
     "output_type": "stream",
     "text": [
      " 53%|█████▎    | 246/468 [03:22<03:00,  1.23it/s]"
     ]
    },
    {
     "name": "stdout",
     "output_type": "stream",
     "text": [
      "Epoch: 4 \tStep: 1650 \tLoss: 0.0506 \tAcc: 0.9765625\n"
     ]
    },
    {
     "name": "stderr",
     "output_type": "stream",
     "text": [
      " 55%|█████▍    | 256/468 [03:30<02:53,  1.22it/s]"
     ]
    },
    {
     "name": "stdout",
     "output_type": "stream",
     "text": [
      "Epoch: 4 \tStep: 1660 \tLoss: 0.1612 \tAcc: 0.9609375\n"
     ]
    },
    {
     "name": "stderr",
     "output_type": "stream",
     "text": [
      " 57%|█████▋    | 266/468 [03:38<02:45,  1.22it/s]"
     ]
    },
    {
     "name": "stdout",
     "output_type": "stream",
     "text": [
      "Epoch: 4 \tStep: 1670 \tLoss: 0.0458 \tAcc: 0.984375\n"
     ]
    },
    {
     "name": "stderr",
     "output_type": "stream",
     "text": [
      " 59%|█████▉    | 276/468 [03:46<02:36,  1.23it/s]"
     ]
    },
    {
     "name": "stdout",
     "output_type": "stream",
     "text": [
      "Epoch: 4 \tStep: 1680 \tLoss: 0.0352 \tAcc: 0.9921875\n"
     ]
    },
    {
     "name": "stderr",
     "output_type": "stream",
     "text": [
      " 61%|██████    | 286/468 [03:54<02:25,  1.25it/s]"
     ]
    },
    {
     "name": "stdout",
     "output_type": "stream",
     "text": [
      "Epoch: 4 \tStep: 1690 \tLoss: 0.0500 \tAcc: 0.9921875\n"
     ]
    },
    {
     "name": "stderr",
     "output_type": "stream",
     "text": [
      " 63%|██████▎   | 296/468 [04:03<02:19,  1.23it/s]"
     ]
    },
    {
     "name": "stdout",
     "output_type": "stream",
     "text": [
      "Epoch: 4 \tStep: 1700 \tLoss: 0.0067 \tAcc: 1.0\n",
      "**********\n",
      "\tmodule.net.0.weight - grad_avg: -0.000432787201134488\n",
      "\tmodule.net.0.weight - param_avg: -0.0016219051321968436\n",
      "\tmodule.net.0.bias - grad_avg: -1.342509335700015e-06\n",
      "\tmodule.net.0.bias - param_avg: -0.005607301834970713\n",
      "\tmodule.net.4.weight - grad_avg: -4.090524817002006e-05\n",
      "\tmodule.net.4.weight - param_avg: -0.0010689945193007588\n",
      "\tmodule.net.4.bias - grad_avg: -9.197778126690537e-06\n",
      "\tmodule.net.4.bias - param_avg: -0.0009313937043771148\n",
      "\tmodule.net.8.weight - grad_avg: -1.059388250723714e-05\n",
      "\tmodule.net.8.weight - param_avg: -2.753898843366187e-05\n",
      "\tmodule.net.8.bias - grad_avg: -3.706211646203883e-05\n",
      "\tmodule.net.8.bias - param_avg: -0.00020036862406414002\n",
      "\tmodule.net.10.weight - grad_avg: -4.125070518057328e-06\n",
      "\tmodule.net.10.weight - param_avg: 4.149127926211804e-05\n",
      "\tmodule.net.10.bias - grad_avg: -7.741477020317689e-05\n",
      "\tmodule.net.10.bias - param_avg: 0.0004259660781826824\n",
      "\tmodule.net.12.weight - grad_avg: -1.031650640470616e-06\n",
      "\tmodule.net.12.weight - param_avg: 2.6180654458585195e-05\n",
      "\tmodule.net.12.bias - grad_avg: -3.4271448384970427e-05\n",
      "\tmodule.net.12.bias - param_avg: 2.700347249628976e-05\n",
      "\tmodule.classifier.1.weight - grad_avg: -3.434195150475716e-10\n",
      "\tmodule.classifier.1.weight - param_avg: 5.874659473192878e-05\n",
      "\tmodule.classifier.1.bias - grad_avg: -2.9559145332314074e-05\n",
      "\tmodule.classifier.1.bias - param_avg: 0.0034284493885934353\n",
      "\tmodule.classifier.4.weight - grad_avg: -4.606839922871586e-07\n",
      "\tmodule.classifier.4.weight - param_avg: 0.0005217323778197169\n",
      "\tmodule.classifier.4.bias - grad_avg: -6.861523161205696e-06\n",
      "\tmodule.classifier.4.bias - param_avg: 0.0015254543395712972\n",
      "\tmodule.classifier.6.weight - grad_avg: 3.0267982564780027e-10\n",
      "\tmodule.classifier.6.weight - param_avg: -0.0007631060434505343\n",
      "\tmodule.classifier.6.bias - grad_avg: 7.974449434122732e-10\n",
      "\tmodule.classifier.6.bias - param_avg: 0.007483617402613163\n"
     ]
    },
    {
     "name": "stderr",
     "output_type": "stream",
     "text": [
      " 65%|██████▌   | 306/468 [04:11<02:15,  1.19it/s]"
     ]
    },
    {
     "name": "stdout",
     "output_type": "stream",
     "text": [
      "Epoch: 4 \tStep: 1710 \tLoss: 0.0166 \tAcc: 0.9921875\n"
     ]
    },
    {
     "name": "stderr",
     "output_type": "stream",
     "text": [
      " 68%|██████▊   | 316/468 [04:19<02:04,  1.22it/s]"
     ]
    },
    {
     "name": "stdout",
     "output_type": "stream",
     "text": [
      "Epoch: 4 \tStep: 1720 \tLoss: 0.0858 \tAcc: 0.9765625\n"
     ]
    },
    {
     "name": "stderr",
     "output_type": "stream",
     "text": [
      " 70%|██████▉   | 326/468 [04:27<01:57,  1.21it/s]"
     ]
    },
    {
     "name": "stdout",
     "output_type": "stream",
     "text": [
      "Epoch: 4 \tStep: 1730 \tLoss: 0.0230 \tAcc: 0.9921875\n"
     ]
    },
    {
     "name": "stderr",
     "output_type": "stream",
     "text": [
      " 72%|███████▏  | 336/468 [04:36<01:50,  1.19it/s]"
     ]
    },
    {
     "name": "stdout",
     "output_type": "stream",
     "text": [
      "Epoch: 4 \tStep: 1740 \tLoss: 0.0480 \tAcc: 0.9921875\n"
     ]
    },
    {
     "name": "stderr",
     "output_type": "stream",
     "text": [
      " 74%|███████▍  | 346/468 [04:45<02:00,  1.01it/s]"
     ]
    },
    {
     "name": "stdout",
     "output_type": "stream",
     "text": [
      "Epoch: 4 \tStep: 1750 \tLoss: 0.0790 \tAcc: 0.984375\n"
     ]
    },
    {
     "name": "stderr",
     "output_type": "stream",
     "text": [
      " 76%|███████▌  | 356/468 [04:53<01:32,  1.21it/s]"
     ]
    },
    {
     "name": "stdout",
     "output_type": "stream",
     "text": [
      "Epoch: 4 \tStep: 1760 \tLoss: 0.0279 \tAcc: 0.984375\n"
     ]
    },
    {
     "name": "stderr",
     "output_type": "stream",
     "text": [
      " 78%|███████▊  | 366/468 [05:01<01:22,  1.23it/s]"
     ]
    },
    {
     "name": "stdout",
     "output_type": "stream",
     "text": [
      "Epoch: 4 \tStep: 1770 \tLoss: 0.0409 \tAcc: 0.984375\n"
     ]
    },
    {
     "name": "stderr",
     "output_type": "stream",
     "text": [
      " 80%|████████  | 376/468 [05:09<01:15,  1.21it/s]"
     ]
    },
    {
     "name": "stdout",
     "output_type": "stream",
     "text": [
      "Epoch: 4 \tStep: 1780 \tLoss: 0.0484 \tAcc: 0.984375\n"
     ]
    },
    {
     "name": "stderr",
     "output_type": "stream",
     "text": [
      " 82%|████████▏ | 386/468 [05:18<01:18,  1.05it/s]"
     ]
    },
    {
     "name": "stdout",
     "output_type": "stream",
     "text": [
      "Epoch: 4 \tStep: 1790 \tLoss: 0.0693 \tAcc: 0.96875\n"
     ]
    },
    {
     "name": "stderr",
     "output_type": "stream",
     "text": [
      " 85%|████████▍ | 396/468 [05:27<01:01,  1.17it/s]"
     ]
    },
    {
     "name": "stdout",
     "output_type": "stream",
     "text": [
      "Epoch: 4 \tStep: 1800 \tLoss: 0.0730 \tAcc: 0.984375\n",
      "**********\n",
      "\tmodule.net.0.weight - grad_avg: 0.002880029147490859\n",
      "\tmodule.net.0.weight - param_avg: -0.0016339512076228857\n",
      "\tmodule.net.0.bias - grad_avg: 5.839907316840254e-05\n",
      "\tmodule.net.0.bias - param_avg: -0.005845190957188606\n",
      "\tmodule.net.4.weight - grad_avg: 0.00013000010221730918\n",
      "\tmodule.net.4.weight - param_avg: -0.0010970024159178138\n",
      "\tmodule.net.4.bias - grad_avg: 2.709880209295079e-05\n",
      "\tmodule.net.4.bias - param_avg: -0.0009514645207673311\n",
      "\tmodule.net.8.weight - grad_avg: 3.1891398975858465e-05\n",
      "\tmodule.net.8.weight - param_avg: -2.7745452825911343e-05\n",
      "\tmodule.net.8.bias - grad_avg: 8.232265099650249e-05\n",
      "\tmodule.net.8.bias - param_avg: -0.0001879277842817828\n",
      "\tmodule.net.10.weight - grad_avg: 1.2368342140689492e-05\n",
      "\tmodule.net.10.weight - param_avg: 4.221808194415644e-05\n",
      "\tmodule.net.10.bias - grad_avg: 0.00019603742111939937\n",
      "\tmodule.net.10.bias - param_avg: 0.0004417966410983354\n",
      "\tmodule.net.12.weight - grad_avg: -4.4369694478518795e-06\n",
      "\tmodule.net.12.weight - param_avg: 2.6090310711879283e-05\n",
      "\tmodule.net.12.bias - grad_avg: -0.0001881567732198164\n",
      "\tmodule.net.12.bias - param_avg: 1.817367592593655e-05\n",
      "\tmodule.classifier.1.weight - grad_avg: 1.0958060414623105e-07\n",
      "\tmodule.classifier.1.weight - param_avg: 5.6746459449641407e-05\n",
      "\tmodule.classifier.1.bias - grad_avg: 6.542487244587392e-05\n",
      "\tmodule.classifier.1.bias - param_avg: 0.003456384176388383\n",
      "\tmodule.classifier.4.weight - grad_avg: 1.24466157558345e-06\n",
      "\tmodule.classifier.4.weight - param_avg: 0.0005324749508872628\n",
      "\tmodule.classifier.4.bias - grad_avg: 1.4970473785069771e-05\n",
      "\tmodule.classifier.4.bias - param_avg: 0.0015621305210515857\n",
      "\tmodule.classifier.6.weight - grad_avg: 3.055902197957039e-10\n",
      "\tmodule.classifier.6.weight - param_avg: -0.0007837855955585837\n",
      "\tmodule.classifier.6.bias - grad_avg: 1.1175871339474952e-09\n",
      "\tmodule.classifier.6.bias - param_avg: 0.00750016188248992\n"
     ]
    },
    {
     "name": "stderr",
     "output_type": "stream",
     "text": [
      " 87%|████████▋ | 406/468 [05:35<00:50,  1.22it/s]"
     ]
    },
    {
     "name": "stdout",
     "output_type": "stream",
     "text": [
      "Epoch: 4 \tStep: 1810 \tLoss: 0.0634 \tAcc: 0.984375\n"
     ]
    },
    {
     "name": "stderr",
     "output_type": "stream",
     "text": [
      " 89%|████████▉ | 416/468 [05:44<00:44,  1.17it/s]"
     ]
    },
    {
     "name": "stdout",
     "output_type": "stream",
     "text": [
      "Epoch: 4 \tStep: 1820 \tLoss: 0.0472 \tAcc: 0.984375\n"
     ]
    },
    {
     "name": "stderr",
     "output_type": "stream",
     "text": [
      " 91%|█████████ | 426/468 [05:53<00:34,  1.21it/s]"
     ]
    },
    {
     "name": "stdout",
     "output_type": "stream",
     "text": [
      "Epoch: 4 \tStep: 1830 \tLoss: 0.0576 \tAcc: 0.96875\n"
     ]
    },
    {
     "name": "stderr",
     "output_type": "stream",
     "text": [
      " 93%|█████████▎| 436/468 [06:01<00:29,  1.07it/s]"
     ]
    },
    {
     "name": "stdout",
     "output_type": "stream",
     "text": [
      "Epoch: 4 \tStep: 1840 \tLoss: 0.1615 \tAcc: 0.9765625\n"
     ]
    },
    {
     "name": "stderr",
     "output_type": "stream",
     "text": [
      " 95%|█████████▌| 446/468 [06:10<00:19,  1.13it/s]"
     ]
    },
    {
     "name": "stdout",
     "output_type": "stream",
     "text": [
      "Epoch: 4 \tStep: 1850 \tLoss: 0.0401 \tAcc: 0.984375\n"
     ]
    },
    {
     "name": "stderr",
     "output_type": "stream",
     "text": [
      " 97%|█████████▋| 456/468 [06:19<00:09,  1.20it/s]"
     ]
    },
    {
     "name": "stdout",
     "output_type": "stream",
     "text": [
      "Epoch: 4 \tStep: 1860 \tLoss: 0.0235 \tAcc: 0.984375\n"
     ]
    },
    {
     "name": "stderr",
     "output_type": "stream",
     "text": [
      "100%|█████████▉| 466/468 [06:27<00:01,  1.15it/s]"
     ]
    },
    {
     "name": "stdout",
     "output_type": "stream",
     "text": [
      "Epoch: 4 \tStep: 1870 \tLoss: 0.0268 \tAcc: 0.984375\n"
     ]
    },
    {
     "name": "stderr",
     "output_type": "stream",
     "text": [
      "100%|██████████| 468/468 [06:30<00:00,  1.20it/s]\n"
     ]
    },
    {
     "name": "stdout",
     "output_type": "stream",
     "text": [
      "[0.9633413461538461, 0.9799679487179487, 0.9800681089743589, 0.9869791666666666] [0.96875, 0.96875, 0.984375, 0.984375] [tensor(0.1371), tensor(0.0578), tensor(0.1151), tensor(0.0966)] [0.06721928715705872, 0.08769530802965164, 0.052476316690444946, 0.026822051033377647]\n"
     ]
    },
    {
     "name": "stderr",
     "output_type": "stream",
     "text": [
      "  2%|▏         | 8/468 [00:08<06:52,  1.11it/s]"
     ]
    },
    {
     "name": "stdout",
     "output_type": "stream",
     "text": [
      "Epoch: 5 \tStep: 1880 \tLoss: 0.0091 \tAcc: 1.0\n"
     ]
    },
    {
     "name": "stderr",
     "output_type": "stream",
     "text": [
      "  4%|▍         | 18/468 [00:17<06:22,  1.18it/s]"
     ]
    },
    {
     "name": "stdout",
     "output_type": "stream",
     "text": [
      "Epoch: 5 \tStep: 1890 \tLoss: 0.0321 \tAcc: 0.984375\n"
     ]
    },
    {
     "name": "stderr",
     "output_type": "stream",
     "text": [
      "  6%|▌         | 28/468 [00:26<06:46,  1.08it/s]"
     ]
    },
    {
     "name": "stdout",
     "output_type": "stream",
     "text": [
      "Epoch: 5 \tStep: 1900 \tLoss: 0.0054 \tAcc: 1.0\n",
      "**********\n",
      "\tmodule.net.0.weight - grad_avg: -0.00018595214351080358\n",
      "\tmodule.net.0.weight - param_avg: -0.0016902677016332746\n",
      "\tmodule.net.0.bias - grad_avg: -4.911124051432125e-06\n",
      "\tmodule.net.0.bias - param_avg: -0.006076343357563019\n",
      "\tmodule.net.4.weight - grad_avg: -1.8283724784851074e-05\n",
      "\tmodule.net.4.weight - param_avg: -0.0011145826429128647\n",
      "\tmodule.net.4.bias - grad_avg: -5.483766017277958e-06\n",
      "\tmodule.net.4.bias - param_avg: -0.0009814000222831964\n",
      "\tmodule.net.8.weight - grad_avg: -7.903335244918708e-06\n",
      "\tmodule.net.8.weight - param_avg: -2.966558349726256e-05\n",
      "\tmodule.net.8.bias - grad_avg: -3.2377425668528304e-05\n",
      "\tmodule.net.8.bias - param_avg: -0.00019480568880680948\n",
      "\tmodule.net.10.weight - grad_avg: -1.6582046100666048e-06\n",
      "\tmodule.net.10.weight - param_avg: 4.115541742066853e-05\n",
      "\tmodule.net.10.bias - grad_avg: -3.7648220313712955e-05\n",
      "\tmodule.net.10.bias - param_avg: 0.0004391092516016215\n",
      "\tmodule.net.12.weight - grad_avg: 2.0150393353901563e-08\n",
      "\tmodule.net.12.weight - param_avg: 2.5974191885325126e-05\n",
      "\tmodule.net.12.bias - grad_avg: 7.655671652173623e-07\n",
      "\tmodule.net.12.bias - param_avg: 1.5181976777967066e-05\n",
      "\tmodule.classifier.1.weight - grad_avg: -1.1919372155944075e-08\n",
      "\tmodule.classifier.1.weight - param_avg: 5.640559538733214e-05\n",
      "\tmodule.classifier.1.bias - grad_avg: -9.718734872876666e-06\n",
      "\tmodule.classifier.1.bias - param_avg: 0.0034604023676365614\n",
      "\tmodule.classifier.4.weight - grad_avg: -4.1005232986890405e-08\n",
      "\tmodule.classifier.4.weight - param_avg: 0.0005299015319906175\n",
      "\tmodule.classifier.4.bias - grad_avg: -5.808006449115055e-07\n",
      "\tmodule.classifier.4.bias - param_avg: 0.0015803189016878605\n",
      "\tmodule.classifier.6.weight - grad_avg: 4.0236045051322833e-10\n",
      "\tmodule.classifier.6.weight - param_avg: -0.0008010967867448926\n",
      "\tmodule.classifier.6.bias - grad_avg: 9.822542779147625e-10\n",
      "\tmodule.classifier.6.bias - param_avg: 0.007490023039281368\n"
     ]
    },
    {
     "name": "stderr",
     "output_type": "stream",
     "text": [
      "  8%|▊         | 38/468 [00:34<05:56,  1.21it/s]"
     ]
    },
    {
     "name": "stdout",
     "output_type": "stream",
     "text": [
      "Epoch: 5 \tStep: 1910 \tLoss: 0.0068 \tAcc: 1.0\n"
     ]
    },
    {
     "name": "stderr",
     "output_type": "stream",
     "text": [
      " 10%|█         | 48/468 [00:42<05:46,  1.21it/s]"
     ]
    },
    {
     "name": "stdout",
     "output_type": "stream",
     "text": [
      "Epoch: 5 \tStep: 1920 \tLoss: 0.0222 \tAcc: 0.9921875\n"
     ]
    },
    {
     "name": "stderr",
     "output_type": "stream",
     "text": [
      " 12%|█▏        | 58/468 [00:51<05:42,  1.20it/s]"
     ]
    },
    {
     "name": "stdout",
     "output_type": "stream",
     "text": [
      "Epoch: 5 \tStep: 1930 \tLoss: 0.0476 \tAcc: 0.984375\n"
     ]
    },
    {
     "name": "stderr",
     "output_type": "stream",
     "text": [
      " 15%|█▍        | 68/468 [00:59<05:53,  1.13it/s]"
     ]
    },
    {
     "name": "stdout",
     "output_type": "stream",
     "text": [
      "Epoch: 5 \tStep: 1940 \tLoss: 0.0427 \tAcc: 0.984375\n"
     ]
    },
    {
     "name": "stderr",
     "output_type": "stream",
     "text": [
      " 17%|█▋        | 78/468 [01:08<05:23,  1.21it/s]"
     ]
    },
    {
     "name": "stdout",
     "output_type": "stream",
     "text": [
      "Epoch: 5 \tStep: 1950 \tLoss: 0.0417 \tAcc: 0.9921875\n"
     ]
    },
    {
     "name": "stderr",
     "output_type": "stream",
     "text": [
      " 19%|█▉        | 88/468 [01:16<05:14,  1.21it/s]"
     ]
    },
    {
     "name": "stdout",
     "output_type": "stream",
     "text": [
      "Epoch: 5 \tStep: 1960 \tLoss: 0.0148 \tAcc: 0.9921875\n"
     ]
    },
    {
     "name": "stderr",
     "output_type": "stream",
     "text": [
      " 21%|██        | 98/468 [01:25<05:15,  1.17it/s]"
     ]
    },
    {
     "name": "stdout",
     "output_type": "stream",
     "text": [
      "Epoch: 5 \tStep: 1970 \tLoss: 0.0332 \tAcc: 0.984375\n"
     ]
    },
    {
     "name": "stderr",
     "output_type": "stream",
     "text": [
      " 23%|██▎       | 108/468 [01:33<04:58,  1.21it/s]"
     ]
    },
    {
     "name": "stdout",
     "output_type": "stream",
     "text": [
      "Epoch: 5 \tStep: 1980 \tLoss: 0.0221 \tAcc: 0.9921875\n"
     ]
    },
    {
     "name": "stderr",
     "output_type": "stream",
     "text": [
      " 25%|██▌       | 118/468 [01:42<05:06,  1.14it/s]"
     ]
    },
    {
     "name": "stdout",
     "output_type": "stream",
     "text": [
      "Epoch: 5 \tStep: 1990 \tLoss: 0.0464 \tAcc: 0.9921875\n"
     ]
    },
    {
     "name": "stderr",
     "output_type": "stream",
     "text": [
      " 27%|██▋       | 128/468 [01:50<04:45,  1.19it/s]"
     ]
    },
    {
     "name": "stdout",
     "output_type": "stream",
     "text": [
      "Epoch: 5 \tStep: 2000 \tLoss: 0.0818 \tAcc: 0.9921875\n",
      "**********\n",
      "\tmodule.net.0.weight - grad_avg: 0.002705174731090665\n",
      "\tmodule.net.0.weight - param_avg: -0.0017309735994786024\n",
      "\tmodule.net.0.bias - grad_avg: 2.822918577294331e-05\n",
      "\tmodule.net.0.bias - param_avg: -0.006267952267080545\n",
      "\tmodule.net.4.weight - grad_avg: 4.419640390551649e-05\n",
      "\tmodule.net.4.weight - param_avg: -0.0011274977587163448\n",
      "\tmodule.net.4.bias - grad_avg: 1.4699498933623545e-05\n",
      "\tmodule.net.4.bias - param_avg: -0.0009820287814363837\n",
      "\tmodule.net.8.weight - grad_avg: 2.526334355934523e-05\n",
      "\tmodule.net.8.weight - param_avg: -2.96650905511342e-05\n",
      "\tmodule.net.8.bias - grad_avg: 9.964017226593569e-05\n",
      "\tmodule.net.8.bias - param_avg: -0.00018253608141094446\n",
      "\tmodule.net.10.weight - grad_avg: 1.0227940038021188e-05\n",
      "\tmodule.net.10.weight - param_avg: 4.17694536736235e-05\n",
      "\tmodule.net.10.bias - grad_avg: 0.00020253223192412406\n",
      "\tmodule.net.10.bias - param_avg: 0.00045820671948604286\n",
      "\tmodule.net.12.weight - grad_avg: 2.17762772081187e-06\n",
      "\tmodule.net.12.weight - param_avg: 2.6243773390888236e-05\n",
      "\tmodule.net.12.bias - grad_avg: 9.579925972502679e-05\n",
      "\tmodule.net.12.bias - param_avg: 2.4268170818686485e-05\n",
      "\tmodule.classifier.1.weight - grad_avg: 5.253089625512075e-07\n",
      "\tmodule.classifier.1.weight - param_avg: 5.561500074691139e-05\n",
      "\tmodule.classifier.1.bias - grad_avg: 5.501355917658657e-05\n",
      "\tmodule.classifier.1.bias - param_avg: 0.0034962992649525404\n",
      "\tmodule.classifier.4.weight - grad_avg: 1.2977990309082088e-06\n",
      "\tmodule.classifier.4.weight - param_avg: 0.0005315816961228848\n",
      "\tmodule.classifier.4.bias - grad_avg: 1.672295547905378e-05\n",
      "\tmodule.classifier.4.bias - param_avg: 0.0016061041969805956\n",
      "\tmodule.classifier.6.weight - grad_avg: 9.313225884932663e-11\n",
      "\tmodule.classifier.6.weight - param_avg: -0.0008269481477327645\n",
      "\tmodule.classifier.6.bias - grad_avg: 1.5061232816471204e-10\n",
      "\tmodule.classifier.6.bias - param_avg: 0.007495001889765263\n"
     ]
    },
    {
     "name": "stderr",
     "output_type": "stream",
     "text": [
      " 29%|██▉       | 138/468 [01:59<04:52,  1.13it/s]"
     ]
    },
    {
     "name": "stdout",
     "output_type": "stream",
     "text": [
      "Epoch: 5 \tStep: 2010 \tLoss: 0.0536 \tAcc: 0.9921875\n"
     ]
    },
    {
     "name": "stderr",
     "output_type": "stream",
     "text": [
      " 32%|███▏      | 148/468 [02:08<04:37,  1.15it/s]"
     ]
    },
    {
     "name": "stdout",
     "output_type": "stream",
     "text": [
      "Epoch: 5 \tStep: 2020 \tLoss: 0.0088 \tAcc: 1.0\n"
     ]
    },
    {
     "name": "stderr",
     "output_type": "stream",
     "text": [
      " 34%|███▍      | 158/468 [02:17<04:21,  1.19it/s]"
     ]
    },
    {
     "name": "stdout",
     "output_type": "stream",
     "text": [
      "Epoch: 5 \tStep: 2030 \tLoss: 0.0051 \tAcc: 1.0\n"
     ]
    },
    {
     "name": "stderr",
     "output_type": "stream",
     "text": [
      " 36%|███▌      | 168/468 [02:25<04:13,  1.18it/s]"
     ]
    },
    {
     "name": "stdout",
     "output_type": "stream",
     "text": [
      "Epoch: 5 \tStep: 2040 \tLoss: 0.0252 \tAcc: 0.9921875\n"
     ]
    },
    {
     "name": "stderr",
     "output_type": "stream",
     "text": [
      " 38%|███▊      | 178/468 [02:34<04:05,  1.18it/s]"
     ]
    },
    {
     "name": "stdout",
     "output_type": "stream",
     "text": [
      "Epoch: 5 \tStep: 2050 \tLoss: 0.0722 \tAcc: 0.9609375\n"
     ]
    },
    {
     "name": "stderr",
     "output_type": "stream",
     "text": [
      " 40%|████      | 188/468 [02:43<04:22,  1.07it/s]"
     ]
    },
    {
     "name": "stdout",
     "output_type": "stream",
     "text": [
      "Epoch: 5 \tStep: 2060 \tLoss: 0.0646 \tAcc: 0.984375\n"
     ]
    },
    {
     "name": "stderr",
     "output_type": "stream",
     "text": [
      " 42%|████▏     | 198/468 [02:51<03:49,  1.18it/s]"
     ]
    },
    {
     "name": "stdout",
     "output_type": "stream",
     "text": [
      "Epoch: 5 \tStep: 2070 \tLoss: 0.0044 \tAcc: 1.0\n"
     ]
    },
    {
     "name": "stderr",
     "output_type": "stream",
     "text": [
      " 44%|████▍     | 208/468 [03:00<03:43,  1.16it/s]"
     ]
    },
    {
     "name": "stdout",
     "output_type": "stream",
     "text": [
      "Epoch: 5 \tStep: 2080 \tLoss: 0.0081 \tAcc: 1.0\n"
     ]
    },
    {
     "name": "stderr",
     "output_type": "stream",
     "text": [
      " 47%|████▋     | 218/468 [03:09<03:35,  1.16it/s]"
     ]
    },
    {
     "name": "stdout",
     "output_type": "stream",
     "text": [
      "Epoch: 5 \tStep: 2090 \tLoss: 0.0161 \tAcc: 0.9921875\n"
     ]
    },
    {
     "name": "stderr",
     "output_type": "stream",
     "text": [
      " 49%|████▊     | 228/468 [03:18<03:35,  1.11it/s]"
     ]
    },
    {
     "name": "stdout",
     "output_type": "stream",
     "text": [
      "Epoch: 5 \tStep: 2100 \tLoss: 0.0047 \tAcc: 1.0\n",
      "**********\n",
      "\tmodule.net.0.weight - grad_avg: -0.00017860010848380625\n",
      "\tmodule.net.0.weight - param_avg: -0.0018234853632748127\n",
      "\tmodule.net.0.bias - grad_avg: -2.939392970802146e-06\n",
      "\tmodule.net.0.bias - param_avg: -0.0066153681837022305\n",
      "\tmodule.net.4.weight - grad_avg: -2.2199415980139747e-05\n",
      "\tmodule.net.4.weight - param_avg: -0.001156466780230403\n",
      "\tmodule.net.4.bias - grad_avg: -7.083546279318398e-06\n",
      "\tmodule.net.4.bias - param_avg: -0.0010259054834023118\n",
      "\tmodule.net.8.weight - grad_avg: -5.6011754168139305e-06\n",
      "\tmodule.net.8.weight - param_avg: -3.2152947824215516e-05\n",
      "\tmodule.net.8.bias - grad_avg: -2.3321286789723672e-05\n",
      "\tmodule.net.8.bias - param_avg: -0.00021040897991042584\n",
      "\tmodule.net.10.weight - grad_avg: -2.083552544718259e-06\n",
      "\tmodule.net.10.weight - param_avg: 3.870258296956308e-05\n",
      "\tmodule.net.10.bias - grad_avg: -4.8344623792218044e-05\n",
      "\tmodule.net.10.bias - param_avg: 0.00042604366899468005\n",
      "\tmodule.net.12.weight - grad_avg: 4.310538770369021e-07\n",
      "\tmodule.net.12.weight - param_avg: 2.6465126211405732e-05\n",
      "\tmodule.net.12.bias - grad_avg: 2.1512158127734438e-05\n",
      "\tmodule.net.12.bias - param_avg: 2.6741450710687786e-05\n",
      "\tmodule.classifier.1.weight - grad_avg: -2.2854148795659057e-08\n",
      "\tmodule.classifier.1.weight - param_avg: 5.5426371545763686e-05\n",
      "\tmodule.classifier.1.bias - grad_avg: -1.371236521663377e-05\n",
      "\tmodule.classifier.1.bias - param_avg: 0.0035041095688939095\n",
      "\tmodule.classifier.4.weight - grad_avg: -1.9082291657923633e-07\n",
      "\tmodule.classifier.4.weight - param_avg: 0.0005269718822091818\n",
      "\tmodule.classifier.4.bias - grad_avg: -2.9304540021257708e-06\n",
      "\tmodule.classifier.4.bias - param_avg: 0.0016240861732512712\n",
      "\tmodule.classifier.6.weight - grad_avg: 1.5716068724191956e-10\n",
      "\tmodule.classifier.6.weight - param_avg: -0.0008403733372688293\n",
      "\tmodule.classifier.6.bias - grad_avg: 5.355104693016699e-10\n",
      "\tmodule.classifier.6.bias - param_avg: 0.007495407946407795\n"
     ]
    },
    {
     "name": "stderr",
     "output_type": "stream",
     "text": [
      " 51%|█████     | 238/468 [03:28<03:29,  1.10it/s]"
     ]
    },
    {
     "name": "stdout",
     "output_type": "stream",
     "text": [
      "Epoch: 5 \tStep: 2110 \tLoss: 0.0220 \tAcc: 0.984375\n"
     ]
    },
    {
     "name": "stderr",
     "output_type": "stream",
     "text": [
      " 53%|█████▎    | 248/468 [03:37<03:10,  1.16it/s]"
     ]
    },
    {
     "name": "stdout",
     "output_type": "stream",
     "text": [
      "Epoch: 5 \tStep: 2120 \tLoss: 0.0439 \tAcc: 0.984375\n"
     ]
    },
    {
     "name": "stderr",
     "output_type": "stream",
     "text": [
      " 55%|█████▌    | 258/468 [03:46<03:04,  1.14it/s]"
     ]
    },
    {
     "name": "stdout",
     "output_type": "stream",
     "text": [
      "Epoch: 5 \tStep: 2130 \tLoss: 0.0147 \tAcc: 0.9921875\n"
     ]
    },
    {
     "name": "stderr",
     "output_type": "stream",
     "text": [
      " 57%|█████▋    | 268/468 [03:54<02:51,  1.17it/s]"
     ]
    },
    {
     "name": "stdout",
     "output_type": "stream",
     "text": [
      "Epoch: 5 \tStep: 2140 \tLoss: 0.0202 \tAcc: 0.9921875\n"
     ]
    },
    {
     "name": "stderr",
     "output_type": "stream",
     "text": [
      " 59%|█████▉    | 278/468 [04:03<02:36,  1.21it/s]"
     ]
    },
    {
     "name": "stdout",
     "output_type": "stream",
     "text": [
      "Epoch: 5 \tStep: 2150 \tLoss: 0.0240 \tAcc: 0.9921875\n"
     ]
    },
    {
     "name": "stderr",
     "output_type": "stream",
     "text": [
      " 62%|██████▏   | 288/468 [04:12<02:32,  1.18it/s]"
     ]
    },
    {
     "name": "stdout",
     "output_type": "stream",
     "text": [
      "Epoch: 5 \tStep: 2160 \tLoss: 0.0353 \tAcc: 0.984375\n"
     ]
    },
    {
     "name": "stderr",
     "output_type": "stream",
     "text": [
      " 64%|██████▎   | 298/468 [04:20<02:23,  1.18it/s]"
     ]
    },
    {
     "name": "stdout",
     "output_type": "stream",
     "text": [
      "Epoch: 5 \tStep: 2170 \tLoss: 0.0150 \tAcc: 0.9921875\n"
     ]
    },
    {
     "name": "stderr",
     "output_type": "stream",
     "text": [
      " 66%|██████▌   | 308/468 [04:29<02:39,  1.00it/s]"
     ]
    },
    {
     "name": "stdout",
     "output_type": "stream",
     "text": [
      "Epoch: 5 \tStep: 2180 \tLoss: 0.0085 \tAcc: 1.0\n"
     ]
    },
    {
     "name": "stderr",
     "output_type": "stream",
     "text": [
      " 68%|██████▊   | 318/468 [04:39<02:13,  1.13it/s]"
     ]
    },
    {
     "name": "stdout",
     "output_type": "stream",
     "text": [
      "Epoch: 5 \tStep: 2190 \tLoss: 0.0071 \tAcc: 1.0\n"
     ]
    },
    {
     "name": "stderr",
     "output_type": "stream",
     "text": [
      " 70%|███████   | 328/468 [04:48<01:57,  1.19it/s]"
     ]
    },
    {
     "name": "stdout",
     "output_type": "stream",
     "text": [
      "Epoch: 5 \tStep: 2200 \tLoss: 0.0195 \tAcc: 0.984375\n",
      "**********\n",
      "\tmodule.net.0.weight - grad_avg: -0.0008141228463500738\n",
      "\tmodule.net.0.weight - param_avg: -0.0018721739761531353\n",
      "\tmodule.net.0.bias - grad_avg: -1.8167893358622678e-06\n",
      "\tmodule.net.0.bias - param_avg: -0.006868838798254728\n",
      "\tmodule.net.4.weight - grad_avg: -5.175599653739482e-05\n",
      "\tmodule.net.4.weight - param_avg: -0.0011739556211978197\n",
      "\tmodule.net.4.bias - grad_avg: -1.9390321540413424e-05\n",
      "\tmodule.net.4.bias - param_avg: -0.00104482751339674\n",
      "\tmodule.net.8.weight - grad_avg: -5.479815172293456e-06\n",
      "\tmodule.net.8.weight - param_avg: -3.3452171919634566e-05\n",
      "\tmodule.net.8.bias - grad_avg: -1.990195050893817e-05\n",
      "\tmodule.net.8.bias - param_avg: -0.00021599320461973548\n",
      "\tmodule.net.10.weight - grad_avg: -3.0930859651334686e-08\n",
      "\tmodule.net.10.weight - param_avg: 3.8708396459696814e-05\n",
      "\tmodule.net.10.bias - grad_avg: 2.6231184619973646e-06\n",
      "\tmodule.net.10.bias - param_avg: 0.0004231091879773885\n",
      "\tmodule.net.12.weight - grad_avg: 3.911276508006267e-06\n",
      "\tmodule.net.12.weight - param_avg: 2.6525549401412718e-05\n",
      "\tmodule.net.12.bias - grad_avg: 0.00022274030197877437\n",
      "\tmodule.net.12.bias - param_avg: 3.0091054213698953e-05\n",
      "\tmodule.classifier.1.weight - grad_avg: -6.112706785188493e-08\n",
      "\tmodule.classifier.1.weight - param_avg: 5.323825462255627e-05\n",
      "\tmodule.classifier.1.bias - grad_avg: -1.7069456589524634e-05\n",
      "\tmodule.classifier.1.bias - param_avg: 0.0035096597857773304\n",
      "\tmodule.classifier.4.weight - grad_avg: -1.8127711598481255e-07\n",
      "\tmodule.classifier.4.weight - param_avg: 0.000522551650647074\n",
      "\tmodule.classifier.4.bias - grad_avg: -2.5555020783940563e-06\n",
      "\tmodule.classifier.4.bias - param_avg: 0.0016396204009652138\n",
      "\tmodule.classifier.6.weight - grad_avg: 5.355104693016699e-10\n",
      "\tmodule.classifier.6.weight - param_avg: -0.0008512877975590527\n",
      "\tmodule.classifier.6.bias - grad_avg: 1.4202669040841442e-09\n",
      "\tmodule.classifier.6.bias - param_avg: 0.0075150104239583015\n"
     ]
    },
    {
     "name": "stderr",
     "output_type": "stream",
     "text": [
      " 72%|███████▏  | 338/468 [04:57<02:01,  1.07it/s]"
     ]
    },
    {
     "name": "stdout",
     "output_type": "stream",
     "text": [
      "Epoch: 5 \tStep: 2210 \tLoss: 0.0180 \tAcc: 1.0\n"
     ]
    },
    {
     "name": "stderr",
     "output_type": "stream",
     "text": [
      " 74%|███████▍  | 348/468 [05:05<01:41,  1.18it/s]"
     ]
    },
    {
     "name": "stdout",
     "output_type": "stream",
     "text": [
      "Epoch: 5 \tStep: 2220 \tLoss: 0.0292 \tAcc: 0.984375\n"
     ]
    },
    {
     "name": "stderr",
     "output_type": "stream",
     "text": [
      " 76%|███████▋  | 358/468 [05:14<01:30,  1.21it/s]"
     ]
    },
    {
     "name": "stdout",
     "output_type": "stream",
     "text": [
      "Epoch: 5 \tStep: 2230 \tLoss: 0.0084 \tAcc: 1.0\n"
     ]
    },
    {
     "name": "stderr",
     "output_type": "stream",
     "text": [
      " 79%|███████▊  | 368/468 [05:22<01:23,  1.20it/s]"
     ]
    },
    {
     "name": "stdout",
     "output_type": "stream",
     "text": [
      "Epoch: 5 \tStep: 2240 \tLoss: 0.0669 \tAcc: 0.9765625\n"
     ]
    },
    {
     "name": "stderr",
     "output_type": "stream",
     "text": [
      " 81%|████████  | 378/468 [05:31<01:21,  1.11it/s]"
     ]
    },
    {
     "name": "stdout",
     "output_type": "stream",
     "text": [
      "Epoch: 5 \tStep: 2250 \tLoss: 0.0275 \tAcc: 0.9921875\n"
     ]
    },
    {
     "name": "stderr",
     "output_type": "stream",
     "text": [
      " 83%|████████▎ | 388/468 [05:39<01:08,  1.17it/s]"
     ]
    },
    {
     "name": "stdout",
     "output_type": "stream",
     "text": [
      "Epoch: 5 \tStep: 2260 \tLoss: 0.0626 \tAcc: 0.9921875\n"
     ]
    },
    {
     "name": "stderr",
     "output_type": "stream",
     "text": [
      " 85%|████████▌ | 398/468 [05:47<00:55,  1.26it/s]"
     ]
    },
    {
     "name": "stdout",
     "output_type": "stream",
     "text": [
      "Epoch: 5 \tStep: 2270 \tLoss: 0.0228 \tAcc: 1.0\n"
     ]
    },
    {
     "name": "stderr",
     "output_type": "stream",
     "text": [
      " 87%|████████▋ | 408/468 [05:55<00:47,  1.27it/s]"
     ]
    },
    {
     "name": "stdout",
     "output_type": "stream",
     "text": [
      "Epoch: 5 \tStep: 2280 \tLoss: 0.0270 \tAcc: 0.9921875\n"
     ]
    },
    {
     "name": "stderr",
     "output_type": "stream",
     "text": [
      " 89%|████████▉ | 418/468 [06:04<00:45,  1.10it/s]"
     ]
    },
    {
     "name": "stdout",
     "output_type": "stream",
     "text": [
      "Epoch: 5 \tStep: 2290 \tLoss: 0.0070 \tAcc: 1.0\n"
     ]
    },
    {
     "name": "stderr",
     "output_type": "stream",
     "text": [
      " 91%|█████████▏| 428/468 [06:12<00:31,  1.27it/s]"
     ]
    },
    {
     "name": "stdout",
     "output_type": "stream",
     "text": [
      "Epoch: 5 \tStep: 2300 \tLoss: 0.0519 \tAcc: 0.9765625\n",
      "**********\n",
      "\tmodule.net.0.weight - grad_avg: 0.0032195986714214087\n",
      "\tmodule.net.0.weight - param_avg: -0.0018900932045653462\n",
      "\tmodule.net.0.bias - grad_avg: 3.6185705539537594e-05\n",
      "\tmodule.net.0.bias - param_avg: -0.007070895750075579\n",
      "\tmodule.net.4.weight - grad_avg: -4.780171366292052e-05\n",
      "\tmodule.net.4.weight - param_avg: -0.0012211654102429748\n",
      "\tmodule.net.4.bias - grad_avg: -1.553678885102272e-05\n",
      "\tmodule.net.4.bias - param_avg: -0.001101976027712226\n",
      "\tmodule.net.8.weight - grad_avg: 6.268506240303395e-06\n",
      "\tmodule.net.8.weight - param_avg: -3.6196674045640975e-05\n",
      "\tmodule.net.8.bias - grad_avg: 1.7264779671677388e-05\n",
      "\tmodule.net.8.bias - param_avg: -0.0002388962311670184\n",
      "\tmodule.net.10.weight - grad_avg: 5.778143531642854e-06\n",
      "\tmodule.net.10.weight - param_avg: 3.7538778997259215e-05\n",
      "\tmodule.net.10.bias - grad_avg: 0.00010910726268775761\n",
      "\tmodule.net.10.bias - param_avg: 0.0004095365584362298\n",
      "\tmodule.net.12.weight - grad_avg: 1.6711317130102543e-06\n",
      "\tmodule.net.12.weight - param_avg: 2.6200481443083845e-05\n",
      "\tmodule.net.12.bias - grad_avg: 0.00012437345867510885\n",
      "\tmodule.net.12.bias - param_avg: 2.5700617698021233e-05\n",
      "\tmodule.classifier.1.weight - grad_avg: -1.920801935284544e-07\n",
      "\tmodule.classifier.1.weight - param_avg: 5.3716041293228045e-05\n",
      "\tmodule.classifier.1.bias - grad_avg: 3.7637571494997246e-06\n",
      "\tmodule.classifier.1.bias - param_avg: 0.0035237062256783247\n",
      "\tmodule.classifier.4.weight - grad_avg: 1.1217169770816326e-07\n",
      "\tmodule.classifier.4.weight - param_avg: 0.0005190256633795798\n",
      "\tmodule.classifier.4.bias - grad_avg: 9.922974868459278e-07\n",
      "\tmodule.classifier.4.bias - param_avg: 0.0016494777519255877\n",
      "\tmodule.classifier.6.weight - grad_avg: 4.190951474747351e-10\n",
      "\tmodule.classifier.6.weight - param_avg: -0.0008715519797988236\n",
      "\tmodule.classifier.6.bias - grad_avg: 1.4901161415892261e-09\n",
      "\tmodule.classifier.6.bias - param_avg: 0.0075097838416695595\n"
     ]
    },
    {
     "name": "stderr",
     "output_type": "stream",
     "text": [
      " 94%|█████████▎| 438/468 [06:20<00:23,  1.27it/s]"
     ]
    },
    {
     "name": "stdout",
     "output_type": "stream",
     "text": [
      "Epoch: 5 \tStep: 2310 \tLoss: 0.0270 \tAcc: 0.984375\n"
     ]
    },
    {
     "name": "stderr",
     "output_type": "stream",
     "text": [
      " 96%|█████████▌| 448/468 [06:28<00:16,  1.23it/s]"
     ]
    },
    {
     "name": "stdout",
     "output_type": "stream",
     "text": [
      "Epoch: 5 \tStep: 2320 \tLoss: 0.0138 \tAcc: 1.0\n"
     ]
    },
    {
     "name": "stderr",
     "output_type": "stream",
     "text": [
      " 98%|█████████▊| 458/468 [06:36<00:07,  1.26it/s]"
     ]
    },
    {
     "name": "stdout",
     "output_type": "stream",
     "text": [
      "Epoch: 5 \tStep: 2330 \tLoss: 0.0245 \tAcc: 0.9921875\n"
     ]
    },
    {
     "name": "stderr",
     "output_type": "stream",
     "text": [
      "100%|██████████| 468/468 [06:45<00:00,  1.18it/s]"
     ]
    },
    {
     "name": "stdout",
     "output_type": "stream",
     "text": [
      "Epoch: 5 \tStep: 2340 \tLoss: 0.0460 \tAcc: 0.984375\n"
     ]
    },
    {
     "name": "stderr",
     "output_type": "stream",
     "text": [
      "100%|██████████| 468/468 [06:45<00:00,  1.15it/s]\n"
     ]
    },
    {
     "name": "stdout",
     "output_type": "stream",
     "text": [
      "[0.9633413461538461, 0.9799679487179487, 0.9800681089743589, 0.9869791666666666, 0.9853766025641025] [0.96875, 0.96875, 0.984375, 0.984375, 0.984375] [tensor(0.1371), tensor(0.0578), tensor(0.1151), tensor(0.0966), tensor(0.0369)] [0.06721928715705872, 0.08769530802965164, 0.052476316690444946, 0.026822051033377647, 0.04598674550652504]\n"
     ]
    },
    {
     "name": "stderr",
     "output_type": "stream",
     "text": [
      "  2%|▏         | 10/468 [00:09<06:12,  1.23it/s]"
     ]
    },
    {
     "name": "stdout",
     "output_type": "stream",
     "text": [
      "Epoch: 6 \tStep: 2350 \tLoss: 0.0270 \tAcc: 0.9921875\n"
     ]
    },
    {
     "name": "stderr",
     "output_type": "stream",
     "text": [
      "  4%|▍         | 20/468 [00:18<06:14,  1.20it/s]"
     ]
    },
    {
     "name": "stdout",
     "output_type": "stream",
     "text": [
      "Epoch: 6 \tStep: 2360 \tLoss: 0.0241 \tAcc: 0.9921875\n"
     ]
    },
    {
     "name": "stderr",
     "output_type": "stream",
     "text": [
      "  6%|▋         | 30/468 [00:26<05:43,  1.27it/s]"
     ]
    },
    {
     "name": "stdout",
     "output_type": "stream",
     "text": [
      "Epoch: 6 \tStep: 2370 \tLoss: 0.0085 \tAcc: 1.0\n"
     ]
    },
    {
     "name": "stderr",
     "output_type": "stream",
     "text": [
      "  9%|▊         | 40/468 [00:33<05:39,  1.26it/s]"
     ]
    },
    {
     "name": "stdout",
     "output_type": "stream",
     "text": [
      "Epoch: 6 \tStep: 2380 \tLoss: 0.0030 \tAcc: 1.0\n"
     ]
    },
    {
     "name": "stderr",
     "output_type": "stream",
     "text": [
      " 11%|█         | 50/468 [00:41<05:35,  1.25it/s]"
     ]
    },
    {
     "name": "stdout",
     "output_type": "stream",
     "text": [
      "Epoch: 6 \tStep: 2390 \tLoss: 0.0296 \tAcc: 0.9921875\n"
     ]
    },
    {
     "name": "stderr",
     "output_type": "stream",
     "text": [
      " 13%|█▎        | 60/468 [00:50<06:00,  1.13it/s]"
     ]
    },
    {
     "name": "stdout",
     "output_type": "stream",
     "text": [
      "Epoch: 6 \tStep: 2400 \tLoss: 0.0326 \tAcc: 0.984375\n",
      "**********\n",
      "\tmodule.net.0.weight - grad_avg: 0.0008407859713770449\n",
      "\tmodule.net.0.weight - param_avg: -0.001935284468345344\n",
      "\tmodule.net.0.bias - grad_avg: 4.655341035686433e-05\n",
      "\tmodule.net.0.bias - param_avg: -0.0072576203383505344\n",
      "\tmodule.net.4.weight - grad_avg: -9.24363630474545e-05\n",
      "\tmodule.net.4.weight - param_avg: -0.0012176957679912448\n",
      "\tmodule.net.4.bias - grad_avg: -3.0209936085157096e-05\n",
      "\tmodule.net.4.bias - param_avg: -0.0010802429169416428\n",
      "\tmodule.net.8.weight - grad_avg: -2.3070761017152108e-05\n",
      "\tmodule.net.8.weight - param_avg: -3.505383210722357e-05\n",
      "\tmodule.net.8.bias - grad_avg: -9.002372826216742e-05\n",
      "\tmodule.net.8.bias - param_avg: -0.00019606301793828607\n",
      "\tmodule.net.10.weight - grad_avg: 2.0847644464083714e-06\n",
      "\tmodule.net.10.weight - param_avg: 3.7208003050182015e-05\n",
      "\tmodule.net.10.bias - grad_avg: 3.5977591323899105e-05\n",
      "\tmodule.net.10.bias - param_avg: 0.00043633522000163794\n",
      "\tmodule.net.12.weight - grad_avg: 2.093667262670351e-06\n",
      "\tmodule.net.12.weight - param_avg: 2.6420215363032185e-05\n",
      "\tmodule.net.12.bias - grad_avg: 9.28038643905893e-05\n",
      "\tmodule.net.12.bias - param_avg: 3.190745337633416e-05\n",
      "\tmodule.classifier.1.weight - grad_avg: -2.656342985574156e-07\n",
      "\tmodule.classifier.1.weight - param_avg: 5.289282853482291e-05\n",
      "\tmodule.classifier.1.bias - grad_avg: 1.1051001820305828e-06\n",
      "\tmodule.classifier.1.bias - param_avg: 0.0035954611375927925\n",
      "\tmodule.classifier.4.weight - grad_avg: 3.2141196015800233e-07\n",
      "\tmodule.classifier.4.weight - param_avg: 0.0005287202657200396\n",
      "\tmodule.classifier.4.bias - grad_avg: 3.0212345336622093e-06\n",
      "\tmodule.classifier.4.bias - param_avg: 0.001705460948869586\n",
      "\tmodule.classifier.6.weight - grad_avg: 9.313225884932663e-11\n",
      "\tmodule.classifier.6.weight - param_avg: -0.0009038987336680293\n",
      "\tmodule.classifier.6.bias - grad_avg: 4.976755119123766e-10\n",
      "\tmodule.classifier.6.bias - param_avg: 0.007497691549360752\n"
     ]
    },
    {
     "name": "stderr",
     "output_type": "stream",
     "text": [
      " 15%|█▍        | 70/468 [00:58<05:13,  1.27it/s]"
     ]
    },
    {
     "name": "stdout",
     "output_type": "stream",
     "text": [
      "Epoch: 6 \tStep: 2410 \tLoss: 0.0614 \tAcc: 0.984375\n"
     ]
    },
    {
     "name": "stderr",
     "output_type": "stream",
     "text": [
      " 17%|█▋        | 80/468 [01:05<05:05,  1.27it/s]"
     ]
    },
    {
     "name": "stdout",
     "output_type": "stream",
     "text": [
      "Epoch: 6 \tStep: 2420 \tLoss: 0.0136 \tAcc: 0.9921875\n"
     ]
    },
    {
     "name": "stderr",
     "output_type": "stream",
     "text": [
      " 19%|█▉        | 90/468 [01:13<04:59,  1.26it/s]"
     ]
    },
    {
     "name": "stdout",
     "output_type": "stream",
     "text": [
      "Epoch: 6 \tStep: 2430 \tLoss: 0.0340 \tAcc: 0.984375\n"
     ]
    },
    {
     "name": "stderr",
     "output_type": "stream",
     "text": [
      " 21%|██▏       | 100/468 [01:22<05:30,  1.11it/s]"
     ]
    },
    {
     "name": "stdout",
     "output_type": "stream",
     "text": [
      "Epoch: 6 \tStep: 2440 \tLoss: 0.1053 \tAcc: 0.9765625\n"
     ]
    },
    {
     "name": "stderr",
     "output_type": "stream",
     "text": [
      " 24%|██▎       | 110/468 [01:30<04:59,  1.20it/s]"
     ]
    },
    {
     "name": "stdout",
     "output_type": "stream",
     "text": [
      "Epoch: 6 \tStep: 2450 \tLoss: 0.0289 \tAcc: 0.9921875\n"
     ]
    },
    {
     "name": "stderr",
     "output_type": "stream",
     "text": [
      " 26%|██▌       | 120/468 [01:38<04:58,  1.16it/s]"
     ]
    },
    {
     "name": "stdout",
     "output_type": "stream",
     "text": [
      "Epoch: 6 \tStep: 2460 \tLoss: 0.0382 \tAcc: 0.984375\n"
     ]
    },
    {
     "name": "stderr",
     "output_type": "stream",
     "text": [
      " 28%|██▊       | 130/468 [01:48<05:04,  1.11it/s]"
     ]
    },
    {
     "name": "stdout",
     "output_type": "stream",
     "text": [
      "Epoch: 6 \tStep: 2470 \tLoss: 0.0671 \tAcc: 0.984375\n"
     ]
    },
    {
     "name": "stderr",
     "output_type": "stream",
     "text": [
      " 30%|██▉       | 140/468 [01:56<04:39,  1.18it/s]"
     ]
    },
    {
     "name": "stdout",
     "output_type": "stream",
     "text": [
      "Epoch: 6 \tStep: 2480 \tLoss: 0.0254 \tAcc: 0.9921875\n"
     ]
    },
    {
     "name": "stderr",
     "output_type": "stream",
     "text": [
      " 32%|███▏      | 150/468 [02:05<04:30,  1.17it/s]"
     ]
    },
    {
     "name": "stdout",
     "output_type": "stream",
     "text": [
      "Epoch: 6 \tStep: 2490 \tLoss: 0.0182 \tAcc: 0.9921875\n"
     ]
    },
    {
     "name": "stderr",
     "output_type": "stream",
     "text": [
      " 34%|███▍      | 160/468 [02:14<04:28,  1.15it/s]"
     ]
    },
    {
     "name": "stdout",
     "output_type": "stream",
     "text": [
      "Epoch: 6 \tStep: 2500 \tLoss: 0.0779 \tAcc: 0.9765625\n",
      "**********\n",
      "\tmodule.net.0.weight - grad_avg: 0.0045244647189974785\n",
      "\tmodule.net.0.weight - param_avg: -0.0019425074569880962\n",
      "\tmodule.net.0.bias - grad_avg: 6.857897824374959e-05\n",
      "\tmodule.net.0.bias - param_avg: -0.007440611720085144\n",
      "\tmodule.net.4.weight - grad_avg: 0.0001222304708790034\n",
      "\tmodule.net.4.weight - param_avg: -0.0012532895198091865\n",
      "\tmodule.net.4.bias - grad_avg: 4.42204691353254e-05\n",
      "\tmodule.net.4.bias - param_avg: -0.0010965894907712936\n",
      "\tmodule.net.8.weight - grad_avg: 5.832499300595373e-05\n",
      "\tmodule.net.8.weight - param_avg: -3.487377762212418e-05\n",
      "\tmodule.net.8.bias - grad_avg: 0.00026147771859541535\n",
      "\tmodule.net.8.bias - param_avg: -0.00017545664741192013\n",
      "\tmodule.net.10.weight - grad_avg: 1.5904437532299198e-05\n",
      "\tmodule.net.10.weight - param_avg: 3.729450691025704e-05\n",
      "\tmodule.net.10.bias - grad_avg: 0.00038705996121279895\n",
      "\tmodule.net.10.bias - param_avg: 0.0004624348075594753\n",
      "\tmodule.net.12.weight - grad_avg: -3.2970233405649196e-06\n",
      "\tmodule.net.12.weight - param_avg: 2.6267140128766187e-05\n",
      "\tmodule.net.12.bias - grad_avg: -0.0001878504699561745\n",
      "\tmodule.net.12.bias - param_avg: 2.7420319383963943e-05\n",
      "\tmodule.classifier.1.weight - grad_avg: 4.175543040219054e-07\n",
      "\tmodule.classifier.1.weight - param_avg: 5.422643152996898e-05\n",
      "\tmodule.classifier.1.bias - grad_avg: 9.019964636536315e-05\n",
      "\tmodule.classifier.1.bias - param_avg: 0.0036472894717007875\n",
      "\tmodule.classifier.4.weight - grad_avg: 1.3756651924268226e-06\n",
      "\tmodule.classifier.4.weight - param_avg: 0.0005281668854877353\n",
      "\tmodule.classifier.4.bias - grad_avg: 2.1412148271338083e-05\n",
      "\tmodule.classifier.4.bias - param_avg: 0.0017452718457207084\n",
      "\tmodule.classifier.6.weight - grad_avg: 4.3073669631077394e-10\n",
      "\tmodule.classifier.6.weight - param_avg: -0.0009214117890223861\n",
      "\tmodule.classifier.6.bias - grad_avg: 1.3038515822572094e-09\n",
      "\tmodule.classifier.6.bias - param_avg: 0.007505339570343494\n"
     ]
    },
    {
     "name": "stderr",
     "output_type": "stream",
     "text": [
      " 36%|███▋      | 170/468 [02:22<04:09,  1.20it/s]"
     ]
    },
    {
     "name": "stdout",
     "output_type": "stream",
     "text": [
      "Epoch: 6 \tStep: 2510 \tLoss: 0.0237 \tAcc: 0.9921875\n"
     ]
    },
    {
     "name": "stderr",
     "output_type": "stream",
     "text": [
      " 38%|███▊      | 180/468 [02:31<04:07,  1.16it/s]"
     ]
    },
    {
     "name": "stdout",
     "output_type": "stream",
     "text": [
      "Epoch: 6 \tStep: 2520 \tLoss: 0.0034 \tAcc: 1.0\n"
     ]
    },
    {
     "name": "stderr",
     "output_type": "stream",
     "text": [
      " 41%|████      | 190/468 [02:40<03:52,  1.19it/s]"
     ]
    },
    {
     "name": "stdout",
     "output_type": "stream",
     "text": [
      "Epoch: 6 \tStep: 2530 \tLoss: 0.0045 \tAcc: 1.0\n"
     ]
    },
    {
     "name": "stderr",
     "output_type": "stream",
     "text": [
      " 43%|████▎     | 200/468 [02:48<03:44,  1.19it/s]"
     ]
    },
    {
     "name": "stdout",
     "output_type": "stream",
     "text": [
      "Epoch: 6 \tStep: 2540 \tLoss: 0.0233 \tAcc: 0.984375\n"
     ]
    },
    {
     "name": "stderr",
     "output_type": "stream",
     "text": [
      " 45%|████▍     | 210/468 [02:56<03:35,  1.20it/s]"
     ]
    },
    {
     "name": "stdout",
     "output_type": "stream",
     "text": [
      "Epoch: 6 \tStep: 2550 \tLoss: 0.0457 \tAcc: 0.9921875\n"
     ]
    },
    {
     "name": "stderr",
     "output_type": "stream",
     "text": [
      " 47%|████▋     | 220/468 [03:06<03:47,  1.09it/s]"
     ]
    },
    {
     "name": "stdout",
     "output_type": "stream",
     "text": [
      "Epoch: 6 \tStep: 2560 \tLoss: 0.0412 \tAcc: 0.9921875\n"
     ]
    },
    {
     "name": "stderr",
     "output_type": "stream",
     "text": [
      " 49%|████▉     | 230/468 [03:14<03:20,  1.18it/s]"
     ]
    },
    {
     "name": "stdout",
     "output_type": "stream",
     "text": [
      "Epoch: 6 \tStep: 2570 \tLoss: 0.0500 \tAcc: 0.984375\n"
     ]
    },
    {
     "name": "stderr",
     "output_type": "stream",
     "text": [
      " 51%|█████▏    | 240/468 [03:23<03:11,  1.19it/s]"
     ]
    },
    {
     "name": "stdout",
     "output_type": "stream",
     "text": [
      "Epoch: 6 \tStep: 2580 \tLoss: 0.0981 \tAcc: 0.9609375\n"
     ]
    },
    {
     "name": "stderr",
     "output_type": "stream",
     "text": [
      " 53%|█████▎    | 250/468 [03:31<03:03,  1.19it/s]"
     ]
    },
    {
     "name": "stdout",
     "output_type": "stream",
     "text": [
      "Epoch: 6 \tStep: 2590 \tLoss: 0.0070 \tAcc: 1.0\n"
     ]
    },
    {
     "name": "stderr",
     "output_type": "stream",
     "text": [
      " 56%|█████▌    | 260/468 [03:40<02:54,  1.19it/s]"
     ]
    },
    {
     "name": "stdout",
     "output_type": "stream",
     "text": [
      "Epoch: 6 \tStep: 2600 \tLoss: 0.0675 \tAcc: 0.9765625\n",
      "**********\n",
      "\tmodule.net.0.weight - grad_avg: 0.004237140994518995\n",
      "\tmodule.net.0.weight - param_avg: -0.0019863757770508528\n",
      "\tmodule.net.0.bias - grad_avg: 1.5374049326055683e-05\n",
      "\tmodule.net.0.bias - param_avg: -0.007715709041804075\n",
      "\tmodule.net.4.weight - grad_avg: 0.0001255304377991706\n",
      "\tmodule.net.4.weight - param_avg: -0.0012718632351607084\n",
      "\tmodule.net.4.bias - grad_avg: 2.9588612960651517e-05\n",
      "\tmodule.net.4.bias - param_avg: -0.0011257778387516737\n",
      "\tmodule.net.8.weight - grad_avg: 2.071799463010393e-05\n",
      "\tmodule.net.8.weight - param_avg: -3.632979132817127e-05\n",
      "\tmodule.net.8.bias - grad_avg: 7.992790051503107e-05\n",
      "\tmodule.net.8.bias - param_avg: -0.0002063579740934074\n",
      "\tmodule.net.10.weight - grad_avg: 1.9740020434255712e-05\n",
      "\tmodule.net.10.weight - param_avg: 3.530874528223649e-05\n",
      "\tmodule.net.10.bias - grad_avg: 0.000450166902737692\n",
      "\tmodule.net.10.bias - param_avg: 0.00042407718137837946\n",
      "\tmodule.net.12.weight - grad_avg: 1.3684039004147053e-06\n",
      "\tmodule.net.12.weight - param_avg: 2.6374093067715876e-05\n",
      "\tmodule.net.12.bias - grad_avg: -6.6386564867571e-05\n",
      "\tmodule.net.12.bias - param_avg: 2.9428862035274506e-05\n",
      "\tmodule.classifier.1.weight - grad_avg: 2.0323980720604595e-08\n",
      "\tmodule.classifier.1.weight - param_avg: 5.502234125742689e-05\n",
      "\tmodule.classifier.1.bias - grad_avg: 3.6069672205485404e-05\n",
      "\tmodule.classifier.1.bias - param_avg: 0.0036273174919188023\n",
      "\tmodule.classifier.4.weight - grad_avg: 9.423540632269578e-07\n",
      "\tmodule.classifier.4.weight - param_avg: 0.0005143447779119015\n",
      "\tmodule.classifier.4.bias - grad_avg: 1.2851851352024823e-05\n",
      "\tmodule.classifier.4.bias - param_avg: 0.0017286797519773245\n",
      "\tmodule.classifier.6.weight - grad_avg: 3.8417055647776976e-10\n",
      "\tmodule.classifier.6.weight - param_avg: -0.0009356774389743805\n",
      "\tmodule.classifier.6.bias - grad_avg: 1.3038515822572094e-09\n",
      "\tmodule.classifier.6.bias - param_avg: 0.007506567053496838\n"
     ]
    },
    {
     "name": "stderr",
     "output_type": "stream",
     "text": [
      " 58%|█████▊    | 270/468 [03:49<02:47,  1.18it/s]"
     ]
    },
    {
     "name": "stdout",
     "output_type": "stream",
     "text": [
      "Epoch: 6 \tStep: 2610 \tLoss: 0.0118 \tAcc: 1.0\n"
     ]
    },
    {
     "name": "stderr",
     "output_type": "stream",
     "text": [
      " 60%|█████▉    | 280/468 [03:57<02:37,  1.19it/s]"
     ]
    },
    {
     "name": "stdout",
     "output_type": "stream",
     "text": [
      "Epoch: 6 \tStep: 2620 \tLoss: 0.1043 \tAcc: 0.984375\n"
     ]
    },
    {
     "name": "stderr",
     "output_type": "stream",
     "text": [
      " 62%|██████▏   | 290/468 [04:05<02:28,  1.20it/s]"
     ]
    },
    {
     "name": "stdout",
     "output_type": "stream",
     "text": [
      "Epoch: 6 \tStep: 2630 \tLoss: 0.0090 \tAcc: 1.0\n"
     ]
    },
    {
     "name": "stderr",
     "output_type": "stream",
     "text": [
      " 64%|██████▍   | 300/468 [04:14<02:21,  1.19it/s]"
     ]
    },
    {
     "name": "stdout",
     "output_type": "stream",
     "text": [
      "Epoch: 6 \tStep: 2640 \tLoss: 0.1035 \tAcc: 0.9609375\n"
     ]
    },
    {
     "name": "stderr",
     "output_type": "stream",
     "text": [
      " 66%|██████▌   | 310/468 [04:22<02:12,  1.20it/s]"
     ]
    },
    {
     "name": "stdout",
     "output_type": "stream",
     "text": [
      "Epoch: 6 \tStep: 2650 \tLoss: 0.0066 \tAcc: 1.0\n"
     ]
    },
    {
     "name": "stderr",
     "output_type": "stream",
     "text": [
      " 68%|██████▊   | 320/468 [04:30<02:03,  1.20it/s]"
     ]
    },
    {
     "name": "stdout",
     "output_type": "stream",
     "text": [
      "Epoch: 6 \tStep: 2660 \tLoss: 0.0336 \tAcc: 0.9921875\n"
     ]
    },
    {
     "name": "stderr",
     "output_type": "stream",
     "text": [
      " 71%|███████   | 330/468 [04:39<01:54,  1.21it/s]"
     ]
    },
    {
     "name": "stdout",
     "output_type": "stream",
     "text": [
      "Epoch: 6 \tStep: 2670 \tLoss: 0.0096 \tAcc: 1.0\n"
     ]
    },
    {
     "name": "stderr",
     "output_type": "stream",
     "text": [
      " 73%|███████▎  | 340/468 [04:47<01:47,  1.19it/s]"
     ]
    },
    {
     "name": "stdout",
     "output_type": "stream",
     "text": [
      "Epoch: 6 \tStep: 2680 \tLoss: 0.0032 \tAcc: 1.0\n"
     ]
    },
    {
     "name": "stderr",
     "output_type": "stream",
     "text": [
      " 75%|███████▍  | 350/468 [04:56<01:39,  1.18it/s]"
     ]
    },
    {
     "name": "stdout",
     "output_type": "stream",
     "text": [
      "Epoch: 6 \tStep: 2690 \tLoss: 0.0122 \tAcc: 0.9921875\n"
     ]
    },
    {
     "name": "stderr",
     "output_type": "stream",
     "text": [
      " 77%|███████▋  | 360/468 [05:06<01:50,  1.03s/it]"
     ]
    },
    {
     "name": "stdout",
     "output_type": "stream",
     "text": [
      "Epoch: 6 \tStep: 2700 \tLoss: 0.0018 \tAcc: 1.0\n",
      "**********\n",
      "\tmodule.net.0.weight - grad_avg: -2.7035024686483666e-05\n",
      "\tmodule.net.0.weight - param_avg: -0.0020267083309590816\n",
      "\tmodule.net.0.bias - grad_avg: 7.576024358968425e-07\n",
      "\tmodule.net.0.bias - param_avg: -0.007910204119980335\n",
      "\tmodule.net.4.weight - grad_avg: -1.1483123671496287e-05\n",
      "\tmodule.net.4.weight - param_avg: -0.0012797719100490212\n",
      "\tmodule.net.4.bias - grad_avg: -2.9015852760494454e-06\n",
      "\tmodule.net.4.bias - param_avg: -0.0011099745752289891\n",
      "\tmodule.net.8.weight - grad_avg: -2.9728282697760733e-06\n",
      "\tmodule.net.8.weight - param_avg: -3.74858318537008e-05\n",
      "\tmodule.net.8.bias - grad_avg: -1.1491756595205516e-05\n",
      "\tmodule.net.8.bias - param_avg: -0.00019443196651991457\n",
      "\tmodule.net.10.weight - grad_avg: -8.040985903789988e-07\n",
      "\tmodule.net.10.weight - param_avg: 3.578160612960346e-05\n",
      "\tmodule.net.10.bias - grad_avg: -1.8547058061813004e-05\n",
      "\tmodule.net.10.bias - param_avg: 0.00044333585537970066\n",
      "\tmodule.net.12.weight - grad_avg: -3.1095677854864334e-07\n",
      "\tmodule.net.12.weight - param_avg: 2.655138996487949e-05\n",
      "\tmodule.net.12.bias - grad_avg: -1.7753493011696264e-05\n",
      "\tmodule.net.12.bias - param_avg: 3.4580785722937435e-05\n",
      "\tmodule.classifier.1.weight - grad_avg: -5.093093058405884e-09\n",
      "\tmodule.classifier.1.weight - param_avg: 5.212018731981516e-05\n",
      "\tmodule.classifier.1.bias - grad_avg: -9.332878107670695e-06\n",
      "\tmodule.classifier.1.bias - param_avg: 0.0036427804734557867\n",
      "\tmodule.classifier.4.weight - grad_avg: -1.1448257453139377e-07\n",
      "\tmodule.classifier.4.weight - param_avg: 0.0005089868791401386\n",
      "\tmodule.classifier.4.bias - grad_avg: -1.7157922229671385e-06\n",
      "\tmodule.classifier.4.bias - param_avg: 0.0017457329668104649\n",
      "\tmodule.classifier.6.weight - grad_avg: 4.3364706270310194e-10\n",
      "\tmodule.classifier.6.weight - param_avg: -0.0009484253823757172\n",
      "\tmodule.classifier.6.bias - grad_avg: 1.111766345651688e-09\n",
      "\tmodule.classifier.6.bias - param_avg: 0.007515411823987961\n"
     ]
    },
    {
     "name": "stderr",
     "output_type": "stream",
     "text": [
      " 79%|███████▉  | 370/468 [05:15<01:32,  1.05it/s]"
     ]
    },
    {
     "name": "stdout",
     "output_type": "stream",
     "text": [
      "Epoch: 6 \tStep: 2710 \tLoss: 0.0129 \tAcc: 0.9921875\n"
     ]
    },
    {
     "name": "stderr",
     "output_type": "stream",
     "text": [
      " 81%|████████  | 380/468 [05:25<01:18,  1.12it/s]"
     ]
    },
    {
     "name": "stdout",
     "output_type": "stream",
     "text": [
      "Epoch: 6 \tStep: 2720 \tLoss: 0.0310 \tAcc: 0.984375\n"
     ]
    },
    {
     "name": "stderr",
     "output_type": "stream",
     "text": [
      " 83%|████████▎ | 390/468 [05:33<01:08,  1.13it/s]"
     ]
    },
    {
     "name": "stdout",
     "output_type": "stream",
     "text": [
      "Epoch: 6 \tStep: 2730 \tLoss: 0.0222 \tAcc: 0.9921875\n"
     ]
    },
    {
     "name": "stderr",
     "output_type": "stream",
     "text": [
      " 85%|████████▌ | 400/468 [05:43<01:00,  1.12it/s]"
     ]
    },
    {
     "name": "stdout",
     "output_type": "stream",
     "text": [
      "Epoch: 6 \tStep: 2740 \tLoss: 0.0342 \tAcc: 0.9921875\n"
     ]
    },
    {
     "name": "stderr",
     "output_type": "stream",
     "text": [
      " 88%|████████▊ | 410/468 [05:51<00:49,  1.17it/s]"
     ]
    },
    {
     "name": "stdout",
     "output_type": "stream",
     "text": [
      "Epoch: 6 \tStep: 2750 \tLoss: 0.0035 \tAcc: 1.0\n"
     ]
    },
    {
     "name": "stderr",
     "output_type": "stream",
     "text": [
      " 90%|████████▉ | 420/468 [06:00<00:40,  1.17it/s]"
     ]
    },
    {
     "name": "stdout",
     "output_type": "stream",
     "text": [
      "Epoch: 6 \tStep: 2760 \tLoss: 0.0064 \tAcc: 1.0\n"
     ]
    },
    {
     "name": "stderr",
     "output_type": "stream",
     "text": [
      " 92%|█████████▏| 430/468 [06:08<00:32,  1.17it/s]"
     ]
    },
    {
     "name": "stdout",
     "output_type": "stream",
     "text": [
      "Epoch: 6 \tStep: 2770 \tLoss: 0.0122 \tAcc: 1.0\n"
     ]
    },
    {
     "name": "stderr",
     "output_type": "stream",
     "text": [
      " 94%|█████████▍| 440/468 [06:17<00:23,  1.18it/s]"
     ]
    },
    {
     "name": "stdout",
     "output_type": "stream",
     "text": [
      "Epoch: 6 \tStep: 2780 \tLoss: 0.0880 \tAcc: 0.96875\n"
     ]
    },
    {
     "name": "stderr",
     "output_type": "stream",
     "text": [
      " 96%|█████████▌| 450/468 [06:25<00:15,  1.18it/s]"
     ]
    },
    {
     "name": "stdout",
     "output_type": "stream",
     "text": [
      "Epoch: 6 \tStep: 2790 \tLoss: 0.0195 \tAcc: 0.984375\n"
     ]
    },
    {
     "name": "stderr",
     "output_type": "stream",
     "text": [
      " 98%|█████████▊| 460/468 [06:34<00:06,  1.18it/s]"
     ]
    },
    {
     "name": "stdout",
     "output_type": "stream",
     "text": [
      "Epoch: 6 \tStep: 2800 \tLoss: 0.0341 \tAcc: 0.9921875\n",
      "**********\n",
      "\tmodule.net.0.weight - grad_avg: 0.0005555496318265796\n",
      "\tmodule.net.0.weight - param_avg: -0.002083435421809554\n",
      "\tmodule.net.0.bias - grad_avg: 1.479749334976077e-05\n",
      "\tmodule.net.0.bias - param_avg: -0.00826532207429409\n",
      "\tmodule.net.4.weight - grad_avg: 4.631025512935594e-05\n",
      "\tmodule.net.4.weight - param_avg: -0.0013395821442827582\n",
      "\tmodule.net.4.bias - grad_avg: 1.4418819773709401e-05\n",
      "\tmodule.net.4.bias - param_avg: -0.0012314021587371826\n",
      "\tmodule.net.8.weight - grad_avg: 1.207793229696108e-05\n",
      "\tmodule.net.8.weight - param_avg: -4.563226320897229e-05\n",
      "\tmodule.net.8.bias - grad_avg: 4.915645331493579e-05\n",
      "\tmodule.net.8.bias - param_avg: -0.00030457228422164917\n",
      "\tmodule.net.10.weight - grad_avg: -4.852388428844279e-07\n",
      "\tmodule.net.10.weight - param_avg: 3.378475230420008e-05\n",
      "\tmodule.net.10.bias - grad_avg: -5.035391586716287e-05\n",
      "\tmodule.net.10.bias - param_avg: 0.0003726415743585676\n",
      "\tmodule.net.12.weight - grad_avg: 6.438097699401624e-08\n",
      "\tmodule.net.12.weight - param_avg: 2.632076393638272e-05\n",
      "\tmodule.net.12.bias - grad_avg: 5.030764441471547e-06\n",
      "\tmodule.net.12.bias - param_avg: 2.681970363482833e-05\n",
      "\tmodule.classifier.1.weight - grad_avg: -7.926786338430247e-09\n",
      "\tmodule.classifier.1.weight - param_avg: 5.0893933803308755e-05\n",
      "\tmodule.classifier.1.bias - grad_avg: -1.383217386319302e-05\n",
      "\tmodule.classifier.1.bias - param_avg: 0.003491859883069992\n",
      "\tmodule.classifier.4.weight - grad_avg: -2.817113795572368e-07\n",
      "\tmodule.classifier.4.weight - param_avg: 0.0004924020613543689\n",
      "\tmodule.classifier.4.bias - grad_avg: -4.371015620563412e-06\n",
      "\tmodule.classifier.4.bias - param_avg: 0.0017024797853082418\n",
      "\tmodule.classifier.6.weight - grad_avg: 1.5133991282390014e-10\n",
      "\tmodule.classifier.6.weight - param_avg: -0.0009498001891188323\n",
      "\tmodule.classifier.6.bias - grad_avg: 2.7357599519106657e-10\n",
      "\tmodule.classifier.6.bias - param_avg: 0.007500206585973501\n"
     ]
    },
    {
     "name": "stderr",
     "output_type": "stream",
     "text": [
      "100%|██████████| 468/468 [06:41<00:00,  1.17it/s]\n"
     ]
    },
    {
     "name": "stdout",
     "output_type": "stream",
     "text": [
      "[0.9633413461538461, 0.9799679487179487, 0.9800681089743589, 0.9869791666666666, 0.9853766025641025, 0.9880809294871795] [0.96875, 0.96875, 0.984375, 0.984375, 0.984375, 0.9921875] [tensor(0.1371), tensor(0.0578), tensor(0.1151), tensor(0.0966), tensor(0.0369), tensor(0.0814)] [0.06721928715705872, 0.08769530802965164, 0.052476316690444946, 0.026822051033377647, 0.04598674550652504, 0.03414950892329216]\n"
     ]
    },
    {
     "name": "stderr",
     "output_type": "stream",
     "text": [
      "  0%|          | 2/468 [00:03<12:51,  1.66s/it]"
     ]
    },
    {
     "name": "stdout",
     "output_type": "stream",
     "text": [
      "Epoch: 7 \tStep: 2810 \tLoss: 0.0140 \tAcc: 0.9921875\n"
     ]
    },
    {
     "name": "stderr",
     "output_type": "stream",
     "text": [
      "  3%|▎         | 12/468 [00:12<06:40,  1.14it/s]"
     ]
    },
    {
     "name": "stdout",
     "output_type": "stream",
     "text": [
      "Epoch: 7 \tStep: 2820 \tLoss: 0.0290 \tAcc: 0.984375\n"
     ]
    },
    {
     "name": "stderr",
     "output_type": "stream",
     "text": [
      "  5%|▍         | 22/468 [00:20<06:14,  1.19it/s]"
     ]
    },
    {
     "name": "stdout",
     "output_type": "stream",
     "text": [
      "Epoch: 7 \tStep: 2830 \tLoss: 0.0066 \tAcc: 1.0\n"
     ]
    },
    {
     "name": "stderr",
     "output_type": "stream",
     "text": [
      "  7%|▋         | 32/468 [00:29<06:20,  1.15it/s]"
     ]
    },
    {
     "name": "stdout",
     "output_type": "stream",
     "text": [
      "Epoch: 7 \tStep: 2840 \tLoss: 0.0471 \tAcc: 0.984375\n"
     ]
    },
    {
     "name": "stderr",
     "output_type": "stream",
     "text": [
      "  9%|▉         | 42/468 [00:37<06:00,  1.18it/s]"
     ]
    },
    {
     "name": "stdout",
     "output_type": "stream",
     "text": [
      "Epoch: 7 \tStep: 2850 \tLoss: 0.0050 \tAcc: 1.0\n"
     ]
    },
    {
     "name": "stderr",
     "output_type": "stream",
     "text": [
      " 11%|█         | 52/468 [00:46<05:47,  1.20it/s]"
     ]
    },
    {
     "name": "stdout",
     "output_type": "stream",
     "text": [
      "Epoch: 7 \tStep: 2860 \tLoss: 0.0180 \tAcc: 0.9921875\n"
     ]
    },
    {
     "name": "stderr",
     "output_type": "stream",
     "text": [
      " 13%|█▎        | 62/468 [00:54<05:42,  1.19it/s]"
     ]
    },
    {
     "name": "stdout",
     "output_type": "stream",
     "text": [
      "Epoch: 7 \tStep: 2870 \tLoss: 0.0074 \tAcc: 1.0\n"
     ]
    },
    {
     "name": "stderr",
     "output_type": "stream",
     "text": [
      " 15%|█▌        | 72/468 [01:07<13:42,  2.08s/it]"
     ]
    },
    {
     "name": "stdout",
     "output_type": "stream",
     "text": [
      "Epoch: 7 \tStep: 2880 \tLoss: 0.0169 \tAcc: 0.984375\n"
     ]
    },
    {
     "name": "stderr",
     "output_type": "stream",
     "text": [
      " 18%|█▊        | 82/468 [01:15<05:40,  1.13it/s]"
     ]
    },
    {
     "name": "stdout",
     "output_type": "stream",
     "text": [
      "Epoch: 7 \tStep: 2890 \tLoss: 0.0250 \tAcc: 0.9921875\n"
     ]
    },
    {
     "name": "stderr",
     "output_type": "stream",
     "text": [
      " 20%|█▉        | 92/468 [01:24<05:13,  1.20it/s]"
     ]
    },
    {
     "name": "stdout",
     "output_type": "stream",
     "text": [
      "Epoch: 7 \tStep: 2900 \tLoss: 0.0403 \tAcc: 0.984375\n",
      "**********\n",
      "\tmodule.net.0.weight - grad_avg: -0.0001233210787177086\n",
      "\tmodule.net.0.weight - param_avg: -0.002137718489393592\n",
      "\tmodule.net.0.bias - grad_avg: -1.8831675333785824e-05\n",
      "\tmodule.net.0.bias - param_avg: -0.008535298518836498\n",
      "\tmodule.net.4.weight - grad_avg: -3.656612534541637e-05\n",
      "\tmodule.net.4.weight - param_avg: -0.0013431031256914139\n",
      "\tmodule.net.4.bias - grad_avg: -3.5643788578454405e-06\n",
      "\tmodule.net.4.bias - param_avg: -0.0011936940718442202\n",
      "\tmodule.net.8.weight - grad_avg: -2.7787000362877734e-05\n",
      "\tmodule.net.8.weight - param_avg: -4.4669490307569504e-05\n",
      "\tmodule.net.8.bias - grad_avg: -0.00011295028525637463\n",
      "\tmodule.net.8.bias - param_avg: -0.0002588166098576039\n",
      "\tmodule.net.10.weight - grad_avg: -1.0992508578056004e-05\n",
      "\tmodule.net.10.weight - param_avg: 3.2690812076907605e-05\n",
      "\tmodule.net.10.bias - grad_avg: -0.0002584440808277577\n",
      "\tmodule.net.10.bias - param_avg: 0.00038025566027499735\n",
      "\tmodule.net.12.weight - grad_avg: 1.3226847386249574e-06\n",
      "\tmodule.net.12.weight - param_avg: 2.6497480575926602e-05\n",
      "\tmodule.net.12.bias - grad_avg: 8.043971320148557e-05\n",
      "\tmodule.net.12.bias - param_avg: 3.097150329267606e-05\n",
      "\tmodule.classifier.1.weight - grad_avg: 1.7961001219646278e-07\n",
      "\tmodule.classifier.1.weight - param_avg: 4.933643504045904e-05\n",
      "\tmodule.classifier.1.bias - grad_avg: 2.6559779144008644e-05\n",
      "\tmodule.classifier.1.bias - param_avg: 0.0035322769545018673\n",
      "\tmodule.classifier.4.weight - grad_avg: 1.1225731810782236e-07\n",
      "\tmodule.classifier.4.weight - param_avg: 0.00050542555982247\n",
      "\tmodule.classifier.4.bias - grad_avg: 1.2063675285389763e-06\n",
      "\tmodule.classifier.4.bias - param_avg: 0.0017628762871026993\n",
      "\tmodule.classifier.6.weight - grad_avg: 4.6566129424663316e-11\n",
      "\tmodule.classifier.6.weight - param_avg: -0.0009815623052418232\n",
      "\tmodule.classifier.6.bias - grad_avg: 1.8626451769865326e-10\n",
      "\tmodule.classifier.6.bias - param_avg: 0.007509482558816671\n"
     ]
    },
    {
     "name": "stderr",
     "output_type": "stream",
     "text": [
      " 22%|██▏       | 102/468 [01:32<05:05,  1.20it/s]"
     ]
    },
    {
     "name": "stdout",
     "output_type": "stream",
     "text": [
      "Epoch: 7 \tStep: 2910 \tLoss: 0.0461 \tAcc: 0.9921875\n"
     ]
    },
    {
     "name": "stderr",
     "output_type": "stream",
     "text": [
      " 24%|██▍       | 112/468 [01:40<04:56,  1.20it/s]"
     ]
    },
    {
     "name": "stdout",
     "output_type": "stream",
     "text": [
      "Epoch: 7 \tStep: 2920 \tLoss: 0.0362 \tAcc: 0.984375\n"
     ]
    },
    {
     "name": "stderr",
     "output_type": "stream",
     "text": [
      " 26%|██▌       | 122/468 [01:49<04:54,  1.17it/s]"
     ]
    },
    {
     "name": "stdout",
     "output_type": "stream",
     "text": [
      "Epoch: 7 \tStep: 2930 \tLoss: 0.0030 \tAcc: 1.0\n"
     ]
    },
    {
     "name": "stderr",
     "output_type": "stream",
     "text": [
      " 28%|██▊       | 132/468 [01:58<04:52,  1.15it/s]"
     ]
    },
    {
     "name": "stdout",
     "output_type": "stream",
     "text": [
      "Epoch: 7 \tStep: 2940 \tLoss: 0.0377 \tAcc: 0.984375\n"
     ]
    },
    {
     "name": "stderr",
     "output_type": "stream",
     "text": [
      " 30%|███       | 142/468 [02:06<04:33,  1.19it/s]"
     ]
    },
    {
     "name": "stdout",
     "output_type": "stream",
     "text": [
      "Epoch: 7 \tStep: 2950 \tLoss: 0.0173 \tAcc: 1.0\n"
     ]
    },
    {
     "name": "stderr",
     "output_type": "stream",
     "text": [
      " 32%|███▏      | 152/468 [02:14<04:27,  1.18it/s]"
     ]
    },
    {
     "name": "stdout",
     "output_type": "stream",
     "text": [
      "Epoch: 7 \tStep: 2960 \tLoss: 0.0432 \tAcc: 0.9921875\n"
     ]
    },
    {
     "name": "stderr",
     "output_type": "stream",
     "text": [
      " 35%|███▍      | 162/468 [02:23<04:15,  1.20it/s]"
     ]
    },
    {
     "name": "stdout",
     "output_type": "stream",
     "text": [
      "Epoch: 7 \tStep: 2970 \tLoss: 0.0054 \tAcc: 1.0\n"
     ]
    },
    {
     "name": "stderr",
     "output_type": "stream",
     "text": [
      " 37%|███▋      | 172/468 [02:31<04:07,  1.20it/s]"
     ]
    },
    {
     "name": "stdout",
     "output_type": "stream",
     "text": [
      "Epoch: 7 \tStep: 2980 \tLoss: 0.0082 \tAcc: 0.9921875\n"
     ]
    },
    {
     "name": "stderr",
     "output_type": "stream",
     "text": [
      " 39%|███▉      | 182/468 [02:40<04:00,  1.19it/s]"
     ]
    },
    {
     "name": "stdout",
     "output_type": "stream",
     "text": [
      "Epoch: 7 \tStep: 2990 \tLoss: 0.0331 \tAcc: 0.984375\n"
     ]
    },
    {
     "name": "stderr",
     "output_type": "stream",
     "text": [
      " 41%|████      | 192/468 [02:48<03:56,  1.17it/s]"
     ]
    },
    {
     "name": "stdout",
     "output_type": "stream",
     "text": [
      "Epoch: 7 \tStep: 3000 \tLoss: 0.0413 \tAcc: 0.9765625\n",
      "**********\n",
      "\tmodule.net.0.weight - grad_avg: 0.003911451902240515\n",
      "\tmodule.net.0.weight - param_avg: -0.0021023086737841368\n",
      "\tmodule.net.0.bias - grad_avg: 1.1203671419934835e-05\n",
      "\tmodule.net.0.bias - param_avg: -0.008578064851462841\n",
      "\tmodule.net.4.weight - grad_avg: -2.5779070710996166e-05\n",
      "\tmodule.net.4.weight - param_avg: -0.0013626099098473787\n",
      "\tmodule.net.4.bias - grad_avg: 5.258705641608685e-06\n",
      "\tmodule.net.4.bias - param_avg: -0.0012268946738913655\n",
      "\tmodule.net.8.weight - grad_avg: 1.4857346286589745e-05\n",
      "\tmodule.net.8.weight - param_avg: -4.444574733497575e-05\n",
      "\tmodule.net.8.bias - grad_avg: 8.04948722361587e-05\n",
      "\tmodule.net.8.bias - param_avg: -0.00022496416931971908\n",
      "\tmodule.net.10.weight - grad_avg: 9.030383125718799e-07\n",
      "\tmodule.net.10.weight - param_avg: 3.356908928253688e-05\n",
      "\tmodule.net.10.bias - grad_avg: 4.433136564330198e-05\n",
      "\tmodule.net.10.bias - param_avg: 0.0004289326025173068\n",
      "\tmodule.net.12.weight - grad_avg: 1.7616906688999734e-06\n",
      "\tmodule.net.12.weight - param_avg: 2.61356162809534e-05\n",
      "\tmodule.net.12.bias - grad_avg: 0.00015296795754693449\n",
      "\tmodule.net.12.bias - param_avg: 2.5408480723854154e-05\n",
      "\tmodule.classifier.1.weight - grad_avg: 1.1033524316417243e-08\n",
      "\tmodule.classifier.1.weight - param_avg: 5.048776074545458e-05\n",
      "\tmodule.classifier.1.bias - grad_avg: 8.974231604952365e-06\n",
      "\tmodule.classifier.1.bias - param_avg: 0.003612927161157131\n",
      "\tmodule.classifier.4.weight - grad_avg: 1.2583441844071785e-08\n",
      "\tmodule.classifier.4.weight - param_avg: 0.0005119357956573367\n",
      "\tmodule.classifier.4.bias - grad_avg: 9.673278782429406e-07\n",
      "\tmodule.classifier.4.bias - param_avg: 0.0018086022464558482\n",
      "\tmodule.classifier.6.weight - grad_avg: 9.313225884932663e-11\n",
      "\tmodule.classifier.6.weight - param_avg: -0.001020326977595687\n",
      "\tmodule.classifier.6.bias - grad_avg: 3.2596289556430236e-10\n",
      "\tmodule.classifier.6.bias - param_avg: 0.007498707622289658\n"
     ]
    },
    {
     "name": "stderr",
     "output_type": "stream",
     "text": [
      " 43%|████▎     | 202/468 [02:56<03:43,  1.19it/s]"
     ]
    },
    {
     "name": "stdout",
     "output_type": "stream",
     "text": [
      "Epoch: 7 \tStep: 3010 \tLoss: 0.0250 \tAcc: 0.9921875\n"
     ]
    },
    {
     "name": "stderr",
     "output_type": "stream",
     "text": [
      " 45%|████▌     | 212/468 [03:05<03:32,  1.20it/s]"
     ]
    },
    {
     "name": "stdout",
     "output_type": "stream",
     "text": [
      "Epoch: 7 \tStep: 3020 \tLoss: 0.0750 \tAcc: 0.9609375\n"
     ]
    },
    {
     "name": "stderr",
     "output_type": "stream",
     "text": [
      " 47%|████▋     | 222/468 [03:13<03:25,  1.20it/s]"
     ]
    },
    {
     "name": "stdout",
     "output_type": "stream",
     "text": [
      "Epoch: 7 \tStep: 3030 \tLoss: 0.0062 \tAcc: 1.0\n"
     ]
    },
    {
     "name": "stderr",
     "output_type": "stream",
     "text": [
      " 50%|████▉     | 232/468 [03:21<03:16,  1.20it/s]"
     ]
    },
    {
     "name": "stdout",
     "output_type": "stream",
     "text": [
      "Epoch: 7 \tStep: 3040 \tLoss: 0.0068 \tAcc: 1.0\n"
     ]
    },
    {
     "name": "stderr",
     "output_type": "stream",
     "text": [
      " 52%|█████▏    | 242/468 [03:30<03:09,  1.20it/s]"
     ]
    },
    {
     "name": "stdout",
     "output_type": "stream",
     "text": [
      "Epoch: 7 \tStep: 3050 \tLoss: 0.0392 \tAcc: 0.9765625\n"
     ]
    },
    {
     "name": "stderr",
     "output_type": "stream",
     "text": [
      " 54%|█████▍    | 252/468 [03:38<03:01,  1.19it/s]"
     ]
    },
    {
     "name": "stdout",
     "output_type": "stream",
     "text": [
      "Epoch: 7 \tStep: 3060 \tLoss: 0.0462 \tAcc: 0.984375\n"
     ]
    },
    {
     "name": "stderr",
     "output_type": "stream",
     "text": [
      " 56%|█████▌    | 262/468 [03:47<02:51,  1.20it/s]"
     ]
    },
    {
     "name": "stdout",
     "output_type": "stream",
     "text": [
      "Epoch: 7 \tStep: 3070 \tLoss: 0.0489 \tAcc: 0.984375\n"
     ]
    },
    {
     "name": "stderr",
     "output_type": "stream",
     "text": [
      " 58%|█████▊    | 272/468 [03:55<02:45,  1.19it/s]"
     ]
    },
    {
     "name": "stdout",
     "output_type": "stream",
     "text": [
      "Epoch: 7 \tStep: 3080 \tLoss: 0.0122 \tAcc: 0.9921875\n"
     ]
    },
    {
     "name": "stderr",
     "output_type": "stream",
     "text": [
      " 60%|██████    | 282/468 [04:04<02:37,  1.18it/s]"
     ]
    },
    {
     "name": "stdout",
     "output_type": "stream",
     "text": [
      "Epoch: 7 \tStep: 3090 \tLoss: 0.0031 \tAcc: 1.0\n"
     ]
    },
    {
     "name": "stderr",
     "output_type": "stream",
     "text": [
      " 62%|██████▏   | 292/468 [04:12<02:29,  1.18it/s]"
     ]
    },
    {
     "name": "stdout",
     "output_type": "stream",
     "text": [
      "Epoch: 7 \tStep: 3100 \tLoss: 0.0352 \tAcc: 0.9921875\n",
      "**********\n",
      "\tmodule.net.0.weight - grad_avg: 0.0019148238934576511\n",
      "\tmodule.net.0.weight - param_avg: -0.0022046284284442663\n",
      "\tmodule.net.0.bias - grad_avg: 4.746357262774836e-06\n",
      "\tmodule.net.0.bias - param_avg: -0.009043117053806782\n",
      "\tmodule.net.4.weight - grad_avg: -2.4922555894590914e-05\n",
      "\tmodule.net.4.weight - param_avg: -0.0014107648748904467\n",
      "\tmodule.net.4.bias - grad_avg: -9.402787327417172e-06\n",
      "\tmodule.net.4.bias - param_avg: -0.0013153227046132088\n",
      "\tmodule.net.8.weight - grad_avg: -3.717433401106973e-06\n",
      "\tmodule.net.8.weight - param_avg: -5.080593109596521e-05\n",
      "\tmodule.net.8.bias - grad_avg: -2.5121846192632802e-05\n",
      "\tmodule.net.8.bias - param_avg: -0.00032966319122351706\n",
      "\tmodule.net.10.weight - grad_avg: 1.5277167904059752e-06\n",
      "\tmodule.net.10.weight - param_avg: 3.136316445306875e-05\n",
      "\tmodule.net.10.bias - grad_avg: 6.469952495535836e-05\n",
      "\tmodule.net.10.bias - param_avg: 0.00036764421383850276\n",
      "\tmodule.net.12.weight - grad_avg: 1.2552023918033228e-06\n",
      "\tmodule.net.12.weight - param_avg: 2.635043165355455e-05\n",
      "\tmodule.net.12.bias - grad_avg: 9.851824870565906e-05\n",
      "\tmodule.net.12.bias - param_avg: 3.149885014863685e-05\n",
      "\tmodule.classifier.1.weight - grad_avg: 5.2230959113330755e-08\n",
      "\tmodule.classifier.1.weight - param_avg: 5.121274807606824e-05\n",
      "\tmodule.classifier.1.bias - grad_avg: 9.035014954861253e-06\n",
      "\tmodule.classifier.1.bias - param_avg: 0.0034539238549768925\n",
      "\tmodule.classifier.4.weight - grad_avg: -7.211330199652366e-09\n",
      "\tmodule.classifier.4.weight - param_avg: 0.0004798560403287411\n",
      "\tmodule.classifier.4.bias - grad_avg: 1.7965913912121323e-06\n",
      "\tmodule.classifier.4.bias - param_avg: 0.001753063639625907\n",
      "\tmodule.classifier.6.weight - grad_avg: 3.2014213502407074e-10\n",
      "\tmodule.classifier.6.weight - param_avg: -0.0010020973859354854\n",
      "\tmodule.classifier.6.bias - grad_avg: 1.0011718121205604e-09\n",
      "\tmodule.classifier.6.bias - param_avg: 0.007513078395277262\n"
     ]
    },
    {
     "name": "stderr",
     "output_type": "stream",
     "text": [
      " 65%|██████▍   | 302/468 [04:20<02:19,  1.19it/s]"
     ]
    },
    {
     "name": "stdout",
     "output_type": "stream",
     "text": [
      "Epoch: 7 \tStep: 3110 \tLoss: 0.0173 \tAcc: 0.9921875\n"
     ]
    },
    {
     "name": "stderr",
     "output_type": "stream",
     "text": [
      " 67%|██████▋   | 312/468 [04:29<02:10,  1.19it/s]"
     ]
    },
    {
     "name": "stdout",
     "output_type": "stream",
     "text": [
      "Epoch: 7 \tStep: 3120 \tLoss: 0.0575 \tAcc: 0.9921875\n"
     ]
    },
    {
     "name": "stderr",
     "output_type": "stream",
     "text": [
      " 69%|██████▉   | 322/468 [04:37<02:02,  1.19it/s]"
     ]
    },
    {
     "name": "stdout",
     "output_type": "stream",
     "text": [
      "Epoch: 7 \tStep: 3130 \tLoss: 0.0350 \tAcc: 0.9765625\n"
     ]
    },
    {
     "name": "stderr",
     "output_type": "stream",
     "text": [
      " 71%|███████   | 332/468 [04:46<01:54,  1.19it/s]"
     ]
    },
    {
     "name": "stdout",
     "output_type": "stream",
     "text": [
      "Epoch: 7 \tStep: 3140 \tLoss: 0.0050 \tAcc: 1.0\n"
     ]
    },
    {
     "name": "stderr",
     "output_type": "stream",
     "text": [
      " 73%|███████▎  | 342/468 [04:54<01:48,  1.16it/s]"
     ]
    },
    {
     "name": "stdout",
     "output_type": "stream",
     "text": [
      "Epoch: 7 \tStep: 3150 \tLoss: 0.0727 \tAcc: 0.96875\n"
     ]
    },
    {
     "name": "stderr",
     "output_type": "stream",
     "text": [
      " 75%|███████▌  | 352/468 [05:03<01:37,  1.19it/s]"
     ]
    },
    {
     "name": "stdout",
     "output_type": "stream",
     "text": [
      "Epoch: 7 \tStep: 3160 \tLoss: 0.0383 \tAcc: 0.9921875\n"
     ]
    },
    {
     "name": "stderr",
     "output_type": "stream",
     "text": [
      " 77%|███████▋  | 362/468 [05:11<01:28,  1.20it/s]"
     ]
    },
    {
     "name": "stdout",
     "output_type": "stream",
     "text": [
      "Epoch: 7 \tStep: 3170 \tLoss: 0.0464 \tAcc: 0.984375\n"
     ]
    },
    {
     "name": "stderr",
     "output_type": "stream",
     "text": [
      " 79%|███████▉  | 372/468 [05:19<01:23,  1.15it/s]"
     ]
    },
    {
     "name": "stdout",
     "output_type": "stream",
     "text": [
      "Epoch: 7 \tStep: 3180 \tLoss: 0.0268 \tAcc: 0.984375\n"
     ]
    },
    {
     "name": "stderr",
     "output_type": "stream",
     "text": [
      " 82%|████████▏ | 382/468 [05:28<01:11,  1.20it/s]"
     ]
    },
    {
     "name": "stdout",
     "output_type": "stream",
     "text": [
      "Epoch: 7 \tStep: 3190 \tLoss: 0.0321 \tAcc: 0.9921875\n"
     ]
    },
    {
     "name": "stderr",
     "output_type": "stream",
     "text": [
      " 84%|████████▍ | 392/468 [05:36<01:03,  1.20it/s]"
     ]
    },
    {
     "name": "stdout",
     "output_type": "stream",
     "text": [
      "Epoch: 7 \tStep: 3200 \tLoss: 0.0325 \tAcc: 0.9921875\n",
      "**********\n",
      "\tmodule.net.0.weight - grad_avg: 0.0010010934202000499\n",
      "\tmodule.net.0.weight - param_avg: -0.0021853542421013117\n",
      "\tmodule.net.0.bias - grad_avg: 1.1731041922757868e-05\n",
      "\tmodule.net.0.bias - param_avg: -0.009214823134243488\n",
      "\tmodule.net.4.weight - grad_avg: 2.4633425709907897e-05\n",
      "\tmodule.net.4.weight - param_avg: -0.001411428558640182\n",
      "\tmodule.net.4.bias - grad_avg: 1.6436750229331665e-05\n",
      "\tmodule.net.4.bias - param_avg: -0.0012930574594065547\n",
      "\tmodule.net.8.weight - grad_avg: 2.870152400191728e-07\n",
      "\tmodule.net.8.weight - param_avg: -5.080741902929731e-05\n",
      "\tmodule.net.8.bias - grad_avg: 2.560887196523254e-06\n",
      "\tmodule.net.8.bias - param_avg: -0.0003080788010265678\n",
      "\tmodule.net.10.weight - grad_avg: 1.574270754645113e-06\n",
      "\tmodule.net.10.weight - param_avg: 3.210468639736064e-05\n",
      "\tmodule.net.10.bias - grad_avg: 6.754576315870509e-05\n",
      "\tmodule.net.10.bias - param_avg: 0.00040195463225245476\n",
      "\tmodule.net.12.weight - grad_avg: -1.622122795197356e-06\n",
      "\tmodule.net.12.weight - param_avg: 2.6272005925420672e-05\n",
      "\tmodule.net.12.bias - grad_avg: -0.00015136486035771668\n",
      "\tmodule.net.12.bias - param_avg: 2.57710344158113e-05\n",
      "\tmodule.classifier.1.weight - grad_avg: 9.016410018602983e-08\n",
      "\tmodule.classifier.1.weight - param_avg: 5.0198672397527844e-05\n",
      "\tmodule.classifier.1.bias - grad_avg: 4.6484845370287076e-05\n",
      "\tmodule.classifier.1.bias - param_avg: 0.003505669068545103\n",
      "\tmodule.classifier.4.weight - grad_avg: 3.347200561165664e-07\n",
      "\tmodule.classifier.4.weight - param_avg: 0.0004920635255984962\n",
      "\tmodule.classifier.4.bias - grad_avg: 7.890585948189255e-06\n",
      "\tmodule.classifier.4.bias - param_avg: 0.0018105548806488514\n",
      "\tmodule.classifier.6.weight - grad_avg: 4.3073669631077394e-10\n",
      "\tmodule.classifier.6.weight - param_avg: -0.0010374939301982522\n",
      "\tmodule.classifier.6.bias - grad_avg: 1.2660166248679161e-09\n",
      "\tmodule.classifier.6.bias - param_avg: 0.007489614188671112\n"
     ]
    },
    {
     "name": "stderr",
     "output_type": "stream",
     "text": [
      " 86%|████████▌ | 402/468 [05:44<00:54,  1.20it/s]"
     ]
    },
    {
     "name": "stdout",
     "output_type": "stream",
     "text": [
      "Epoch: 7 \tStep: 3210 \tLoss: 0.0031 \tAcc: 1.0\n"
     ]
    },
    {
     "name": "stderr",
     "output_type": "stream",
     "text": [
      " 88%|████████▊ | 412/468 [05:53<00:47,  1.18it/s]"
     ]
    },
    {
     "name": "stdout",
     "output_type": "stream",
     "text": [
      "Epoch: 7 \tStep: 3220 \tLoss: 0.0250 \tAcc: 0.9921875\n"
     ]
    },
    {
     "name": "stderr",
     "output_type": "stream",
     "text": [
      " 90%|█████████ | 422/468 [06:01<00:38,  1.21it/s]"
     ]
    },
    {
     "name": "stdout",
     "output_type": "stream",
     "text": [
      "Epoch: 7 \tStep: 3230 \tLoss: 0.0059 \tAcc: 1.0\n"
     ]
    },
    {
     "name": "stderr",
     "output_type": "stream",
     "text": [
      " 92%|█████████▏| 432/468 [06:10<00:30,  1.16it/s]"
     ]
    },
    {
     "name": "stdout",
     "output_type": "stream",
     "text": [
      "Epoch: 7 \tStep: 3240 \tLoss: 0.0218 \tAcc: 0.9921875\n"
     ]
    },
    {
     "name": "stderr",
     "output_type": "stream",
     "text": [
      " 94%|█████████▍| 442/468 [06:18<00:21,  1.20it/s]"
     ]
    },
    {
     "name": "stdout",
     "output_type": "stream",
     "text": [
      "Epoch: 7 \tStep: 3250 \tLoss: 0.0555 \tAcc: 0.96875\n"
     ]
    },
    {
     "name": "stderr",
     "output_type": "stream",
     "text": [
      " 97%|█████████▋| 452/468 [06:26<00:13,  1.21it/s]"
     ]
    },
    {
     "name": "stdout",
     "output_type": "stream",
     "text": [
      "Epoch: 7 \tStep: 3260 \tLoss: 0.0093 \tAcc: 1.0\n"
     ]
    },
    {
     "name": "stderr",
     "output_type": "stream",
     "text": [
      " 99%|█████████▊| 462/468 [06:35<00:04,  1.21it/s]"
     ]
    },
    {
     "name": "stdout",
     "output_type": "stream",
     "text": [
      "Epoch: 7 \tStep: 3270 \tLoss: 0.0209 \tAcc: 0.9921875\n"
     ]
    },
    {
     "name": "stderr",
     "output_type": "stream",
     "text": [
      "100%|██████████| 468/468 [06:40<00:00,  1.17it/s]\n"
     ]
    },
    {
     "name": "stdout",
     "output_type": "stream",
     "text": [
      "[0.9633413461538461, 0.9799679487179487, 0.9800681089743589, 0.9869791666666666, 0.9853766025641025, 0.9880809294871795, 0.9840745192307693] [0.96875, 0.96875, 0.984375, 0.984375, 0.984375, 0.9921875, 0.9921875] [tensor(0.1371), tensor(0.0578), tensor(0.1151), tensor(0.0966), tensor(0.0369), tensor(0.0814), tensor(0.0205)] [0.06721928715705872, 0.08769530802965164, 0.052476316690444946, 0.026822051033377647, 0.04598674550652504, 0.03414950892329216, 0.02085966244339943]\n"
     ]
    },
    {
     "name": "stderr",
     "output_type": "stream",
     "text": [
      "  1%|          | 4/468 [00:05<08:28,  1.10s/it]"
     ]
    },
    {
     "name": "stdout",
     "output_type": "stream",
     "text": [
      "Epoch: 8 \tStep: 3280 \tLoss: 0.0357 \tAcc: 0.984375\n"
     ]
    },
    {
     "name": "stderr",
     "output_type": "stream",
     "text": [
      "  3%|▎         | 14/468 [00:13<06:19,  1.20it/s]"
     ]
    },
    {
     "name": "stdout",
     "output_type": "stream",
     "text": [
      "Epoch: 8 \tStep: 3290 \tLoss: 0.0282 \tAcc: 0.984375\n"
     ]
    },
    {
     "name": "stderr",
     "output_type": "stream",
     "text": [
      "  5%|▌         | 24/468 [00:21<06:10,  1.20it/s]"
     ]
    },
    {
     "name": "stdout",
     "output_type": "stream",
     "text": [
      "Epoch: 8 \tStep: 3300 \tLoss: 0.0298 \tAcc: 0.9921875\n",
      "**********\n",
      "\tmodule.net.0.weight - grad_avg: 0.0002877474471461028\n",
      "\tmodule.net.0.weight - param_avg: -0.002308310940861702\n",
      "\tmodule.net.0.bias - grad_avg: 3.0765888823225396e-06\n",
      "\tmodule.net.0.bias - param_avg: -0.009641462005674839\n",
      "\tmodule.net.4.weight - grad_avg: -3.851511064567603e-05\n",
      "\tmodule.net.4.weight - param_avg: -0.0014480693498626351\n",
      "\tmodule.net.4.bias - grad_avg: -1.712550329102669e-05\n",
      "\tmodule.net.4.bias - param_avg: -0.0013286679750308394\n",
      "\tmodule.net.8.weight - grad_avg: -2.0238561774021946e-05\n",
      "\tmodule.net.8.weight - param_avg: -5.41999215784017e-05\n",
      "\tmodule.net.8.bias - grad_avg: -0.00011603644816204906\n",
      "\tmodule.net.8.bias - param_avg: -0.00034594108001329005\n",
      "\tmodule.net.10.weight - grad_avg: -4.330460797064006e-06\n",
      "\tmodule.net.10.weight - param_avg: 2.9704522603424266e-05\n",
      "\tmodule.net.10.bias - grad_avg: -0.00015690791769884527\n",
      "\tmodule.net.10.bias - param_avg: 0.00036839788663201034\n",
      "\tmodule.net.12.weight - grad_avg: 3.171050138917053e-06\n",
      "\tmodule.net.12.weight - param_avg: 2.6553037969279103e-05\n",
      "\tmodule.net.12.bias - grad_avg: 0.00020385277457535267\n",
      "\tmodule.net.12.bias - param_avg: 2.942669379990548e-05\n",
      "\tmodule.classifier.1.weight - grad_avg: 1.4742552423285815e-07\n",
      "\tmodule.classifier.1.weight - param_avg: 4.8157649871427566e-05\n",
      "\tmodule.classifier.1.bias - grad_avg: 9.098287137021543e-07\n",
      "\tmodule.classifier.1.bias - param_avg: 0.0034203017130494118\n",
      "\tmodule.classifier.4.weight - grad_avg: -4.970939571080635e-08\n",
      "\tmodule.classifier.4.weight - param_avg: 0.0004781816969625652\n",
      "\tmodule.classifier.4.bias - grad_avg: -1.593848082848126e-06\n",
      "\tmodule.classifier.4.bias - param_avg: 0.0018060035072267056\n",
      "\tmodule.classifier.6.weight - grad_avg: 3.376044444003412e-10\n",
      "\tmodule.classifier.6.weight - param_avg: -0.0010403190972283483\n",
      "\tmodule.classifier.6.bias - grad_avg: 8.381902949494702e-10\n",
      "\tmodule.classifier.6.bias - param_avg: 0.007503342814743519\n"
     ]
    },
    {
     "name": "stderr",
     "output_type": "stream",
     "text": [
      "  7%|▋         | 34/468 [00:30<06:01,  1.20it/s]"
     ]
    },
    {
     "name": "stdout",
     "output_type": "stream",
     "text": [
      "Epoch: 8 \tStep: 3310 \tLoss: 0.0073 \tAcc: 1.0\n"
     ]
    },
    {
     "name": "stderr",
     "output_type": "stream",
     "text": [
      "  9%|▉         | 44/468 [00:38<05:48,  1.22it/s]"
     ]
    },
    {
     "name": "stdout",
     "output_type": "stream",
     "text": [
      "Epoch: 8 \tStep: 3320 \tLoss: 0.0056 \tAcc: 1.0\n"
     ]
    },
    {
     "name": "stderr",
     "output_type": "stream",
     "text": [
      " 12%|█▏        | 54/468 [00:47<05:56,  1.16it/s]"
     ]
    },
    {
     "name": "stdout",
     "output_type": "stream",
     "text": [
      "Epoch: 8 \tStep: 3330 \tLoss: 0.0080 \tAcc: 1.0\n"
     ]
    },
    {
     "name": "stderr",
     "output_type": "stream",
     "text": [
      " 14%|█▎        | 64/468 [00:55<05:36,  1.20it/s]"
     ]
    },
    {
     "name": "stdout",
     "output_type": "stream",
     "text": [
      "Epoch: 8 \tStep: 3340 \tLoss: 0.0319 \tAcc: 0.9921875\n"
     ]
    },
    {
     "name": "stderr",
     "output_type": "stream",
     "text": [
      " 16%|█▌        | 74/468 [01:03<05:26,  1.21it/s]"
     ]
    },
    {
     "name": "stdout",
     "output_type": "stream",
     "text": [
      "Epoch: 8 \tStep: 3350 \tLoss: 0.0159 \tAcc: 0.9921875\n"
     ]
    },
    {
     "name": "stderr",
     "output_type": "stream",
     "text": [
      " 18%|█▊        | 84/468 [01:11<05:18,  1.21it/s]"
     ]
    },
    {
     "name": "stdout",
     "output_type": "stream",
     "text": [
      "Epoch: 8 \tStep: 3360 \tLoss: 0.0061 \tAcc: 1.0\n"
     ]
    },
    {
     "name": "stderr",
     "output_type": "stream",
     "text": [
      " 20%|██        | 94/468 [01:20<05:12,  1.20it/s]"
     ]
    },
    {
     "name": "stdout",
     "output_type": "stream",
     "text": [
      "Epoch: 8 \tStep: 3370 \tLoss: 0.0353 \tAcc: 0.9921875\n"
     ]
    },
    {
     "name": "stderr",
     "output_type": "stream",
     "text": [
      " 22%|██▏       | 104/468 [01:28<05:01,  1.21it/s]"
     ]
    },
    {
     "name": "stdout",
     "output_type": "stream",
     "text": [
      "Epoch: 8 \tStep: 3380 \tLoss: 0.0410 \tAcc: 0.984375\n"
     ]
    },
    {
     "name": "stderr",
     "output_type": "stream",
     "text": [
      " 24%|██▍       | 114/468 [01:36<04:51,  1.21it/s]"
     ]
    },
    {
     "name": "stdout",
     "output_type": "stream",
     "text": [
      "Epoch: 8 \tStep: 3390 \tLoss: 0.0051 \tAcc: 1.0\n"
     ]
    },
    {
     "name": "stderr",
     "output_type": "stream",
     "text": [
      " 26%|██▋       | 124/468 [01:45<04:46,  1.20it/s]"
     ]
    },
    {
     "name": "stdout",
     "output_type": "stream",
     "text": [
      "Epoch: 8 \tStep: 3400 \tLoss: 0.0337 \tAcc: 0.984375\n",
      "**********\n",
      "\tmodule.net.0.weight - grad_avg: 0.0023841990623623133\n",
      "\tmodule.net.0.weight - param_avg: -0.0023334925062954426\n",
      "\tmodule.net.0.bias - grad_avg: 6.060055966372602e-05\n",
      "\tmodule.net.0.bias - param_avg: -0.009893078356981277\n",
      "\tmodule.net.4.weight - grad_avg: 6.996568117756397e-05\n",
      "\tmodule.net.4.weight - param_avg: -0.001455697463825345\n",
      "\tmodule.net.4.bias - grad_avg: 3.2704971090424806e-05\n",
      "\tmodule.net.4.bias - param_avg: -0.0013319182908162475\n",
      "\tmodule.net.8.weight - grad_avg: 2.6461841116542928e-05\n",
      "\tmodule.net.8.weight - param_avg: -5.3720719733973965e-05\n",
      "\tmodule.net.8.bias - grad_avg: 0.0001318759168498218\n",
      "\tmodule.net.8.bias - param_avg: -0.0003224748943466693\n",
      "\tmodule.net.10.weight - grad_avg: -2.623241698529455e-06\n",
      "\tmodule.net.10.weight - param_avg: 3.145665323245339e-05\n",
      "\tmodule.net.10.bias - grad_avg: -7.75407170294784e-05\n",
      "\tmodule.net.10.bias - param_avg: 0.00040719506796449423\n",
      "\tmodule.net.12.weight - grad_avg: -2.043311042143614e-06\n",
      "\tmodule.net.12.weight - param_avg: 2.660302743606735e-05\n",
      "\tmodule.net.12.bias - grad_avg: -0.00013322352606337517\n",
      "\tmodule.net.12.bias - param_avg: 2.2633954358752817e-05\n",
      "\tmodule.classifier.1.weight - grad_avg: 1.7025125487180048e-07\n",
      "\tmodule.classifier.1.weight - param_avg: 4.842297494178638e-05\n",
      "\tmodule.classifier.1.bias - grad_avg: 2.198920992668718e-05\n",
      "\tmodule.classifier.1.bias - param_avg: 0.003430549753829837\n",
      "\tmodule.classifier.4.weight - grad_avg: 5.364744879443606e-07\n",
      "\tmodule.classifier.4.weight - param_avg: 0.0004850551194977015\n",
      "\tmodule.classifier.4.bias - grad_avg: 7.857580385461915e-06\n",
      "\tmodule.classifier.4.bias - param_avg: 0.0018380365800112486\n",
      "\tmodule.classifier.6.weight - grad_avg: 4.889443294686657e-10\n",
      "\tmodule.classifier.6.weight - param_avg: -0.001062832772731781\n",
      "\tmodule.classifier.6.bias - grad_avg: 1.3969838619232178e-09\n",
      "\tmodule.classifier.6.bias - param_avg: 0.007492972072213888\n"
     ]
    },
    {
     "name": "stderr",
     "output_type": "stream",
     "text": [
      " 29%|██▊       | 134/468 [01:53<04:38,  1.20it/s]"
     ]
    },
    {
     "name": "stdout",
     "output_type": "stream",
     "text": [
      "Epoch: 8 \tStep: 3410 \tLoss: 0.0048 \tAcc: 1.0\n"
     ]
    },
    {
     "name": "stderr",
     "output_type": "stream",
     "text": [
      " 31%|███       | 144/468 [02:01<04:29,  1.20it/s]"
     ]
    },
    {
     "name": "stdout",
     "output_type": "stream",
     "text": [
      "Epoch: 8 \tStep: 3420 \tLoss: 0.0296 \tAcc: 0.9921875\n"
     ]
    },
    {
     "name": "stderr",
     "output_type": "stream",
     "text": [
      " 33%|███▎      | 154/468 [02:10<04:28,  1.17it/s]"
     ]
    },
    {
     "name": "stdout",
     "output_type": "stream",
     "text": [
      "Epoch: 8 \tStep: 3430 \tLoss: 0.0240 \tAcc: 0.984375\n"
     ]
    },
    {
     "name": "stderr",
     "output_type": "stream",
     "text": [
      " 35%|███▌      | 164/468 [02:18<04:11,  1.21it/s]"
     ]
    },
    {
     "name": "stdout",
     "output_type": "stream",
     "text": [
      "Epoch: 8 \tStep: 3440 \tLoss: 0.0036 \tAcc: 1.0\n"
     ]
    },
    {
     "name": "stderr",
     "output_type": "stream",
     "text": [
      " 37%|███▋      | 174/468 [02:26<04:08,  1.18it/s]"
     ]
    },
    {
     "name": "stdout",
     "output_type": "stream",
     "text": [
      "Epoch: 8 \tStep: 3450 \tLoss: 0.0019 \tAcc: 1.0\n"
     ]
    },
    {
     "name": "stderr",
     "output_type": "stream",
     "text": [
      " 39%|███▉      | 184/468 [02:35<04:02,  1.17it/s]"
     ]
    },
    {
     "name": "stdout",
     "output_type": "stream",
     "text": [
      "Epoch: 8 \tStep: 3460 \tLoss: 0.0480 \tAcc: 0.9765625\n"
     ]
    },
    {
     "name": "stderr",
     "output_type": "stream",
     "text": [
      " 41%|████▏     | 194/468 [02:44<03:49,  1.19it/s]"
     ]
    },
    {
     "name": "stdout",
     "output_type": "stream",
     "text": [
      "Epoch: 8 \tStep: 3470 \tLoss: 0.0066 \tAcc: 1.0\n"
     ]
    },
    {
     "name": "stderr",
     "output_type": "stream",
     "text": [
      " 44%|████▎     | 204/468 [02:52<03:41,  1.19it/s]"
     ]
    },
    {
     "name": "stdout",
     "output_type": "stream",
     "text": [
      "Epoch: 8 \tStep: 3480 \tLoss: 0.0017 \tAcc: 1.0\n"
     ]
    },
    {
     "name": "stderr",
     "output_type": "stream",
     "text": [
      " 46%|████▌     | 214/468 [03:00<03:33,  1.19it/s]"
     ]
    },
    {
     "name": "stdout",
     "output_type": "stream",
     "text": [
      "Epoch: 8 \tStep: 3490 \tLoss: 0.0172 \tAcc: 0.9921875\n"
     ]
    },
    {
     "name": "stderr",
     "output_type": "stream",
     "text": [
      " 48%|████▊     | 224/468 [03:09<03:26,  1.18it/s]"
     ]
    },
    {
     "name": "stdout",
     "output_type": "stream",
     "text": [
      "Epoch: 8 \tStep: 3500 \tLoss: 0.0018 \tAcc: 1.0\n",
      "**********\n",
      "\tmodule.net.0.weight - grad_avg: -0.0001382656628265977\n",
      "\tmodule.net.0.weight - param_avg: -0.0023004270624369383\n",
      "\tmodule.net.0.bias - grad_avg: 2.389754399700905e-06\n",
      "\tmodule.net.0.bias - param_avg: -0.010047863237559795\n",
      "\tmodule.net.4.weight - grad_avg: -9.901553312374745e-06\n",
      "\tmodule.net.4.weight - param_avg: -0.0014849945437163115\n",
      "\tmodule.net.4.bias - grad_avg: -3.3139340303023346e-06\n",
      "\tmodule.net.4.bias - param_avg: -0.0013844260247424245\n",
      "\tmodule.net.8.weight - grad_avg: -2.301836502738297e-06\n",
      "\tmodule.net.8.weight - param_avg: -5.473280907608569e-05\n",
      "\tmodule.net.8.bias - grad_avg: -1.4046662727196235e-05\n",
      "\tmodule.net.8.bias - param_avg: -0.00032114158966578543\n",
      "\tmodule.net.10.weight - grad_avg: -9.158155194199935e-07\n",
      "\tmodule.net.10.weight - param_avg: 3.032877248188015e-05\n",
      "\tmodule.net.10.bias - grad_avg: -2.9792936402373016e-05\n",
      "\tmodule.net.10.bias - param_avg: 0.00039290203130804\n",
      "\tmodule.net.12.weight - grad_avg: -2.1972239139245175e-08\n",
      "\tmodule.net.12.weight - param_avg: 2.6463430913281627e-05\n",
      "\tmodule.net.12.bias - grad_avg: 1.8868436200136784e-06\n",
      "\tmodule.net.12.bias - param_avg: 2.1847037714906037e-05\n",
      "\tmodule.classifier.1.weight - grad_avg: -2.3447617181204805e-08\n",
      "\tmodule.classifier.1.weight - param_avg: 4.73886939289514e-05\n",
      "\tmodule.classifier.1.bias - grad_avg: -7.871060006436892e-06\n",
      "\tmodule.classifier.1.bias - param_avg: 0.003436341183260083\n",
      "\tmodule.classifier.4.weight - grad_avg: -1.0359404711834941e-07\n",
      "\tmodule.classifier.4.weight - param_avg: 0.0004874349106103182\n",
      "\tmodule.classifier.4.bias - grad_avg: -1.9289996089355554e-06\n",
      "\tmodule.classifier.4.bias - param_avg: 0.0018639082554727793\n",
      "\tmodule.classifier.6.weight - grad_avg: 6.213667913534948e-10\n",
      "\tmodule.classifier.6.weight - param_avg: -0.0010671631898730993\n",
      "\tmodule.classifier.6.bias - grad_avg: 1.7927959117258752e-09\n",
      "\tmodule.classifier.6.bias - param_avg: 0.007502919528633356\n"
     ]
    },
    {
     "name": "stderr",
     "output_type": "stream",
     "text": [
      " 50%|█████     | 234/468 [03:17<03:17,  1.19it/s]"
     ]
    },
    {
     "name": "stdout",
     "output_type": "stream",
     "text": [
      "Epoch: 8 \tStep: 3510 \tLoss: 0.0475 \tAcc: 0.9765625\n"
     ]
    },
    {
     "name": "stderr",
     "output_type": "stream",
     "text": [
      " 52%|█████▏    | 244/468 [03:26<03:05,  1.21it/s]"
     ]
    },
    {
     "name": "stdout",
     "output_type": "stream",
     "text": [
      "Epoch: 8 \tStep: 3520 \tLoss: 0.0145 \tAcc: 0.9921875\n"
     ]
    },
    {
     "name": "stderr",
     "output_type": "stream",
     "text": [
      " 54%|█████▍    | 254/468 [03:34<02:57,  1.20it/s]"
     ]
    },
    {
     "name": "stdout",
     "output_type": "stream",
     "text": [
      "Epoch: 8 \tStep: 3530 \tLoss: 0.0256 \tAcc: 0.9921875\n"
     ]
    },
    {
     "name": "stderr",
     "output_type": "stream",
     "text": [
      " 56%|█████▋    | 264/468 [03:42<02:50,  1.20it/s]"
     ]
    },
    {
     "name": "stdout",
     "output_type": "stream",
     "text": [
      "Epoch: 8 \tStep: 3540 \tLoss: 0.0387 \tAcc: 0.9921875\n"
     ]
    },
    {
     "name": "stderr",
     "output_type": "stream",
     "text": [
      " 59%|█████▊    | 274/468 [03:51<02:42,  1.20it/s]"
     ]
    },
    {
     "name": "stdout",
     "output_type": "stream",
     "text": [
      "Epoch: 8 \tStep: 3550 \tLoss: 0.0085 \tAcc: 1.0\n"
     ]
    },
    {
     "name": "stderr",
     "output_type": "stream",
     "text": [
      " 61%|██████    | 284/468 [03:59<02:33,  1.20it/s]"
     ]
    },
    {
     "name": "stdout",
     "output_type": "stream",
     "text": [
      "Epoch: 8 \tStep: 3560 \tLoss: 0.0025 \tAcc: 1.0\n"
     ]
    },
    {
     "name": "stderr",
     "output_type": "stream",
     "text": [
      " 63%|██████▎   | 294/468 [04:07<02:24,  1.20it/s]"
     ]
    },
    {
     "name": "stdout",
     "output_type": "stream",
     "text": [
      "Epoch: 8 \tStep: 3570 \tLoss: 0.0065 \tAcc: 1.0\n"
     ]
    },
    {
     "name": "stderr",
     "output_type": "stream",
     "text": [
      " 65%|██████▍   | 304/468 [04:16<02:16,  1.20it/s]"
     ]
    },
    {
     "name": "stdout",
     "output_type": "stream",
     "text": [
      "Epoch: 8 \tStep: 3580 \tLoss: 0.0189 \tAcc: 0.9921875\n"
     ]
    },
    {
     "name": "stderr",
     "output_type": "stream",
     "text": [
      " 67%|██████▋   | 314/468 [04:24<02:14,  1.14it/s]"
     ]
    },
    {
     "name": "stdout",
     "output_type": "stream",
     "text": [
      "Epoch: 8 \tStep: 3590 \tLoss: 0.0246 \tAcc: 0.9921875\n"
     ]
    },
    {
     "name": "stderr",
     "output_type": "stream",
     "text": [
      " 69%|██████▉   | 324/468 [04:33<02:01,  1.19it/s]"
     ]
    },
    {
     "name": "stdout",
     "output_type": "stream",
     "text": [
      "Epoch: 8 \tStep: 3600 \tLoss: 0.0757 \tAcc: 0.9765625\n",
      "**********\n",
      "\tmodule.net.0.weight - grad_avg: -0.005222781095653772\n",
      "\tmodule.net.0.weight - param_avg: -0.0023477445356547832\n",
      "\tmodule.net.0.bias - grad_avg: -7.783043656672817e-06\n",
      "\tmodule.net.0.bias - param_avg: -0.0102746756747365\n",
      "\tmodule.net.4.weight - grad_avg: -0.0001451316784368828\n",
      "\tmodule.net.4.weight - param_avg: -0.001510498346760869\n",
      "\tmodule.net.4.bias - grad_avg: -6.384030712069944e-05\n",
      "\tmodule.net.4.bias - param_avg: -0.0014482855331152678\n",
      "\tmodule.net.8.weight - grad_avg: -5.2811142268183175e-06\n",
      "\tmodule.net.8.weight - param_avg: -6.0587815823964775e-05\n",
      "\tmodule.net.8.bias - grad_avg: -3.923531039617956e-05\n",
      "\tmodule.net.8.bias - param_avg: -0.0004025829548481852\n",
      "\tmodule.net.10.weight - grad_avg: -4.505948254518444e-06\n",
      "\tmodule.net.10.weight - param_avg: 2.7443431463325396e-05\n",
      "\tmodule.net.10.bias - grad_avg: -0.00024347710132133216\n",
      "\tmodule.net.10.bias - param_avg: 0.0003191759460605681\n",
      "\tmodule.net.12.weight - grad_avg: 1.1234216117372853e-06\n",
      "\tmodule.net.12.weight - param_avg: 2.608013164717704e-05\n",
      "\tmodule.net.12.bias - grad_avg: 0.00016077150939963758\n",
      "\tmodule.net.12.bias - param_avg: 9.851326467469335e-06\n",
      "\tmodule.classifier.1.weight - grad_avg: 3.381070001751141e-08\n",
      "\tmodule.classifier.1.weight - param_avg: 4.594618803821504e-05\n",
      "\tmodule.classifier.1.bias - grad_avg: -8.151511792675592e-06\n",
      "\tmodule.classifier.1.bias - param_avg: 0.0033249540720134974\n",
      "\tmodule.classifier.4.weight - grad_avg: -1.9276937734957755e-07\n",
      "\tmodule.classifier.4.weight - param_avg: 0.0004578862863127142\n",
      "\tmodule.classifier.4.bias - grad_avg: -9.354260328109376e-06\n",
      "\tmodule.classifier.4.bias - param_avg: 0.001823663478717208\n",
      "\tmodule.classifier.6.weight - grad_avg: 1.8626451769865326e-10\n",
      "\tmodule.classifier.6.weight - param_avg: -0.0010711445938795805\n",
      "\tmodule.classifier.6.bias - grad_avg: 8.149072527885437e-10\n",
      "\tmodule.classifier.6.bias - param_avg: 0.0074925050139427185\n"
     ]
    },
    {
     "name": "stderr",
     "output_type": "stream",
     "text": [
      " 71%|███████▏  | 334/468 [04:41<01:51,  1.21it/s]"
     ]
    },
    {
     "name": "stdout",
     "output_type": "stream",
     "text": [
      "Epoch: 8 \tStep: 3610 \tLoss: 0.0402 \tAcc: 0.984375\n"
     ]
    },
    {
     "name": "stderr",
     "output_type": "stream",
     "text": [
      " 74%|███████▎  | 344/468 [04:50<01:43,  1.19it/s]"
     ]
    },
    {
     "name": "stdout",
     "output_type": "stream",
     "text": [
      "Epoch: 8 \tStep: 3620 \tLoss: 0.0018 \tAcc: 1.0\n"
     ]
    },
    {
     "name": "stderr",
     "output_type": "stream",
     "text": [
      " 76%|███████▌  | 354/468 [04:58<01:35,  1.20it/s]"
     ]
    },
    {
     "name": "stdout",
     "output_type": "stream",
     "text": [
      "Epoch: 8 \tStep: 3630 \tLoss: 0.0430 \tAcc: 0.9921875\n"
     ]
    },
    {
     "name": "stderr",
     "output_type": "stream",
     "text": [
      " 78%|███████▊  | 364/468 [05:07<01:27,  1.18it/s]"
     ]
    },
    {
     "name": "stdout",
     "output_type": "stream",
     "text": [
      "Epoch: 8 \tStep: 3640 \tLoss: 0.0389 \tAcc: 0.9921875\n"
     ]
    },
    {
     "name": "stderr",
     "output_type": "stream",
     "text": [
      " 80%|███████▉  | 374/468 [05:15<01:19,  1.19it/s]"
     ]
    },
    {
     "name": "stdout",
     "output_type": "stream",
     "text": [
      "Epoch: 8 \tStep: 3650 \tLoss: 0.0126 \tAcc: 0.9921875\n"
     ]
    },
    {
     "name": "stderr",
     "output_type": "stream",
     "text": [
      " 82%|████████▏ | 384/468 [05:24<01:12,  1.16it/s]"
     ]
    },
    {
     "name": "stdout",
     "output_type": "stream",
     "text": [
      "Epoch: 8 \tStep: 3660 \tLoss: 0.0021 \tAcc: 1.0\n"
     ]
    },
    {
     "name": "stderr",
     "output_type": "stream",
     "text": [
      " 84%|████████▍ | 394/468 [05:32<01:01,  1.20it/s]"
     ]
    },
    {
     "name": "stdout",
     "output_type": "stream",
     "text": [
      "Epoch: 8 \tStep: 3670 \tLoss: 0.0226 \tAcc: 0.9921875\n"
     ]
    },
    {
     "name": "stderr",
     "output_type": "stream",
     "text": [
      " 86%|████████▋ | 404/468 [05:40<00:53,  1.21it/s]"
     ]
    },
    {
     "name": "stdout",
     "output_type": "stream",
     "text": [
      "Epoch: 8 \tStep: 3680 \tLoss: 0.0027 \tAcc: 1.0\n"
     ]
    },
    {
     "name": "stderr",
     "output_type": "stream",
     "text": [
      " 88%|████████▊ | 414/468 [05:49<00:45,  1.18it/s]"
     ]
    },
    {
     "name": "stdout",
     "output_type": "stream",
     "text": [
      "Epoch: 8 \tStep: 3690 \tLoss: 0.0022 \tAcc: 1.0\n"
     ]
    },
    {
     "name": "stderr",
     "output_type": "stream",
     "text": [
      " 91%|█████████ | 424/468 [05:58<00:36,  1.19it/s]"
     ]
    },
    {
     "name": "stdout",
     "output_type": "stream",
     "text": [
      "Epoch: 8 \tStep: 3700 \tLoss: 0.0038 \tAcc: 1.0\n",
      "**********\n",
      "\tmodule.net.0.weight - grad_avg: -0.0009788802126422524\n",
      "\tmodule.net.0.weight - param_avg: -0.0023645171895623207\n",
      "\tmodule.net.0.bias - grad_avg: -1.4714106555402395e-06\n",
      "\tmodule.net.0.bias - param_avg: -0.01046162098646164\n",
      "\tmodule.net.4.weight - grad_avg: -1.2732658433378674e-05\n",
      "\tmodule.net.4.weight - param_avg: -0.0015207593096420169\n",
      "\tmodule.net.4.bias - grad_avg: -2.9523507691919804e-06\n",
      "\tmodule.net.4.bias - param_avg: -0.0014356916071847081\n",
      "\tmodule.net.8.weight - grad_avg: -9.359796422359068e-07\n",
      "\tmodule.net.8.weight - param_avg: -6.155278242658824e-05\n",
      "\tmodule.net.8.bias - grad_avg: -6.627557013416663e-06\n",
      "\tmodule.net.8.bias - param_avg: -0.00039144442416727543\n",
      "\tmodule.net.10.weight - grad_avg: -3.9828097442295984e-07\n",
      "\tmodule.net.10.weight - param_avg: 2.817994391079992e-05\n",
      "\tmodule.net.10.bias - grad_avg: -1.9807152057182975e-05\n",
      "\tmodule.net.10.bias - param_avg: 0.00036123106838203967\n",
      "\tmodule.net.12.weight - grad_avg: 8.118938694678945e-07\n",
      "\tmodule.net.12.weight - param_avg: 2.615583798615262e-05\n",
      "\tmodule.net.12.bias - grad_avg: 4.243692092131823e-05\n",
      "\tmodule.net.12.bias - param_avg: 1.328176585957408e-05\n",
      "\tmodule.classifier.1.weight - grad_avg: -1.260587723095341e-08\n",
      "\tmodule.classifier.1.weight - param_avg: 4.521719165495597e-05\n",
      "\tmodule.classifier.1.bias - grad_avg: -1.091284411813831e-05\n",
      "\tmodule.classifier.1.bias - param_avg: 0.003338170237839222\n",
      "\tmodule.classifier.4.weight - grad_avg: -1.4928808411696082e-07\n",
      "\tmodule.classifier.4.weight - param_avg: 0.00045309975394047797\n",
      "\tmodule.classifier.4.bias - grad_avg: -2.6647342110663885e-06\n",
      "\tmodule.classifier.4.bias - param_avg: 0.0018483800813555717\n",
      "\tmodule.classifier.6.weight - grad_avg: 1.0186340659856796e-10\n",
      "\tmodule.classifier.6.weight - param_avg: -0.0011002185055986047\n",
      "\tmodule.classifier.6.bias - grad_avg: 1.7462298967929613e-11\n",
      "\tmodule.classifier.6.bias - param_avg: 0.007492651231586933\n"
     ]
    },
    {
     "name": "stderr",
     "output_type": "stream",
     "text": [
      " 93%|█████████▎| 434/468 [06:06<00:28,  1.18it/s]"
     ]
    },
    {
     "name": "stdout",
     "output_type": "stream",
     "text": [
      "Epoch: 8 \tStep: 3710 \tLoss: 0.0188 \tAcc: 1.0\n"
     ]
    },
    {
     "name": "stderr",
     "output_type": "stream",
     "text": [
      " 95%|█████████▍| 444/468 [06:15<00:20,  1.18it/s]"
     ]
    },
    {
     "name": "stdout",
     "output_type": "stream",
     "text": [
      "Epoch: 8 \tStep: 3720 \tLoss: 0.0049 \tAcc: 1.0\n"
     ]
    },
    {
     "name": "stderr",
     "output_type": "stream",
     "text": [
      " 97%|█████████▋| 454/468 [06:23<00:11,  1.18it/s]"
     ]
    },
    {
     "name": "stdout",
     "output_type": "stream",
     "text": [
      "Epoch: 8 \tStep: 3730 \tLoss: 0.0038 \tAcc: 1.0\n"
     ]
    },
    {
     "name": "stderr",
     "output_type": "stream",
     "text": [
      " 99%|█████████▉| 464/468 [06:31<00:03,  1.19it/s]"
     ]
    },
    {
     "name": "stdout",
     "output_type": "stream",
     "text": [
      "Epoch: 8 \tStep: 3740 \tLoss: 0.0101 \tAcc: 1.0\n"
     ]
    },
    {
     "name": "stderr",
     "output_type": "stream",
     "text": [
      "100%|██████████| 468/468 [06:35<00:00,  1.18it/s]\n"
     ]
    },
    {
     "name": "stdout",
     "output_type": "stream",
     "text": [
      "[0.9633413461538461, 0.9799679487179487, 0.9800681089743589, 0.9869791666666666, 0.9853766025641025, 0.9880809294871795, 0.9840745192307693, 0.9849759615384616] [0.96875, 0.96875, 0.984375, 0.984375, 0.984375, 0.9921875, 0.9921875, 1.0] [tensor(0.1371), tensor(0.0578), tensor(0.1151), tensor(0.0966), tensor(0.0369), tensor(0.0814), tensor(0.0205), tensor(0.0363)] [0.06721928715705872, 0.08769530802965164, 0.052476316690444946, 0.026822051033377647, 0.04598674550652504, 0.03414950892329216, 0.02085966244339943, 0.010107198730111122]\n"
     ]
    },
    {
     "name": "stderr",
     "output_type": "stream",
     "text": [
      "  1%|▏         | 6/468 [00:08<08:12,  1.07s/it]"
     ]
    },
    {
     "name": "stdout",
     "output_type": "stream",
     "text": [
      "Epoch: 9 \tStep: 3750 \tLoss: 0.0062 \tAcc: 1.0\n"
     ]
    },
    {
     "name": "stderr",
     "output_type": "stream",
     "text": [
      "  3%|▎         | 16/468 [00:16<06:21,  1.19it/s]"
     ]
    },
    {
     "name": "stdout",
     "output_type": "stream",
     "text": [
      "Epoch: 9 \tStep: 3760 \tLoss: 0.0030 \tAcc: 1.0\n"
     ]
    },
    {
     "name": "stderr",
     "output_type": "stream",
     "text": [
      "  6%|▌         | 26/468 [00:24<06:10,  1.19it/s]"
     ]
    },
    {
     "name": "stdout",
     "output_type": "stream",
     "text": [
      "Epoch: 9 \tStep: 3770 \tLoss: 0.0438 \tAcc: 0.984375\n"
     ]
    },
    {
     "name": "stderr",
     "output_type": "stream",
     "text": [
      "  8%|▊         | 36/468 [00:33<06:04,  1.19it/s]"
     ]
    },
    {
     "name": "stdout",
     "output_type": "stream",
     "text": [
      "Epoch: 9 \tStep: 3780 \tLoss: 0.0049 \tAcc: 1.0\n"
     ]
    },
    {
     "name": "stderr",
     "output_type": "stream",
     "text": [
      " 10%|▉         | 46/468 [00:41<06:04,  1.16it/s]"
     ]
    },
    {
     "name": "stdout",
     "output_type": "stream",
     "text": [
      "Epoch: 9 \tStep: 3790 \tLoss: 0.0204 \tAcc: 0.9921875\n"
     ]
    },
    {
     "name": "stderr",
     "output_type": "stream",
     "text": [
      " 12%|█▏        | 56/468 [00:50<05:56,  1.16it/s]"
     ]
    },
    {
     "name": "stdout",
     "output_type": "stream",
     "text": [
      "Epoch: 9 \tStep: 3800 \tLoss: 0.0016 \tAcc: 1.0\n",
      "**********\n",
      "\tmodule.net.0.weight - grad_avg: 0.00013121885422151536\n",
      "\tmodule.net.0.weight - param_avg: -0.0023518516682088375\n",
      "\tmodule.net.0.bias - grad_avg: 3.3425419587729266e-06\n",
      "\tmodule.net.0.bias - param_avg: -0.010644588619470596\n",
      "\tmodule.net.4.weight - grad_avg: -6.385045253409771e-06\n",
      "\tmodule.net.4.weight - param_avg: -0.0015262505039572716\n",
      "\tmodule.net.4.bias - grad_avg: -2.3050977233651793e-06\n",
      "\tmodule.net.4.bias - param_avg: -0.0014474436175078154\n",
      "\tmodule.net.8.weight - grad_avg: -2.3539053017884726e-06\n",
      "\tmodule.net.8.weight - param_avg: -6.153661524876952e-05\n",
      "\tmodule.net.8.bias - grad_avg: -1.3961081094748806e-05\n",
      "\tmodule.net.8.bias - param_avg: -0.00036329703289084136\n",
      "\tmodule.net.10.weight - grad_avg: -5.663397359967348e-07\n",
      "\tmodule.net.10.weight - param_avg: 2.9267966965562664e-05\n",
      "\tmodule.net.10.bias - grad_avg: -2.1053487216704525e-05\n",
      "\tmodule.net.10.bias - param_avg: 0.0004086395783815533\n",
      "\tmodule.net.12.weight - grad_avg: -1.3881896165912622e-07\n",
      "\tmodule.net.12.weight - param_avg: 2.6212366719846614e-05\n",
      "\tmodule.net.12.bias - grad_avg: -1.4508252206724137e-05\n",
      "\tmodule.net.12.bias - param_avg: 1.638633693801239e-05\n",
      "\tmodule.classifier.1.weight - grad_avg: -3.4081266697683077e-09\n",
      "\tmodule.classifier.1.weight - param_avg: 4.369207454146817e-05\n",
      "\tmodule.classifier.1.bias - grad_avg: -7.25922063793405e-06\n",
      "\tmodule.classifier.1.bias - param_avg: 0.0033871703781187534\n",
      "\tmodule.classifier.4.weight - grad_avg: -9.252585186914075e-08\n",
      "\tmodule.classifier.4.weight - param_avg: 0.00046255876077339053\n",
      "\tmodule.classifier.4.bias - grad_avg: -1.9586395865189843e-06\n",
      "\tmodule.classifier.4.bias - param_avg: 0.0018979939632117748\n",
      "\tmodule.classifier.6.weight - grad_avg: 3.630702960499832e-10\n",
      "\tmodule.classifier.6.weight - param_avg: -0.0011232176329940557\n",
      "\tmodule.classifier.6.bias - grad_avg: 1.2194505405460632e-09\n",
      "\tmodule.classifier.6.bias - param_avg: 0.007488823030143976\n"
     ]
    },
    {
     "name": "stderr",
     "output_type": "stream",
     "text": [
      " 14%|█▍        | 66/468 [00:58<05:38,  1.19it/s]"
     ]
    },
    {
     "name": "stdout",
     "output_type": "stream",
     "text": [
      "Epoch: 9 \tStep: 3810 \tLoss: 0.0054 \tAcc: 1.0\n"
     ]
    },
    {
     "name": "stderr",
     "output_type": "stream",
     "text": [
      " 16%|█▌        | 76/468 [01:07<05:29,  1.19it/s]"
     ]
    },
    {
     "name": "stdout",
     "output_type": "stream",
     "text": [
      "Epoch: 9 \tStep: 3820 \tLoss: 0.0049 \tAcc: 1.0\n"
     ]
    },
    {
     "name": "stderr",
     "output_type": "stream",
     "text": [
      " 18%|█▊        | 86/468 [01:15<05:21,  1.19it/s]"
     ]
    },
    {
     "name": "stdout",
     "output_type": "stream",
     "text": [
      "Epoch: 9 \tStep: 3830 \tLoss: 0.0146 \tAcc: 0.9921875\n"
     ]
    },
    {
     "name": "stderr",
     "output_type": "stream",
     "text": [
      " 21%|██        | 96/468 [01:24<05:10,  1.20it/s]"
     ]
    },
    {
     "name": "stdout",
     "output_type": "stream",
     "text": [
      "Epoch: 9 \tStep: 3840 \tLoss: 0.0006 \tAcc: 1.0\n"
     ]
    },
    {
     "name": "stderr",
     "output_type": "stream",
     "text": [
      " 23%|██▎       | 106/468 [01:32<05:02,  1.20it/s]"
     ]
    },
    {
     "name": "stdout",
     "output_type": "stream",
     "text": [
      "Epoch: 9 \tStep: 3850 \tLoss: 0.0155 \tAcc: 1.0\n"
     ]
    },
    {
     "name": "stderr",
     "output_type": "stream",
     "text": [
      " 25%|██▍       | 116/468 [01:40<04:55,  1.19it/s]"
     ]
    },
    {
     "name": "stdout",
     "output_type": "stream",
     "text": [
      "Epoch: 9 \tStep: 3860 \tLoss: 0.0412 \tAcc: 0.984375\n"
     ]
    },
    {
     "name": "stderr",
     "output_type": "stream",
     "text": [
      " 27%|██▋       | 126/468 [01:49<04:44,  1.20it/s]"
     ]
    },
    {
     "name": "stdout",
     "output_type": "stream",
     "text": [
      "Epoch: 9 \tStep: 3870 \tLoss: 0.0217 \tAcc: 0.984375\n"
     ]
    },
    {
     "name": "stderr",
     "output_type": "stream",
     "text": [
      " 29%|██▉       | 136/468 [01:57<04:38,  1.19it/s]"
     ]
    },
    {
     "name": "stdout",
     "output_type": "stream",
     "text": [
      "Epoch: 9 \tStep: 3880 \tLoss: 0.0092 \tAcc: 1.0\n"
     ]
    },
    {
     "name": "stderr",
     "output_type": "stream",
     "text": [
      " 31%|███       | 146/468 [02:05<04:28,  1.20it/s]"
     ]
    },
    {
     "name": "stdout",
     "output_type": "stream",
     "text": [
      "Epoch: 9 \tStep: 3890 \tLoss: 0.0075 \tAcc: 1.0\n"
     ]
    },
    {
     "name": "stderr",
     "output_type": "stream",
     "text": [
      " 33%|███▎      | 156/468 [02:14<04:20,  1.20it/s]"
     ]
    },
    {
     "name": "stdout",
     "output_type": "stream",
     "text": [
      "Epoch: 9 \tStep: 3900 \tLoss: 0.0018 \tAcc: 1.0\n",
      "**********\n",
      "\tmodule.net.0.weight - grad_avg: -0.00033297308254987\n",
      "\tmodule.net.0.weight - param_avg: -0.0024026406463235617\n",
      "\tmodule.net.0.bias - grad_avg: -2.9938046282040887e-06\n",
      "\tmodule.net.0.bias - param_avg: -0.010872135870158672\n",
      "\tmodule.net.4.weight - grad_avg: -1.2707713722193148e-05\n",
      "\tmodule.net.4.weight - param_avg: -0.0015546351205557585\n",
      "\tmodule.net.4.bias - grad_avg: -3.361783910804661e-06\n",
      "\tmodule.net.4.bias - param_avg: -0.0014781743520870805\n",
      "\tmodule.net.8.weight - grad_avg: -3.597118620746187e-06\n",
      "\tmodule.net.8.weight - param_avg: -6.443869642680511e-05\n",
      "\tmodule.net.8.bias - grad_avg: -2.3672624593018554e-05\n",
      "\tmodule.net.8.bias - param_avg: -0.0003909541992470622\n",
      "\tmodule.net.10.weight - grad_avg: -1.317200371886429e-06\n",
      "\tmodule.net.10.weight - param_avg: 2.751953070401214e-05\n",
      "\tmodule.net.10.bias - grad_avg: -5.1172584790037945e-05\n",
      "\tmodule.net.10.bias - param_avg: 0.0004035403544548899\n",
      "\tmodule.net.12.weight - grad_avg: -1.7917788852628291e-07\n",
      "\tmodule.net.12.weight - param_avg: 2.6190273274551146e-05\n",
      "\tmodule.net.12.bias - grad_avg: -1.643168434384279e-05\n",
      "\tmodule.net.12.bias - param_avg: 7.521906809415668e-06\n",
      "\tmodule.classifier.1.weight - grad_avg: -7.44032835342523e-10\n",
      "\tmodule.classifier.1.weight - param_avg: 4.4263171730563045e-05\n",
      "\tmodule.classifier.1.bias - grad_avg: -1.1353932677593548e-05\n",
      "\tmodule.classifier.1.bias - param_avg: 0.0033834734931588173\n",
      "\tmodule.classifier.4.weight - grad_avg: -1.3456538283662667e-07\n",
      "\tmodule.classifier.4.weight - param_avg: 0.0004443993093445897\n",
      "\tmodule.classifier.4.bias - grad_avg: -2.646266239025863e-06\n",
      "\tmodule.classifier.4.bias - param_avg: 0.0019172672182321548\n",
      "\tmodule.classifier.6.weight - grad_avg: 2.9975807946946986e-10\n",
      "\tmodule.classifier.6.weight - param_avg: -0.001142214983701706\n",
      "\tmodule.classifier.6.bias - grad_avg: 9.647920240496433e-10\n",
      "\tmodule.classifier.6.bias - param_avg: 0.0074893394485116005\n"
     ]
    },
    {
     "name": "stderr",
     "output_type": "stream",
     "text": [
      " 35%|███▌      | 166/468 [02:22<04:12,  1.19it/s]"
     ]
    },
    {
     "name": "stdout",
     "output_type": "stream",
     "text": [
      "Epoch: 9 \tStep: 3910 \tLoss: 0.0108 \tAcc: 0.9921875\n"
     ]
    },
    {
     "name": "stderr",
     "output_type": "stream",
     "text": [
      " 38%|███▊      | 176/468 [02:30<04:05,  1.19it/s]"
     ]
    },
    {
     "name": "stdout",
     "output_type": "stream",
     "text": [
      "Epoch: 9 \tStep: 3920 \tLoss: 0.0685 \tAcc: 0.9765625\n"
     ]
    },
    {
     "name": "stderr",
     "output_type": "stream",
     "text": [
      " 40%|███▉      | 186/468 [02:39<03:54,  1.20it/s]"
     ]
    },
    {
     "name": "stdout",
     "output_type": "stream",
     "text": [
      "Epoch: 9 \tStep: 3930 \tLoss: 0.0218 \tAcc: 0.9921875\n"
     ]
    },
    {
     "name": "stderr",
     "output_type": "stream",
     "text": [
      " 42%|████▏     | 196/468 [02:47<03:45,  1.21it/s]"
     ]
    },
    {
     "name": "stdout",
     "output_type": "stream",
     "text": [
      "Epoch: 9 \tStep: 3940 \tLoss: 0.0068 \tAcc: 1.0\n"
     ]
    },
    {
     "name": "stderr",
     "output_type": "stream",
     "text": [
      " 44%|████▍     | 206/468 [02:55<03:36,  1.21it/s]"
     ]
    },
    {
     "name": "stdout",
     "output_type": "stream",
     "text": [
      "Epoch: 9 \tStep: 3950 \tLoss: 0.0020 \tAcc: 1.0\n"
     ]
    },
    {
     "name": "stderr",
     "output_type": "stream",
     "text": [
      " 46%|████▌     | 216/468 [03:04<03:30,  1.20it/s]"
     ]
    },
    {
     "name": "stdout",
     "output_type": "stream",
     "text": [
      "Epoch: 9 \tStep: 3960 \tLoss: 0.0082 \tAcc: 1.0\n"
     ]
    },
    {
     "name": "stderr",
     "output_type": "stream",
     "text": [
      " 48%|████▊     | 226/468 [03:12<03:23,  1.19it/s]"
     ]
    },
    {
     "name": "stdout",
     "output_type": "stream",
     "text": [
      "Epoch: 9 \tStep: 3970 \tLoss: 0.0175 \tAcc: 0.9921875\n"
     ]
    },
    {
     "name": "stderr",
     "output_type": "stream",
     "text": [
      " 50%|█████     | 236/468 [03:20<03:13,  1.20it/s]"
     ]
    },
    {
     "name": "stdout",
     "output_type": "stream",
     "text": [
      "Epoch: 9 \tStep: 3980 \tLoss: 0.0843 \tAcc: 0.984375\n"
     ]
    },
    {
     "name": "stderr",
     "output_type": "stream",
     "text": [
      " 53%|█████▎    | 246/468 [03:29<03:09,  1.17it/s]"
     ]
    },
    {
     "name": "stdout",
     "output_type": "stream",
     "text": [
      "Epoch: 9 \tStep: 3990 \tLoss: 0.0092 \tAcc: 1.0\n"
     ]
    },
    {
     "name": "stderr",
     "output_type": "stream",
     "text": [
      " 55%|█████▍    | 256/468 [03:37<02:59,  1.18it/s]"
     ]
    },
    {
     "name": "stdout",
     "output_type": "stream",
     "text": [
      "Epoch: 9 \tStep: 4000 \tLoss: 0.0195 \tAcc: 0.9921875\n",
      "**********\n",
      "\tmodule.net.0.weight - grad_avg: 1.3343743376026396e-05\n",
      "\tmodule.net.0.weight - param_avg: -0.0024157243315130472\n",
      "\tmodule.net.0.bias - grad_avg: -1.4561701391357929e-05\n",
      "\tmodule.net.0.bias - param_avg: -0.01109052449464798\n",
      "\tmodule.net.4.weight - grad_avg: -3.15934971695242e-06\n",
      "\tmodule.net.4.weight - param_avg: -0.0015758353983983397\n",
      "\tmodule.net.4.bias - grad_avg: -4.205367076792754e-08\n",
      "\tmodule.net.4.bias - param_avg: -0.0014806813560426235\n",
      "\tmodule.net.8.weight - grad_avg: 3.637944928414072e-06\n",
      "\tmodule.net.8.weight - param_avg: -6.604184454772621e-05\n",
      "\tmodule.net.8.bias - grad_avg: 2.4784530978649855e-05\n",
      "\tmodule.net.8.bias - param_avg: -0.0004059238126501441\n",
      "\tmodule.net.10.weight - grad_avg: -3.329269873120211e-07\n",
      "\tmodule.net.10.weight - param_avg: 2.7168956876266748e-05\n",
      "\tmodule.net.10.bias - grad_avg: -1.9349476133356802e-05\n",
      "\tmodule.net.10.bias - param_avg: 0.0004028433177154511\n",
      "\tmodule.net.12.weight - grad_avg: -1.7359793673676904e-06\n",
      "\tmodule.net.12.weight - param_avg: 2.6200677893939428e-05\n",
      "\tmodule.net.12.bias - grad_avg: -0.0001546683197375387\n",
      "\tmodule.net.12.bias - param_avg: 8.870461897458881e-06\n",
      "\tmodule.classifier.1.weight - grad_avg: -8.196135325988507e-09\n",
      "\tmodule.classifier.1.weight - param_avg: 4.598704254021868e-05\n",
      "\tmodule.classifier.1.bias - grad_avg: -3.87756426789565e-06\n",
      "\tmodule.classifier.1.bias - param_avg: 0.0033799700904637575\n",
      "\tmodule.classifier.4.weight - grad_avg: 4.05545819148756e-09\n",
      "\tmodule.classifier.4.weight - param_avg: 0.0004354541306383908\n",
      "\tmodule.classifier.4.bias - grad_avg: -8.530054884658966e-08\n",
      "\tmodule.classifier.4.bias - param_avg: 0.001943848212249577\n",
      "\tmodule.classifier.6.weight - grad_avg: 2.3283064365386963e-10\n",
      "\tmodule.classifier.6.weight - param_avg: -0.001157789141871035\n",
      "\tmodule.classifier.6.bias - grad_avg: 8.032657317080805e-10\n",
      "\tmodule.classifier.6.bias - param_avg: 0.00748492032289505\n"
     ]
    },
    {
     "name": "stderr",
     "output_type": "stream",
     "text": [
      " 57%|█████▋    | 266/468 [03:46<02:58,  1.13it/s]"
     ]
    },
    {
     "name": "stdout",
     "output_type": "stream",
     "text": [
      "Epoch: 9 \tStep: 4010 \tLoss: 0.1074 \tAcc: 0.984375\n"
     ]
    },
    {
     "name": "stderr",
     "output_type": "stream",
     "text": [
      " 59%|█████▉    | 276/468 [03:54<02:40,  1.19it/s]"
     ]
    },
    {
     "name": "stdout",
     "output_type": "stream",
     "text": [
      "Epoch: 9 \tStep: 4020 \tLoss: 0.0127 \tAcc: 0.9921875\n"
     ]
    },
    {
     "name": "stderr",
     "output_type": "stream",
     "text": [
      " 61%|██████    | 286/468 [04:03<02:32,  1.20it/s]"
     ]
    },
    {
     "name": "stdout",
     "output_type": "stream",
     "text": [
      "Epoch: 9 \tStep: 4030 \tLoss: 0.0015 \tAcc: 1.0\n"
     ]
    },
    {
     "name": "stderr",
     "output_type": "stream",
     "text": [
      " 63%|██████▎   | 296/468 [04:11<02:25,  1.18it/s]"
     ]
    },
    {
     "name": "stdout",
     "output_type": "stream",
     "text": [
      "Epoch: 9 \tStep: 4040 \tLoss: 0.0130 \tAcc: 0.9921875\n"
     ]
    },
    {
     "name": "stderr",
     "output_type": "stream",
     "text": [
      " 65%|██████▌   | 306/468 [04:20<02:16,  1.19it/s]"
     ]
    },
    {
     "name": "stdout",
     "output_type": "stream",
     "text": [
      "Epoch: 9 \tStep: 4050 \tLoss: 0.0161 \tAcc: 0.9921875\n"
     ]
    },
    {
     "name": "stderr",
     "output_type": "stream",
     "text": [
      " 68%|██████▊   | 316/468 [04:28<02:07,  1.19it/s]"
     ]
    },
    {
     "name": "stdout",
     "output_type": "stream",
     "text": [
      "Epoch: 9 \tStep: 4060 \tLoss: 0.0110 \tAcc: 1.0\n"
     ]
    },
    {
     "name": "stderr",
     "output_type": "stream",
     "text": [
      " 70%|██████▉   | 326/468 [04:36<01:59,  1.19it/s]"
     ]
    },
    {
     "name": "stdout",
     "output_type": "stream",
     "text": [
      "Epoch: 9 \tStep: 4070 \tLoss: 0.0089 \tAcc: 0.9921875\n"
     ]
    },
    {
     "name": "stderr",
     "output_type": "stream",
     "text": [
      " 72%|███████▏  | 336/468 [04:45<01:50,  1.20it/s]"
     ]
    },
    {
     "name": "stdout",
     "output_type": "stream",
     "text": [
      "Epoch: 9 \tStep: 4080 \tLoss: 0.0020 \tAcc: 1.0\n"
     ]
    },
    {
     "name": "stderr",
     "output_type": "stream",
     "text": [
      " 74%|███████▍  | 346/468 [04:53<01:43,  1.17it/s]"
     ]
    },
    {
     "name": "stdout",
     "output_type": "stream",
     "text": [
      "Epoch: 9 \tStep: 4090 \tLoss: 0.0159 \tAcc: 0.9921875\n"
     ]
    },
    {
     "name": "stderr",
     "output_type": "stream",
     "text": [
      " 76%|███████▌  | 356/468 [05:02<01:34,  1.19it/s]"
     ]
    },
    {
     "name": "stdout",
     "output_type": "stream",
     "text": [
      "Epoch: 9 \tStep: 4100 \tLoss: 0.0043 \tAcc: 1.0\n",
      "**********\n",
      "\tmodule.net.0.weight - grad_avg: -0.0008455695351585746\n",
      "\tmodule.net.0.weight - param_avg: -0.0024840200785547495\n",
      "\tmodule.net.0.bias - grad_avg: -1.666882212703058e-06\n",
      "\tmodule.net.0.bias - param_avg: -0.011360471136868\n",
      "\tmodule.net.4.weight - grad_avg: -1.3580317499872763e-05\n",
      "\tmodule.net.4.weight - param_avg: -0.0015799059765413404\n",
      "\tmodule.net.4.bias - grad_avg: -3.13736563839484e-06\n",
      "\tmodule.net.4.bias - param_avg: -0.0014561577700078487\n",
      "\tmodule.net.8.weight - grad_avg: -8.179712494893465e-06\n",
      "\tmodule.net.8.weight - param_avg: -7.037637260509655e-05\n",
      "\tmodule.net.8.bias - grad_avg: -4.3999967601848766e-05\n",
      "\tmodule.net.8.bias - param_avg: -0.0004502151859924197\n",
      "\tmodule.net.10.weight - grad_avg: -4.821602942683967e-06\n",
      "\tmodule.net.10.weight - param_avg: 2.635182681842707e-05\n",
      "\tmodule.net.10.bias - grad_avg: -0.0001414775033481419\n",
      "\tmodule.net.10.bias - param_avg: 0.000410016713431105\n",
      "\tmodule.net.12.weight - grad_avg: -9.115248076341231e-07\n",
      "\tmodule.net.12.weight - param_avg: 2.666862383193802e-05\n",
      "\tmodule.net.12.bias - grad_avg: -5.0395363359712064e-05\n",
      "\tmodule.net.12.bias - param_avg: 2.4824199499562383e-05\n",
      "\tmodule.classifier.1.weight - grad_avg: 7.290343440047309e-09\n",
      "\tmodule.classifier.1.weight - param_avg: 4.670907219406217e-05\n",
      "\tmodule.classifier.1.bias - grad_avg: -1.5281491414498305e-06\n",
      "\tmodule.classifier.1.bias - param_avg: 0.00338122365064919\n",
      "\tmodule.classifier.4.weight - grad_avg: -2.8027081100390205e-08\n",
      "\tmodule.classifier.4.weight - param_avg: 0.00042896566446870565\n",
      "\tmodule.classifier.4.bias - grad_avg: -6.338116804727179e-07\n",
      "\tmodule.classifier.4.bias - param_avg: 0.001969989389181137\n",
      "\tmodule.classifier.6.weight - grad_avg: 7.406925073283332e-10\n",
      "\tmodule.classifier.6.weight - param_avg: -0.0011809254065155983\n",
      "\tmodule.classifier.6.bias - grad_avg: 2.0746484530320686e-09\n",
      "\tmodule.classifier.6.bias - param_avg: 0.007480182684957981\n"
     ]
    },
    {
     "name": "stderr",
     "output_type": "stream",
     "text": [
      " 78%|███████▊  | 366/468 [05:10<01:25,  1.19it/s]"
     ]
    },
    {
     "name": "stdout",
     "output_type": "stream",
     "text": [
      "Epoch: 9 \tStep: 4110 \tLoss: 0.0027 \tAcc: 1.0\n"
     ]
    },
    {
     "name": "stderr",
     "output_type": "stream",
     "text": [
      " 80%|████████  | 376/468 [05:19<01:17,  1.19it/s]"
     ]
    },
    {
     "name": "stdout",
     "output_type": "stream",
     "text": [
      "Epoch: 9 \tStep: 4120 \tLoss: 0.0043 \tAcc: 1.0\n"
     ]
    },
    {
     "name": "stderr",
     "output_type": "stream",
     "text": [
      " 82%|████████▏ | 386/468 [05:27<01:08,  1.19it/s]"
     ]
    },
    {
     "name": "stdout",
     "output_type": "stream",
     "text": [
      "Epoch: 9 \tStep: 4130 \tLoss: 0.1096 \tAcc: 0.9609375\n"
     ]
    },
    {
     "name": "stderr",
     "output_type": "stream",
     "text": [
      " 85%|████████▍ | 396/468 [05:36<01:00,  1.19it/s]"
     ]
    },
    {
     "name": "stdout",
     "output_type": "stream",
     "text": [
      "Epoch: 9 \tStep: 4140 \tLoss: 0.0088 \tAcc: 1.0\n"
     ]
    },
    {
     "name": "stderr",
     "output_type": "stream",
     "text": [
      " 87%|████████▋ | 406/468 [05:44<00:52,  1.19it/s]"
     ]
    },
    {
     "name": "stdout",
     "output_type": "stream",
     "text": [
      "Epoch: 9 \tStep: 4150 \tLoss: 0.0484 \tAcc: 0.984375\n"
     ]
    },
    {
     "name": "stderr",
     "output_type": "stream",
     "text": [
      " 89%|████████▉ | 416/468 [05:53<00:43,  1.19it/s]"
     ]
    },
    {
     "name": "stdout",
     "output_type": "stream",
     "text": [
      "Epoch: 9 \tStep: 4160 \tLoss: 0.0084 \tAcc: 0.9921875\n"
     ]
    },
    {
     "name": "stderr",
     "output_type": "stream",
     "text": [
      " 91%|█████████ | 426/468 [06:01<00:35,  1.18it/s]"
     ]
    },
    {
     "name": "stdout",
     "output_type": "stream",
     "text": [
      "Epoch: 9 \tStep: 4170 \tLoss: 0.0080 \tAcc: 1.0\n"
     ]
    },
    {
     "name": "stderr",
     "output_type": "stream",
     "text": [
      " 93%|█████████▎| 436/468 [06:10<00:27,  1.18it/s]"
     ]
    },
    {
     "name": "stdout",
     "output_type": "stream",
     "text": [
      "Epoch: 9 \tStep: 4180 \tLoss: 0.0249 \tAcc: 0.9921875\n"
     ]
    },
    {
     "name": "stderr",
     "output_type": "stream",
     "text": [
      " 95%|█████████▌| 446/468 [06:18<00:18,  1.19it/s]"
     ]
    },
    {
     "name": "stdout",
     "output_type": "stream",
     "text": [
      "Epoch: 9 \tStep: 4190 \tLoss: 0.0037 \tAcc: 1.0\n"
     ]
    },
    {
     "name": "stderr",
     "output_type": "stream",
     "text": [
      " 97%|█████████▋| 456/468 [06:26<00:10,  1.18it/s]"
     ]
    },
    {
     "name": "stdout",
     "output_type": "stream",
     "text": [
      "Epoch: 9 \tStep: 4200 \tLoss: 0.0008 \tAcc: 1.0\n",
      "**********\n",
      "\tmodule.net.0.weight - grad_avg: 4.836314110434614e-05\n",
      "\tmodule.net.0.weight - param_avg: -0.00248290435411036\n",
      "\tmodule.net.0.bias - grad_avg: 6.059536872271565e-07\n",
      "\tmodule.net.0.bias - param_avg: -0.011539753526449203\n",
      "\tmodule.net.4.weight - grad_avg: -1.0132826901099179e-05\n",
      "\tmodule.net.4.weight - param_avg: -0.0015717226779088378\n",
      "\tmodule.net.4.bias - grad_avg: -3.4827262425096706e-06\n",
      "\tmodule.net.4.bias - param_avg: -0.0014065600698813796\n",
      "\tmodule.net.8.weight - grad_avg: -1.705697627585323e-06\n",
      "\tmodule.net.8.weight - param_avg: -7.072628068272024e-05\n",
      "\tmodule.net.8.bias - grad_avg: -9.435619176656473e-06\n",
      "\tmodule.net.8.bias - param_avg: -0.0004375120915938169\n",
      "\tmodule.net.10.weight - grad_avg: -2.2815653721863782e-07\n",
      "\tmodule.net.10.weight - param_avg: 2.768547710729763e-05\n",
      "\tmodule.net.10.bias - grad_avg: -9.092650543607306e-06\n",
      "\tmodule.net.10.bias - param_avg: 0.00046409081551246345\n",
      "\tmodule.net.12.weight - grad_avg: 1.561738116606648e-07\n",
      "\tmodule.net.12.weight - param_avg: 2.6470015654922463e-05\n",
      "\tmodule.net.12.bias - grad_avg: 8.907963092497084e-06\n",
      "\tmodule.net.12.bias - param_avg: 1.6895246517378837e-05\n",
      "\tmodule.classifier.1.weight - grad_avg: -2.73883493662197e-09\n",
      "\tmodule.classifier.1.weight - param_avg: 4.7480662033194676e-05\n",
      "\tmodule.classifier.1.bias - grad_avg: -3.003518258992699e-06\n",
      "\tmodule.classifier.1.bias - param_avg: 0.003451855853199959\n",
      "\tmodule.classifier.4.weight - grad_avg: -3.939436155064868e-08\n",
      "\tmodule.classifier.4.weight - param_avg: 0.00044209230691194534\n",
      "\tmodule.classifier.4.bias - grad_avg: -6.506053864541173e-07\n",
      "\tmodule.classifier.4.bias - param_avg: 0.002048715017735958\n",
      "\tmodule.classifier.6.weight - grad_avg: 3.794412006818959e-10\n",
      "\tmodule.classifier.6.weight - param_avg: -0.0012198882177472115\n",
      "\tmodule.classifier.6.bias - grad_avg: 9.949872037395835e-10\n",
      "\tmodule.classifier.6.bias - param_avg: 0.007482443004846573\n"
     ]
    },
    {
     "name": "stderr",
     "output_type": "stream",
     "text": [
      "100%|█████████▉| 466/468 [06:35<00:01,  1.19it/s]"
     ]
    },
    {
     "name": "stdout",
     "output_type": "stream",
     "text": [
      "Epoch: 9 \tStep: 4210 \tLoss: 0.0699 \tAcc: 0.984375\n"
     ]
    },
    {
     "name": "stderr",
     "output_type": "stream",
     "text": [
      "100%|██████████| 468/468 [06:37<00:00,  1.18it/s]\n"
     ]
    },
    {
     "name": "stdout",
     "output_type": "stream",
     "text": [
      "[0.9633413461538461, 0.9799679487179487, 0.9800681089743589, 0.9869791666666666, 0.9853766025641025, 0.9880809294871795, 0.9840745192307693, 0.9849759615384616, 0.9889823717948718] [0.96875, 0.96875, 0.984375, 0.984375, 0.984375, 0.9921875, 0.9921875, 1.0, 0.984375] [tensor(0.1371), tensor(0.0578), tensor(0.1151), tensor(0.0966), tensor(0.0369), tensor(0.0814), tensor(0.0205), tensor(0.0363), tensor(0.0083)] [0.06721928715705872, 0.08769530802965164, 0.052476316690444946, 0.026822051033377647, 0.04598674550652504, 0.03414950892329216, 0.02085966244339943, 0.010107198730111122, 0.06989463418722153]\n"
     ]
    },
    {
     "name": "stderr",
     "output_type": "stream",
     "text": [
      "  2%|▏         | 8/468 [00:08<06:48,  1.13it/s]"
     ]
    },
    {
     "name": "stdout",
     "output_type": "stream",
     "text": [
      "Epoch: 10 \tStep: 4220 \tLoss: 0.0068 \tAcc: 1.0\n"
     ]
    },
    {
     "name": "stderr",
     "output_type": "stream",
     "text": [
      "  4%|▍         | 18/468 [00:17<06:25,  1.17it/s]"
     ]
    },
    {
     "name": "stdout",
     "output_type": "stream",
     "text": [
      "Epoch: 10 \tStep: 4230 \tLoss: 0.0012 \tAcc: 1.0\n"
     ]
    },
    {
     "name": "stderr",
     "output_type": "stream",
     "text": [
      "  6%|▌         | 28/468 [00:25<06:24,  1.15it/s]"
     ]
    },
    {
     "name": "stdout",
     "output_type": "stream",
     "text": [
      "Epoch: 10 \tStep: 4240 \tLoss: 0.0026 \tAcc: 1.0\n"
     ]
    },
    {
     "name": "stderr",
     "output_type": "stream",
     "text": [
      "  8%|▊         | 38/468 [00:34<06:08,  1.17it/s]"
     ]
    },
    {
     "name": "stdout",
     "output_type": "stream",
     "text": [
      "Epoch: 10 \tStep: 4250 \tLoss: 0.0022 \tAcc: 1.0\n"
     ]
    },
    {
     "name": "stderr",
     "output_type": "stream",
     "text": [
      " 10%|█         | 48/468 [00:42<05:58,  1.17it/s]"
     ]
    },
    {
     "name": "stdout",
     "output_type": "stream",
     "text": [
      "Epoch: 10 \tStep: 4260 \tLoss: 0.0220 \tAcc: 0.9921875\n"
     ]
    },
    {
     "name": "stderr",
     "output_type": "stream",
     "text": [
      " 12%|█▏        | 58/468 [00:51<05:45,  1.19it/s]"
     ]
    },
    {
     "name": "stdout",
     "output_type": "stream",
     "text": [
      "Epoch: 10 \tStep: 4270 \tLoss: 0.0204 \tAcc: 0.9921875\n"
     ]
    },
    {
     "name": "stderr",
     "output_type": "stream",
     "text": [
      " 15%|█▍        | 68/468 [00:59<05:34,  1.20it/s]"
     ]
    },
    {
     "name": "stdout",
     "output_type": "stream",
     "text": [
      "Epoch: 10 \tStep: 4280 \tLoss: 0.0251 \tAcc: 0.9921875\n"
     ]
    },
    {
     "name": "stderr",
     "output_type": "stream",
     "text": [
      " 17%|█▋        | 78/468 [01:08<05:27,  1.19it/s]"
     ]
    },
    {
     "name": "stdout",
     "output_type": "stream",
     "text": [
      "Epoch: 10 \tStep: 4290 \tLoss: 0.0195 \tAcc: 0.9921875\n"
     ]
    },
    {
     "name": "stderr",
     "output_type": "stream",
     "text": [
      " 19%|█▉        | 88/468 [01:16<05:18,  1.19it/s]"
     ]
    },
    {
     "name": "stdout",
     "output_type": "stream",
     "text": [
      "Epoch: 10 \tStep: 4300 \tLoss: 0.0107 \tAcc: 1.0\n",
      "**********\n",
      "\tmodule.net.0.weight - grad_avg: -0.0014549805782735348\n",
      "\tmodule.net.0.weight - param_avg: -0.0025215758942067623\n",
      "\tmodule.net.0.bias - grad_avg: -2.0152567230979912e-05\n",
      "\tmodule.net.0.bias - param_avg: -0.011746644973754883\n",
      "\tmodule.net.4.weight - grad_avg: -2.2945165255805477e-05\n",
      "\tmodule.net.4.weight - param_avg: -0.0016035143053159118\n",
      "\tmodule.net.4.bias - grad_avg: -5.79722473048605e-06\n",
      "\tmodule.net.4.bias - param_avg: -0.001463346416130662\n",
      "\tmodule.net.8.weight - grad_avg: -1.0847487828868907e-05\n",
      "\tmodule.net.8.weight - param_avg: -7.188547169789672e-05\n",
      "\tmodule.net.8.bias - grad_avg: -7.495347381336614e-05\n",
      "\tmodule.net.8.bias - param_avg: -0.00045154907274991274\n",
      "\tmodule.net.10.weight - grad_avg: -4.146110313740792e-06\n",
      "\tmodule.net.10.weight - param_avg: 2.6194597012363374e-05\n",
      "\tmodule.net.10.bias - grad_avg: -0.00014659851149190217\n",
      "\tmodule.net.10.bias - param_avg: 0.00045074793160893023\n",
      "\tmodule.net.12.weight - grad_avg: -2.2237138637137832e-06\n",
      "\tmodule.net.12.weight - param_avg: 2.5932684366125613e-05\n",
      "\tmodule.net.12.bias - grad_avg: -0.00016107657575048506\n",
      "\tmodule.net.12.bias - param_avg: 4.224661097396165e-06\n",
      "\tmodule.classifier.1.weight - grad_avg: -1.6310664818774967e-08\n",
      "\tmodule.classifier.1.weight - param_avg: 4.346672722022049e-05\n",
      "\tmodule.classifier.1.bias - grad_avg: -1.6832789697218686e-05\n",
      "\tmodule.classifier.1.bias - param_avg: 0.0033983851317316294\n",
      "\tmodule.classifier.4.weight - grad_avg: -3.371003458596533e-07\n",
      "\tmodule.classifier.4.weight - param_avg: 0.0004110335139557719\n",
      "\tmodule.classifier.4.bias - grad_avg: -5.616535418084823e-06\n",
      "\tmodule.classifier.4.bias - param_avg: 0.0020217786077409983\n",
      "\tmodule.classifier.6.weight - grad_avg: 3.2596289556430236e-10\n",
      "\tmodule.classifier.6.weight - param_avg: -0.0012339884415268898\n",
      "\tmodule.classifier.6.bias - grad_avg: 5.355104693016699e-10\n",
      "\tmodule.classifier.6.bias - param_avg: 0.007469596806913614\n"
     ]
    },
    {
     "name": "stderr",
     "output_type": "stream",
     "text": [
      " 21%|██        | 98/468 [01:25<05:08,  1.20it/s]"
     ]
    },
    {
     "name": "stdout",
     "output_type": "stream",
     "text": [
      "Epoch: 10 \tStep: 4310 \tLoss: 0.0054 \tAcc: 1.0\n"
     ]
    },
    {
     "name": "stderr",
     "output_type": "stream",
     "text": [
      " 23%|██▎       | 108/468 [01:33<05:02,  1.19it/s]"
     ]
    },
    {
     "name": "stdout",
     "output_type": "stream",
     "text": [
      "Epoch: 10 \tStep: 4320 \tLoss: 0.0042 \tAcc: 1.0\n"
     ]
    },
    {
     "name": "stderr",
     "output_type": "stream",
     "text": [
      " 25%|██▌       | 118/468 [01:41<04:51,  1.20it/s]"
     ]
    },
    {
     "name": "stdout",
     "output_type": "stream",
     "text": [
      "Epoch: 10 \tStep: 4330 \tLoss: 0.0105 \tAcc: 0.9921875\n"
     ]
    },
    {
     "name": "stderr",
     "output_type": "stream",
     "text": [
      " 27%|██▋       | 128/468 [01:50<04:44,  1.20it/s]"
     ]
    },
    {
     "name": "stdout",
     "output_type": "stream",
     "text": [
      "Epoch: 10 \tStep: 4340 \tLoss: 0.0032 \tAcc: 1.0\n"
     ]
    },
    {
     "name": "stderr",
     "output_type": "stream",
     "text": [
      " 29%|██▉       | 138/468 [01:58<04:39,  1.18it/s]"
     ]
    },
    {
     "name": "stdout",
     "output_type": "stream",
     "text": [
      "Epoch: 10 \tStep: 4350 \tLoss: 0.0172 \tAcc: 0.9921875\n"
     ]
    },
    {
     "name": "stderr",
     "output_type": "stream",
     "text": [
      " 32%|███▏      | 148/468 [02:06<04:31,  1.18it/s]"
     ]
    },
    {
     "name": "stdout",
     "output_type": "stream",
     "text": [
      "Epoch: 10 \tStep: 4360 \tLoss: 0.0195 \tAcc: 0.9921875\n"
     ]
    },
    {
     "name": "stderr",
     "output_type": "stream",
     "text": [
      " 34%|███▍      | 158/468 [02:15<04:22,  1.18it/s]"
     ]
    },
    {
     "name": "stdout",
     "output_type": "stream",
     "text": [
      "Epoch: 10 \tStep: 4370 \tLoss: 0.0179 \tAcc: 0.9921875\n"
     ]
    },
    {
     "name": "stderr",
     "output_type": "stream",
     "text": [
      " 36%|███▌      | 168/468 [02:23<04:11,  1.19it/s]"
     ]
    },
    {
     "name": "stdout",
     "output_type": "stream",
     "text": [
      "Epoch: 10 \tStep: 4380 \tLoss: 0.0170 \tAcc: 0.9921875\n"
     ]
    },
    {
     "name": "stderr",
     "output_type": "stream",
     "text": [
      " 38%|███▊      | 178/468 [02:32<04:04,  1.19it/s]"
     ]
    },
    {
     "name": "stdout",
     "output_type": "stream",
     "text": [
      "Epoch: 10 \tStep: 4390 \tLoss: 0.0166 \tAcc: 0.9921875\n"
     ]
    },
    {
     "name": "stderr",
     "output_type": "stream",
     "text": [
      " 40%|████      | 188/468 [02:40<03:56,  1.19it/s]"
     ]
    },
    {
     "name": "stdout",
     "output_type": "stream",
     "text": [
      "Epoch: 10 \tStep: 4400 \tLoss: 0.0089 \tAcc: 1.0\n",
      "**********\n",
      "\tmodule.net.0.weight - grad_avg: -0.00042462069541215897\n",
      "\tmodule.net.0.weight - param_avg: -0.0025346551556140184\n",
      "\tmodule.net.0.bias - grad_avg: 3.5770578961091815e-06\n",
      "\tmodule.net.0.bias - param_avg: -0.011958297342061996\n",
      "\tmodule.net.4.weight - grad_avg: -7.406154963973677e-06\n",
      "\tmodule.net.4.weight - param_avg: -0.0016214150236919522\n",
      "\tmodule.net.4.bias - grad_avg: -1.253444679605309e-05\n",
      "\tmodule.net.4.bias - param_avg: -0.001464665518142283\n",
      "\tmodule.net.8.weight - grad_avg: -1.0549834769335575e-05\n",
      "\tmodule.net.8.weight - param_avg: -7.071696018101647e-05\n",
      "\tmodule.net.8.bias - grad_avg: -7.318628922803327e-05\n",
      "\tmodule.net.8.bias - param_avg: -0.00041275774128735065\n",
      "\tmodule.net.10.weight - grad_avg: -2.2465267193183536e-06\n",
      "\tmodule.net.10.weight - param_avg: 2.7086327463621274e-05\n",
      "\tmodule.net.10.bias - grad_avg: -9.696395136415958e-05\n",
      "\tmodule.net.10.bias - param_avg: 0.0004877060418948531\n",
      "\tmodule.net.12.weight - grad_avg: -6.076872978155734e-07\n",
      "\tmodule.net.12.weight - param_avg: 2.60701071965741e-05\n",
      "\tmodule.net.12.bias - grad_avg: -4.5280452468432486e-05\n",
      "\tmodule.net.12.bias - param_avg: 7.1701870183460414e-06\n",
      "\tmodule.classifier.1.weight - grad_avg: 6.850149247838999e-08\n",
      "\tmodule.classifier.1.weight - param_avg: 4.218765388941392e-05\n",
      "\tmodule.classifier.1.bias - grad_avg: -2.017303995671682e-05\n",
      "\tmodule.classifier.1.bias - param_avg: 0.003432039637118578\n",
      "\tmodule.classifier.4.weight - grad_avg: -1.870425947458898e-08\n",
      "\tmodule.classifier.4.weight - param_avg: 0.0004192948981653899\n",
      "\tmodule.classifier.4.bias - grad_avg: -1.0047278919955716e-06\n",
      "\tmodule.classifier.4.bias - param_avg: 0.0020863923709839582\n",
      "\tmodule.classifier.6.weight - grad_avg: 8.731149137020111e-10\n",
      "\tmodule.classifier.6.weight - param_avg: -0.0012538682203739882\n",
      "\tmodule.classifier.6.bias - grad_avg: 2.4097972506353926e-09\n",
      "\tmodule.classifier.6.bias - param_avg: 0.007480091415345669\n"
     ]
    },
    {
     "name": "stderr",
     "output_type": "stream",
     "text": [
      " 42%|████▏     | 198/468 [02:49<03:48,  1.18it/s]"
     ]
    },
    {
     "name": "stdout",
     "output_type": "stream",
     "text": [
      "Epoch: 10 \tStep: 4410 \tLoss: 0.0067 \tAcc: 1.0\n"
     ]
    },
    {
     "name": "stderr",
     "output_type": "stream",
     "text": [
      " 44%|████▍     | 208/468 [02:57<03:38,  1.19it/s]"
     ]
    },
    {
     "name": "stdout",
     "output_type": "stream",
     "text": [
      "Epoch: 10 \tStep: 4420 \tLoss: 0.0062 \tAcc: 1.0\n"
     ]
    },
    {
     "name": "stderr",
     "output_type": "stream",
     "text": [
      " 47%|████▋     | 218/468 [03:06<03:31,  1.18it/s]"
     ]
    },
    {
     "name": "stdout",
     "output_type": "stream",
     "text": [
      "Epoch: 10 \tStep: 4430 \tLoss: 0.0298 \tAcc: 0.9921875\n"
     ]
    },
    {
     "name": "stderr",
     "output_type": "stream",
     "text": [
      " 49%|████▊     | 228/468 [03:14<03:20,  1.20it/s]"
     ]
    },
    {
     "name": "stdout",
     "output_type": "stream",
     "text": [
      "Epoch: 10 \tStep: 4440 \tLoss: 0.0016 \tAcc: 1.0\n"
     ]
    },
    {
     "name": "stderr",
     "output_type": "stream",
     "text": [
      " 51%|█████     | 238/468 [03:22<03:12,  1.20it/s]"
     ]
    },
    {
     "name": "stdout",
     "output_type": "stream",
     "text": [
      "Epoch: 10 \tStep: 4450 \tLoss: 0.0007 \tAcc: 1.0\n"
     ]
    },
    {
     "name": "stderr",
     "output_type": "stream",
     "text": [
      " 53%|█████▎    | 248/468 [03:31<03:03,  1.20it/s]"
     ]
    },
    {
     "name": "stdout",
     "output_type": "stream",
     "text": [
      "Epoch: 10 \tStep: 4460 \tLoss: 0.0188 \tAcc: 0.9921875\n"
     ]
    },
    {
     "name": "stderr",
     "output_type": "stream",
     "text": [
      " 55%|█████▌    | 258/468 [03:39<02:54,  1.20it/s]"
     ]
    },
    {
     "name": "stdout",
     "output_type": "stream",
     "text": [
      "Epoch: 10 \tStep: 4470 \tLoss: 0.0056 \tAcc: 1.0\n"
     ]
    },
    {
     "name": "stderr",
     "output_type": "stream",
     "text": [
      " 57%|█████▋    | 268/468 [03:48<02:50,  1.17it/s]"
     ]
    },
    {
     "name": "stdout",
     "output_type": "stream",
     "text": [
      "Epoch: 10 \tStep: 4480 \tLoss: 0.0018 \tAcc: 1.0\n"
     ]
    },
    {
     "name": "stderr",
     "output_type": "stream",
     "text": [
      " 59%|█████▉    | 278/468 [03:56<02:49,  1.12it/s]"
     ]
    },
    {
     "name": "stdout",
     "output_type": "stream",
     "text": [
      "Epoch: 10 \tStep: 4490 \tLoss: 0.0278 \tAcc: 0.9921875\n"
     ]
    },
    {
     "name": "stderr",
     "output_type": "stream",
     "text": [
      " 62%|██████▏   | 288/468 [04:05<02:31,  1.19it/s]"
     ]
    },
    {
     "name": "stdout",
     "output_type": "stream",
     "text": [
      "Epoch: 10 \tStep: 4500 \tLoss: 0.0327 \tAcc: 0.984375\n",
      "**********\n",
      "\tmodule.net.0.weight - grad_avg: 0.0020445624832063913\n",
      "\tmodule.net.0.weight - param_avg: -0.0026705015916377306\n",
      "\tmodule.net.0.bias - grad_avg: 1.2841660463891458e-05\n",
      "\tmodule.net.0.bias - param_avg: -0.01236573327332735\n",
      "\tmodule.net.4.weight - grad_avg: 6.852403021184728e-05\n",
      "\tmodule.net.4.weight - param_avg: -0.0016595941269770265\n",
      "\tmodule.net.4.bias - grad_avg: 2.7397240046411753e-05\n",
      "\tmodule.net.4.bias - param_avg: -0.0015343339182436466\n",
      "\tmodule.net.8.weight - grad_avg: -1.1374108908057678e-05\n",
      "\tmodule.net.8.weight - param_avg: -7.399558671750128e-05\n",
      "\tmodule.net.8.bias - grad_avg: -7.933509186841547e-05\n",
      "\tmodule.net.8.bias - param_avg: -0.0004374749551061541\n",
      "\tmodule.net.10.weight - grad_avg: -2.6316868684261863e-07\n",
      "\tmodule.net.10.weight - param_avg: 2.3869786673458293e-05\n",
      "\tmodule.net.10.bias - grad_avg: -2.3691779915679945e-06\n",
      "\tmodule.net.10.bias - param_avg: 0.00045604645856656134\n",
      "\tmodule.net.12.weight - grad_avg: 1.7953663018488442e-06\n",
      "\tmodule.net.12.weight - param_avg: 2.6297682779841125e-05\n",
      "\tmodule.net.12.bias - grad_avg: 0.000155282425112091\n",
      "\tmodule.net.12.bias - param_avg: 1.7931743059307337e-06\n",
      "\tmodule.classifier.1.weight - grad_avg: -2.005612600441964e-07\n",
      "\tmodule.classifier.1.weight - param_avg: 4.047580296173692e-05\n",
      "\tmodule.classifier.1.bias - grad_avg: 3.5685013699549017e-06\n",
      "\tmodule.classifier.1.bias - param_avg: 0.003312054555863142\n",
      "\tmodule.classifier.4.weight - grad_avg: -4.929509032081114e-07\n",
      "\tmodule.classifier.4.weight - param_avg: 0.00038931326707825065\n",
      "\tmodule.classifier.4.bias - grad_avg: -9.762551599123981e-06\n",
      "\tmodule.classifier.4.bias - param_avg: 0.002049039350822568\n",
      "\tmodule.classifier.6.weight - grad_avg: 5.529727786779404e-10\n",
      "\tmodule.classifier.6.weight - param_avg: -0.0012643650406971574\n",
      "\tmodule.classifier.6.bias - grad_avg: 1.9885191271384883e-09\n",
      "\tmodule.classifier.6.bias - param_avg: 0.007465273141860962\n"
     ]
    },
    {
     "name": "stderr",
     "output_type": "stream",
     "text": [
      " 64%|██████▎   | 298/468 [04:13<02:22,  1.19it/s]"
     ]
    },
    {
     "name": "stdout",
     "output_type": "stream",
     "text": [
      "Epoch: 10 \tStep: 4510 \tLoss: 0.0086 \tAcc: 1.0\n"
     ]
    },
    {
     "name": "stderr",
     "output_type": "stream",
     "text": [
      " 66%|██████▌   | 308/468 [04:21<02:13,  1.20it/s]"
     ]
    },
    {
     "name": "stdout",
     "output_type": "stream",
     "text": [
      "Epoch: 10 \tStep: 4520 \tLoss: 0.0297 \tAcc: 0.984375\n"
     ]
    },
    {
     "name": "stderr",
     "output_type": "stream",
     "text": [
      " 68%|██████▊   | 318/468 [04:30<02:07,  1.18it/s]"
     ]
    },
    {
     "name": "stdout",
     "output_type": "stream",
     "text": [
      "Epoch: 10 \tStep: 4530 \tLoss: 0.0363 \tAcc: 0.984375\n"
     ]
    },
    {
     "name": "stderr",
     "output_type": "stream",
     "text": [
      " 70%|███████   | 328/468 [04:38<02:03,  1.13it/s]"
     ]
    },
    {
     "name": "stdout",
     "output_type": "stream",
     "text": [
      "Epoch: 10 \tStep: 4540 \tLoss: 0.0016 \tAcc: 1.0\n"
     ]
    },
    {
     "name": "stderr",
     "output_type": "stream",
     "text": [
      " 72%|███████▏  | 338/468 [04:47<01:49,  1.18it/s]"
     ]
    },
    {
     "name": "stdout",
     "output_type": "stream",
     "text": [
      "Epoch: 10 \tStep: 4550 \tLoss: 0.0005 \tAcc: 1.0\n"
     ]
    },
    {
     "name": "stderr",
     "output_type": "stream",
     "text": [
      " 74%|███████▍  | 348/468 [04:55<01:40,  1.20it/s]"
     ]
    },
    {
     "name": "stdout",
     "output_type": "stream",
     "text": [
      "Epoch: 10 \tStep: 4560 \tLoss: 0.0064 \tAcc: 1.0\n"
     ]
    },
    {
     "name": "stderr",
     "output_type": "stream",
     "text": [
      " 76%|███████▋  | 358/468 [05:04<01:32,  1.19it/s]"
     ]
    },
    {
     "name": "stdout",
     "output_type": "stream",
     "text": [
      "Epoch: 10 \tStep: 4570 \tLoss: 0.0969 \tAcc: 0.9765625\n"
     ]
    },
    {
     "name": "stderr",
     "output_type": "stream",
     "text": [
      " 79%|███████▊  | 368/468 [05:12<01:23,  1.19it/s]"
     ]
    },
    {
     "name": "stdout",
     "output_type": "stream",
     "text": [
      "Epoch: 10 \tStep: 4580 \tLoss: 0.0252 \tAcc: 0.9921875\n"
     ]
    },
    {
     "name": "stderr",
     "output_type": "stream",
     "text": [
      " 81%|████████  | 378/468 [05:21<01:15,  1.18it/s]"
     ]
    },
    {
     "name": "stdout",
     "output_type": "stream",
     "text": [
      "Epoch: 10 \tStep: 4590 \tLoss: 0.0002 \tAcc: 1.0\n"
     ]
    },
    {
     "name": "stderr",
     "output_type": "stream",
     "text": [
      " 83%|████████▎ | 388/468 [05:29<01:07,  1.19it/s]"
     ]
    },
    {
     "name": "stdout",
     "output_type": "stream",
     "text": [
      "Epoch: 10 \tStep: 4600 \tLoss: 0.0072 \tAcc: 1.0\n",
      "**********\n",
      "\tmodule.net.0.weight - grad_avg: 0.001170446746982634\n",
      "\tmodule.net.0.weight - param_avg: -0.0025936474557965994\n",
      "\tmodule.net.0.bias - grad_avg: 7.643432581971865e-06\n",
      "\tmodule.net.0.bias - param_avg: -0.012498672120273113\n",
      "\tmodule.net.4.weight - grad_avg: -4.723083748103818e-06\n",
      "\tmodule.net.4.weight - param_avg: -0.0017061543185263872\n",
      "\tmodule.net.4.bias - grad_avg: -2.9838674890925176e-06\n",
      "\tmodule.net.4.bias - param_avg: -0.0015811126213520765\n",
      "\tmodule.net.8.weight - grad_avg: -4.814163730770815e-06\n",
      "\tmodule.net.8.weight - param_avg: -7.628695311723277e-05\n",
      "\tmodule.net.8.bias - grad_avg: -3.2843847293406725e-05\n",
      "\tmodule.net.8.bias - param_avg: -0.0004335041157901287\n",
      "\tmodule.net.10.weight - grad_avg: -2.3733459784125444e-06\n",
      "\tmodule.net.10.weight - param_avg: 2.1505959011847153e-05\n",
      "\tmodule.net.10.bias - grad_avg: -9.163378126686439e-05\n",
      "\tmodule.net.10.bias - param_avg: 0.0004893006407655776\n",
      "\tmodule.net.12.weight - grad_avg: -1.3704112689083559e-06\n",
      "\tmodule.net.12.weight - param_avg: 2.628353649924975e-05\n",
      "\tmodule.net.12.bias - grad_avg: -0.0001381442416459322\n",
      "\tmodule.net.12.bias - param_avg: -1.7895603377837688e-05\n",
      "\tmodule.classifier.1.weight - grad_avg: -8.616497382263333e-08\n",
      "\tmodule.classifier.1.weight - param_avg: 4.479586277739145e-05\n",
      "\tmodule.classifier.1.bias - grad_avg: -2.166806734749116e-05\n",
      "\tmodule.classifier.1.bias - param_avg: 0.003233701456338167\n",
      "\tmodule.classifier.4.weight - grad_avg: -2.2946650801713986e-07\n",
      "\tmodule.classifier.4.weight - param_avg: 0.00036440324038267136\n",
      "\tmodule.classifier.4.bias - grad_avg: -4.421201538207242e-06\n",
      "\tmodule.classifier.4.bias - param_avg: 0.002065867418423295\n",
      "\tmodule.classifier.6.weight - grad_avg: 1.396983917434369e-10\n",
      "\tmodule.classifier.6.weight - param_avg: -0.0012668796116486192\n",
      "\tmodule.classifier.6.bias - grad_avg: 2.3283064365386963e-10\n",
      "\tmodule.classifier.6.bias - param_avg: 0.007466817740350962\n"
     ]
    },
    {
     "name": "stderr",
     "output_type": "stream",
     "text": [
      " 85%|████████▌ | 398/468 [05:38<00:59,  1.17it/s]"
     ]
    },
    {
     "name": "stdout",
     "output_type": "stream",
     "text": [
      "Epoch: 10 \tStep: 4610 \tLoss: 0.0316 \tAcc: 0.9765625\n"
     ]
    },
    {
     "name": "stderr",
     "output_type": "stream",
     "text": [
      " 87%|████████▋ | 408/468 [05:46<00:50,  1.19it/s]"
     ]
    },
    {
     "name": "stdout",
     "output_type": "stream",
     "text": [
      "Epoch: 10 \tStep: 4620 \tLoss: 0.0285 \tAcc: 0.9921875\n"
     ]
    },
    {
     "name": "stderr",
     "output_type": "stream",
     "text": [
      " 89%|████████▉ | 418/468 [05:55<00:47,  1.04it/s]"
     ]
    },
    {
     "name": "stdout",
     "output_type": "stream",
     "text": [
      "Epoch: 10 \tStep: 4630 \tLoss: 0.0188 \tAcc: 0.9921875\n"
     ]
    },
    {
     "name": "stderr",
     "output_type": "stream",
     "text": [
      " 91%|█████████▏| 428/468 [06:04<00:35,  1.12it/s]"
     ]
    },
    {
     "name": "stdout",
     "output_type": "stream",
     "text": [
      "Epoch: 10 \tStep: 4640 \tLoss: 0.0215 \tAcc: 0.9921875\n"
     ]
    },
    {
     "name": "stderr",
     "output_type": "stream",
     "text": [
      " 94%|█████████▎| 438/468 [06:13<00:29,  1.02it/s]"
     ]
    },
    {
     "name": "stdout",
     "output_type": "stream",
     "text": [
      "Epoch: 10 \tStep: 4650 \tLoss: 0.0223 \tAcc: 0.9921875\n"
     ]
    },
    {
     "name": "stderr",
     "output_type": "stream",
     "text": [
      " 96%|█████████▌| 448/468 [06:22<00:17,  1.16it/s]"
     ]
    },
    {
     "name": "stdout",
     "output_type": "stream",
     "text": [
      "Epoch: 10 \tStep: 4660 \tLoss: 0.0014 \tAcc: 1.0\n"
     ]
    },
    {
     "name": "stderr",
     "output_type": "stream",
     "text": [
      " 98%|█████████▊| 458/468 [06:31<00:08,  1.17it/s]"
     ]
    },
    {
     "name": "stdout",
     "output_type": "stream",
     "text": [
      "Epoch: 10 \tStep: 4670 \tLoss: 0.0084 \tAcc: 0.9921875\n"
     ]
    },
    {
     "name": "stderr",
     "output_type": "stream",
     "text": [
      "100%|██████████| 468/468 [06:40<00:00,  1.17it/s]"
     ]
    },
    {
     "name": "stdout",
     "output_type": "stream",
     "text": [
      "Epoch: 10 \tStep: 4680 \tLoss: 0.0335 \tAcc: 0.9921875\n"
     ]
    },
    {
     "name": "stderr",
     "output_type": "stream",
     "text": [
      "100%|██████████| 468/468 [06:40<00:00,  1.17it/s]\n"
     ]
    },
    {
     "name": "stdout",
     "output_type": "stream",
     "text": [
      "[0.9633413461538461, 0.9799679487179487, 0.9800681089743589, 0.9869791666666666, 0.9853766025641025, 0.9880809294871795, 0.9840745192307693, 0.9849759615384616, 0.9889823717948718, 0.9883814102564102] [0.96875, 0.96875, 0.984375, 0.984375, 0.984375, 0.9921875, 0.9921875, 1.0, 0.984375, 0.9921875] [tensor(0.1371), tensor(0.0578), tensor(0.1151), tensor(0.0966), tensor(0.0369), tensor(0.0814), tensor(0.0205), tensor(0.0363), tensor(0.0083), tensor(0.0412)] [0.06721928715705872, 0.08769530802965164, 0.052476316690444946, 0.026822051033377647, 0.04598674550652504, 0.03414950892329216, 0.02085966244339943, 0.010107198730111122, 0.06989463418722153, 0.03348829224705696]\n"
     ]
    }
   ],
   "source": [
    "# multiply LR by 1 / 10 after every 30 epochs\n",
    "lr_scheduler = optim.lr_scheduler.StepLR(optimizer, step_size=30, gamma=0.1)\n",
    "print('LR Scheduler created')\n",
    "\n",
    "accuracy_test_stat = []\n",
    "accuracy_train_stat = []\n",
    "loss_test_stat = []\n",
    "loss_train_stat = []\n",
    "\n",
    "# start training!!\n",
    "print('Starting training...')\n",
    "total_steps = 1\n",
    "for epoch in range(NUM_EPOCHS):\n",
    "    epoch_tr_accuracy = 0\n",
    "    epoch_tr_loss = 0\n",
    "\n",
    "    lr_scheduler.step()\n",
    "    for imgs, classes in tqdm(train_loader):\n",
    "        imgs, classes = imgs.to(device), classes.to(device)\n",
    "\n",
    "        # calculate the loss\n",
    "        output = mnistnet(imgs)\n",
    "        loss = F.cross_entropy(output, classes)\n",
    "\n",
    "        # update the parameters\n",
    "        optimizer.zero_grad()\n",
    "        loss.backward()\n",
    "        optimizer.step()\n",
    "\n",
    "        # log the information and add to tensorboard\n",
    "        if total_steps % 10 == 0:\n",
    "            with torch.no_grad():\n",
    "                predictions = torch.argmax(output, dim=1)\n",
    "                accuracy = (predictions == classes).sum() / len(predictions)\n",
    "\n",
    "                epoch_tr_accuracy = accuracy.item()\n",
    "                epoch_tr_loss = loss.item()\n",
    "\n",
    "                print('Epoch: {} \\tStep: {} \\tLoss: {:.4f} \\tAcc: {}'\n",
    "                      .format(epoch + 1, total_steps, loss.item(), epoch_tr_accuracy))\n",
    "\n",
    "\n",
    "\n",
    "        # print out gradient values and parameter average values\n",
    "        if total_steps % 100 == 0:\n",
    "            with torch.no_grad():\n",
    "                # print and save the grad of the parameters\n",
    "                # also print and save parameter values\n",
    "                print('*' * 10)\n",
    "                for name, parameter in mnistnet.named_parameters():\n",
    "                    if parameter.grad is not None:\n",
    "                        avg_grad = torch.mean(parameter.grad)\n",
    "                        # TODO: убрать вывод для удобства восприятия\n",
    "                        print('\\t{} - grad_avg: {}'.format(name, avg_grad))\n",
    "                        # tbwriter.add_scalar('grad_avg/{}'.format(name), avg_grad.item(), total_steps)\n",
    "                        # tbwriter.add_histogram('grad/{}'.format(name),\n",
    "                        #                       parameter.grad.cpu().numpy(), total_steps)\n",
    "                    if parameter.data is not None:\n",
    "                        avg_weight = torch.mean(parameter.data)\n",
    "                        # TODO: убрать вывод для удобства восприятия\n",
    "                        print('\\t{} - param_avg: {}'.format(name, avg_weight))\n",
    "                        # tbwriter.add_histogram('weight/{}'.format(name),\n",
    "                        #                       parameter.data.cpu().numpy(), total_steps)\n",
    "                        # tbwriter.add_scalar('weight_avg/{}'.format(name), avg_weight.item(), total_steps)\n",
    "        total_steps += 1\n",
    "\n",
    "    # epoch_tr_accuracy /= len(train_loader)\n",
    "    # epoch_tr_loss /= len(train_loader)\n",
    "\n",
    "    a, l = evaluate_model(mnistnet)\n",
    "    accuracy_train_stat.append(epoch_tr_accuracy)\n",
    "    accuracy_test_stat.append(a)\n",
    "\n",
    "    loss_train_stat.append(epoch_tr_loss)\n",
    "    loss_test_stat.append(l)\n",
    "\n",
    "    print(accuracy_test_stat, accuracy_train_stat, loss_test_stat, loss_train_stat)\n",
    "\n"
   ],
   "metadata": {
    "collapsed": false,
    "pycharm": {
     "name": "#%%\n"
    }
   }
  },
  {
   "cell_type": "code",
   "execution_count": 12,
   "outputs": [
    {
     "data": {
      "text/plain": "<Figure size 1000x700 with 1 Axes>",
      "image/png": "[encoded data removed]"
     },
     "metadata": {},
     "output_type": "display_data"
    }
   ],
   "source": [
    "epochs = range(1, NUM_EPOCHS+1)\n",
    "plt.figure(figsize=(10, 7))\n",
    "plt.plot(epochs, loss_train_stat)\n",
    "plt.plot(epochs, loss_test_stat)\n",
    "plt.legend([\"Train Loss\", \"Test Loss\"])\n",
    "plt.show()"
   ],
   "metadata": {
    "collapsed": false,
    "pycharm": {
     "name": "#%%\n"
    }
   }
  },
  {
   "cell_type": "code",
   "execution_count": 13,
   "outputs": [
    {
     "name": "stdout",
     "output_type": "stream",
     "text": [
      "[0.96875, 0.96875, 0.984375, 0.984375, 0.984375, 0.9921875, 0.9921875, 1.0, 0.984375, 0.9921875]\n"
     ]
    },
    {
     "data": {
      "text/plain": "<Figure size 1000x700 with 1 Axes>",
      "image/png": "[encoded data removed]"
     },
     "metadata": {},
     "output_type": "display_data"
    }
   ],
   "source": [
    "epochs = range(1, NUM_EPOCHS + 1)\n",
    "plt.figure(figsize=(10, 7))\n",
    "print(accuracy_train_stat)\n",
    "plt.plot(epochs, accuracy_train_stat)\n",
    "plt.plot(epochs, accuracy_test_stat)\n",
    "plt.legend([\"Train Accuracy\", \"Test Accuracy\"])\n",
    "plt.show()"
   ],
   "metadata": {
    "collapsed": false,
    "pycharm": {
     "name": "#%%\n"
    }
   }
  },
  {
   "cell_type": "code",
   "execution_count": 14,
   "outputs": [
    {
     "name": "stdout",
     "output_type": "stream",
     "text": [
      "(10, 1, 28, 28)\n"
     ]
    }
   ],
   "source": [
    "import cv2\n",
    "import numpy as np\n",
    "\n",
    "data = []\n",
    "classes = [2, 3, 6, 8, 9, 1, 0, 4, 7, 5]\n",
    "for i in range(10):\n",
    "    img = cv2.imread(\"../my_dataset/\"+str(i+1)+\".png\")\n",
    "    img = cv2.cvtColor(img, cv2.COLOR_BGR2GRAY)\n",
    "\n",
    "    sharp_filter = np.array([[-1, 0, -1],\n",
    "                             [ 0, 7,  0],\n",
    "                             [-1, 0, -1]])\n",
    "    img = cv2.filter2D(img, ddepth=-1, kernel=sharp_filter)\n",
    "\n",
    "    img = cv2.bitwise_not(img)\n",
    "    img = img.astype('float32')\n",
    "    data.append(img)\n",
    "\n",
    "data = np.reshape(data,(len(data), 1, 28, 28))\n",
    "# data = np.array(data)\n",
    "classes = np.array(classes)\n",
    "\n",
    "print(data.shape)"
   ],
   "metadata": {
    "collapsed": false,
    "pycharm": {
     "name": "#%%\n"
    }
   }
  },
  {
   "cell_type": "code",
   "execution_count": 15,
   "outputs": [
    {
     "data": {
      "text/plain": "<Figure size 1000x700 with 10 Axes>",
      "image/png": "[encoded data removed]"
     },
     "metadata": {},
     "output_type": "display_data"
    }
   ],
   "source": [
    "plt.figure(figsize=(10, 7))\n",
    "for i in range(10):\n",
    "    plt.subplot(2, 5, i+1)\n",
    "    plt.imshow(data[i].reshape(28, 28), cmap='Greys')\n",
    "    plt.title(\"Цифра %d\" % classes[i])"
   ],
   "metadata": {
    "collapsed": false,
    "pycharm": {
     "name": "#%%\n"
    }
   }
  },
  {
   "cell_type": "code",
   "execution_count": 16,
   "outputs": [
    {
     "name": "stdout",
     "output_type": "stream",
     "text": [
      "Test accuracy: 80.0 %\n"
     ]
    }
   ],
   "source": [
    "experiment_dataset = TensorDataset(torch.from_numpy(data).float(),\n",
    "                                   torch.from_numpy(classes).long())\n",
    "experiment_loader = DataLoader(experiment_dataset,\n",
    "                          shuffle=False,\n",
    "                          # pin_memory=True,\n",
    "                          # num_workers=8,\n",
    "                          # drop_last=True,\n",
    "\n",
    "                          batch_size=BATCH_SIZE)\n",
    "\n",
    "mnistnet.eval()\n",
    "with torch.no_grad():\n",
    "    correct = 0\n",
    "    total = 0\n",
    "    for images, labels in experiment_loader:\n",
    "        outputs = mnistnet(images)\n",
    "        predicted = torch.argmax(outputs, dim=1)\n",
    "        total += labels.shape[0]\n",
    "        correct += (predicted == labels).sum().item()\n",
    "\n",
    "    print(\"Test accuracy:\",\n",
    "        100 * correct / total, \"%\")\n"
   ],
   "metadata": {
    "collapsed": false,
    "pycharm": {
     "name": "#%%\n"
    }
   }
  },
  {
   "cell_type": "code",
   "execution_count": 17,
   "outputs": [
    {
     "data": {
      "text/plain": "<Figure size 1000x700 with 10 Axes>",
      "image/png": "[encoded data removed]"
     },
     "metadata": {},
     "output_type": "display_data"
    }
   ],
   "source": [
    "plt.figure(figsize=(10, 7))\n",
    "for i in range(10):\n",
    "    plt.subplot(2, 5, i+1)\n",
    "    plt.imshow(data[i].reshape(28, 28), cmap='Greys')\n",
    "    plt.title(\"%d, pred: %d\" % (classes[i], predicted[i]))"
   ],
   "metadata": {
    "collapsed": false,
    "pycharm": {
     "name": "#%%\n"
    }
   }
  },
  {
   "cell_type": "code",
   "execution_count": 24,
   "outputs": [
    {
     "name": "stdout",
     "output_type": "stream",
     "text": [
      "60.0\n",
      "0.0\n",
      "124.0\n",
      "253.0\n",
      "0.0\n",
      "0.0\n",
      "50.0\n",
      "226.0\n",
      "15.0\n",
      "227.0\n",
      "0.0\n",
      "0.0\n",
      "0.0\n",
      "252.0\n",
      "0.0\n",
      "0.0\n",
      "253.0\n",
      "0.0\n",
      "0.0\n",
      "0.0\n",
      "130.0\n",
      "116.0\n",
      "86.0\n",
      "0.0\n",
      "165.0\n",
      "253.0\n",
      "0.0\n",
      "253.0\n",
      "253.0\n",
      "0.0\n",
      "41.0\n",
      "0.0\n",
      "0.0\n",
      "0.0\n",
      "252.0\n",
      "44.0\n",
      "24.0\n",
      "0.0\n",
      "0.0\n",
      "0.0\n",
      "0.0\n",
      "115.0\n",
      "0.0\n",
      "0.0\n",
      "0.0\n",
      "21.0\n",
      "0.0\n",
      "0.0\n",
      "64.0\n",
      "0.0\n",
      "0.0\n",
      "253.0\n",
      "0.0\n",
      "0.0\n",
      "0.0\n",
      "0.0\n",
      "0.0\n",
      "0.0\n",
      "92.0\n",
      "0.0\n",
      "128.0\n",
      "0.0\n",
      "146.0\n",
      "0.0\n",
      "70.0\n",
      "254.0\n",
      "0.0\n",
      "0.0\n",
      "0.0\n",
      "124.0\n",
      "234.0\n",
      "170.0\n",
      "0.0\n",
      "0.0\n",
      "253.0\n",
      "253.0\n",
      "80.0\n",
      "0.0\n",
      "186.0\n",
      "203.0\n",
      "252.0\n",
      "0.0\n",
      "211.0\n",
      "252.0\n",
      "254.0\n",
      "253.0\n",
      "22.0\n",
      "19.0\n",
      "253.0\n",
      "0.0\n",
      "219.0\n",
      "196.0\n",
      "149.0\n",
      "222.0\n",
      "0.0\n",
      "253.0\n",
      "252.0\n",
      "253.0\n",
      "0.0\n",
      "253.0\n",
      "151.0\n",
      "0.0\n",
      "253.0\n",
      "0.0\n",
      "0.0\n",
      "70.0\n",
      "154.0\n",
      "254.0\n",
      "161.0\n",
      "86.0\n",
      "231.0\n",
      "151.0\n",
      "0.0\n",
      "0.0\n",
      "252.0\n",
      "254.0\n",
      "78.0\n",
      "248.0\n",
      "0.0\n",
      "0.0\n",
      "0.0\n",
      "0.0\n",
      "0.0\n",
      "254.0\n",
      "144.0\n",
      "0.0\n",
      "0.0\n",
      "253.0\n",
      "0.0\n",
      "104.0\n",
      "15.0\n",
      "253.0\n",
      "0.0\n",
      "0.0\n",
      "0.0\n",
      "0.0\n",
      "0.0\n",
      "71.0\n",
      "252.0\n",
      "0.0\n",
      "0.0\n",
      "0.0\n",
      "202.0\n",
      "0.0\n",
      "214.0\n",
      "0.0\n",
      "172.0\n",
      "253.0\n",
      "106.0\n",
      "252.0\n",
      "115.0\n",
      "121.0\n",
      "254.0\n",
      "255.0\n",
      "0.0\n",
      "220.0\n",
      "60.0\n",
      "253.0\n",
      "10.0\n",
      "0.0\n",
      "205.0\n",
      "0.0\n",
      "0.0\n",
      "143.0\n",
      "5.0\n",
      "0.0\n",
      "130.0\n",
      "0.0\n",
      "159.0\n",
      "118.0\n",
      "0.0\n",
      "0.0\n",
      "255.0\n",
      "254.0\n",
      "88.0\n",
      "0.0\n",
      "0.0\n",
      "252.0\n",
      "0.0\n",
      "28.0\n",
      "0.0\n",
      "43.0\n",
      "255.0\n",
      "255.0\n",
      "190.0\n",
      "0.0\n",
      "0.0\n",
      "0.0\n",
      "252.0\n",
      "114.0\n",
      "0.0\n",
      "0.0\n",
      "0.0\n",
      "139.0\n",
      "75.0\n",
      "39.0\n",
      "254.0\n",
      "0.0\n",
      "188.0\n",
      "247.0\n",
      "73.0\n",
      "169.0\n",
      "0.0\n",
      "0.0\n",
      "120.0\n",
      "0.0\n",
      "69.0\n",
      "0.0\n",
      "0.0\n",
      "129.0\n",
      "40.0\n",
      "0.0\n",
      "253.0\n",
      "224.0\n",
      "127.0\n",
      "0.0\n",
      "0.0\n",
      "254.0\n",
      "185.0\n",
      "0.0\n",
      "253.0\n",
      "0.0\n",
      "253.0\n",
      "253.0\n",
      "42.0\n",
      "0.0\n",
      "0.0\n",
      "0.0\n",
      "51.0\n",
      "255.0\n",
      "0.0\n",
      "239.0\n",
      "212.0\n",
      "237.0\n",
      "76.0\n",
      "23.0\n",
      "0.0\n",
      "0.0\n",
      "252.0\n",
      "0.0\n",
      "0.0\n",
      "167.0\n",
      "0.0\n",
      "244.0\n",
      "0.0\n",
      "0.0\n",
      "0.0\n",
      "229.0\n",
      "122.0\n",
      "0.0\n",
      "254.0\n",
      "0.0\n",
      "247.0\n",
      "121.0\n",
      "0.0\n",
      "0.0\n",
      "0.0\n",
      "144.0\n",
      "19.0\n",
      "0.0\n",
      "254.0\n",
      "0.0\n",
      "253.0\n",
      "145.0\n",
      "179.0\n",
      "197.0\n",
      "0.0\n",
      "145.0\n",
      "20.0\n",
      "0.0\n",
      "0.0\n",
      "254.0\n",
      "0.0\n",
      "79.0\n",
      "137.0\n",
      "253.0\n",
      "0.0\n",
      "253.0\n",
      "255.0\n",
      "0.0\n",
      "0.0\n",
      "0.0\n",
      "72.0\n",
      "174.0\n",
      "254.0\n",
      "0.0\n",
      "159.0\n",
      "0.0\n",
      "0.0\n",
      "253.0\n",
      "236.0\n",
      "253.0\n",
      "253.0\n",
      "167.0\n",
      "203.0\n",
      "0.0\n",
      "0.0\n",
      "112.0\n",
      "0.0\n",
      "0.0\n",
      "235.0\n",
      "253.0\n",
      "221.0\n",
      "0.0\n",
      "0.0\n",
      "0.0\n",
      "0.0\n",
      "0.0\n",
      "252.0\n",
      "252.0\n",
      "86.0\n",
      "252.0\n",
      "0.0\n",
      "0.0\n",
      "0.0\n",
      "255.0\n",
      "120.0\n",
      "0.0\n",
      "253.0\n",
      "0.0\n",
      "0.0\n",
      "245.0\n",
      "190.0\n",
      "0.0\n",
      "12.0\n",
      "0.0\n",
      "0.0\n",
      "191.0\n",
      "253.0\n",
      "254.0\n",
      "0.0\n",
      "0.0\n",
      "0.0\n",
      "0.0\n",
      "0.0\n",
      "0.0\n",
      "254.0\n",
      "142.0\n",
      "0.0\n",
      "0.0\n",
      "0.0\n",
      "0.0\n",
      "0.0\n",
      "0.0\n",
      "0.0\n",
      "0.0\n",
      "0.0\n",
      "254.0\n",
      "0.0\n",
      "253.0\n",
      "254.0\n",
      "0.0\n",
      "0.0\n",
      "253.0\n",
      "0.0\n",
      "253.0\n",
      "162.0\n",
      "0.0\n",
      "0.0\n",
      "253.0\n",
      "218.0\n",
      "252.0\n",
      "0.0\n",
      "253.0\n",
      "0.0\n",
      "140.0\n",
      "230.0\n",
      "0.0\n",
      "0.0\n",
      "0.0\n",
      "0.0\n",
      "0.0\n",
      "198.0\n",
      "0.0\n",
      "32.0\n",
      "0.0\n",
      "223.0\n",
      "0.0\n",
      "64.0\n",
      "48.0\n",
      "209.0\n",
      "0.0\n",
      "0.0\n",
      "0.0\n",
      "0.0\n",
      "0.0\n",
      "253.0\n",
      "12.0\n",
      "0.0\n",
      "253.0\n",
      "254.0\n",
      "0.0\n",
      "0.0\n",
      "241.0\n",
      "7.0\n",
      "253.0\n",
      "75.0\n",
      "16.0\n",
      "141.0\n",
      "0.0\n",
      "107.0\n",
      "0.0\n",
      "0.0\n",
      "205.0\n",
      "94.0\n",
      "29.0\n",
      "238.0\n",
      "255.0\n",
      "108.0\n",
      "0.0\n",
      "253.0\n",
      "0.0\n",
      "253.0\n",
      "0.0\n",
      "184.0\n",
      "0.0\n",
      "0.0\n",
      "253.0\n",
      "0.0\n",
      "0.0\n",
      "32.0\n",
      "0.0\n",
      "254.0\n",
      "0.0\n",
      "0.0\n",
      "59.0\n",
      "179.0\n",
      "0.0\n",
      "0.0\n",
      "0.0\n",
      "254.0\n",
      "0.0\n",
      "0.0\n",
      "251.0\n",
      "0.0\n",
      "0.0\n",
      "253.0\n",
      "75.0\n",
      "0.0\n",
      "0.0\n",
      "42.0\n",
      "252.0\n",
      "76.0\n",
      "0.0\n",
      "240.0\n",
      "0.0\n",
      "254.0\n",
      "45.0\n",
      "0.0\n",
      "253.0\n",
      "0.0\n",
      "64.0\n",
      "238.0\n",
      "223.0\n",
      "138.0\n",
      "0.0\n",
      "0.0\n",
      "0.0\n",
      "15.0\n",
      "0.0\n",
      "253.0\n",
      "0.0\n",
      "255.0\n",
      "0.0\n",
      "176.0\n",
      "255.0\n",
      "253.0\n",
      "11.0\n",
      "0.0\n",
      "1.0\n",
      "206.0\n",
      "48.0\n",
      "8.0\n",
      "0.0\n",
      "0.0\n",
      "0.0\n",
      "254.0\n",
      "0.0\n",
      "0.0\n",
      "178.0\n",
      "253.0\n",
      "0.0\n",
      "0.0\n",
      "0.0\n",
      "213.0\n",
      "116.0\n",
      "0.0\n",
      "0.0\n",
      "244.0\n",
      "0.0\n",
      "254.0\n",
      "0.0\n",
      "0.0\n",
      "0.0\n",
      "0.0\n",
      "245.0\n",
      "0.0\n",
      "0.0\n",
      "208.0\n",
      "91.0\n",
      "0.0\n",
      "0.0\n",
      "0.0\n",
      "0.0\n",
      "251.0\n",
      "0.0\n",
      "0.0\n",
      "98.0\n",
      "0.0\n",
      "245.0\n",
      "0.0\n",
      "0.0\n",
      "0.0\n",
      "254.0\n",
      "0.0\n",
      "0.0\n",
      "179.0\n",
      "0.0\n",
      "7.0\n",
      "46.0\n",
      "249.0\n",
      "10.0\n",
      "116.0\n",
      "0.0\n",
      "0.0\n",
      "0.0\n",
      "85.0\n",
      "25.0\n",
      "137.0\n",
      "0.0\n",
      "198.0\n",
      "204.0\n",
      "248.0\n",
      "223.0\n",
      "0.0\n",
      "22.0\n",
      "253.0\n",
      "0.0\n",
      "138.0\n",
      "1.0\n",
      "34.0\n",
      "253.0\n",
      "0.0\n",
      "141.0\n",
      "238.0\n",
      "0.0\n",
      "0.0\n",
      "0.0\n",
      "20.0\n",
      "237.0\n",
      "0.0\n",
      "0.0\n",
      "0.0\n",
      "0.0\n",
      "0.0\n",
      "0.0\n",
      "253.0\n",
      "251.0\n",
      "104.0\n",
      "0.0\n",
      "0.0\n",
      "0.0\n",
      "0.0\n",
      "153.0\n",
      "196.0\n",
      "0.0\n",
      "0.0\n",
      "229.0\n",
      "254.0\n",
      "254.0\n",
      "0.0\n",
      "0.0\n",
      "252.0\n",
      "252.0\n",
      "0.0\n",
      "254.0\n",
      "20.0\n",
      "0.0\n",
      "0.0\n",
      "0.0\n",
      "0.0\n",
      "0.0\n",
      "192.0\n",
      "0.0\n",
      "0.0\n",
      "0.0\n",
      "253.0\n",
      "0.0\n",
      "0.0\n",
      "0.0\n",
      "0.0\n",
      "0.0\n",
      "152.0\n",
      "0.0\n",
      "0.0\n",
      "254.0\n",
      "0.0\n",
      "72.0\n",
      "0.0\n",
      "192.0\n",
      "248.0\n",
      "0.0\n",
      "252.0\n",
      "1.0\n",
      "0.0\n",
      "0.0\n",
      "0.0\n",
      "0.0\n",
      "0.0\n",
      "63.0\n",
      "0.0\n",
      "0.0\n",
      "253.0\n",
      "0.0\n",
      "0.0\n",
      "0.0\n",
      "253.0\n",
      "0.0\n",
      "0.0\n",
      "0.0\n",
      "0.0\n",
      "0.0\n",
      "16.0\n",
      "253.0\n",
      "0.0\n",
      "252.0\n",
      "253.0\n",
      "255.0\n",
      "1.0\n",
      "22.0\n",
      "253.0\n",
      "12.0\n",
      "0.0\n",
      "231.0\n",
      "0.0\n",
      "0.0\n",
      "0.0\n",
      "0.0\n",
      "252.0\n",
      "252.0\n",
      "0.0\n",
      "0.0\n",
      "253.0\n",
      "11.0\n",
      "0.0\n",
      "0.0\n",
      "0.0\n",
      "0.0\n",
      "0.0\n",
      "0.0\n",
      "0.0\n",
      "2.0\n",
      "0.0\n",
      "0.0\n",
      "0.0\n",
      "0.0\n",
      "54.0\n",
      "0.0\n",
      "253.0\n",
      "0.0\n",
      "0.0\n",
      "254.0\n",
      "0.0\n",
      "0.0\n",
      "0.0\n",
      "253.0\n",
      "0.0\n",
      "0.0\n",
      "255.0\n",
      "0.0\n",
      "0.0\n",
      "132.0\n",
      "0.0\n",
      "0.0\n",
      "253.0\n",
      "253.0\n",
      "84.0\n",
      "0.0\n",
      "0.0\n",
      "0.0\n",
      "100.0\n",
      "0.0\n",
      "253.0\n",
      "0.0\n",
      "0.0\n",
      "0.0\n",
      "0.0\n",
      "0.0\n",
      "253.0\n",
      "254.0\n",
      "0.0\n",
      "253.0\n",
      "0.0\n",
      "119.0\n",
      "0.0\n",
      "0.0\n",
      "0.0\n",
      "0.0\n",
      "0.0\n",
      "248.0\n",
      "0.0\n",
      "228.0\n",
      "253.0\n",
      "0.0\n",
      "0.0\n",
      "252.0\n",
      "0.0\n",
      "0.0\n",
      "0.0\n",
      "251.0\n",
      "0.0\n",
      "243.0\n",
      "0.0\n",
      "236.0\n",
      "0.0\n",
      "232.0\n",
      "0.0\n",
      "0.0\n",
      "146.0\n",
      "0.0\n",
      "253.0\n",
      "0.0\n",
      "27.0\n",
      "0.0\n",
      "124.0\n",
      "254.0\n",
      "0.0\n",
      "0.0\n",
      "0.0\n",
      "82.0\n",
      "177.0\n",
      "1.0\n",
      "253.0\n",
      "17.0\n",
      "0.0\n",
      "0.0\n",
      "132.0\n",
      "255.0\n",
      "0.0\n",
      "253.0\n",
      "118.0\n",
      "0.0\n",
      "0.0\n",
      "0.0\n",
      "140.0\n",
      "0.0\n",
      "254.0\n",
      "25.0\n",
      "0.0\n",
      "0.0\n",
      "10.0\n",
      "230.0\n",
      "17.0\n",
      "45.0\n",
      "0.0\n",
      "0.0\n",
      "0.0\n",
      "0.0\n",
      "192.0\n",
      "242.0\n",
      "254.0\n",
      "255.0\n",
      "109.0\n",
      "0.0\n",
      "253.0\n",
      "0.0\n",
      "0.0\n",
      "0.0\n",
      "254.0\n",
      "3.0\n",
      "254.0\n",
      "191.0\n",
      "252.0\n",
      "253.0\n",
      "0.0\n",
      "0.0\n",
      "252.0\n",
      "254.0\n",
      "231.0\n",
      "0.0\n",
      "0.0\n",
      "0.0\n",
      "36.0\n",
      "0.0\n",
      "0.0\n",
      "37.0\n",
      "252.0\n",
      "0.0\n",
      "0.0\n",
      "255.0\n",
      "154.0\n",
      "204.0\n",
      "0.0\n",
      "118.0\n",
      "254.0\n",
      "0.0\n",
      "213.0\n",
      "135.0\n",
      "0.0\n",
      "48.0\n",
      "0.0\n",
      "0.0\n",
      "72.0\n",
      "213.0\n",
      "0.0\n",
      "0.0\n",
      "254.0\n",
      "0.0\n",
      "253.0\n",
      "0.0\n",
      "254.0\n",
      "169.0\n",
      "0.0\n",
      "16.0\n",
      "75.0\n",
      "17.0\n",
      "0.0\n",
      "253.0\n",
      "255.0\n",
      "0.0\n",
      "253.0\n",
      "0.0\n",
      "0.0\n",
      "198.0\n",
      "0.0\n",
      "254.0\n",
      "0.0\n",
      "208.0\n",
      "252.0\n",
      "11.0\n",
      "0.0\n",
      "85.0\n",
      "42.0\n",
      "253.0\n",
      "0.0\n",
      "0.0\n",
      "0.0\n",
      "253.0\n",
      "254.0\n",
      "252.0\n",
      "215.0\n",
      "0.0\n",
      "203.0\n",
      "104.0\n",
      "216.0\n",
      "0.0\n",
      "143.0\n",
      "0.0\n",
      "0.0\n",
      "47.0\n",
      "0.0\n",
      "200.0\n",
      "0.0\n",
      "0.0\n",
      "0.0\n",
      "252.0\n",
      "0.0\n",
      "0.0\n",
      "0.0\n",
      "0.0\n",
      "236.0\n",
      "0.0\n",
      "19.0\n",
      "0.0\n",
      "16.0\n",
      "0.0\n",
      "0.0\n",
      "21.0\n",
      "252.0\n",
      "252.0\n",
      "0.0\n",
      "0.0\n",
      "252.0\n",
      "0.0\n",
      "0.0\n",
      "38.0\n",
      "0.0\n",
      "0.0\n",
      "253.0\n",
      "239.0\n",
      "5.0\n",
      "0.0\n",
      "59.0\n",
      "18.0\n",
      "0.0\n",
      "0.0\n",
      "0.0\n",
      "44.0\n",
      "22.0\n",
      "0.0\n",
      "0.0\n",
      "0.0\n",
      "252.0\n",
      "0.0\n",
      "255.0\n",
      "1.0\n",
      "0.0\n",
      "0.0\n",
      "0.0\n",
      "246.0\n",
      "0.0\n",
      "253.0\n",
      "0.0\n",
      "5.0\n",
      "0.0\n",
      "0.0\n",
      "0.0\n",
      "0.0\n",
      "0.0\n",
      "0.0\n",
      "0.0\n",
      "0.0\n",
      "253.0\n",
      "0.0\n",
      "254.0\n",
      "48.0\n",
      "253.0\n",
      "253.0\n",
      "214.0\n",
      "0.0\n",
      "253.0\n",
      "141.0\n",
      "200.0\n",
      "0.0\n",
      "254.0\n",
      "0.0\n",
      "253.0\n",
      "0.0\n",
      "254.0\n",
      "0.0\n",
      "0.0\n",
      "0.0\n",
      "0.0\n",
      "0.0\n",
      "0.0\n",
      "253.0\n",
      "254.0\n",
      "253.0\n",
      "0.0\n",
      "253.0\n",
      "0.0\n",
      "55.0\n",
      "9.0\n",
      "171.0\n",
      "0.0\n",
      "0.0\n",
      "0.0\n",
      "218.0\n",
      "0.0\n",
      "0.0\n",
      "0.0\n",
      "35.0\n",
      "163.0\n",
      "239.0\n",
      "102.0\n",
      "253.0\n",
      "0.0\n",
      "231.0\n",
      "0.0\n",
      "0.0\n",
      "0.0\n",
      "0.0\n",
      "114.0\n",
      "0.0\n",
      "0.0\n",
      "255.0\n",
      "209.0\n",
      "0.0\n",
      "0.0\n",
      "0.0\n",
      "55.0\n",
      "171.0\n",
      "0.0\n",
      "0.0\n",
      "0.0\n",
      "46.0\n",
      "0.0\n",
      "83.0\n",
      "0.0\n",
      "0.0\n",
      "0.0\n",
      "253.0\n",
      "0.0\n",
      "6.0\n",
      "0.0\n",
      "0.0\n",
      "0.0\n",
      "0.0\n",
      "0.0\n",
      "253.0\n",
      "252.0\n",
      "0.0\n",
      "253.0\n",
      "0.0\n",
      "0.0\n",
      "11.0\n",
      "201.0\n",
      "92.0\n",
      "252.0\n",
      "174.0\n",
      "0.0\n",
      "191.0\n",
      "6.0\n",
      "255.0\n",
      "0.0\n",
      "0.0\n",
      "0.0\n",
      "137.0\n",
      "0.0\n",
      "0.0\n",
      "176.0\n",
      "0.0\n",
      "0.0\n",
      "245.0\n",
      "179.0\n",
      "0.0\n",
      "253.0\n",
      "0.0\n",
      "0.0\n",
      "0.0\n",
      "0.0\n",
      "144.0\n",
      "0.0\n",
      "128.0\n",
      "0.0\n",
      "200.0\n",
      "224.0\n",
      "0.0\n",
      "0.0\n",
      "0.0\n",
      "0.0\n",
      "254.0\n",
      "0.0\n",
      "254.0\n",
      "222.0\n",
      "53.0\n",
      "253.0\n",
      "0.0\n",
      "0.0\n",
      "1.0\n",
      "0.0\n",
      "0.0\n",
      "0.0\n",
      "0.0\n",
      "0.0\n",
      "253.0\n",
      "0.0\n",
      "0.0\n",
      "212.0\n",
      "254.0\n",
      "21.0\n",
      "0.0\n",
      "0.0\n",
      "0.0\n",
      "0.0\n",
      "0.0\n",
      "152.0\n",
      "0.0\n",
      "0.0\n",
      "132.0\n",
      "0.0\n",
      "255.0\n",
      "54.0\n",
      "0.0\n",
      "250.0\n",
      "252.0\n",
      "0.0\n",
      "253.0\n",
      "137.0\n",
      "253.0\n",
      "252.0\n",
      "254.0\n",
      "0.0\n",
      "1.0\n",
      "0.0\n",
      "0.0\n",
      "253.0\n",
      "0.0\n",
      "0.0\n",
      "249.0\n",
      "0.0\n",
      "0.0\n",
      "0.0\n",
      "254.0\n",
      "0.0\n",
      "128.0\n",
      "252.0\n",
      "230.0\n",
      "124.0\n",
      "102.0\n",
      "0.0\n",
      "253.0\n",
      "0.0\n",
      "211.0\n",
      "0.0\n",
      "0.0\n",
      "176.0\n",
      "0.0\n",
      "0.0\n",
      "57.0\n",
      "0.0\n",
      "253.0\n",
      "0.0\n",
      "0.0\n",
      "0.0\n",
      "138.0\n",
      "0.0\n",
      "159.0\n",
      "45.0\n",
      "254.0\n",
      "0.0\n",
      "252.0\n",
      "0.0\n",
      "254.0\n",
      "252.0\n",
      "55.0\n",
      "103.0\n",
      "252.0\n",
      "0.0\n",
      "0.0\n",
      "0.0\n",
      "49.0\n",
      "0.0\n",
      "0.0\n",
      "0.0\n",
      "255.0\n",
      "253.0\n",
      "213.0\n",
      "252.0\n",
      "0.0\n",
      "254.0\n",
      "0.0\n",
      "0.0\n",
      "0.0\n",
      "0.0\n",
      "0.0\n",
      "228.0\n",
      "0.0\n",
      "0.0\n",
      "0.0\n",
      "0.0\n",
      "0.0\n",
      "120.0\n",
      "0.0\n",
      "134.0\n",
      "107.0\n",
      "0.0\n",
      "0.0\n",
      "94.0\n",
      "0.0\n",
      "0.0\n",
      "0.0\n",
      "228.0\n",
      "150.0\n",
      "0.0\n",
      "0.0\n",
      "0.0\n",
      "0.0\n",
      "0.0\n",
      "0.0\n",
      "163.0\n",
      "255.0\n",
      "195.0\n",
      "0.0\n",
      "0.0\n",
      "128.0\n",
      "211.0\n",
      "172.0\n",
      "50.0\n",
      "234.0\n",
      "0.0\n",
      "254.0\n",
      "252.0\n",
      "253.0\n",
      "252.0\n",
      "21.0\n",
      "255.0\n",
      "0.0\n",
      "0.0\n",
      "0.0\n",
      "0.0\n",
      "254.0\n",
      "0.0\n",
      "0.0\n",
      "0.0\n",
      "254.0\n",
      "0.0\n",
      "0.0\n",
      "0.0\n",
      "0.0\n",
      "64.0\n",
      "125.0\n",
      "0.0\n",
      "0.0\n",
      "0.0\n",
      "198.0\n",
      "254.0\n",
      "0.0\n",
      "0.0\n",
      "0.0\n",
      "0.0\n",
      "0.0\n",
      "0.0\n",
      "252.0\n",
      "0.0\n",
      "0.0\n",
      "0.0\n",
      "0.0\n",
      "0.0\n",
      "4.0\n",
      "0.0\n",
      "0.0\n",
      "0.0\n",
      "0.0\n",
      "0.0\n",
      "29.0\n",
      "0.0\n",
      "254.0\n",
      "0.0\n",
      "0.0\n",
      "0.0\n",
      "5.0\n",
      "213.0\n",
      "246.0\n",
      "0.0\n",
      "252.0\n",
      "0.0\n",
      "0.0\n",
      "0.0\n",
      "0.0\n",
      "0.0\n",
      "36.0\n",
      "254.0\n",
      "181.0\n",
      "214.0\n",
      "0.0\n",
      "0.0\n",
      "0.0\n",
      "0.0\n",
      "0.0\n",
      "0.0\n",
      "52.0\n",
      "222.0\n",
      "0.0\n",
      "0.0\n",
      "216.0\n",
      "117.0\n",
      "0.0\n",
      "254.0\n",
      "120.0\n",
      "0.0\n",
      "0.0\n",
      "0.0\n",
      "0.0\n",
      "253.0\n",
      "253.0\n",
      "0.0\n",
      "0.0\n",
      "0.0\n",
      "0.0\n",
      "0.0\n",
      "150.0\n",
      "253.0\n",
      "252.0\n",
      "54.0\n",
      "0.0\n",
      "164.0\n",
      "253.0\n",
      "0.0\n",
      "0.0\n",
      "0.0\n",
      "0.0\n",
      "0.0\n",
      "170.0\n",
      "61.0\n",
      "196.0\n",
      "252.0\n",
      "197.0\n",
      "0.0\n",
      "0.0\n",
      "0.0\n",
      "0.0\n",
      "253.0\n",
      "255.0\n",
      "252.0\n",
      "0.0\n",
      "44.0\n",
      "254.0\n",
      "0.0\n",
      "164.0\n",
      "0.0\n",
      "0.0\n",
      "131.0\n",
      "0.0\n",
      "254.0\n",
      "0.0\n",
      "0.0\n",
      "149.0\n",
      "0.0\n",
      "0.0\n",
      "85.0\n",
      "254.0\n",
      "253.0\n",
      "103.0\n",
      "249.0\n",
      "255.0\n",
      "253.0\n",
      "183.0\n",
      "95.0\n",
      "191.0\n",
      "0.0\n",
      "80.0\n",
      "202.0\n",
      "0.0\n",
      "182.0\n",
      "72.0\n",
      "0.0\n",
      "0.0\n",
      "206.0\n",
      "0.0\n",
      "99.0\n",
      "0.0\n",
      "0.0\n",
      "254.0\n",
      "236.0\n",
      "247.0\n",
      "0.0\n",
      "0.0\n",
      "0.0\n",
      "254.0\n",
      "252.0\n",
      "118.0\n",
      "126.0\n",
      "66.0\n",
      "33.0\n",
      "0.0\n",
      "0.0\n",
      "0.0\n",
      "0.0\n",
      "0.0\n",
      "0.0\n",
      "252.0\n",
      "0.0\n",
      "0.0\n",
      "0.0\n",
      "253.0\n",
      "95.0\n",
      "242.0\n",
      "252.0\n",
      "161.0\n",
      "228.0\n",
      "254.0\n",
      "253.0\n",
      "255.0\n",
      "0.0\n",
      "0.0\n",
      "0.0\n",
      "137.0\n",
      "0.0\n",
      "110.0\n",
      "0.0\n",
      "0.0\n",
      "0.0\n",
      "0.0\n",
      "0.0\n",
      "14.0\n",
      "221.0\n",
      "61.0\n",
      "0.0\n",
      "0.0\n",
      "31.0\n",
      "7.0\n",
      "0.0\n",
      "74.0\n",
      "0.0\n",
      "0.0\n",
      "252.0\n",
      "0.0\n",
      "0.0\n",
      "253.0\n",
      "0.0\n",
      "24.0\n",
      "0.0\n",
      "253.0\n",
      "0.0\n",
      "254.0\n",
      "227.0\n",
      "252.0\n",
      "241.0\n",
      "14.0\n",
      "255.0\n",
      "0.0\n",
      "38.0\n",
      "85.0\n",
      "0.0\n",
      "173.0\n",
      "0.0\n",
      "0.0\n",
      "0.0\n",
      "86.0\n",
      "253.0\n",
      "0.0\n",
      "0.0\n",
      "0.0\n",
      "3.0\n",
      "0.0\n",
      "0.0\n",
      "0.0\n",
      "221.0\n",
      "61.0\n",
      "0.0\n",
      "174.0\n",
      "0.0\n",
      "0.0\n",
      "81.0\n",
      "0.0\n",
      "253.0\n",
      "0.0\n",
      "0.0\n",
      "253.0\n",
      "252.0\n",
      "98.0\n",
      "0.0\n",
      "12.0\n",
      "0.0\n",
      "37.0\n",
      "0.0\n",
      "0.0\n",
      "0.0\n",
      "0.0\n",
      "251.0\n",
      "253.0\n",
      "0.0\n",
      "216.0\n",
      "0.0\n",
      "252.0\n",
      "252.0\n",
      "0.0\n",
      "244.0\n",
      "252.0\n",
      "122.0\n",
      "0.0\n",
      "0.0\n",
      "225.0\n",
      "0.0\n",
      "0.0\n",
      "239.0\n",
      "0.0\n",
      "0.0\n",
      "0.0\n",
      "0.0\n",
      "0.0\n",
      "115.0\n",
      "252.0\n",
      "24.0\n",
      "239.0\n",
      "249.0\n",
      "255.0\n",
      "254.0\n",
      "0.0\n",
      "0.0\n",
      "232.0\n",
      "78.0\n",
      "24.0\n",
      "0.0\n",
      "0.0\n",
      "46.0\n",
      "0.0\n",
      "21.0\n",
      "104.0\n",
      "0.0\n",
      "119.0\n",
      "0.0\n",
      "0.0\n",
      "0.0\n",
      "253.0\n",
      "0.0\n",
      "255.0\n",
      "0.0\n",
      "0.0\n",
      "19.0\n",
      "0.0\n",
      "0.0\n",
      "0.0\n",
      "254.0\n",
      "253.0\n",
      "237.0\n",
      "0.0\n",
      "212.0\n",
      "0.0\n",
      "0.0\n",
      "0.0\n",
      "0.0\n",
      "252.0\n",
      "0.0\n",
      "0.0\n",
      "0.0\n",
      "252.0\n",
      "50.0\n",
      "78.0\n",
      "0.0\n",
      "0.0\n",
      "0.0\n",
      "0.0\n",
      "0.0\n",
      "0.0\n",
      "0.0\n",
      "0.0\n",
      "0.0\n",
      "0.0\n",
      "231.0\n",
      "0.0\n",
      "0.0\n",
      "0.0\n",
      "255.0\n",
      "0.0\n",
      "253.0\n",
      "254.0\n",
      "253.0\n",
      "0.0\n",
      "169.0\n",
      "0.0\n",
      "0.0\n",
      "0.0\n",
      "252.0\n",
      "150.0\n",
      "255.0\n",
      "0.0\n",
      "40.0\n",
      "255.0\n",
      "0.0\n",
      "106.0\n",
      "109.0\n",
      "0.0\n",
      "94.0\n",
      "253.0\n",
      "0.0\n",
      "0.0\n",
      "233.0\n",
      "253.0\n",
      "0.0\n",
      "0.0\n",
      "0.0\n",
      "252.0\n",
      "0.0\n",
      "0.0\n",
      "193.0\n",
      "0.0\n",
      "0.0\n",
      "249.0\n",
      "0.0\n",
      "46.0\n",
      "0.0\n",
      "254.0\n",
      "0.0\n",
      "0.0\n",
      "242.0\n",
      "0.0\n",
      "252.0\n",
      "0.0\n",
      "0.0\n",
      "0.0\n",
      "0.0\n",
      "4.0\n",
      "0.0\n",
      "0.0\n",
      "0.0\n",
      "253.0\n",
      "0.0\n",
      "254.0\n",
      "9.0\n",
      "9.0\n",
      "249.0\n",
      "190.0\n",
      "0.0\n",
      "0.0\n",
      "0.0\n",
      "126.0\n",
      "15.0\n",
      "0.0\n",
      "32.0\n",
      "0.0\n",
      "0.0\n",
      "0.0\n",
      "0.0\n",
      "0.0\n",
      "252.0\n",
      "253.0\n",
      "72.0\n",
      "0.0\n",
      "0.0\n",
      "0.0\n",
      "198.0\n",
      "6.0\n",
      "0.0\n",
      "135.0\n",
      "0.0\n",
      "0.0\n",
      "104.0\n",
      "47.0\n",
      "190.0\n",
      "215.0\n",
      "253.0\n",
      "0.0\n",
      "0.0\n",
      "159.0\n",
      "0.0\n",
      "83.0\n",
      "0.0\n",
      "236.0\n",
      "251.0\n",
      "0.0\n",
      "0.0\n",
      "253.0\n",
      "0.0\n",
      "12.0\n",
      "0.0\n",
      "0.0\n",
      "0.0\n",
      "252.0\n",
      "255.0\n",
      "225.0\n",
      "0.0\n",
      "245.0\n",
      "216.0\n",
      "172.0\n",
      "0.0\n",
      "172.0\n",
      "0.0\n",
      "72.0\n",
      "0.0\n",
      "0.0\n",
      "0.0\n",
      "0.0\n",
      "0.0\n",
      "2.0\n",
      "0.0\n",
      "47.0\n",
      "253.0\n",
      "254.0\n",
      "0.0\n",
      "183.0\n",
      "225.0\n",
      "0.0\n",
      "106.0\n",
      "254.0\n",
      "254.0\n",
      "0.0\n",
      "254.0\n",
      "147.0\n",
      "15.0\n",
      "13.0\n",
      "82.0\n",
      "254.0\n",
      "12.0\n",
      "56.0\n",
      "84.0\n",
      "0.0\n",
      "151.0\n",
      "0.0\n",
      "0.0\n",
      "253.0\n",
      "1.0\n",
      "255.0\n",
      "0.0\n",
      "26.0\n",
      "254.0\n",
      "0.0\n",
      "223.0\n",
      "9.0\n",
      "0.0\n",
      "0.0\n",
      "0.0\n",
      "252.0\n",
      "0.0\n",
      "0.0\n",
      "27.0\n",
      "0.0\n",
      "0.0\n",
      "0.0\n",
      "0.0\n",
      "0.0\n",
      "0.0\n",
      "0.0\n",
      "64.0\n",
      "201.0\n",
      "112.0\n",
      "254.0\n",
      "233.0\n",
      "0.0\n",
      "0.0\n",
      "0.0\n",
      "0.0\n",
      "255.0\n",
      "4.0\n",
      "0.0\n",
      "56.0\n",
      "0.0\n",
      "0.0\n",
      "0.0\n",
      "0.0\n",
      "231.0\n",
      "187.0\n",
      "0.0\n",
      "0.0\n",
      "254.0\n",
      "254.0\n",
      "159.0\n",
      "0.0\n",
      "0.0\n",
      "218.0\n",
      "0.0\n",
      "253.0\n",
      "0.0\n",
      "243.0\n",
      "187.0\n",
      "0.0\n",
      "66.0\n",
      "253.0\n",
      "0.0\n",
      "253.0\n",
      "0.0\n",
      "0.0\n",
      "0.0\n",
      "0.0\n",
      "252.0\n",
      "0.0\n",
      "0.0\n",
      "0.0\n",
      "0.0\n",
      "0.0\n",
      "0.0\n",
      "173.0\n",
      "0.0\n",
      "0.0\n",
      "0.0\n",
      "254.0\n",
      "39.0\n",
      "0.0\n",
      "140.0\n",
      "254.0\n",
      "5.0\n",
      "0.0\n",
      "0.0\n",
      "54.0\n",
      "42.0\n",
      "244.0\n",
      "0.0\n",
      "71.0\n",
      "61.0\n",
      "0.0\n",
      "233.0\n",
      "0.0\n",
      "0.0\n",
      "254.0\n",
      "0.0\n",
      "203.0\n",
      "0.0\n",
      "14.0\n",
      "12.0\n",
      "0.0\n",
      "255.0\n",
      "100.0\n",
      "0.0\n",
      "255.0\n",
      "0.0\n",
      "228.0\n",
      "7.0\n",
      "148.0\n",
      "0.0\n",
      "0.0\n",
      "0.0\n",
      "0.0\n",
      "0.0\n",
      "0.0\n",
      "184.0\n",
      "0.0\n",
      "22.0\n",
      "0.0\n",
      "0.0\n",
      "156.0\n",
      "136.0\n",
      "244.0\n",
      "0.0\n",
      "0.0\n",
      "228.0\n",
      "0.0\n",
      "0.0\n",
      "0.0\n",
      "0.0\n",
      "88.0\n",
      "33.0\n",
      "103.0\n",
      "254.0\n",
      "67.0\n",
      "254.0\n",
      "0.0\n",
      "254.0\n",
      "0.0\n",
      "0.0\n",
      "255.0\n",
      "253.0\n",
      "254.0\n",
      "0.0\n",
      "106.0\n",
      "0.0\n",
      "0.0\n",
      "0.0\n",
      "253.0\n",
      "0.0\n",
      "71.0\n",
      "213.0\n",
      "239.0\n",
      "0.0\n",
      "11.0\n",
      "122.0\n",
      "0.0\n",
      "0.0\n",
      "0.0\n",
      "252.0\n",
      "0.0\n",
      "252.0\n",
      "0.0\n",
      "0.0\n",
      "0.0\n",
      "254.0\n",
      "253.0\n",
      "196.0\n",
      "141.0\n",
      "0.0\n",
      "0.0\n",
      "0.0\n",
      "0.0\n",
      "67.0\n",
      "0.0\n",
      "0.0\n",
      "225.0\n",
      "0.0\n",
      "252.0\n",
      "0.0\n",
      "0.0\n",
      "0.0\n",
      "5.0\n",
      "187.0\n",
      "0.0\n",
      "0.0\n",
      "59.0\n",
      "210.0\n",
      "211.0\n",
      "0.0\n",
      "10.0\n",
      "0.0\n",
      "0.0\n",
      "0.0\n",
      "252.0\n",
      "0.0\n",
      "0.0\n",
      "196.0\n",
      "0.0\n",
      "129.0\n",
      "0.0\n",
      "0.0\n",
      "150.0\n",
      "82.0\n",
      "0.0\n",
      "0.0\n",
      "0.0\n",
      "0.0\n",
      "141.0\n",
      "248.0\n",
      "0.0\n",
      "0.0\n",
      "0.0\n",
      "253.0\n",
      "253.0\n",
      "0.0\n",
      "0.0\n",
      "0.0\n",
      "51.0\n",
      "0.0\n",
      "0.0\n",
      "0.0\n",
      "111.0\n",
      "0.0\n",
      "0.0\n",
      "13.0\n",
      "192.0\n",
      "254.0\n",
      "0.0\n",
      "0.0\n",
      "253.0\n",
      "0.0\n",
      "0.0\n",
      "252.0\n",
      "252.0\n",
      "253.0\n",
      "255.0\n",
      "255.0\n",
      "0.0\n",
      "0.0\n",
      "161.0\n",
      "163.0\n",
      "0.0\n",
      "254.0\n",
      "0.0\n",
      "13.0\n",
      "0.0\n",
      "59.0\n",
      "0.0\n",
      "0.0\n",
      "0.0\n",
      "131.0\n",
      "0.0\n",
      "0.0\n",
      "253.0\n",
      "0.0\n",
      "0.0\n",
      "132.0\n",
      "39.0\n",
      "0.0\n",
      "217.0\n",
      "254.0\n",
      "0.0\n",
      "0.0\n",
      "236.0\n",
      "0.0\n",
      "0.0\n",
      "176.0\n",
      "120.0\n",
      "165.0\n",
      "0.0\n",
      "0.0\n",
      "0.0\n",
      "0.0\n",
      "0.0\n",
      "143.0\n",
      "0.0\n",
      "252.0\n",
      "0.0\n",
      "0.0\n",
      "0.0\n",
      "0.0\n",
      "0.0\n",
      "0.0\n",
      "0.0\n",
      "0.0\n",
      "86.0\n",
      "253.0\n",
      "0.0\n",
      "50.0\n",
      "0.0\n",
      "0.0\n",
      "0.0\n",
      "164.0\n",
      "231.0\n",
      "0.0\n",
      "148.0\n",
      "152.0\n",
      "165.0\n",
      "0.0\n",
      "0.0\n",
      "0.0\n",
      "171.0\n",
      "0.0\n",
      "0.0\n",
      "0.0\n",
      "252.0\n",
      "252.0\n",
      "0.0\n",
      "0.0\n",
      "254.0\n",
      "148.0\n",
      "68.0\n",
      "123.0\n",
      "0.0\n",
      "4.0\n",
      "0.0\n",
      "188.0\n",
      "0.0\n",
      "95.0\n",
      "0.0\n",
      "45.0\n",
      "222.0\n",
      "15.0\n",
      "217.0\n",
      "214.0\n",
      "0.0\n",
      "218.0\n",
      "89.0\n",
      "255.0\n",
      "254.0\n",
      "0.0\n",
      "0.0\n",
      "253.0\n",
      "96.0\n",
      "0.0\n",
      "253.0\n",
      "0.0\n",
      "0.0\n",
      "252.0\n",
      "13.0\n",
      "0.0\n",
      "116.0\n",
      "0.0\n",
      "5.0\n",
      "0.0\n",
      "253.0\n",
      "0.0\n",
      "0.0\n",
      "34.0\n",
      "0.0\n",
      "148.0\n",
      "0.0\n",
      "253.0\n",
      "138.0\n",
      "0.0\n",
      "253.0\n",
      "0.0\n",
      "250.0\n",
      "210.0\n",
      "253.0\n",
      "0.0\n",
      "115.0\n",
      "8.0\n",
      "176.0\n",
      "236.0\n",
      "0.0\n",
      "0.0\n",
      "0.0\n",
      "116.0\n",
      "21.0\n",
      "139.0\n",
      "255.0\n",
      "0.0\n",
      "0.0\n",
      "0.0\n",
      "251.0\n",
      "79.0\n",
      "131.0\n",
      "0.0\n",
      "57.0\n",
      "0.0\n",
      "145.0\n",
      "2.0\n",
      "0.0\n",
      "0.0\n",
      "253.0\n",
      "0.0\n",
      "0.0\n",
      "0.0\n",
      "253.0\n",
      "253.0\n",
      "0.0\n",
      "0.0\n",
      "0.0\n",
      "232.0\n",
      "19.0\n",
      "254.0\n",
      "253.0\n",
      "0.0\n",
      "0.0\n",
      "254.0\n",
      "0.0\n",
      "45.0\n",
      "209.0\n",
      "253.0\n",
      "0.0\n",
      "29.0\n",
      "84.0\n",
      "132.0\n",
      "254.0\n",
      "0.0\n",
      "254.0\n",
      "254.0\n",
      "0.0\n",
      "0.0\n",
      "0.0\n",
      "0.0\n",
      "255.0\n",
      "246.0\n",
      "0.0\n",
      "0.0\n",
      "253.0\n",
      "0.0\n",
      "27.0\n",
      "0.0\n",
      "76.0\n",
      "253.0\n",
      "253.0\n",
      "20.0\n",
      "27.0\n",
      "0.0\n",
      "0.0\n",
      "0.0\n",
      "0.0\n",
      "0.0\n",
      "0.0\n",
      "0.0\n",
      "0.0\n",
      "0.0\n",
      "64.0\n",
      "247.0\n",
      "214.0\n",
      "215.0\n",
      "0.0\n",
      "126.0\n",
      "0.0\n",
      "231.0\n",
      "0.0\n",
      "252.0\n",
      "0.0\n",
      "131.0\n",
      "154.0\n",
      "0.0\n",
      "0.0\n",
      "0.0\n",
      "167.0\n",
      "130.0\n",
      "0.0\n",
      "93.0\n",
      "250.0\n",
      "248.0\n",
      "0.0\n",
      "0.0\n",
      "253.0\n",
      "139.0\n",
      "255.0\n",
      "178.0\n",
      "0.0\n",
      "0.0\n",
      "163.0\n",
      "217.0\n",
      "0.0\n",
      "0.0\n",
      "140.0\n",
      "0.0\n",
      "56.0\n",
      "253.0\n",
      "0.0\n",
      "0.0\n",
      "0.0\n",
      "0.0\n",
      "82.0\n",
      "0.0\n",
      "254.0\n",
      "0.0\n",
      "59.0\n",
      "251.0\n",
      "128.0\n",
      "252.0\n",
      "7.0\n",
      "0.0\n",
      "0.0\n",
      "73.0\n",
      "0.0\n",
      "0.0\n",
      "0.0\n",
      "0.0\n",
      "0.0\n",
      "0.0\n",
      "253.0\n",
      "251.0\n",
      "32.0\n",
      "254.0\n",
      "0.0\n",
      "253.0\n",
      "0.0\n",
      "0.0\n",
      "188.0\n",
      "0.0\n",
      "0.0\n",
      "0.0\n",
      "234.0\n",
      "0.0\n",
      "254.0\n",
      "0.0\n",
      "158.0\n",
      "117.0\n",
      "252.0\n",
      "0.0\n",
      "140.0\n",
      "0.0\n",
      "251.0\n",
      "123.0\n",
      "0.0\n",
      "255.0\n",
      "0.0\n",
      "253.0\n",
      "253.0\n",
      "0.0\n",
      "0.0\n",
      "0.0\n",
      "73.0\n",
      "0.0\n",
      "28.0\n",
      "0.0\n",
      "0.0\n",
      "86.0\n",
      "252.0\n",
      "106.0\n",
      "254.0\n",
      "0.0\n",
      "251.0\n",
      "0.0\n",
      "0.0\n",
      "222.0\n",
      "0.0\n",
      "0.0\n",
      "44.0\n",
      "0.0\n",
      "0.0\n",
      "0.0\n",
      "0.0\n",
      "0.0\n",
      "0.0\n",
      "252.0\n",
      "0.0\n",
      "0.0\n",
      "0.0\n",
      "9.0\n",
      "0.0\n",
      "0.0\n",
      "0.0\n",
      "0.0\n",
      "82.0\n",
      "236.0\n",
      "0.0\n",
      "242.0\n",
      "0.0\n",
      "87.0\n",
      "0.0\n",
      "255.0\n",
      "13.0\n",
      "0.0\n",
      "0.0\n",
      "36.0\n",
      "0.0\n",
      "85.0\n",
      "254.0\n",
      "0.0\n",
      "0.0\n",
      "0.0\n",
      "75.0\n",
      "0.0\n",
      "0.0\n",
      "0.0\n",
      "0.0\n",
      "0.0\n",
      "232.0\n",
      "0.0\n",
      "120.0\n",
      "0.0\n",
      "0.0\n",
      "253.0\n",
      "0.0\n",
      "0.0\n",
      "0.0\n",
      "0.0\n",
      "0.0\n",
      "78.0\n",
      "0.0\n",
      "0.0\n",
      "0.0\n",
      "0.0\n",
      "247.0\n",
      "0.0\n",
      "177.0\n",
      "0.0\n",
      "0.0\n",
      "0.0\n",
      "0.0\n",
      "204.0\n",
      "228.0\n",
      "45.0\n",
      "102.0\n",
      "0.0\n",
      "0.0\n",
      "0.0\n",
      "0.0\n",
      "0.0\n",
      "0.0\n",
      "27.0\n",
      "254.0\n",
      "0.0\n",
      "94.0\n",
      "236.0\n",
      "253.0\n",
      "0.0\n",
      "0.0\n",
      "255.0\n",
      "0.0\n",
      "255.0\n",
      "115.0\n",
      "0.0\n",
      "0.0\n",
      "0.0\n",
      "0.0\n",
      "243.0\n",
      "0.0\n",
      "0.0\n",
      "252.0\n",
      "0.0\n",
      "0.0\n",
      "0.0\n",
      "0.0\n",
      "0.0\n",
      "0.0\n",
      "0.0\n",
      "31.0\n",
      "0.0\n",
      "0.0\n",
      "0.0\n",
      "226.0\n",
      "0.0\n",
      "242.0\n",
      "0.0\n",
      "0.0\n",
      "0.0\n",
      "50.0\n",
      "0.0\n",
      "0.0\n",
      "66.0\n",
      "0.0\n",
      "181.0\n",
      "252.0\n",
      "0.0\n",
      "253.0\n",
      "0.0\n",
      "0.0\n",
      "0.0\n",
      "0.0\n",
      "0.0\n",
      "0.0\n",
      "0.0\n",
      "254.0\n",
      "254.0\n",
      "0.0\n",
      "237.0\n",
      "78.0\n",
      "254.0\n",
      "252.0\n",
      "255.0\n",
      "0.0\n",
      "0.0\n",
      "254.0\n",
      "0.0\n",
      "0.0\n",
      "0.0\n",
      "0.0\n",
      "0.0\n",
      "0.0\n",
      "0.0\n",
      "255.0\n",
      "0.0\n",
      "0.0\n",
      "0.0\n",
      "254.0\n",
      "252.0\n",
      "253.0\n",
      "0.0\n",
      "0.0\n",
      "0.0\n",
      "0.0\n",
      "49.0\n",
      "113.0\n",
      "7.0\n",
      "0.0\n",
      "204.0\n",
      "0.0\n",
      "0.0\n",
      "51.0\n",
      "253.0\n",
      "0.0\n",
      "185.0\n",
      "0.0\n",
      "0.0\n",
      "197.0\n",
      "0.0\n",
      "0.0\n",
      "146.0\n",
      "253.0\n",
      "0.0\n",
      "0.0\n",
      "254.0\n",
      "29.0\n",
      "204.0\n",
      "0.0\n",
      "0.0\n",
      "0.0\n",
      "253.0\n",
      "0.0\n",
      "0.0\n",
      "0.0\n",
      "254.0\n",
      "0.0\n",
      "111.0\n",
      "253.0\n",
      "0.0\n",
      "24.0\n",
      "156.0\n",
      "253.0\n",
      "0.0\n",
      "0.0\n",
      "253.0\n",
      "0.0\n",
      "237.0\n",
      "4.0\n",
      "255.0\n",
      "252.0\n",
      "0.0\n",
      "0.0\n",
      "0.0\n",
      "0.0\n",
      "0.0\n",
      "0.0\n",
      "252.0\n",
      "0.0\n",
      "28.0\n",
      "10.0\n",
      "177.0\n",
      "145.0\n",
      "111.0\n",
      "0.0\n",
      "0.0\n",
      "180.0\n",
      "254.0\n",
      "249.0\n",
      "252.0\n",
      "253.0\n",
      "0.0\n",
      "243.0\n",
      "38.0\n",
      "253.0\n",
      "252.0\n",
      "0.0\n",
      "90.0\n",
      "0.0\n",
      "252.0\n",
      "0.0\n",
      "42.0\n",
      "7.0\n",
      "169.0\n",
      "0.0\n",
      "200.0\n",
      "0.0\n",
      "0.0\n",
      "252.0\n",
      "0.0\n",
      "253.0\n",
      "0.0\n",
      "0.0\n",
      "41.0\n",
      "252.0\n",
      "0.0\n",
      "0.0\n",
      "253.0\n",
      "0.0\n",
      "0.0\n",
      "143.0\n",
      "70.0\n",
      "0.0\n",
      "0.0\n",
      "94.0\n",
      "0.0\n",
      "252.0\n",
      "253.0\n",
      "0.0\n",
      "0.0\n",
      "254.0\n",
      "239.0\n",
      "253.0\n",
      "203.0\n",
      "249.0\n",
      "0.0\n",
      "241.0\n",
      "0.0\n",
      "134.0\n",
      "2.0\n",
      "253.0\n",
      "0.0\n",
      "96.0\n",
      "214.0\n",
      "254.0\n",
      "0.0\n",
      "0.0\n",
      "255.0\n",
      "0.0\n",
      "0.0\n",
      "25.0\n",
      "254.0\n",
      "248.0\n",
      "46.0\n",
      "252.0\n",
      "0.0\n",
      "0.0\n",
      "254.0\n",
      "0.0\n",
      "0.0\n",
      "161.0\n",
      "0.0\n",
      "220.0\n",
      "0.0\n",
      "0.0\n",
      "253.0\n",
      "0.0\n",
      "134.0\n",
      "0.0\n",
      "48.0\n",
      "6.0\n",
      "0.0\n",
      "128.0\n",
      "0.0\n",
      "0.0\n",
      "0.0\n",
      "0.0\n",
      "226.0\n",
      "0.0\n",
      "0.0\n",
      "81.0\n",
      "234.0\n",
      "0.0\n",
      "254.0\n",
      "0.0\n",
      "0.0\n",
      "0.0\n",
      "0.0\n",
      "239.0\n",
      "66.0\n",
      "0.0\n",
      "44.0\n",
      "0.0\n",
      "252.0\n",
      "21.0\n",
      "0.0\n",
      "253.0\n",
      "249.0\n",
      "252.0\n",
      "0.0\n",
      "220.0\n",
      "0.0\n",
      "112.0\n",
      "110.0\n",
      "0.0\n",
      "13.0\n",
      "253.0\n",
      "253.0\n",
      "0.0\n",
      "0.0\n",
      "253.0\n",
      "206.0\n",
      "245.0\n",
      "0.0\n",
      "0.0\n",
      "0.0\n",
      "253.0\n",
      "0.0\n",
      "74.0\n",
      "0.0\n",
      "0.0\n",
      "0.0\n",
      "0.0\n",
      "194.0\n",
      "0.0\n",
      "129.0\n",
      "0.0\n",
      "3.0\n",
      "68.0\n",
      "169.0\n",
      "235.0\n",
      "28.0\n",
      "21.0\n",
      "0.0\n",
      "253.0\n",
      "0.0\n",
      "41.0\n",
      "0.0\n",
      "0.0\n",
      "155.0\n",
      "96.0\n",
      "219.0\n",
      "254.0\n",
      "0.0\n",
      "231.0\n",
      "238.0\n",
      "0.0\n",
      "0.0\n",
      "253.0\n",
      "0.0\n",
      "242.0\n",
      "61.0\n",
      "0.0\n",
      "0.0\n",
      "6.0\n",
      "127.0\n",
      "221.0\n",
      "53.0\n",
      "0.0\n",
      "20.0\n",
      "247.0\n",
      "0.0\n",
      "252.0\n",
      "0.0\n",
      "0.0\n",
      "6.0\n",
      "0.0\n",
      "0.0\n",
      "0.0\n",
      "0.0\n",
      "128.0\n",
      "191.0\n",
      "0.0\n",
      "0.0\n",
      "0.0\n",
      "121.0\n",
      "115.0\n",
      "0.0\n",
      "243.0\n",
      "0.0\n",
      "0.0\n",
      "0.0\n",
      "253.0\n",
      "231.0\n",
      "0.0\n",
      "0.0\n",
      "0.0\n",
      "252.0\n",
      "0.0\n",
      "217.0\n",
      "39.0\n",
      "253.0\n",
      "0.0\n",
      "0.0\n",
      "0.0\n",
      "0.0\n",
      "25.0\n",
      "253.0\n",
      "7.0\n",
      "0.0\n",
      "0.0\n",
      "0.0\n",
      "0.0\n",
      "253.0\n",
      "104.0\n",
      "255.0\n",
      "0.0\n",
      "0.0\n",
      "0.0\n",
      "0.0\n",
      "0.0\n",
      "251.0\n",
      "255.0\n",
      "120.0\n",
      "248.0\n",
      "234.0\n",
      "0.0\n",
      "0.0\n",
      "0.0\n",
      "0.0\n",
      "0.0\n",
      "0.0\n",
      "0.0\n",
      "0.0\n",
      "253.0\n",
      "254.0\n",
      "202.0\n",
      "0.0\n",
      "209.0\n",
      "210.0\n",
      "0.0\n",
      "254.0\n",
      "0.0\n",
      "0.0\n",
      "3.0\n",
      "0.0\n",
      "0.0\n",
      "0.0\n",
      "0.0\n",
      "158.0\n",
      "218.0\n",
      "174.0\n",
      "0.0\n",
      "155.0\n",
      "66.0\n",
      "102.0\n",
      "255.0\n",
      "7.0\n",
      "0.0\n",
      "215.0\n",
      "158.0\n",
      "0.0\n",
      "0.0\n",
      "28.0\n",
      "212.0\n",
      "254.0\n",
      "0.0\n",
      "0.0\n",
      "254.0\n",
      "0.0\n",
      "0.0\n",
      "0.0\n",
      "0.0\n",
      "229.0\n",
      "255.0\n",
      "0.0\n",
      "254.0\n",
      "177.0\n",
      "0.0\n",
      "0.0\n",
      "0.0\n",
      "0.0\n",
      "220.0\n",
      "0.0\n",
      "42.0\n",
      "252.0\n",
      "26.0\n",
      "0.0\n",
      "252.0\n",
      "0.0\n",
      "0.0\n",
      "247.0\n",
      "185.0\n",
      "254.0\n",
      "255.0\n",
      "0.0\n",
      "154.0\n",
      "241.0\n",
      "0.0\n",
      "34.0\n",
      "253.0\n",
      "0.0\n",
      "0.0\n",
      "0.0\n",
      "0.0\n",
      "254.0\n",
      "0.0\n",
      "250.0\n",
      "0.0\n",
      "15.0\n",
      "253.0\n",
      "0.0\n",
      "254.0\n",
      "134.0\n",
      "222.0\n",
      "0.0\n",
      "0.0\n",
      "152.0\n",
      "0.0\n",
      "114.0\n",
      "0.0\n",
      "253.0\n",
      "0.0\n",
      "118.0\n",
      "253.0\n",
      "0.0\n",
      "92.0\n",
      "203.0\n",
      "0.0\n",
      "231.0\n",
      "253.0\n",
      "239.0\n",
      "0.0\n",
      "0.0\n",
      "233.0\n",
      "0.0\n",
      "0.0\n",
      "253.0\n",
      "254.0\n",
      "242.0\n",
      "0.0\n",
      "253.0\n",
      "253.0\n",
      "0.0\n",
      "236.0\n",
      "253.0\n",
      "253.0\n",
      "252.0\n",
      "92.0\n",
      "0.0\n",
      "40.0\n",
      "0.0\n",
      "249.0\n",
      "254.0\n",
      "0.0\n",
      "252.0\n",
      "254.0\n",
      "0.0\n",
      "8.0\n",
      "0.0\n",
      "0.0\n",
      "0.0\n",
      "253.0\n",
      "0.0\n",
      "108.0\n",
      "0.0\n",
      "0.0\n",
      "46.0\n",
      "192.0\n",
      "0.0\n",
      "0.0\n",
      "27.0\n",
      "253.0\n",
      "0.0\n",
      "255.0\n",
      "0.0\n",
      "0.0\n",
      "254.0\n",
      "229.0\n",
      "0.0\n",
      "0.0\n",
      "19.0\n",
      "0.0\n",
      "0.0\n",
      "0.0\n",
      "151.0\n",
      "254.0\n",
      "0.0\n",
      "86.0\n",
      "254.0\n",
      "252.0\n",
      "0.0\n",
      "25.0\n",
      "0.0\n",
      "0.0\n",
      "0.0\n",
      "0.0\n",
      "0.0\n",
      "0.0\n",
      "0.0\n",
      "241.0\n",
      "253.0\n",
      "254.0\n",
      "5.0\n",
      "201.0\n",
      "0.0\n",
      "0.0\n",
      "0.0\n",
      "31.0\n",
      "0.0\n",
      "56.0\n",
      "252.0\n",
      "0.0\n",
      "168.0\n",
      "0.0\n",
      "0.0\n",
      "33.0\n",
      "43.0\n",
      "0.0\n",
      "0.0\n",
      "0.0\n",
      "0.0\n",
      "38.0\n",
      "0.0\n",
      "219.0\n",
      "253.0\n",
      "0.0\n",
      "0.0\n",
      "88.0\n",
      "0.0\n",
      "0.0\n",
      "0.0\n",
      "253.0\n",
      "0.0\n",
      "0.0\n",
      "0.0\n",
      "255.0\n",
      "0.0\n",
      "81.0\n",
      "0.0\n",
      "0.0\n",
      "0.0\n",
      "248.0\n",
      "0.0\n",
      "66.0\n",
      "0.0\n",
      "5.0\n",
      "253.0\n",
      "0.0\n",
      "0.0\n",
      "253.0\n",
      "210.0\n",
      "0.0\n",
      "0.0\n",
      "113.0\n",
      "253.0\n",
      "0.0\n",
      "0.0\n",
      "254.0\n",
      "0.0\n",
      "0.0\n",
      "0.0\n",
      "0.0\n",
      "252.0\n",
      "184.0\n",
      "254.0\n",
      "0.0\n",
      "244.0\n",
      "0.0\n",
      "191.0\n",
      "0.0\n",
      "45.0\n",
      "0.0\n",
      "254.0\n",
      "0.0\n",
      "254.0\n",
      "252.0\n",
      "255.0\n",
      "0.0\n",
      "0.0\n",
      "253.0\n",
      "223.0\n",
      "0.0\n",
      "47.0\n",
      "0.0\n",
      "116.0\n",
      "16.0\n",
      "167.0\n",
      "0.0\n",
      "0.0\n",
      "226.0\n",
      "0.0\n",
      "0.0\n",
      "253.0\n",
      "11.0\n",
      "0.0\n",
      "139.0\n",
      "6.0\n",
      "0.0\n",
      "252.0\n",
      "0.0\n",
      "253.0\n",
      "0.0\n",
      "0.0\n",
      "253.0\n",
      "0.0\n",
      "154.0\n",
      "0.0\n",
      "0.0\n",
      "253.0\n",
      "253.0\n",
      "245.0\n",
      "0.0\n",
      "0.0\n",
      "252.0\n",
      "0.0\n",
      "0.0\n",
      "103.0\n",
      "0.0\n",
      "0.0\n",
      "253.0\n",
      "0.0\n",
      "185.0\n",
      "64.0\n",
      "0.0\n",
      "0.0\n",
      "0.0\n",
      "253.0\n",
      "227.0\n",
      "0.0\n",
      "173.0\n",
      "0.0\n",
      "255.0\n",
      "253.0\n",
      "0.0\n",
      "0.0\n",
      "0.0\n",
      "0.0\n",
      "139.0\n",
      "19.0\n",
      "0.0\n",
      "0.0\n",
      "0.0\n",
      "0.0\n",
      "191.0\n",
      "244.0\n",
      "0.0\n",
      "0.0\n",
      "255.0\n",
      "0.0\n",
      "254.0\n",
      "230.0\n",
      "245.0\n",
      "254.0\n",
      "0.0\n",
      "130.0\n",
      "0.0\n",
      "255.0\n",
      "239.0\n",
      "0.0\n",
      "0.0\n",
      "0.0\n",
      "0.0\n",
      "252.0\n",
      "253.0\n",
      "255.0\n",
      "0.0\n",
      "168.0\n",
      "0.0\n",
      "0.0\n",
      "0.0\n",
      "252.0\n",
      "0.0\n",
      "20.0\n",
      "216.0\n",
      "254.0\n",
      "0.0\n",
      "0.0\n",
      "0.0\n",
      "0.0\n",
      "0.0\n",
      "0.0\n",
      "7.0\n",
      "0.0\n",
      "0.0\n",
      "220.0\n",
      "0.0\n",
      "0.0\n",
      "128.0\n",
      "0.0\n",
      "32.0\n",
      "0.0\n",
      "0.0\n",
      "79.0\n",
      "0.0\n",
      "0.0\n",
      "0.0\n",
      "2.0\n",
      "229.0\n",
      "0.0\n",
      "203.0\n",
      "253.0\n",
      "207.0\n",
      "253.0\n",
      "253.0\n",
      "244.0\n",
      "85.0\n",
      "0.0\n",
      "0.0\n",
      "0.0\n",
      "0.0\n",
      "0.0\n",
      "240.0\n",
      "4.0\n",
      "0.0\n",
      "151.0\n",
      "56.0\n",
      "0.0\n",
      "0.0\n",
      "0.0\n",
      "0.0\n",
      "0.0\n",
      "0.0\n",
      "0.0\n",
      "253.0\n",
      "0.0\n",
      "0.0\n",
      "255.0\n",
      "166.0\n",
      "254.0\n",
      "0.0\n",
      "0.0\n",
      "38.0\n",
      "0.0\n",
      "0.0\n",
      "0.0\n",
      "10.0\n",
      "0.0\n",
      "0.0\n",
      "103.0\n",
      "234.0\n",
      "0.0\n",
      "253.0\n",
      "0.0\n",
      "246.0\n",
      "11.0\n",
      "206.0\n",
      "254.0\n",
      "254.0\n",
      "220.0\n",
      "0.0\n",
      "90.0\n",
      "0.0\n",
      "10.0\n",
      "253.0\n",
      "58.0\n",
      "0.0\n",
      "69.0\n",
      "0.0\n",
      "28.0\n",
      "0.0\n",
      "0.0\n",
      "0.0\n",
      "0.0\n",
      "252.0\n",
      "0.0\n",
      "0.0\n",
      "0.0\n",
      "0.0\n",
      "0.0\n",
      "0.0\n",
      "186.0\n",
      "253.0\n",
      "253.0\n",
      "0.0\n",
      "220.0\n",
      "0.0\n",
      "252.0\n",
      "0.0\n",
      "254.0\n",
      "0.0\n",
      "0.0\n",
      "253.0\n",
      "0.0\n",
      "0.0\n",
      "0.0\n",
      "0.0\n",
      "252.0\n",
      "0.0\n",
      "253.0\n",
      "252.0\n",
      "0.0\n",
      "0.0\n",
      "253.0\n",
      "255.0\n",
      "0.0\n",
      "0.0\n",
      "0.0\n",
      "0.0\n",
      "0.0\n",
      "214.0\n",
      "0.0\n",
      "203.0\n",
      "0.0\n",
      "183.0\n",
      "148.0\n",
      "0.0\n",
      "0.0\n",
      "0.0\n",
      "0.0\n",
      "0.0\n",
      "0.0\n",
      "0.0\n",
      "252.0\n",
      "254.0\n",
      "200.0\n",
      "187.0\n",
      "0.0\n",
      "0.0\n",
      "0.0\n",
      "0.0\n",
      "152.0\n",
      "0.0\n",
      "0.0\n",
      "177.0\n",
      "0.0\n",
      "48.0\n",
      "53.0\n",
      "0.0\n",
      "0.0\n",
      "255.0\n",
      "0.0\n",
      "0.0\n",
      "23.0\n",
      "253.0\n",
      "0.0\n",
      "253.0\n",
      "255.0\n",
      "0.0\n",
      "246.0\n",
      "89.0\n",
      "79.0\n",
      "0.0\n",
      "0.0\n",
      "253.0\n",
      "85.0\n",
      "252.0\n",
      "0.0\n",
      "0.0\n",
      "254.0\n",
      "0.0\n",
      "0.0\n",
      "0.0\n",
      "253.0\n",
      "196.0\n",
      "0.0\n",
      "0.0\n",
      "0.0\n",
      "0.0\n",
      "254.0\n",
      "0.0\n",
      "0.0\n",
      "0.0\n",
      "0.0\n",
      "0.0\n",
      "95.0\n",
      "0.0\n",
      "253.0\n",
      "0.0\n",
      "0.0\n",
      "234.0\n",
      "0.0\n",
      "254.0\n",
      "235.0\n",
      "217.0\n",
      "0.0\n",
      "26.0\n",
      "231.0\n",
      "0.0\n",
      "0.0\n",
      "25.0\n",
      "254.0\n",
      "253.0\n",
      "253.0\n",
      "0.0\n",
      "0.0\n",
      "0.0\n",
      "18.0\n",
      "0.0\n",
      "0.0\n",
      "252.0\n",
      "0.0\n",
      "8.0\n",
      "129.0\n",
      "0.0\n",
      "0.0\n",
      "252.0\n",
      "24.0\n",
      "0.0\n",
      "0.0\n",
      "0.0\n",
      "251.0\n",
      "0.0\n",
      "0.0\n",
      "85.0\n",
      "236.0\n",
      "254.0\n",
      "105.0\n",
      "0.0\n",
      "6.0\n",
      "0.0\n",
      "0.0\n",
      "0.0\n",
      "0.0\n",
      "0.0\n",
      "197.0\n",
      "0.0\n",
      "0.0\n",
      "0.0\n",
      "254.0\n",
      "0.0\n",
      "252.0\n",
      "253.0\n",
      "252.0\n",
      "0.0\n",
      "0.0\n",
      "0.0\n",
      "0.0\n",
      "212.0\n",
      "0.0\n",
      "145.0\n",
      "253.0\n",
      "0.0\n",
      "252.0\n",
      "62.0\n",
      "253.0\n",
      "255.0\n",
      "252.0\n",
      "0.0\n",
      "0.0\n",
      "0.0\n",
      "0.0\n",
      "252.0\n",
      "0.0\n",
      "0.0\n",
      "9.0\n",
      "143.0\n",
      "0.0\n",
      "0.0\n",
      "0.0\n",
      "169.0\n",
      "28.0\n",
      "252.0\n",
      "0.0\n",
      "0.0\n",
      "229.0\n",
      "0.0\n",
      "0.0\n",
      "86.0\n",
      "74.0\n",
      "233.0\n",
      "253.0\n",
      "253.0\n",
      "0.0\n",
      "132.0\n",
      "63.0\n",
      "0.0\n",
      "255.0\n",
      "0.0\n",
      "0.0\n",
      "253.0\n",
      "0.0\n",
      "0.0\n",
      "0.0\n",
      "0.0\n",
      "0.0\n",
      "41.0\n",
      "0.0\n",
      "0.0\n",
      "0.0\n",
      "0.0\n",
      "76.0\n",
      "5.0\n",
      "0.0\n",
      "254.0\n",
      "146.0\n",
      "0.0\n",
      "0.0\n",
      "116.0\n",
      "0.0\n",
      "255.0\n",
      "254.0\n",
      "0.0\n",
      "250.0\n",
      "0.0\n",
      "252.0\n",
      "0.0\n",
      "254.0\n",
      "103.0\n",
      "0.0\n",
      "253.0\n",
      "252.0\n",
      "0.0\n",
      "248.0\n",
      "254.0\n",
      "128.0\n",
      "0.0\n",
      "75.0\n",
      "0.0\n",
      "0.0\n",
      "0.0\n",
      "86.0\n",
      "254.0\n",
      "49.0\n",
      "182.0\n",
      "71.0\n",
      "254.0\n",
      "0.0\n",
      "0.0\n",
      "240.0\n",
      "253.0\n",
      "0.0\n",
      "211.0\n",
      "0.0\n",
      "0.0\n",
      "0.0\n",
      "0.0\n",
      "240.0\n",
      "0.0\n",
      "252.0\n",
      "252.0\n",
      "0.0\n",
      "0.0\n",
      "0.0\n",
      "222.0\n",
      "0.0\n",
      "253.0\n",
      "251.0\n",
      "0.0\n",
      "92.0\n",
      "254.0\n",
      "6.0\n",
      "0.0\n",
      "0.0\n",
      "0.0\n",
      "0.0\n",
      "12.0\n",
      "0.0\n",
      "254.0\n",
      "169.0\n",
      "0.0\n",
      "0.0\n",
      "0.0\n",
      "0.0\n",
      "253.0\n",
      "166.0\n",
      "0.0\n",
      "148.0\n",
      "0.0\n",
      "0.0\n",
      "0.0\n",
      "231.0\n",
      "153.0\n",
      "253.0\n",
      "0.0\n",
      "0.0\n",
      "63.0\n",
      "253.0\n",
      "0.0\n",
      "222.0\n",
      "72.0\n",
      "254.0\n",
      "0.0\n",
      "0.0\n",
      "0.0\n",
      "254.0\n",
      "83.0\n",
      "0.0\n",
      "210.0\n",
      "178.0\n",
      "0.0\n",
      "253.0\n",
      "239.0\n",
      "254.0\n",
      "253.0\n",
      "0.0\n",
      "0.0\n",
      "252.0\n",
      "45.0\n",
      "236.0\n",
      "0.0\n",
      "0.0\n",
      "110.0\n",
      "132.0\n",
      "252.0\n",
      "128.0\n",
      "227.0\n",
      "0.0\n",
      "0.0\n",
      "179.0\n",
      "55.0\n",
      "0.0\n",
      "0.0\n",
      "148.0\n",
      "24.0\n",
      "0.0\n",
      "0.0\n",
      "0.0\n",
      "0.0\n",
      "0.0\n",
      "0.0\n",
      "253.0\n",
      "236.0\n",
      "253.0\n",
      "124.0\n",
      "0.0\n",
      "0.0\n",
      "0.0\n",
      "210.0\n",
      "254.0\n",
      "0.0\n",
      "0.0\n",
      "97.0\n",
      "0.0\n",
      "236.0\n",
      "251.0\n",
      "0.0\n",
      "0.0\n",
      "148.0\n",
      "0.0\n",
      "0.0\n",
      "7.0\n",
      "0.0\n",
      "253.0\n",
      "0.0\n",
      "0.0\n",
      "0.0\n",
      "227.0\n",
      "0.0\n",
      "0.0\n",
      "0.0\n",
      "0.0\n",
      "0.0\n",
      "253.0\n",
      "176.0\n",
      "235.0\n",
      "132.0\n",
      "247.0\n",
      "0.0\n",
      "2.0\n",
      "168.0\n",
      "69.0\n",
      "255.0\n",
      "160.0\n",
      "0.0\n",
      "0.0\n",
      "0.0\n",
      "253.0\n",
      "0.0\n",
      "0.0\n",
      "18.0\n",
      "227.0\n",
      "0.0\n",
      "0.0\n",
      "0.0\n",
      "0.0\n",
      "170.0\n",
      "0.0\n",
      "101.0\n",
      "176.0\n",
      "0.0\n",
      "0.0\n",
      "221.0\n",
      "236.0\n",
      "76.0\n",
      "0.0\n",
      "183.0\n",
      "206.0\n",
      "0.0\n",
      "0.0\n",
      "238.0\n",
      "0.0\n",
      "0.0\n",
      "81.0\n",
      "125.0\n",
      "253.0\n",
      "255.0\n",
      "215.0\n",
      "0.0\n",
      "64.0\n",
      "0.0\n",
      "84.0\n",
      "0.0\n",
      "253.0\n",
      "254.0\n",
      "0.0\n",
      "6.0\n",
      "253.0\n",
      "0.0\n",
      "0.0\n",
      "0.0\n",
      "0.0\n",
      "0.0\n",
      "0.0\n",
      "0.0\n",
      "2.0\n",
      "134.0\n",
      "255.0\n",
      "0.0\n",
      "0.0\n",
      "0.0\n",
      "0.0\n",
      "70.0\n",
      "174.0\n",
      "252.0\n",
      "0.0\n",
      "175.0\n",
      "253.0\n",
      "0.0\n",
      "0.0\n",
      "0.0\n",
      "103.0\n",
      "253.0\n",
      "146.0\n",
      "0.0\n",
      "103.0\n",
      "0.0\n",
      "207.0\n",
      "253.0\n",
      "0.0\n",
      "253.0\n",
      "0.0\n",
      "254.0\n",
      "0.0\n",
      "0.0\n",
      "169.0\n",
      "19.0\n",
      "208.0\n",
      "0.0\n",
      "0.0\n",
      "203.0\n",
      "163.0\n",
      "0.0\n",
      "0.0\n",
      "9.0\n",
      "233.0\n",
      "0.0\n",
      "254.0\n",
      "253.0\n",
      "0.0\n",
      "0.0\n",
      "253.0\n",
      "253.0\n",
      "0.0\n",
      "0.0\n",
      "157.0\n",
      "0.0\n",
      "0.0\n",
      "253.0\n",
      "0.0\n",
      "0.0\n",
      "0.0\n",
      "253.0\n",
      "0.0\n",
      "0.0\n",
      "0.0\n",
      "0.0\n",
      "0.0\n",
      "0.0\n",
      "39.0\n",
      "0.0\n",
      "223.0\n",
      "0.0\n",
      "0.0\n",
      "0.0\n",
      "0.0\n",
      "254.0\n",
      "103.0\n",
      "0.0\n",
      "0.0\n",
      "0.0\n",
      "86.0\n",
      "253.0\n",
      "252.0\n",
      "0.0\n",
      "0.0\n",
      "0.0\n",
      "246.0\n",
      "0.0\n",
      "0.0\n",
      "0.0\n",
      "0.0\n",
      "0.0\n",
      "198.0\n",
      "253.0\n",
      "19.0\n",
      "118.0\n",
      "0.0\n",
      "228.0\n",
      "252.0\n",
      "190.0\n",
      "24.0\n",
      "0.0\n",
      "253.0\n",
      "170.0\n",
      "0.0\n",
      "249.0\n",
      "253.0\n",
      "242.0\n",
      "0.0\n",
      "0.0\n",
      "0.0\n",
      "0.0\n",
      "0.0\n",
      "0.0\n",
      "253.0\n",
      "0.0\n",
      "56.0\n",
      "0.0\n",
      "0.0\n",
      "0.0\n",
      "0.0\n",
      "253.0\n",
      "0.0\n",
      "0.0\n",
      "0.0\n",
      "94.0\n",
      "0.0\n",
      "131.0\n",
      "253.0\n",
      "253.0\n",
      "47.0\n",
      "253.0\n",
      "0.0\n",
      "253.0\n",
      "64.0\n",
      "0.0\n",
      "0.0\n",
      "0.0\n",
      "0.0\n",
      "136.0\n",
      "0.0\n",
      "253.0\n",
      "253.0\n",
      "252.0\n",
      "0.0\n",
      "0.0\n",
      "0.0\n",
      "0.0\n",
      "253.0\n",
      "0.0\n",
      "30.0\n",
      "69.0\n",
      "0.0\n",
      "0.0\n",
      "254.0\n",
      "0.0\n",
      "0.0\n",
      "0.0\n",
      "253.0\n",
      "0.0\n",
      "0.0\n",
      "0.0\n",
      "113.0\n",
      "85.0\n",
      "0.0\n",
      "0.0\n",
      "235.0\n",
      "0.0\n",
      "252.0\n",
      "252.0\n",
      "0.0\n",
      "101.0\n",
      "37.0\n",
      "141.0\n",
      "120.0\n",
      "0.0\n",
      "1.0\n",
      "0.0\n",
      "95.0\n",
      "226.0\n",
      "79.0\n",
      "0.0\n",
      "0.0\n",
      "0.0\n",
      "0.0\n",
      "253.0\n",
      "253.0\n",
      "0.0\n",
      "0.0\n",
      "0.0\n",
      "0.0\n",
      "0.0\n",
      "253.0\n",
      "0.0\n",
      "0.0\n",
      "242.0\n",
      "0.0\n",
      "0.0\n",
      "0.0\n",
      "0.0\n",
      "0.0\n",
      "0.0\n",
      "253.0\n",
      "253.0\n",
      "0.0\n",
      "253.0\n",
      "0.0\n",
      "85.0\n",
      "90.0\n",
      "58.0\n",
      "253.0\n",
      "0.0\n",
      "0.0\n",
      "253.0\n",
      "190.0\n",
      "191.0\n",
      "0.0\n",
      "0.0\n",
      "0.0\n",
      "21.0\n",
      "0.0\n",
      "0.0\n",
      "94.0\n",
      "0.0\n",
      "0.0\n",
      "113.0\n",
      "190.0\n",
      "245.0\n",
      "254.0\n",
      "0.0\n",
      "0.0\n",
      "254.0\n",
      "0.0\n",
      "254.0\n",
      "0.0\n",
      "0.0\n",
      "0.0\n",
      "0.0\n",
      "59.0\n",
      "253.0\n",
      "18.0\n",
      "254.0\n",
      "243.0\n",
      "251.0\n",
      "0.0\n",
      "0.0\n",
      "196.0\n",
      "90.0\n",
      "0.0\n",
      "0.0\n",
      "254.0\n",
      "252.0\n",
      "0.0\n",
      "0.0\n",
      "251.0\n",
      "253.0\n",
      "248.0\n",
      "0.0\n",
      "252.0\n",
      "0.0\n",
      "0.0\n",
      "241.0\n",
      "0.0\n",
      "0.0\n",
      "139.0\n",
      "0.0\n",
      "0.0\n",
      "0.0\n",
      "252.0\n",
      "251.0\n",
      "253.0\n",
      "0.0\n",
      "0.0\n",
      "84.0\n",
      "253.0\n",
      "0.0\n",
      "0.0\n",
      "255.0\n",
      "0.0\n",
      "11.0\n",
      "0.0\n",
      "253.0\n",
      "253.0\n",
      "253.0\n",
      "0.0\n",
      "0.0\n",
      "0.0\n",
      "92.0\n",
      "0.0\n",
      "0.0\n",
      "7.0\n",
      "0.0\n",
      "0.0\n",
      "0.0\n",
      "254.0\n",
      "0.0\n",
      "0.0\n",
      "0.0\n",
      "126.0\n",
      "233.0\n",
      "219.0\n",
      "255.0\n",
      "223.0\n",
      "0.0\n",
      "0.0\n",
      "0.0\n",
      "253.0\n",
      "0.0\n",
      "0.0\n",
      "254.0\n",
      "0.0\n",
      "235.0\n",
      "0.0\n",
      "0.0\n",
      "0.0\n",
      "0.0\n",
      "105.0\n",
      "51.0\n",
      "0.0\n",
      "29.0\n",
      "0.0\n",
      "252.0\n",
      "0.0\n",
      "0.0\n",
      "253.0\n",
      "0.0\n",
      "253.0\n",
      "182.0\n",
      "254.0\n",
      "0.0\n",
      "173.0\n",
      "0.0\n",
      "0.0\n",
      "0.0\n",
      "128.0\n",
      "0.0\n",
      "0.0\n",
      "252.0\n",
      "202.0\n",
      "0.0\n",
      "183.0\n",
      "0.0\n",
      "210.0\n",
      "0.0\n",
      "0.0\n",
      "0.0\n",
      "0.0\n",
      "241.0\n",
      "0.0\n",
      "0.0\n",
      "238.0\n",
      "0.0\n",
      "0.0\n",
      "64.0\n",
      "0.0\n",
      "205.0\n",
      "252.0\n",
      "238.0\n",
      "0.0\n",
      "0.0\n",
      "0.0\n",
      "253.0\n",
      "220.0\n",
      "18.0\n",
      "0.0\n",
      "31.0\n",
      "253.0\n",
      "72.0\n",
      "0.0\n",
      "0.0\n",
      "254.0\n",
      "6.0\n",
      "252.0\n",
      "154.0\n",
      "0.0\n",
      "27.0\n",
      "150.0\n",
      "22.0\n",
      "41.0\n",
      "0.0\n",
      "3.0\n",
      "243.0\n",
      "15.0\n",
      "48.0\n",
      "0.0\n",
      "0.0\n",
      "0.0\n",
      "0.0\n",
      "91.0\n",
      "203.0\n",
      "0.0\n",
      "0.0\n",
      "0.0\n",
      "0.0\n",
      "162.0\n",
      "0.0\n",
      "0.0\n",
      "0.0\n",
      "188.0\n",
      "254.0\n",
      "0.0\n",
      "0.0\n",
      "0.0\n",
      "0.0\n",
      "50.0\n",
      "3.0\n",
      "67.0\n",
      "106.0\n",
      "252.0\n",
      "20.0\n",
      "0.0\n",
      "0.0\n",
      "0.0\n",
      "0.0\n",
      "181.0\n",
      "164.0\n",
      "253.0\n",
      "254.0\n",
      "253.0\n",
      "0.0\n",
      "0.0\n",
      "0.0\n",
      "183.0\n",
      "0.0\n",
      "4.0\n",
      "255.0\n",
      "0.0\n",
      "119.0\n",
      "240.0\n",
      "0.0\n",
      "0.0\n",
      "0.0\n",
      "0.0\n",
      "0.0\n",
      "134.0\n",
      "16.0\n",
      "0.0\n",
      "254.0\n",
      "0.0\n",
      "0.0\n",
      "0.0\n",
      "0.0\n",
      "130.0\n",
      "0.0\n",
      "0.0\n",
      "0.0\n",
      "55.0\n",
      "0.0\n",
      "0.0\n",
      "0.0\n",
      "253.0\n",
      "0.0\n",
      "252.0\n",
      "0.0\n",
      "0.0\n",
      "8.0\n",
      "0.0\n",
      "0.0\n",
      "0.0\n",
      "0.0\n",
      "0.0\n",
      "0.0\n",
      "0.0\n",
      "4.0\n",
      "0.0\n",
      "0.0\n",
      "146.0\n",
      "254.0\n",
      "253.0\n",
      "0.0\n",
      "0.0\n",
      "253.0\n",
      "8.0\n",
      "252.0\n",
      "243.0\n",
      "254.0\n",
      "0.0\n",
      "20.0\n",
      "253.0\n",
      "254.0\n",
      "0.0\n",
      "0.0\n",
      "254.0\n",
      "253.0\n",
      "0.0\n",
      "0.0\n",
      "0.0\n",
      "0.0\n",
      "0.0\n",
      "0.0\n",
      "229.0\n",
      "252.0\n",
      "0.0\n",
      "39.0\n",
      "183.0\n",
      "0.0\n",
      "253.0\n",
      "0.0\n",
      "47.0\n",
      "0.0\n",
      "0.0\n",
      "0.0\n",
      "0.0\n",
      "255.0\n",
      "28.0\n",
      "253.0\n",
      "0.0\n",
      "55.0\n",
      "0.0\n",
      "0.0\n",
      "253.0\n",
      "0.0\n",
      "64.0\n",
      "0.0\n",
      "0.0\n",
      "0.0\n",
      "198.0\n",
      "255.0\n",
      "0.0\n",
      "0.0\n",
      "254.0\n",
      "0.0\n",
      "0.0\n",
      "0.0\n",
      "0.0\n",
      "0.0\n",
      "94.0\n",
      "0.0\n",
      "0.0\n",
      "254.0\n",
      "232.0\n",
      "42.0\n",
      "202.0\n",
      "252.0\n",
      "0.0\n",
      "253.0\n",
      "237.0\n",
      "0.0\n",
      "146.0\n",
      "0.0\n",
      "0.0\n",
      "0.0\n",
      "55.0\n",
      "0.0\n",
      "95.0\n",
      "0.0\n",
      "0.0\n",
      "85.0\n",
      "0.0\n",
      "0.0\n",
      "78.0\n",
      "187.0\n",
      "203.0\n",
      "0.0\n",
      "42.0\n",
      "247.0\n",
      "185.0\n",
      "0.0\n",
      "0.0\n",
      "194.0\n",
      "252.0\n",
      "0.0\n",
      "194.0\n",
      "191.0\n",
      "0.0\n",
      "0.0\n",
      "252.0\n",
      "0.0\n",
      "0.0\n",
      "253.0\n",
      "117.0\n",
      "0.0\n",
      "0.0\n",
      "0.0\n",
      "0.0\n",
      "0.0\n",
      "189.0\n",
      "0.0\n",
      "167.0\n",
      "0.0\n",
      "0.0\n",
      "114.0\n",
      "0.0\n",
      "253.0\n",
      "254.0\n",
      "0.0\n",
      "0.0\n",
      "0.0\n",
      "252.0\n",
      "0.0\n",
      "16.0\n",
      "0.0\n",
      "0.0\n",
      "253.0\n",
      "163.0\n",
      "0.0\n",
      "253.0\n",
      "0.0\n",
      "0.0\n",
      "0.0\n",
      "255.0\n",
      "252.0\n",
      "0.0\n",
      "0.0\n",
      "249.0\n",
      "0.0\n",
      "0.0\n",
      "252.0\n",
      "197.0\n",
      "0.0\n",
      "0.0\n",
      "29.0\n",
      "0.0\n",
      "190.0\n",
      "0.0\n",
      "77.0\n",
      "252.0\n",
      "0.0\n",
      "0.0\n",
      "253.0\n",
      "0.0\n",
      "240.0\n",
      "251.0\n",
      "115.0\n",
      "254.0\n",
      "253.0\n",
      "217.0\n",
      "124.0\n",
      "253.0\n",
      "252.0\n",
      "215.0\n",
      "236.0\n",
      "229.0\n",
      "252.0\n",
      "146.0\n",
      "253.0\n",
      "254.0\n",
      "232.0\n",
      "161.0\n",
      "0.0\n",
      "255.0\n",
      "0.0\n",
      "0.0\n",
      "254.0\n",
      "0.0\n",
      "44.0\n",
      "0.0\n",
      "254.0\n",
      "93.0\n",
      "0.0\n",
      "0.0\n",
      "131.0\n",
      "0.0\n",
      "0.0\n",
      "254.0\n",
      "0.0\n",
      "0.0\n",
      "253.0\n",
      "0.0\n",
      "253.0\n",
      "0.0\n",
      "0.0\n",
      "0.0\n",
      "117.0\n",
      "0.0\n",
      "244.0\n",
      "252.0\n",
      "0.0\n",
      "0.0\n",
      "253.0\n",
      "0.0\n",
      "0.0\n",
      "0.0\n",
      "0.0\n",
      "190.0\n",
      "252.0\n",
      "0.0\n",
      "0.0\n",
      "0.0\n",
      "158.0\n",
      "0.0\n",
      "33.0\n",
      "0.0\n",
      "0.0\n",
      "0.0\n",
      "0.0\n",
      "47.0\n",
      "0.0\n",
      "254.0\n",
      "0.0\n",
      "0.0\n",
      "0.0\n",
      "0.0\n",
      "0.0\n",
      "0.0\n",
      "0.0\n",
      "252.0\n",
      "0.0\n",
      "255.0\n",
      "253.0\n",
      "92.0\n",
      "16.0\n",
      "0.0\n",
      "206.0\n",
      "50.0\n",
      "0.0\n",
      "0.0\n",
      "254.0\n",
      "0.0\n",
      "123.0\n",
      "0.0\n",
      "63.0\n",
      "254.0\n",
      "0.0\n",
      "0.0\n",
      "0.0\n",
      "253.0\n",
      "0.0\n",
      "0.0\n",
      "172.0\n",
      "0.0\n",
      "0.0\n",
      "254.0\n",
      "0.0\n",
      "0.0\n",
      "137.0\n",
      "0.0\n",
      "226.0\n",
      "0.0\n",
      "0.0\n",
      "0.0\n",
      "0.0\n",
      "0.0\n",
      "194.0\n",
      "0.0\n",
      "0.0\n",
      "0.0\n",
      "156.0\n",
      "0.0\n",
      "0.0\n",
      "77.0\n",
      "0.0\n",
      "0.0\n",
      "240.0\n",
      "0.0\n",
      "0.0\n",
      "0.0\n",
      "0.0\n",
      "0.0\n",
      "0.0\n",
      "252.0\n",
      "254.0\n",
      "0.0\n",
      "253.0\n",
      "0.0\n",
      "0.0\n",
      "76.0\n",
      "0.0\n",
      "200.0\n",
      "253.0\n",
      "27.0\n",
      "125.0\n",
      "47.0\n",
      "0.0\n",
      "253.0\n",
      "0.0\n",
      "0.0\n",
      "252.0\n",
      "0.0\n",
      "20.0\n",
      "253.0\n",
      "0.0\n",
      "0.0\n",
      "0.0\n",
      "253.0\n",
      "28.0\n",
      "66.0\n",
      "162.0\n",
      "0.0\n",
      "0.0\n",
      "0.0\n",
      "234.0\n",
      "0.0\n",
      "0.0\n",
      "0.0\n",
      "0.0\n",
      "9.0\n",
      "237.0\n",
      "0.0\n",
      "0.0\n",
      "246.0\n",
      "52.0\n",
      "253.0\n",
      "253.0\n",
      "0.0\n",
      "14.0\n",
      "206.0\n",
      "13.0\n",
      "242.0\n",
      "0.0\n",
      "0.0\n",
      "0.0\n",
      "0.0\n",
      "0.0\n",
      "29.0\n",
      "0.0\n",
      "0.0\n",
      "0.0\n",
      "0.0\n",
      "0.0\n",
      "0.0\n",
      "63.0\n",
      "0.0\n",
      "0.0\n",
      "0.0\n",
      "179.0\n",
      "0.0\n",
      "0.0\n",
      "0.0\n",
      "0.0\n",
      "86.0\n",
      "0.0\n",
      "0.0\n",
      "0.0\n",
      "254.0\n",
      "239.0\n",
      "254.0\n",
      "255.0\n",
      "0.0\n",
      "0.0\n",
      "253.0\n",
      "122.0\n",
      "234.0\n",
      "145.0\n",
      "252.0\n",
      "108.0\n",
      "253.0\n",
      "0.0\n",
      "0.0\n",
      "47.0\n",
      "0.0\n",
      "0.0\n",
      "0.0\n",
      "0.0\n",
      "253.0\n",
      "0.0\n",
      "0.0\n",
      "213.0\n",
      "0.0\n",
      "0.0\n",
      "254.0\n",
      "0.0\n",
      "0.0\n",
      "0.0\n",
      "0.0\n",
      "254.0\n",
      "0.0\n",
      "0.0\n",
      "0.0\n",
      "0.0\n",
      "216.0\n",
      "15.0\n",
      "254.0\n",
      "0.0\n",
      "0.0\n",
      "0.0\n",
      "252.0\n",
      "254.0\n",
      "0.0\n",
      "254.0\n",
      "253.0\n",
      "85.0\n",
      "130.0\n",
      "0.0\n",
      "0.0\n",
      "0.0\n",
      "72.0\n",
      "0.0\n",
      "249.0\n",
      "171.0\n",
      "0.0\n",
      "254.0\n",
      "0.0\n",
      "114.0\n",
      "0.0\n",
      "224.0\n",
      "0.0\n",
      "9.0\n",
      "253.0\n",
      "252.0\n",
      "254.0\n",
      "0.0\n",
      "0.0\n",
      "0.0\n",
      "0.0\n",
      "0.0\n",
      "38.0\n",
      "212.0\n",
      "0.0\n",
      "0.0\n",
      "134.0\n",
      "0.0\n",
      "0.0\n",
      "0.0\n",
      "88.0\n",
      "0.0\n",
      "0.0\n",
      "0.0\n",
      "180.0\n",
      "0.0\n",
      "252.0\n",
      "116.0\n",
      "0.0\n",
      "0.0\n",
      "189.0\n",
      "228.0\n",
      "51.0\n",
      "67.0\n",
      "253.0\n",
      "0.0\n",
      "253.0\n",
      "0.0\n",
      "0.0\n",
      "0.0\n",
      "252.0\n",
      "0.0\n",
      "64.0\n",
      "0.0\n",
      "0.0\n",
      "109.0\n",
      "0.0\n",
      "0.0\n",
      "0.0\n",
      "40.0\n",
      "0.0\n",
      "0.0\n",
      "0.0\n",
      "0.0\n",
      "0.0\n",
      "0.0\n",
      "167.0\n",
      "253.0\n",
      "0.0\n",
      "0.0\n",
      "250.0\n",
      "0.0\n",
      "0.0\n",
      "0.0\n",
      "158.0\n",
      "221.0\n",
      "253.0\n",
      "124.0\n",
      "254.0\n",
      "0.0\n",
      "255.0\n",
      "254.0\n",
      "0.0\n",
      "254.0\n",
      "0.0\n",
      "0.0\n",
      "0.0\n",
      "25.0\n",
      "128.0\n",
      "184.0\n",
      "0.0\n",
      "0.0\n",
      "0.0\n",
      "0.0\n",
      "0.0\n",
      "0.0\n",
      "31.0\n",
      "177.0\n",
      "232.0\n",
      "159.0\n",
      "223.0\n",
      "0.0\n",
      "254.0\n",
      "0.0\n",
      "0.0\n",
      "252.0\n",
      "0.0\n",
      "253.0\n",
      "0.0\n",
      "0.0\n",
      "78.0\n",
      "22.0\n",
      "63.0\n",
      "0.0\n",
      "0.0\n",
      "251.0\n",
      "0.0\n",
      "0.0\n",
      "0.0\n",
      "0.0\n",
      "41.0\n",
      "26.0\n",
      "0.0\n",
      "231.0\n",
      "0.0\n",
      "0.0\n",
      "0.0\n",
      "0.0\n",
      "226.0\n",
      "0.0\n",
      "0.0\n",
      "252.0\n",
      "253.0\n",
      "0.0\n",
      "253.0\n",
      "0.0\n",
      "253.0\n",
      "0.0\n",
      "252.0\n",
      "0.0\n",
      "254.0\n",
      "195.0\n",
      "253.0\n",
      "0.0\n",
      "105.0\n",
      "235.0\n",
      "150.0\n",
      "70.0\n",
      "0.0\n",
      "161.0\n",
      "0.0\n",
      "0.0\n",
      "219.0\n",
      "0.0\n",
      "254.0\n",
      "252.0\n",
      "255.0\n",
      "0.0\n",
      "0.0\n",
      "0.0\n",
      "0.0\n",
      "9.0\n",
      "254.0\n",
      "0.0\n",
      "0.0\n",
      "0.0\n",
      "0.0\n",
      "0.0\n",
      "218.0\n",
      "252.0\n",
      "254.0\n",
      "128.0\n",
      "248.0\n",
      "0.0\n",
      "0.0\n",
      "0.0\n",
      "199.0\n",
      "0.0\n",
      "0.0\n",
      "0.0\n",
      "249.0\n",
      "0.0\n",
      "236.0\n",
      "0.0\n",
      "255.0\n",
      "254.0\n",
      "0.0\n",
      "0.0\n",
      "75.0\n",
      "8.0\n",
      "139.0\n",
      "0.0\n",
      "0.0\n",
      "252.0\n",
      "0.0\n",
      "0.0\n",
      "254.0\n",
      "0.0\n",
      "0.0\n",
      "0.0\n",
      "0.0\n",
      "252.0\n",
      "0.0\n",
      "233.0\n",
      "0.0\n",
      "254.0\n",
      "0.0\n",
      "198.0\n",
      "42.0\n",
      "252.0\n",
      "252.0\n",
      "253.0\n",
      "0.0\n",
      "141.0\n",
      "253.0\n",
      "202.0\n",
      "0.0\n",
      "0.0\n",
      "0.0\n",
      "203.0\n",
      "0.0\n",
      "0.0\n",
      "0.0\n",
      "126.0\n",
      "0.0\n",
      "0.0\n",
      "255.0\n",
      "0.0\n",
      "110.0\n",
      "254.0\n",
      "0.0\n",
      "0.0\n",
      "0.0\n",
      "2.0\n",
      "0.0\n",
      "253.0\n",
      "0.0\n",
      "71.0\n",
      "0.0\n",
      "0.0\n",
      "0.0\n",
      "0.0\n",
      "0.0\n",
      "0.0\n",
      "252.0\n",
      "0.0\n",
      "233.0\n",
      "0.0\n",
      "0.0\n",
      "0.0\n",
      "0.0\n",
      "0.0\n",
      "0.0\n",
      "26.0\n",
      "0.0\n",
      "57.0\n",
      "243.0\n",
      "155.0\n",
      "237.0\n",
      "252.0\n",
      "171.0\n",
      "0.0\n",
      "0.0\n",
      "0.0\n",
      "255.0\n",
      "0.0\n",
      "0.0\n",
      "138.0\n",
      "253.0\n",
      "253.0\n",
      "207.0\n",
      "0.0\n",
      "0.0\n",
      "0.0\n",
      "49.0\n",
      "254.0\n",
      "253.0\n",
      "0.0\n",
      "25.0\n",
      "0.0\n",
      "0.0\n",
      "254.0\n",
      "0.0\n",
      "254.0\n",
      "169.0\n",
      "230.0\n",
      "19.0\n",
      "254.0\n",
      "241.0\n",
      "0.0\n",
      "128.0\n",
      "61.0\n",
      "254.0\n",
      "223.0\n",
      "0.0\n",
      "254.0\n",
      "0.0\n",
      "128.0\n",
      "252.0\n",
      "0.0\n",
      "109.0\n",
      "0.0\n",
      "0.0\n",
      "221.0\n",
      "0.0\n",
      "253.0\n",
      "0.0\n",
      "252.0\n",
      "0.0\n",
      "0.0\n",
      "0.0\n",
      "0.0\n",
      "253.0\n",
      "252.0\n",
      "252.0\n",
      "0.0\n",
      "0.0\n",
      "0.0\n",
      "254.0\n",
      "215.0\n",
      "0.0\n",
      "253.0\n",
      "65.0\n",
      "253.0\n",
      "255.0\n",
      "37.0\n",
      "0.0\n",
      "0.0\n",
      "0.0\n",
      "0.0\n",
      "254.0\n",
      "139.0\n",
      "254.0\n",
      "4.0\n",
      "53.0\n",
      "192.0\n",
      "19.0\n",
      "0.0\n",
      "247.0\n",
      "0.0\n",
      "252.0\n",
      "221.0\n",
      "0.0\n",
      "0.0\n",
      "139.0\n",
      "0.0\n",
      "0.0\n",
      "131.0\n",
      "0.0\n",
      "0.0\n",
      "0.0\n",
      "0.0\n",
      "0.0\n",
      "253.0\n",
      "0.0\n",
      "0.0\n",
      "0.0\n",
      "0.0\n",
      "165.0\n",
      "244.0\n",
      "0.0\n",
      "0.0\n",
      "0.0\n",
      "9.0\n",
      "0.0\n",
      "0.0\n",
      "253.0\n",
      "240.0\n",
      "0.0\n",
      "0.0\n",
      "0.0\n",
      "0.0\n",
      "185.0\n",
      "231.0\n",
      "0.0\n",
      "0.0\n",
      "12.0\n",
      "0.0\n",
      "113.0\n",
      "119.0\n",
      "218.0\n",
      "252.0\n",
      "252.0\n",
      "196.0\n",
      "0.0\n",
      "0.0\n",
      "0.0\n",
      "0.0\n",
      "0.0\n",
      "253.0\n",
      "0.0\n",
      "0.0\n",
      "253.0\n",
      "0.0\n",
      "147.0\n",
      "255.0\n",
      "175.0\n",
      "122.0\n",
      "39.0\n",
      "0.0\n",
      "241.0\n",
      "253.0\n",
      "0.0\n",
      "0.0\n",
      "238.0\n",
      "195.0\n",
      "254.0\n",
      "0.0\n",
      "0.0\n",
      "253.0\n",
      "52.0\n",
      "0.0\n",
      "232.0\n",
      "0.0\n",
      "0.0\n",
      "231.0\n",
      "0.0\n",
      "0.0\n",
      "209.0\n",
      "0.0\n",
      "217.0\n",
      "0.0\n",
      "159.0\n",
      "12.0\n",
      "253.0\n",
      "147.0\n",
      "0.0\n",
      "0.0\n",
      "0.0\n",
      "255.0\n",
      "253.0\n",
      "0.0\n",
      "254.0\n",
      "0.0\n",
      "254.0\n",
      "0.0\n",
      "255.0\n",
      "0.0\n",
      "238.0\n",
      "194.0\n",
      "0.0\n",
      "0.0\n",
      "196.0\n",
      "252.0\n",
      "0.0\n",
      "0.0\n",
      "227.0\n",
      "0.0\n",
      "11.0\n",
      "0.0\n",
      "189.0\n",
      "253.0\n",
      "253.0\n",
      "98.0\n",
      "0.0\n",
      "0.0\n",
      "0.0\n",
      "253.0\n",
      "253.0\n",
      "0.0\n",
      "0.0\n",
      "0.0\n",
      "0.0\n",
      "233.0\n",
      "0.0\n",
      "0.0\n",
      "255.0\n",
      "252.0\n",
      "0.0\n",
      "0.0\n",
      "0.0\n",
      "182.0\n",
      "248.0\n",
      "0.0\n",
      "253.0\n",
      "0.0\n",
      "0.0\n",
      "252.0\n",
      "253.0\n",
      "0.0\n",
      "0.0\n",
      "0.0\n",
      "253.0\n",
      "129.0\n",
      "222.0\n",
      "0.0\n",
      "206.0\n",
      "252.0\n",
      "0.0\n",
      "0.0\n",
      "0.0\n",
      "0.0\n",
      "0.0\n",
      "0.0\n",
      "0.0\n",
      "0.0\n",
      "198.0\n",
      "0.0\n",
      "0.0\n",
      "36.0\n",
      "0.0\n",
      "247.0\n",
      "188.0\n",
      "11.0\n",
      "0.0\n",
      "242.0\n",
      "0.0\n",
      "0.0\n",
      "170.0\n",
      "59.0\n",
      "138.0\n",
      "253.0\n",
      "17.0\n",
      "254.0\n",
      "0.0\n",
      "0.0\n",
      "0.0\n",
      "234.0\n",
      "0.0\n",
      "20.0\n",
      "0.0\n",
      "0.0\n",
      "0.0\n",
      "253.0\n",
      "23.0\n",
      "0.0\n",
      "0.0\n",
      "0.0\n",
      "0.0\n",
      "0.0\n",
      "0.0\n",
      "0.0\n",
      "126.0\n",
      "0.0\n",
      "0.0\n",
      "250.0\n",
      "0.0\n",
      "0.0\n",
      "251.0\n",
      "0.0\n",
      "3.0\n",
      "253.0\n",
      "0.0\n",
      "0.0\n",
      "0.0\n",
      "0.0\n",
      "254.0\n",
      "0.0\n",
      "0.0\n",
      "82.0\n",
      "0.0\n",
      "0.0\n",
      "0.0\n",
      "108.0\n",
      "252.0\n",
      "248.0\n",
      "253.0\n",
      "253.0\n",
      "0.0\n",
      "0.0\n",
      "253.0\n",
      "0.0\n",
      "0.0\n",
      "118.0\n",
      "254.0\n",
      "104.0\n",
      "0.0\n",
      "0.0\n",
      "0.0\n",
      "0.0\n",
      "250.0\n",
      "254.0\n",
      "0.0\n",
      "0.0\n",
      "0.0\n",
      "0.0\n",
      "0.0\n",
      "0.0\n",
      "253.0\n",
      "0.0\n",
      "0.0\n",
      "0.0\n",
      "103.0\n",
      "0.0\n",
      "101.0\n",
      "197.0\n",
      "254.0\n",
      "0.0\n",
      "0.0\n",
      "253.0\n",
      "0.0\n",
      "88.0\n",
      "0.0\n",
      "253.0\n",
      "0.0\n",
      "0.0\n",
      "0.0\n",
      "0.0\n",
      "0.0\n",
      "0.0\n",
      "0.0\n",
      "65.0\n",
      "8.0\n",
      "253.0\n",
      "0.0\n",
      "9.0\n",
      "0.0\n",
      "254.0\n",
      "0.0\n",
      "253.0\n",
      "0.0\n",
      "12.0\n",
      "0.0\n",
      "142.0\n",
      "0.0\n",
      "29.0\n",
      "0.0\n",
      "0.0\n",
      "0.0\n",
      "244.0\n",
      "253.0\n",
      "22.0\n",
      "0.0\n",
      "254.0\n",
      "0.0\n",
      "252.0\n",
      "176.0\n",
      "254.0\n",
      "252.0\n",
      "234.0\n",
      "220.0\n",
      "254.0\n",
      "0.0\n",
      "252.0\n",
      "230.0\n",
      "78.0\n",
      "10.0\n",
      "0.0\n",
      "227.0\n",
      "0.0\n",
      "253.0\n",
      "0.0\n",
      "0.0\n",
      "0.0\n",
      "0.0\n",
      "253.0\n",
      "75.0\n",
      "0.0\n",
      "0.0\n",
      "246.0\n",
      "0.0\n",
      "226.0\n",
      "0.0\n",
      "0.0\n",
      "0.0\n",
      "61.0\n",
      "0.0\n",
      "0.0\n",
      "0.0\n",
      "252.0\n",
      "0.0\n",
      "0.0\n",
      "0.0\n",
      "0.0\n",
      "253.0\n",
      "174.0\n",
      "91.0\n",
      "253.0\n",
      "191.0\n",
      "0.0\n",
      "39.0\n",
      "0.0\n",
      "0.0\n",
      "252.0\n",
      "252.0\n",
      "255.0\n",
      "0.0\n",
      "254.0\n",
      "4.0\n",
      "252.0\n",
      "0.0\n",
      "0.0\n",
      "252.0\n",
      "180.0\n",
      "242.0\n",
      "107.0\n",
      "36.0\n",
      "232.0\n",
      "0.0\n",
      "0.0\n",
      "0.0\n",
      "155.0\n",
      "253.0\n",
      "255.0\n",
      "253.0\n",
      "0.0\n",
      "253.0\n",
      "110.0\n",
      "254.0\n",
      "0.0\n",
      "254.0\n",
      "148.0\n",
      "187.0\n",
      "160.0\n",
      "0.0\n",
      "0.0\n",
      "157.0\n",
      "0.0\n",
      "4.0\n",
      "0.0\n",
      "198.0\n",
      "79.0\n",
      "223.0\n",
      "238.0\n",
      "227.0\n",
      "250.0\n",
      "225.0\n",
      "253.0\n",
      "0.0\n",
      "0.0\n",
      "0.0\n",
      "0.0\n",
      "253.0\n",
      "0.0\n",
      "239.0\n",
      "0.0\n",
      "0.0\n",
      "70.0\n",
      "0.0\n",
      "0.0\n",
      "253.0\n",
      "0.0\n",
      "0.0\n",
      "24.0\n",
      "254.0\n",
      "253.0\n",
      "253.0\n",
      "254.0\n",
      "253.0\n",
      "0.0\n",
      "0.0\n",
      "201.0\n",
      "77.0\n",
      "0.0\n",
      "0.0\n",
      "0.0\n",
      "0.0\n",
      "0.0\n",
      "140.0\n",
      "252.0\n",
      "0.0\n",
      "0.0\n",
      "2.0\n",
      "11.0\n",
      "0.0\n",
      "0.0\n",
      "0.0\n",
      "0.0\n",
      "253.0\n",
      "137.0\n",
      "0.0\n",
      "241.0\n",
      "0.0\n",
      "253.0\n",
      "252.0\n",
      "0.0\n",
      "0.0\n",
      "53.0\n",
      "0.0\n",
      "165.0\n",
      "169.0\n",
      "0.0\n",
      "0.0\n",
      "253.0\n",
      "252.0\n",
      "255.0\n",
      "0.0\n",
      "254.0\n",
      "0.0\n",
      "0.0\n",
      "0.0\n",
      "250.0\n",
      "0.0\n",
      "0.0\n",
      "0.0\n",
      "254.0\n",
      "0.0\n",
      "0.0\n",
      "253.0\n",
      "0.0\n",
      "0.0\n",
      "230.0\n",
      "0.0\n",
      "253.0\n",
      "169.0\n",
      "0.0\n",
      "0.0\n",
      "206.0\n",
      "0.0\n",
      "0.0\n",
      "0.0\n",
      "0.0\n",
      "253.0\n",
      "216.0\n",
      "252.0\n",
      "0.0\n",
      "38.0\n",
      "0.0\n",
      "0.0\n",
      "0.0\n",
      "0.0\n",
      "168.0\n",
      "116.0\n",
      "0.0\n",
      "0.0\n",
      "50.0\n",
      "254.0\n",
      "70.0\n",
      "237.0\n",
      "214.0\n",
      "0.0\n",
      "253.0\n",
      "142.0\n",
      "0.0\n",
      "0.0\n",
      "0.0\n",
      "0.0\n",
      "0.0\n",
      "0.0\n",
      "84.0\n",
      "0.0\n",
      "0.0\n",
      "226.0\n",
      "135.0\n",
      "254.0\n",
      "0.0\n",
      "0.0\n",
      "0.0\n",
      "253.0\n",
      "0.0\n",
      "0.0\n",
      "253.0\n",
      "0.0\n",
      "235.0\n",
      "0.0\n",
      "0.0\n",
      "0.0\n",
      "0.0\n",
      "0.0\n",
      "0.0\n",
      "254.0\n",
      "0.0\n",
      "0.0\n",
      "41.0\n",
      "248.0\n",
      "0.0\n",
      "0.0\n",
      "3.0\n",
      "253.0\n",
      "0.0\n",
      "0.0\n",
      "252.0\n",
      "219.0\n",
      "0.0\n",
      "0.0\n",
      "252.0\n",
      "232.0\n",
      "241.0\n",
      "113.0\n",
      "0.0\n",
      "0.0\n",
      "102.0\n",
      "0.0\n",
      "0.0\n",
      "254.0\n",
      "185.0\n",
      "206.0\n",
      "252.0\n",
      "0.0\n",
      "0.0\n",
      "238.0\n",
      "253.0\n",
      "253.0\n",
      "0.0\n",
      "0.0\n",
      "171.0\n",
      "0.0\n",
      "0.0\n",
      "0.0\n",
      "0.0\n",
      "19.0\n",
      "0.0\n",
      "0.0\n",
      "255.0\n",
      "0.0\n",
      "235.0\n",
      "253.0\n",
      "0.0\n",
      "0.0\n",
      "0.0\n",
      "11.0\n",
      "0.0\n",
      "0.0\n",
      "254.0\n",
      "0.0\n",
      "252.0\n",
      "0.0\n",
      "253.0\n",
      "139.0\n",
      "254.0\n",
      "0.0\n",
      "198.0\n",
      "17.0\n",
      "0.0\n",
      "0.0\n",
      "232.0\n",
      "253.0\n",
      "253.0\n",
      "157.0\n",
      "219.0\n",
      "233.0\n",
      "0.0\n",
      "0.0\n",
      "255.0\n",
      "0.0\n",
      "0.0\n",
      "0.0\n",
      "253.0\n",
      "170.0\n",
      "250.0\n",
      "106.0\n",
      "0.0\n",
      "0.0\n",
      "213.0\n",
      "253.0\n",
      "0.0\n",
      "0.0\n",
      "253.0\n",
      "0.0\n",
      "0.0\n",
      "0.0\n",
      "164.0\n",
      "0.0\n",
      "189.0\n",
      "0.0\n",
      "255.0\n",
      "233.0\n",
      "0.0\n",
      "0.0\n",
      "0.0\n",
      "177.0\n",
      "0.0\n",
      "0.0\n",
      "216.0\n",
      "255.0\n",
      "0.0\n",
      "0.0\n",
      "222.0\n",
      "192.0\n",
      "0.0\n",
      "254.0\n",
      "213.0\n",
      "185.0\n",
      "0.0\n",
      "0.0\n",
      "0.0\n",
      "253.0\n",
      "0.0\n",
      "0.0\n",
      "0.0\n",
      "254.0\n",
      "253.0\n",
      "37.0\n",
      "0.0\n",
      "25.0\n",
      "60.0\n",
      "0.0\n",
      "254.0\n",
      "253.0\n",
      "0.0\n",
      "253.0\n",
      "0.0\n",
      "47.0\n",
      "0.0\n",
      "93.0\n",
      "151.0\n",
      "253.0\n",
      "0.0\n",
      "0.0\n",
      "0.0\n",
      "0.0\n",
      "0.0\n",
      "0.0\n",
      "32.0\n",
      "253.0\n",
      "0.0\n",
      "0.0\n",
      "0.0\n",
      "0.0\n",
      "0.0\n",
      "0.0\n",
      "161.0\n",
      "0.0\n",
      "0.0\n",
      "211.0\n",
      "0.0\n",
      "255.0\n",
      "253.0\n",
      "0.0\n",
      "215.0\n",
      "162.0\n",
      "0.0\n",
      "0.0\n",
      "0.0\n",
      "0.0\n",
      "213.0\n",
      "0.0\n",
      "107.0\n",
      "235.0\n",
      "0.0\n",
      "101.0\n",
      "254.0\n",
      "254.0\n",
      "0.0\n",
      "0.0\n",
      "0.0\n",
      "52.0\n",
      "0.0\n",
      "0.0\n",
      "254.0\n",
      "8.0\n",
      "0.0\n",
      "255.0\n",
      "0.0\n",
      "245.0\n",
      "208.0\n",
      "0.0\n",
      "255.0\n",
      "251.0\n",
      "254.0\n",
      "253.0\n",
      "0.0\n",
      "109.0\n",
      "0.0\n",
      "49.0\n",
      "155.0\n",
      "19.0\n",
      "0.0\n",
      "209.0\n",
      "0.0\n",
      "0.0\n",
      "0.0\n",
      "0.0\n",
      "0.0\n",
      "0.0\n",
      "0.0\n",
      "0.0\n",
      "253.0\n",
      "0.0\n",
      "254.0\n",
      "253.0\n",
      "0.0\n",
      "82.0\n",
      "252.0\n",
      "34.0\n",
      "254.0\n",
      "156.0\n",
      "0.0\n",
      "0.0\n",
      "0.0\n",
      "249.0\n",
      "254.0\n",
      "0.0\n",
      "0.0\n",
      "0.0\n",
      "89.0\n",
      "218.0\n",
      "234.0\n",
      "0.0\n",
      "233.0\n",
      "246.0\n",
      "0.0\n",
      "0.0\n",
      "0.0\n",
      "0.0\n",
      "205.0\n",
      "0.0\n",
      "0.0\n",
      "253.0\n",
      "0.0\n",
      "0.0\n",
      "0.0\n",
      "253.0\n",
      "60.0\n",
      "196.0\n",
      "253.0\n",
      "0.0\n",
      "10.0\n",
      "227.0\n",
      "25.0\n",
      "0.0\n",
      "253.0\n",
      "189.0\n",
      "110.0\n",
      "251.0\n",
      "0.0\n",
      "0.0\n",
      "0.0\n",
      "254.0\n",
      "0.0\n",
      "0.0\n",
      "0.0\n",
      "253.0\n",
      "0.0\n",
      "81.0\n",
      "0.0\n",
      "198.0\n",
      "0.0\n",
      "253.0\n",
      "34.0\n",
      "253.0\n",
      "0.0\n",
      "229.0\n",
      "0.0\n",
      "0.0\n",
      "252.0\n",
      "64.0\n",
      "253.0\n",
      "25.0\n",
      "0.0\n",
      "0.0\n",
      "253.0\n",
      "0.0\n",
      "0.0\n",
      "0.0\n",
      "0.0\n",
      "252.0\n",
      "60.0\n",
      "177.0\n",
      "255.0\n",
      "247.0\n",
      "0.0\n",
      "0.0\n",
      "255.0\n",
      "253.0\n",
      "253.0\n",
      "0.0\n",
      "0.0\n",
      "255.0\n",
      "0.0\n",
      "255.0\n",
      "153.0\n",
      "64.0\n",
      "0.0\n",
      "96.0\n",
      "253.0\n",
      "254.0\n",
      "0.0\n",
      "24.0\n",
      "0.0\n",
      "46.0\n",
      "0.0\n",
      "252.0\n",
      "0.0\n",
      "0.0\n",
      "253.0\n",
      "99.0\n",
      "105.0\n",
      "255.0\n",
      "0.0\n",
      "0.0\n",
      "253.0\n",
      "0.0\n",
      "254.0\n",
      "0.0\n",
      "129.0\n",
      "246.0\n",
      "253.0\n",
      "0.0\n",
      "253.0\n",
      "0.0\n",
      "0.0\n",
      "0.0\n",
      "13.0\n",
      "143.0\n",
      "0.0\n",
      "112.0\n",
      "0.0\n",
      "0.0\n",
      "0.0\n",
      "255.0\n",
      "0.0\n",
      "42.0\n",
      "40.0\n",
      "0.0\n",
      "0.0\n",
      "21.0\n",
      "0.0\n",
      "125.0\n",
      "0.0\n",
      "253.0\n",
      "0.0\n",
      "253.0\n",
      "57.0\n",
      "0.0\n",
      "11.0\n",
      "0.0\n",
      "222.0\n",
      "95.0\n",
      "254.0\n",
      "0.0\n",
      "252.0\n",
      "0.0\n",
      "0.0\n",
      "0.0\n",
      "0.0\n",
      "190.0\n",
      "0.0\n",
      "227.0\n",
      "0.0\n",
      "253.0\n",
      "102.0\n",
      "253.0\n",
      "2.0\n",
      "7.0\n",
      "0.0\n",
      "0.0\n",
      "0.0\n",
      "0.0\n",
      "0.0\n",
      "0.0\n",
      "254.0\n",
      "255.0\n",
      "0.0\n",
      "0.0\n",
      "255.0\n",
      "34.0\n",
      "254.0\n",
      "36.0\n",
      "254.0\n",
      "0.0\n",
      "44.0\n",
      "46.0\n",
      "0.0\n",
      "194.0\n",
      "0.0\n",
      "67.0\n",
      "0.0\n",
      "253.0\n",
      "0.0\n",
      "255.0\n",
      "0.0\n",
      "0.0\n",
      "4.0\n",
      "228.0\n",
      "204.0\n",
      "145.0\n",
      "126.0\n",
      "0.0\n",
      "223.0\n",
      "0.0\n",
      "204.0\n",
      "31.0\n",
      "0.0\n",
      "253.0\n",
      "0.0\n",
      "175.0\n",
      "218.0\n",
      "0.0\n",
      "0.0\n",
      "0.0\n",
      "87.0\n",
      "0.0\n",
      "0.0\n",
      "0.0\n",
      "142.0\n",
      "0.0\n",
      "203.0\n",
      "0.0\n",
      "128.0\n",
      "86.0\n",
      "253.0\n",
      "57.0\n",
      "185.0\n",
      "253.0\n",
      "254.0\n",
      "253.0\n",
      "252.0\n",
      "249.0\n",
      "61.0\n",
      "0.0\n",
      "0.0\n",
      "253.0\n",
      "253.0\n",
      "99.0\n",
      "254.0\n",
      "0.0\n",
      "19.0\n",
      "254.0\n",
      "253.0\n",
      "137.0\n",
      "0.0\n",
      "98.0\n",
      "254.0\n",
      "156.0\n",
      "0.0\n",
      "254.0\n",
      "76.0\n",
      "0.0\n",
      "0.0\n",
      "144.0\n",
      "253.0\n",
      "0.0\n",
      "0.0\n",
      "252.0\n",
      "253.0\n",
      "0.0\n",
      "145.0\n",
      "159.0\n",
      "253.0\n",
      "0.0\n",
      "253.0\n",
      "0.0\n",
      "0.0\n",
      "195.0\n",
      "0.0\n",
      "0.0\n",
      "0.0\n",
      "0.0\n",
      "253.0\n",
      "64.0\n",
      "0.0\n",
      "0.0\n",
      "0.0\n",
      "255.0\n",
      "0.0\n",
      "128.0\n",
      "0.0\n",
      "0.0\n",
      "253.0\n",
      "252.0\n",
      "67.0\n",
      "240.0\n",
      "0.0\n",
      "0.0\n",
      "0.0\n",
      "33.0\n",
      "206.0\n",
      "0.0\n",
      "253.0\n",
      "0.0\n",
      "0.0\n",
      "0.0\n",
      "0.0\n",
      "198.0\n",
      "232.0\n",
      "0.0\n",
      "0.0\n",
      "253.0\n",
      "253.0\n",
      "253.0\n",
      "100.0\n",
      "0.0\n",
      "74.0\n",
      "255.0\n",
      "253.0\n",
      "253.0\n",
      "243.0\n",
      "98.0\n",
      "0.0\n",
      "253.0\n",
      "253.0\n",
      "0.0\n",
      "209.0\n",
      "0.0\n",
      "118.0\n",
      "17.0\n",
      "51.0\n",
      "0.0\n",
      "0.0\n",
      "0.0\n",
      "2.0\n",
      "253.0\n",
      "253.0\n",
      "104.0\n",
      "186.0\n",
      "176.0\n",
      "149.0\n",
      "252.0\n",
      "0.0\n",
      "253.0\n",
      "250.0\n",
      "253.0\n",
      "255.0\n",
      "0.0\n",
      "252.0\n",
      "0.0\n",
      "197.0\n",
      "252.0\n",
      "253.0\n",
      "0.0\n",
      "0.0\n",
      "0.0\n",
      "96.0\n",
      "0.0\n",
      "0.0\n",
      "0.0\n",
      "0.0\n",
      "0.0\n",
      "199.0\n",
      "239.0\n",
      "163.0\n",
      "253.0\n",
      "0.0\n",
      "254.0\n",
      "253.0\n",
      "124.0\n",
      "0.0\n",
      "0.0\n",
      "249.0\n",
      "0.0\n",
      "255.0\n",
      "0.0\n",
      "43.0\n",
      "0.0\n",
      "0.0\n",
      "3.0\n",
      "0.0\n",
      "0.0\n",
      "0.0\n",
      "253.0\n",
      "0.0\n",
      "0.0\n",
      "94.0\n",
      "0.0\n",
      "0.0\n",
      "0.0\n",
      "132.0\n",
      "129.0\n",
      "0.0\n",
      "254.0\n",
      "0.0\n",
      "0.0\n",
      "253.0\n",
      "0.0\n",
      "0.0\n",
      "0.0\n",
      "0.0\n",
      "254.0\n",
      "0.0\n",
      "254.0\n",
      "0.0\n",
      "253.0\n",
      "0.0\n",
      "254.0\n",
      "0.0\n",
      "0.0\n",
      "0.0\n",
      "134.0\n",
      "0.0\n",
      "0.0\n",
      "0.0\n",
      "227.0\n",
      "109.0\n",
      "0.0\n",
      "0.0\n",
      "0.0\n",
      "248.0\n",
      "0.0\n",
      "0.0\n",
      "0.0\n",
      "57.0\n",
      "253.0\n",
      "253.0\n",
      "251.0\n",
      "75.0\n",
      "0.0\n",
      "26.0\n",
      "250.0\n",
      "0.0\n",
      "0.0\n",
      "254.0\n",
      "25.0\n",
      "0.0\n",
      "0.0\n",
      "253.0\n",
      "0.0\n",
      "0.0\n",
      "0.0\n",
      "0.0\n",
      "0.0\n",
      "0.0\n",
      "254.0\n",
      "136.0\n",
      "253.0\n",
      "0.0\n",
      "4.0\n",
      "0.0\n",
      "57.0\n",
      "0.0\n",
      "0.0\n",
      "0.0\n",
      "138.0\n",
      "0.0\n",
      "143.0\n",
      "0.0\n",
      "12.0\n",
      "0.0\n",
      "33.0\n",
      "0.0\n",
      "0.0\n",
      "250.0\n",
      "0.0\n",
      "0.0\n",
      "0.0\n",
      "252.0\n",
      "93.0\n",
      "254.0\n",
      "0.0\n",
      "0.0\n",
      "255.0\n",
      "0.0\n",
      "0.0\n",
      "86.0\n",
      "234.0\n",
      "0.0\n",
      "0.0\n",
      "152.0\n",
      "3.0\n",
      "31.0\n",
      "0.0\n",
      "154.0\n",
      "252.0\n",
      "252.0\n",
      "253.0\n",
      "152.0\n",
      "108.0\n",
      "0.0\n",
      "167.0\n",
      "223.0\n",
      "0.0\n",
      "177.0\n",
      "0.0\n",
      "0.0\n",
      "253.0\n",
      "255.0\n",
      "7.0\n",
      "253.0\n",
      "0.0\n",
      "239.0\n",
      "0.0\n",
      "79.0\n",
      "0.0\n",
      "0.0\n",
      "253.0\n",
      "253.0\n",
      "0.0\n",
      "47.0\n",
      "0.0\n",
      "252.0\n",
      "45.0\n",
      "0.0\n",
      "0.0\n",
      "252.0\n",
      "252.0\n",
      "224.0\n",
      "0.0\n",
      "0.0\n",
      "253.0\n",
      "253.0\n",
      "0.0\n",
      "253.0\n",
      "0.0\n",
      "253.0\n",
      "253.0\n",
      "0.0\n",
      "109.0\n",
      "0.0\n",
      "252.0\n",
      "253.0\n",
      "157.0\n",
      "69.0\n",
      "236.0\n",
      "0.0\n",
      "253.0\n",
      "0.0\n",
      "0.0\n",
      "253.0\n",
      "0.0\n",
      "0.0\n",
      "0.0\n",
      "254.0\n",
      "23.0\n",
      "30.0\n",
      "0.0\n",
      "254.0\n",
      "0.0\n",
      "0.0\n",
      "0.0\n",
      "253.0\n",
      "0.0\n",
      "253.0\n",
      "0.0\n",
      "0.0\n",
      "0.0\n",
      "0.0\n",
      "95.0\n",
      "253.0\n",
      "128.0\n",
      "0.0\n",
      "0.0\n",
      "0.0\n",
      "0.0\n",
      "0.0\n",
      "0.0\n",
      "0.0\n",
      "0.0\n",
      "0.0\n",
      "24.0\n",
      "247.0\n",
      "19.0\n",
      "72.0\n",
      "252.0\n",
      "0.0\n",
      "230.0\n",
      "253.0\n",
      "166.0\n",
      "0.0\n",
      "232.0\n",
      "0.0\n",
      "0.0\n",
      "0.0\n",
      "0.0\n",
      "0.0\n",
      "1.0\n",
      "231.0\n",
      "0.0\n",
      "183.0\n",
      "0.0\n",
      "0.0\n",
      "253.0\n",
      "128.0\n",
      "0.0\n",
      "0.0\n",
      "0.0\n",
      "0.0\n",
      "93.0\n",
      "0.0\n",
      "200.0\n",
      "252.0\n",
      "0.0\n",
      "0.0\n",
      "64.0\n",
      "0.0\n",
      "40.0\n",
      "0.0\n",
      "253.0\n",
      "0.0\n",
      "72.0\n",
      "252.0\n",
      "253.0\n",
      "0.0\n",
      "253.0\n",
      "0.0\n",
      "207.0\n",
      "168.0\n",
      "110.0\n",
      "254.0\n",
      "253.0\n",
      "252.0\n",
      "0.0\n",
      "253.0\n",
      "186.0\n",
      "255.0\n",
      "128.0\n",
      "0.0\n",
      "50.0\n",
      "253.0\n",
      "253.0\n",
      "253.0\n",
      "0.0\n",
      "240.0\n",
      "252.0\n",
      "253.0\n",
      "149.0\n",
      "253.0\n",
      "0.0\n",
      "0.0\n",
      "253.0\n",
      "216.0\n",
      "253.0\n",
      "252.0\n",
      "254.0\n",
      "64.0\n",
      "253.0\n",
      "255.0\n",
      "253.0\n",
      "252.0\n",
      "0.0\n",
      "253.0\n",
      "253.0\n",
      "104.0\n",
      "253.0\n",
      "128.0\n",
      "0.0\n",
      "58.0\n",
      "253.0\n",
      "252.0\n",
      "252.0\n",
      "173.0\n",
      "253.0\n",
      "0.0\n",
      "0.0\n",
      "253.0\n",
      "0.0\n",
      "255.0\n",
      "255.0\n",
      "234.0\n",
      "0.0\n",
      "0.0\n",
      "252.0\n",
      "253.0\n",
      "0.0\n",
      "249.0\n",
      "223.0\n",
      "141.0\n",
      "54.0\n",
      "0.0\n",
      "252.0\n",
      "0.0\n",
      "0.0\n",
      "253.0\n",
      "253.0\n",
      "203.0\n",
      "254.0\n",
      "13.0\n",
      "252.0\n",
      "255.0\n",
      "0.0\n",
      "0.0\n",
      "78.0\n",
      "252.0\n",
      "0.0\n",
      "253.0\n",
      "206.0\n",
      "0.0\n",
      "0.0\n",
      "252.0\n",
      "253.0\n",
      "3.0\n",
      "114.0\n",
      "154.0\n",
      "135.0\n",
      "254.0\n",
      "253.0\n",
      "0.0\n",
      "0.0\n",
      "201.0\n",
      "72.0\n",
      "0.0\n",
      "43.0\n",
      "0.0\n",
      "146.0\n",
      "255.0\n",
      "253.0\n",
      "250.0\n",
      "0.0\n",
      "0.0\n",
      "252.0\n",
      "85.0\n",
      "74.0\n",
      "252.0\n",
      "252.0\n",
      "252.0\n",
      "252.0\n",
      "252.0\n",
      "255.0\n",
      "150.0\n",
      "252.0\n",
      "0.0\n",
      "54.0\n",
      "253.0\n",
      "0.0\n",
      "253.0\n",
      "0.0\n",
      "0.0\n",
      "255.0\n",
      "232.0\n",
      "0.0\n",
      "0.0\n",
      "0.0\n",
      "7.0\n",
      "94.0\n",
      "0.0\n",
      "253.0\n",
      "255.0\n",
      "254.0\n",
      "0.0\n",
      "253.0\n",
      "128.0\n",
      "160.0\n",
      "253.0\n",
      "148.0\n",
      "0.0\n",
      "0.0\n",
      "64.0\n",
      "253.0\n",
      "0.0\n",
      "244.0\n",
      "252.0\n",
      "50.0\n",
      "200.0\n",
      "0.0\n",
      "200.0\n",
      "0.0\n",
      "0.0\n",
      "0.0\n",
      "253.0\n",
      "0.0\n",
      "0.0\n",
      "0.0\n",
      "0.0\n",
      "0.0\n",
      "252.0\n",
      "0.0\n",
      "0.0\n",
      "253.0\n",
      "188.0\n",
      "0.0\n",
      "233.0\n",
      "0.0\n",
      "0.0\n",
      "19.0\n",
      "0.0\n",
      "0.0\n",
      "0.0\n",
      "0.0\n",
      "123.0\n",
      "252.0\n",
      "0.0\n",
      "38.0\n",
      "0.0\n",
      "194.0\n",
      "255.0\n",
      "0.0\n",
      "252.0\n",
      "0.0\n",
      "253.0\n",
      "0.0\n",
      "9.0\n",
      "0.0\n",
      "33.0\n",
      "0.0\n",
      "253.0\n",
      "0.0\n",
      "0.0\n",
      "252.0\n",
      "128.0\n",
      "204.0\n",
      "255.0\n",
      "0.0\n",
      "80.0\n",
      "33.0\n",
      "252.0\n",
      "0.0\n",
      "0.0\n",
      "10.0\n",
      "192.0\n",
      "0.0\n",
      "253.0\n",
      "0.0\n",
      "0.0\n",
      "0.0\n",
      "0.0\n",
      "146.0\n",
      "0.0\n",
      "0.0\n",
      "0.0\n",
      "0.0\n",
      "0.0\n",
      "253.0\n",
      "0.0\n",
      "231.0\n",
      "253.0\n",
      "28.0\n",
      "32.0\n",
      "172.0\n",
      "253.0\n",
      "0.0\n",
      "0.0\n",
      "252.0\n",
      "0.0\n",
      "73.0\n",
      "0.0\n",
      "162.0\n",
      "0.0\n",
      "66.0\n",
      "254.0\n",
      "254.0\n",
      "211.0\n",
      "0.0\n",
      "0.0\n",
      "57.0\n",
      "173.0\n",
      "255.0\n",
      "236.0\n",
      "161.0\n",
      "0.0\n",
      "40.0\n",
      "0.0\n",
      "0.0\n",
      "253.0\n",
      "142.0\n",
      "253.0\n",
      "192.0\n",
      "0.0\n",
      "0.0\n",
      "0.0\n",
      "0.0\n",
      "12.0\n",
      "0.0\n",
      "86.0\n",
      "254.0\n",
      "255.0\n",
      "249.0\n",
      "0.0\n",
      "0.0\n",
      "106.0\n",
      "0.0\n",
      "253.0\n",
      "252.0\n",
      "128.0\n",
      "0.0\n",
      "255.0\n",
      "253.0\n",
      "0.0\n",
      "221.0\n",
      "0.0\n",
      "30.0\n",
      "0.0\n",
      "253.0\n",
      "253.0\n",
      "28.0\n",
      "226.0\n",
      "0.0\n",
      "244.0\n",
      "0.0\n",
      "62.0\n",
      "0.0\n",
      "253.0\n",
      "0.0\n",
      "0.0\n",
      "0.0\n",
      "139.0\n",
      "247.0\n",
      "0.0\n",
      "18.0\n",
      "0.0\n",
      "0.0\n",
      "0.0\n",
      "253.0\n",
      "213.0\n",
      "0.0\n",
      "252.0\n",
      "0.0\n",
      "93.0\n",
      "0.0\n",
      "253.0\n",
      "252.0\n",
      "0.0\n",
      "254.0\n",
      "255.0\n",
      "0.0\n",
      "0.0\n",
      "66.0\n",
      "253.0\n",
      "33.0\n",
      "253.0\n",
      "0.0\n",
      "253.0\n",
      "0.0\n",
      "252.0\n",
      "253.0\n",
      "0.0\n",
      "0.0\n",
      "252.0\n",
      "252.0\n",
      "253.0\n",
      "255.0\n",
      "223.0\n",
      "0.0\n",
      "188.0\n",
      "252.0\n",
      "0.0\n",
      "0.0\n",
      "178.0\n",
      "0.0\n",
      "255.0\n",
      "253.0\n",
      "0.0\n",
      "75.0\n",
      "0.0\n",
      "252.0\n",
      "0.0\n",
      "0.0\n",
      "252.0\n",
      "174.0\n",
      "0.0\n",
      "254.0\n",
      "209.0\n",
      "253.0\n",
      "253.0\n",
      "0.0\n",
      "254.0\n",
      "251.0\n",
      "51.0\n",
      "0.0\n",
      "57.0\n",
      "202.0\n",
      "0.0\n",
      "161.0\n",
      "241.0\n",
      "73.0\n",
      "0.0\n",
      "253.0\n",
      "0.0\n",
      "104.0\n",
      "60.0\n",
      "255.0\n",
      "237.0\n",
      "253.0\n",
      "0.0\n",
      "127.0\n",
      "208.0\n",
      "254.0\n",
      "0.0\n",
      "253.0\n",
      "0.0\n",
      "44.0\n",
      "0.0\n",
      "13.0\n",
      "0.0\n",
      "0.0\n",
      "0.0\n",
      "137.0\n",
      "249.0\n",
      "0.0\n",
      "0.0\n",
      "234.0\n",
      "253.0\n",
      "203.0\n",
      "253.0\n",
      "253.0\n",
      "124.0\n",
      "0.0\n",
      "0.0\n",
      "253.0\n",
      "253.0\n",
      "250.0\n",
      "51.0\n",
      "221.0\n",
      "0.0\n",
      "94.0\n",
      "0.0\n",
      "229.0\n",
      "0.0\n",
      "75.0\n",
      "252.0\n",
      "82.0\n",
      "0.0\n",
      "0.0\n",
      "0.0\n",
      "247.0\n",
      "253.0\n",
      "253.0\n",
      "254.0\n",
      "165.0\n",
      "186.0\n",
      "0.0\n",
      "0.0\n",
      "253.0\n",
      "0.0\n",
      "30.0\n",
      "0.0\n",
      "24.0\n",
      "221.0\n",
      "253.0\n",
      "0.0\n",
      "254.0\n",
      "158.0\n",
      "190.0\n",
      "0.0\n",
      "241.0\n",
      "253.0\n",
      "221.0\n",
      "0.0\n",
      "253.0\n",
      "0.0\n",
      "253.0\n",
      "0.0\n",
      "243.0\n",
      "249.0\n",
      "0.0\n",
      "9.0\n",
      "173.0\n",
      "146.0\n",
      "255.0\n",
      "83.0\n",
      "29.0\n",
      "0.0\n",
      "252.0\n",
      "0.0\n",
      "0.0\n",
      "0.0\n",
      "0.0\n",
      "255.0\n",
      "252.0\n",
      "253.0\n",
      "116.0\n",
      "0.0\n",
      "0.0\n",
      "227.0\n",
      "0.0\n",
      "252.0\n",
      "255.0\n",
      "0.0\n",
      "0.0\n",
      "0.0\n",
      "0.0\n",
      "0.0\n",
      "0.0\n",
      "254.0\n",
      "0.0\n",
      "0.0\n",
      "253.0\n",
      "0.0\n",
      "0.0\n",
      "0.0\n",
      "0.0\n",
      "223.0\n",
      "0.0\n",
      "255.0\n",
      "85.0\n",
      "0.0\n",
      "253.0\n",
      "120.0\n",
      "0.0\n",
      "253.0\n",
      "0.0\n",
      "0.0\n",
      "179.0\n",
      "0.0\n",
      "0.0\n",
      "106.0\n",
      "228.0\n",
      "0.0\n",
      "0.0\n",
      "78.0\n",
      "0.0\n",
      "201.0\n",
      "254.0\n",
      "10.0\n",
      "11.0\n",
      "215.0\n",
      "0.0\n",
      "220.0\n",
      "0.0\n",
      "0.0\n",
      "0.0\n",
      "0.0\n",
      "0.0\n",
      "11.0\n",
      "0.0\n",
      "0.0\n",
      "1.0\n",
      "0.0\n",
      "179.0\n",
      "0.0\n",
      "255.0\n",
      "57.0\n",
      "253.0\n",
      "0.0\n",
      "0.0\n",
      "0.0\n",
      "0.0\n",
      "45.0\n",
      "28.0\n",
      "0.0\n",
      "0.0\n",
      "0.0\n",
      "166.0\n",
      "253.0\n",
      "0.0\n",
      "201.0\n",
      "0.0\n",
      "0.0\n",
      "253.0\n",
      "17.0\n",
      "172.0\n",
      "0.0\n",
      "0.0\n",
      "0.0\n",
      "0.0\n",
      "254.0\n",
      "223.0\n",
      "0.0\n",
      "163.0\n",
      "0.0\n",
      "0.0\n",
      "0.0\n",
      "119.0\n",
      "17.0\n",
      "55.0\n",
      "145.0\n",
      "0.0\n",
      "0.0\n",
      "187.0\n",
      "36.0\n",
      "0.0\n",
      "0.0\n",
      "0.0\n",
      "0.0\n",
      "0.0\n",
      "156.0\n",
      "0.0\n",
      "0.0\n",
      "253.0\n",
      "171.0\n",
      "33.0\n",
      "46.0\n",
      "0.0\n",
      "0.0\n",
      "0.0\n",
      "227.0\n",
      "0.0\n",
      "0.0\n",
      "39.0\n",
      "0.0\n",
      "254.0\n",
      "0.0\n",
      "195.0\n",
      "0.0\n",
      "0.0\n",
      "0.0\n",
      "0.0\n",
      "0.0\n",
      "254.0\n",
      "230.0\n",
      "242.0\n",
      "0.0\n",
      "0.0\n",
      "0.0\n",
      "0.0\n",
      "30.0\n",
      "255.0\n",
      "0.0\n",
      "254.0\n",
      "143.0\n",
      "246.0\n",
      "0.0\n",
      "0.0\n",
      "199.0\n",
      "0.0\n",
      "180.0\n",
      "179.0\n",
      "239.0\n",
      "51.0\n",
      "0.0\n",
      "65.0\n",
      "252.0\n",
      "0.0\n",
      "99.0\n",
      "0.0\n",
      "0.0\n",
      "235.0\n",
      "0.0\n",
      "49.0\n",
      "0.0\n",
      "0.0\n",
      "240.0\n",
      "0.0\n",
      "0.0\n",
      "4.0\n",
      "0.0\n",
      "221.0\n",
      "252.0\n",
      "0.0\n",
      "0.0\n",
      "0.0\n",
      "93.0\n",
      "0.0\n",
      "0.0\n",
      "109.0\n",
      "0.0\n",
      "103.0\n",
      "254.0\n",
      "254.0\n",
      "0.0\n",
      "0.0\n",
      "0.0\n",
      "252.0\n",
      "252.0\n",
      "253.0\n",
      "5.0\n",
      "253.0\n",
      "50.0\n",
      "0.0\n",
      "0.0\n",
      "0.0\n",
      "253.0\n",
      "0.0\n",
      "191.0\n",
      "250.0\n",
      "0.0\n",
      "252.0\n",
      "0.0\n",
      "199.0\n",
      "0.0\n",
      "0.0\n",
      "44.0\n",
      "253.0\n",
      "253.0\n",
      "72.0\n",
      "0.0\n",
      "100.0\n",
      "0.0\n",
      "238.0\n",
      "0.0\n",
      "0.0\n",
      "146.0\n",
      "231.0\n",
      "0.0\n",
      "253.0\n",
      "0.0\n",
      "255.0\n",
      "253.0\n",
      "85.0\n",
      "103.0\n",
      "0.0\n",
      "225.0\n",
      "193.0\n",
      "140.0\n",
      "73.0\n",
      "0.0\n",
      "183.0\n",
      "10.0\n",
      "255.0\n",
      "255.0\n",
      "0.0\n",
      "255.0\n",
      "254.0\n",
      "136.0\n",
      "252.0\n",
      "252.0\n",
      "64.0\n",
      "0.0\n",
      "13.0\n",
      "0.0\n",
      "64.0\n",
      "0.0\n",
      "0.0\n",
      "0.0\n",
      "179.0\n",
      "35.0\n",
      "0.0\n",
      "110.0\n",
      "2.0\n",
      "0.0\n",
      "253.0\n",
      "0.0\n",
      "0.0\n",
      "0.0\n",
      "248.0\n",
      "0.0\n",
      "0.0\n",
      "252.0\n",
      "237.0\n",
      "0.0\n",
      "0.0\n",
      "45.0\n",
      "0.0\n",
      "0.0\n",
      "0.0\n",
      "17.0\n",
      "0.0\n",
      "79.0\n",
      "216.0\n",
      "254.0\n",
      "0.0\n",
      "0.0\n",
      "254.0\n",
      "252.0\n",
      "253.0\n",
      "0.0\n",
      "92.0\n",
      "29.0\n",
      "0.0\n",
      "0.0\n",
      "165.0\n",
      "93.0\n",
      "0.0\n",
      "254.0\n",
      "205.0\n",
      "0.0\n",
      "47.0\n",
      "6.0\n",
      "0.0\n",
      "60.0\n",
      "116.0\n",
      "0.0\n",
      "0.0\n",
      "122.0\n",
      "139.0\n",
      "211.0\n",
      "236.0\n",
      "252.0\n",
      "71.0\n",
      "0.0\n",
      "40.0\n",
      "0.0\n",
      "254.0\n",
      "253.0\n",
      "238.0\n",
      "0.0\n",
      "0.0\n",
      "0.0\n",
      "0.0\n",
      "253.0\n",
      "0.0\n",
      "0.0\n",
      "0.0\n",
      "0.0\n",
      "0.0\n",
      "0.0\n",
      "0.0\n",
      "226.0\n",
      "248.0\n",
      "0.0\n",
      "233.0\n",
      "43.0\n",
      "255.0\n",
      "221.0\n",
      "0.0\n",
      "167.0\n",
      "0.0\n",
      "0.0\n",
      "241.0\n",
      "254.0\n",
      "0.0\n",
      "0.0\n",
      "253.0\n",
      "0.0\n",
      "0.0\n",
      "244.0\n",
      "254.0\n",
      "131.0\n",
      "0.0\n",
      "0.0\n",
      "183.0\n",
      "0.0\n",
      "0.0\n",
      "63.0\n",
      "110.0\n",
      "0.0\n",
      "0.0\n",
      "0.0\n",
      "69.0\n",
      "253.0\n",
      "0.0\n",
      "25.0\n",
      "54.0\n",
      "0.0\n",
      "0.0\n",
      "0.0\n",
      "0.0\n",
      "0.0\n",
      "0.0\n",
      "253.0\n",
      "118.0\n",
      "120.0\n",
      "0.0\n",
      "0.0\n",
      "0.0\n",
      "254.0\n",
      "247.0\n",
      "0.0\n",
      "253.0\n",
      "49.0\n",
      "0.0\n",
      "0.0\n",
      "212.0\n",
      "253.0\n",
      "131.0\n",
      "254.0\n",
      "0.0\n",
      "0.0\n",
      "0.0\n",
      "0.0\n",
      "222.0\n",
      "0.0\n",
      "253.0\n",
      "104.0\n",
      "0.0\n",
      "0.0\n",
      "226.0\n",
      "0.0\n",
      "0.0\n",
      "0.0\n",
      "0.0\n",
      "141.0\n",
      "0.0\n",
      "0.0\n",
      "0.0\n",
      "0.0\n",
      "0.0\n",
      "0.0\n",
      "100.0\n",
      "0.0\n",
      "0.0\n",
      "0.0\n",
      "253.0\n",
      "0.0\n",
      "104.0\n",
      "0.0\n",
      "242.0\n",
      "0.0\n",
      "252.0\n",
      "68.0\n",
      "0.0\n",
      "0.0\n",
      "252.0\n",
      "0.0\n",
      "0.0\n",
      "0.0\n",
      "253.0\n",
      "0.0\n",
      "253.0\n",
      "253.0\n",
      "252.0\n",
      "0.0\n",
      "252.0\n",
      "0.0\n",
      "0.0\n",
      "0.0\n",
      "0.0\n",
      "0.0\n",
      "0.0\n",
      "252.0\n",
      "254.0\n",
      "195.0\n",
      "0.0\n",
      "0.0\n",
      "0.0\n",
      "0.0\n",
      "254.0\n",
      "0.0\n",
      "0.0\n",
      "252.0\n",
      "0.0\n",
      "253.0\n",
      "0.0\n",
      "0.0\n",
      "252.0\n",
      "0.0\n",
      "0.0\n",
      "252.0\n",
      "0.0\n",
      "255.0\n",
      "74.0\n",
      "253.0\n",
      "179.0\n",
      "209.0\n",
      "252.0\n",
      "0.0\n",
      "253.0\n",
      "0.0\n",
      "250.0\n",
      "237.0\n",
      "0.0\n",
      "0.0\n",
      "0.0\n",
      "0.0\n",
      "222.0\n",
      "37.0\n",
      "0.0\n",
      "35.0\n",
      "0.0\n",
      "23.0\n",
      "0.0\n",
      "0.0\n",
      "255.0\n",
      "2.0\n",
      "137.0\n",
      "254.0\n",
      "0.0\n",
      "0.0\n",
      "0.0\n",
      "0.0\n",
      "0.0\n",
      "254.0\n",
      "0.0\n",
      "254.0\n",
      "0.0\n",
      "0.0\n",
      "219.0\n",
      "141.0\n",
      "29.0\n",
      "253.0\n",
      "220.0\n",
      "229.0\n",
      "77.0\n",
      "138.0\n",
      "0.0\n",
      "0.0\n",
      "0.0\n",
      "0.0\n",
      "253.0\n",
      "0.0\n",
      "0.0\n",
      "253.0\n",
      "62.0\n",
      "0.0\n",
      "110.0\n",
      "75.0\n",
      "241.0\n",
      "0.0\n",
      "196.0\n",
      "0.0\n",
      "0.0\n",
      "0.0\n",
      "254.0\n",
      "229.0\n",
      "0.0\n",
      "0.0\n",
      "0.0\n",
      "132.0\n",
      "0.0\n",
      "64.0\n",
      "0.0\n",
      "26.0\n",
      "240.0\n",
      "0.0\n",
      "0.0\n",
      "0.0\n",
      "225.0\n",
      "215.0\n",
      "0.0\n",
      "183.0\n",
      "254.0\n",
      "231.0\n",
      "0.0\n",
      "0.0\n",
      "253.0\n",
      "81.0\n",
      "252.0\n",
      "0.0\n",
      "252.0\n",
      "0.0\n",
      "0.0\n",
      "0.0\n",
      "0.0\n",
      "0.0\n",
      "106.0\n",
      "252.0\n",
      "0.0\n",
      "128.0\n",
      "252.0\n",
      "0.0\n",
      "253.0\n",
      "0.0\n",
      "0.0\n",
      "0.0\n",
      "0.0\n",
      "82.0\n",
      "207.0\n",
      "0.0\n",
      "0.0\n",
      "206.0\n",
      "254.0\n",
      "253.0\n",
      "0.0\n",
      "230.0\n",
      "227.0\n",
      "185.0\n",
      "0.0\n",
      "243.0\n",
      "164.0\n",
      "0.0\n",
      "0.0\n",
      "236.0\n",
      "0.0\n",
      "0.0\n",
      "0.0\n",
      "0.0\n",
      "253.0\n",
      "252.0\n",
      "252.0\n",
      "231.0\n",
      "226.0\n",
      "250.0\n",
      "0.0\n",
      "0.0\n",
      "0.0\n",
      "133.0\n",
      "0.0\n",
      "253.0\n",
      "0.0\n",
      "252.0\n",
      "226.0\n",
      "253.0\n",
      "0.0\n",
      "253.0\n",
      "0.0\n",
      "41.0\n",
      "0.0\n",
      "253.0\n",
      "0.0\n",
      "253.0\n",
      "3.0\n",
      "254.0\n",
      "253.0\n",
      "0.0\n",
      "225.0\n",
      "249.0\n",
      "246.0\n",
      "112.0\n",
      "228.0\n",
      "212.0\n",
      "223.0\n",
      "252.0\n",
      "255.0\n",
      "0.0\n",
      "20.0\n",
      "157.0\n",
      "95.0\n",
      "173.0\n",
      "60.0\n",
      "107.0\n",
      "0.0\n",
      "0.0\n",
      "1.0\n",
      "141.0\n",
      "166.0\n",
      "79.0\n",
      "0.0\n",
      "161.0\n",
      "159.0\n",
      "19.0\n",
      "0.0\n",
      "203.0\n",
      "253.0\n",
      "0.0\n",
      "0.0\n",
      "0.0\n",
      "4.0\n",
      "0.0\n",
      "97.0\n",
      "0.0\n",
      "253.0\n",
      "0.0\n",
      "57.0\n",
      "238.0\n",
      "0.0\n",
      "19.0\n",
      "169.0\n",
      "254.0\n",
      "188.0\n",
      "3.0\n",
      "0.0\n",
      "253.0\n",
      "0.0\n",
      "255.0\n",
      "0.0\n",
      "0.0\n",
      "0.0\n",
      "0.0\n",
      "0.0\n",
      "242.0\n",
      "0.0\n",
      "0.0\n",
      "0.0\n",
      "10.0\n",
      "0.0\n",
      "0.0\n",
      "220.0\n",
      "202.0\n",
      "0.0\n",
      "0.0\n",
      "232.0\n",
      "232.0\n",
      "0.0\n",
      "41.0\n",
      "0.0\n",
      "167.0\n",
      "230.0\n",
      "0.0\n",
      "0.0\n",
      "0.0\n",
      "0.0\n",
      "5.0\n",
      "0.0\n",
      "0.0\n",
      "133.0\n",
      "0.0\n",
      "0.0\n",
      "0.0\n",
      "218.0\n",
      "224.0\n",
      "0.0\n",
      "0.0\n",
      "0.0\n",
      "68.0\n",
      "160.0\n",
      "0.0\n",
      "199.0\n",
      "0.0\n",
      "254.0\n",
      "0.0\n",
      "53.0\n",
      "0.0\n",
      "249.0\n",
      "255.0\n",
      "0.0\n",
      "0.0\n",
      "168.0\n",
      "0.0\n",
      "167.0\n",
      "19.0\n",
      "252.0\n",
      "0.0\n",
      "0.0\n",
      "254.0\n",
      "22.0\n",
      "253.0\n",
      "149.0\n",
      "0.0\n",
      "206.0\n",
      "98.0\n",
      "254.0\n",
      "0.0\n",
      "24.0\n",
      "34.0\n",
      "113.0\n",
      "255.0\n",
      "0.0\n",
      "109.0\n",
      "251.0\n",
      "0.0\n",
      "254.0\n",
      "254.0\n",
      "0.0\n",
      "15.0\n",
      "42.0\n",
      "0.0\n",
      "134.0\n",
      "253.0\n",
      "4.0\n",
      "186.0\n",
      "188.0\n",
      "20.0\n",
      "252.0\n",
      "0.0\n",
      "0.0\n",
      "185.0\n",
      "243.0\n",
      "0.0\n",
      "7.0\n",
      "254.0\n",
      "0.0\n",
      "253.0\n",
      "253.0\n",
      "0.0\n",
      "255.0\n",
      "0.0\n",
      "0.0\n",
      "246.0\n",
      "0.0\n",
      "0.0\n",
      "155.0\n",
      "0.0\n",
      "0.0\n",
      "254.0\n",
      "0.0\n",
      "0.0\n",
      "128.0\n",
      "229.0\n",
      "0.0\n",
      "93.0\n",
      "0.0\n",
      "252.0\n",
      "0.0\n",
      "0.0\n",
      "253.0\n",
      "0.0\n",
      "253.0\n",
      "0.0\n",
      "0.0\n",
      "0.0\n",
      "4.0\n",
      "146.0\n",
      "0.0\n",
      "220.0\n",
      "0.0\n",
      "252.0\n",
      "253.0\n",
      "0.0\n",
      "253.0\n",
      "128.0\n",
      "4.0\n",
      "0.0\n",
      "253.0\n",
      "254.0\n",
      "0.0\n",
      "255.0\n",
      "253.0\n",
      "214.0\n",
      "0.0\n",
      "252.0\n",
      "0.0\n",
      "179.0\n",
      "0.0\n",
      "78.0\n",
      "0.0\n",
      "253.0\n",
      "211.0\n",
      "87.0\n",
      "253.0\n",
      "252.0\n",
      "0.0\n",
      "23.0\n",
      "254.0\n",
      "0.0\n",
      "253.0\n",
      "51.0\n",
      "253.0\n",
      "10.0\n",
      "253.0\n",
      "0.0\n",
      "0.0\n",
      "253.0\n",
      "49.0\n",
      "0.0\n",
      "253.0\n",
      "11.0\n",
      "253.0\n",
      "252.0\n",
      "8.0\n",
      "0.0\n",
      "0.0\n",
      "0.0\n",
      "0.0\n",
      "253.0\n",
      "253.0\n",
      "84.0\n",
      "0.0\n",
      "0.0\n",
      "254.0\n",
      "0.0\n",
      "0.0\n",
      "0.0\n",
      "253.0\n",
      "252.0\n",
      "82.0\n",
      "0.0\n",
      "253.0\n",
      "253.0\n",
      "223.0\n",
      "0.0\n",
      "252.0\n",
      "0.0\n",
      "179.0\n",
      "0.0\n",
      "94.0\n",
      "253.0\n",
      "0.0\n",
      "24.0\n",
      "253.0\n",
      "0.0\n",
      "252.0\n",
      "0.0\n",
      "21.0\n",
      "0.0\n",
      "226.0\n",
      "20.0\n",
      "0.0\n",
      "0.0\n",
      "0.0\n",
      "0.0\n",
      "252.0\n",
      "0.0\n",
      "253.0\n",
      "174.0\n",
      "0.0\n",
      "253.0\n",
      "253.0\n",
      "0.0\n",
      "0.0\n",
      "253.0\n",
      "0.0\n",
      "254.0\n",
      "0.0\n",
      "252.0\n",
      "0.0\n",
      "0.0\n",
      "84.0\n",
      "170.0\n",
      "112.0\n",
      "0.0\n",
      "253.0\n",
      "0.0\n",
      "0.0\n",
      "168.0\n",
      "157.0\n",
      "252.0\n",
      "0.0\n",
      "6.0\n",
      "0.0\n",
      "250.0\n",
      "254.0\n",
      "0.0\n",
      "14.0\n",
      "249.0\n",
      "28.0\n",
      "238.0\n",
      "0.0\n",
      "194.0\n",
      "16.0\n",
      "233.0\n",
      "0.0\n",
      "0.0\n",
      "0.0\n",
      "0.0\n",
      "0.0\n",
      "0.0\n",
      "0.0\n",
      "89.0\n",
      "253.0\n",
      "137.0\n",
      "247.0\n",
      "0.0\n",
      "253.0\n",
      "228.0\n",
      "0.0\n",
      "0.0\n",
      "198.0\n",
      "0.0\n",
      "251.0\n",
      "243.0\n",
      "0.0\n",
      "0.0\n",
      "0.0\n",
      "208.0\n",
      "53.0\n",
      "0.0\n",
      "42.0\n",
      "0.0\n",
      "0.0\n",
      "63.0\n",
      "192.0\n",
      "0.0\n",
      "0.0\n",
      "0.0\n",
      "253.0\n",
      "91.0\n",
      "0.0\n",
      "254.0\n",
      "120.0\n",
      "0.0\n",
      "0.0\n",
      "0.0\n",
      "254.0\n",
      "0.0\n",
      "0.0\n",
      "227.0\n",
      "233.0\n",
      "252.0\n",
      "45.0\n",
      "0.0\n",
      "0.0\n",
      "0.0\n",
      "252.0\n",
      "0.0\n",
      "221.0\n",
      "0.0\n",
      "0.0\n",
      "34.0\n",
      "0.0\n",
      "0.0\n",
      "192.0\n",
      "0.0\n",
      "0.0\n",
      "0.0\n",
      "0.0\n",
      "157.0\n",
      "199.0\n",
      "0.0\n",
      "0.0\n",
      "0.0\n",
      "0.0\n",
      "253.0\n",
      "0.0\n",
      "0.0\n",
      "251.0\n",
      "253.0\n",
      "0.0\n",
      "12.0\n",
      "235.0\n",
      "30.0\n",
      "0.0\n",
      "0.0\n",
      "252.0\n",
      "40.0\n",
      "253.0\n",
      "0.0\n",
      "0.0\n",
      "16.0\n",
      "0.0\n",
      "0.0\n",
      "0.0\n",
      "255.0\n",
      "27.0\n",
      "0.0\n",
      "0.0\n",
      "253.0\n",
      "0.0\n",
      "0.0\n",
      "0.0\n",
      "0.0\n",
      "0.0\n",
      "0.0\n",
      "24.0\n",
      "0.0\n",
      "0.0\n",
      "128.0\n",
      "191.0\n",
      "36.0\n",
      "255.0\n",
      "253.0\n",
      "108.0\n",
      "0.0\n",
      "253.0\n",
      "0.0\n",
      "254.0\n",
      "0.0\n",
      "0.0\n",
      "0.0\n",
      "0.0\n",
      "0.0\n",
      "0.0\n",
      "51.0\n",
      "17.0\n",
      "253.0\n",
      "253.0\n",
      "0.0\n",
      "242.0\n",
      "0.0\n",
      "253.0\n",
      "0.0\n",
      "32.0\n",
      "0.0\n",
      "228.0\n",
      "252.0\n",
      "252.0\n",
      "253.0\n",
      "244.0\n",
      "253.0\n",
      "253.0\n",
      "254.0\n",
      "255.0\n",
      "0.0\n",
      "253.0\n",
      "254.0\n",
      "171.0\n",
      "0.0\n",
      "0.0\n",
      "0.0\n",
      "140.0\n",
      "169.0\n",
      "252.0\n",
      "20.0\n",
      "0.0\n",
      "0.0\n",
      "253.0\n",
      "212.0\n",
      "249.0\n",
      "0.0\n",
      "250.0\n",
      "79.0\n",
      "253.0\n",
      "0.0\n",
      "204.0\n",
      "0.0\n",
      "0.0\n",
      "0.0\n",
      "0.0\n",
      "171.0\n",
      "193.0\n",
      "0.0\n",
      "0.0\n",
      "238.0\n",
      "253.0\n",
      "2.0\n",
      "0.0\n",
      "254.0\n",
      "188.0\n",
      "0.0\n",
      "158.0\n",
      "0.0\n",
      "0.0\n",
      "0.0\n",
      "234.0\n",
      "0.0\n",
      "254.0\n",
      "0.0\n",
      "61.0\n",
      "0.0\n",
      "0.0\n",
      "253.0\n",
      "42.0\n",
      "0.0\n",
      "0.0\n",
      "0.0\n",
      "219.0\n",
      "0.0\n",
      "0.0\n",
      "0.0\n",
      "254.0\n",
      "0.0\n",
      "0.0\n",
      "0.0\n",
      "52.0\n",
      "0.0\n",
      "122.0\n",
      "0.0\n",
      "173.0\n",
      "0.0\n",
      "0.0\n",
      "0.0\n",
      "226.0\n",
      "0.0\n",
      "0.0\n",
      "0.0\n",
      "0.0\n",
      "199.0\n",
      "138.0\n",
      "0.0\n",
      "239.0\n",
      "0.0\n",
      "0.0\n",
      "0.0\n",
      "0.0\n",
      "67.0\n",
      "252.0\n",
      "71.0\n",
      "0.0\n",
      "0.0\n",
      "0.0\n",
      "0.0\n",
      "254.0\n",
      "0.0\n",
      "0.0\n",
      "0.0\n",
      "0.0\n",
      "92.0\n",
      "253.0\n",
      "0.0\n",
      "0.0\n",
      "254.0\n",
      "252.0\n",
      "0.0\n",
      "254.0\n",
      "0.0\n",
      "0.0\n",
      "134.0\n",
      "0.0\n",
      "64.0\n",
      "0.0\n",
      "0.0\n",
      "131.0\n",
      "10.0\n",
      "0.0\n",
      "253.0\n",
      "0.0\n",
      "0.0\n",
      "0.0\n",
      "0.0\n",
      "254.0\n",
      "0.0\n",
      "11.0\n",
      "0.0\n",
      "91.0\n",
      "253.0\n",
      "202.0\n",
      "0.0\n",
      "245.0\n",
      "0.0\n",
      "0.0\n",
      "0.0\n",
      "203.0\n",
      "253.0\n",
      "0.0\n",
      "130.0\n",
      "59.0\n",
      "255.0\n",
      "0.0\n",
      "0.0\n",
      "250.0\n",
      "0.0\n",
      "0.0\n",
      "251.0\n",
      "253.0\n",
      "253.0\n",
      "254.0\n",
      "255.0\n",
      "0.0\n",
      "20.0\n",
      "254.0\n",
      "0.0\n",
      "224.0\n",
      "93.0\n",
      "253.0\n",
      "0.0\n",
      "206.0\n",
      "184.0\n",
      "254.0\n",
      "252.0\n",
      "253.0\n",
      "252.0\n",
      "99.0\n",
      "128.0\n",
      "253.0\n",
      "0.0\n",
      "0.0\n",
      "54.0\n",
      "253.0\n",
      "0.0\n",
      "0.0\n",
      "0.0\n",
      "113.0\n",
      "255.0\n",
      "253.0\n",
      "64.0\n",
      "177.0\n",
      "76.0\n",
      "0.0\n",
      "0.0\n",
      "253.0\n",
      "0.0\n",
      "252.0\n",
      "246.0\n",
      "255.0\n",
      "204.0\n",
      "231.0\n",
      "0.0\n",
      "254.0\n",
      "253.0\n",
      "38.0\n",
      "254.0\n",
      "112.0\n",
      "39.0\n",
      "187.0\n",
      "197.0\n",
      "55.0\n",
      "253.0\n",
      "39.0\n",
      "76.0\n",
      "0.0\n",
      "252.0\n",
      "252.0\n",
      "0.0\n",
      "252.0\n",
      "0.0\n",
      "183.0\n",
      "132.0\n",
      "253.0\n",
      "252.0\n",
      "253.0\n",
      "254.0\n",
      "0.0\n",
      "0.0\n",
      "0.0\n",
      "0.0\n",
      "255.0\n",
      "254.0\n",
      "144.0\n",
      "253.0\n",
      "0.0\n",
      "0.0\n",
      "151.0\n",
      "253.0\n",
      "0.0\n",
      "0.0\n",
      "254.0\n",
      "0.0\n",
      "254.0\n",
      "0.0\n",
      "203.0\n",
      "0.0\n",
      "253.0\n",
      "0.0\n",
      "253.0\n",
      "0.0\n",
      "252.0\n",
      "255.0\n",
      "244.0\n",
      "0.0\n",
      "0.0\n",
      "253.0\n",
      "252.0\n",
      "9.0\n",
      "253.0\n",
      "252.0\n",
      "253.0\n",
      "252.0\n",
      "252.0\n",
      "252.0\n",
      "254.0\n",
      "253.0\n",
      "0.0\n",
      "0.0\n",
      "252.0\n",
      "253.0\n",
      "253.0\n",
      "0.0\n",
      "254.0\n",
      "34.0\n",
      "0.0\n",
      "252.0\n",
      "252.0\n",
      "0.0\n",
      "31.0\n",
      "254.0\n",
      "255.0\n",
      "254.0\n",
      "254.0\n",
      "255.0\n",
      "0.0\n",
      "253.0\n",
      "253.0\n",
      "254.0\n",
      "255.0\n",
      "252.0\n",
      "253.0\n",
      "0.0\n",
      "0.0\n",
      "253.0\n",
      "254.0\n",
      "253.0\n",
      "253.0\n",
      "208.0\n",
      "252.0\n",
      "254.0\n",
      "253.0\n",
      "228.0\n",
      "252.0\n",
      "0.0\n",
      "255.0\n",
      "252.0\n",
      "137.0\n",
      "255.0\n",
      "254.0\n",
      "75.0\n",
      "252.0\n",
      "254.0\n",
      "0.0\n",
      "253.0\n",
      "253.0\n",
      "175.0\n",
      "245.0\n",
      "246.0\n",
      "255.0\n",
      "253.0\n",
      "240.0\n",
      "0.0\n",
      "254.0\n",
      "253.0\n",
      "255.0\n",
      "252.0\n",
      "254.0\n",
      "253.0\n",
      "253.0\n",
      "246.0\n",
      "0.0\n",
      "230.0\n",
      "0.0\n",
      "254.0\n",
      "252.0\n",
      "0.0\n",
      "252.0\n",
      "0.0\n",
      "85.0\n",
      "0.0\n",
      "253.0\n",
      "0.0\n",
      "254.0\n",
      "73.0\n",
      "0.0\n",
      "0.0\n",
      "0.0\n",
      "0.0\n",
      "0.0\n",
      "255.0\n",
      "254.0\n",
      "0.0\n",
      "2.0\n",
      "242.0\n",
      "252.0\n",
      "254.0\n",
      "0.0\n",
      "253.0\n",
      "253.0\n",
      "136.0\n",
      "254.0\n",
      "0.0\n",
      "64.0\n",
      "0.0\n",
      "254.0\n",
      "245.0\n",
      "0.0\n",
      "254.0\n",
      "254.0\n",
      "253.0\n",
      "255.0\n",
      "252.0\n",
      "0.0\n",
      "0.0\n",
      "252.0\n",
      "254.0\n",
      "0.0\n",
      "202.0\n",
      "177.0\n",
      "0.0\n",
      "0.0\n",
      "252.0\n",
      "42.0\n",
      "0.0\n",
      "6.0\n",
      "254.0\n",
      "253.0\n",
      "253.0\n",
      "255.0\n",
      "0.0\n",
      "252.0\n",
      "0.0\n",
      "254.0\n",
      "122.0\n",
      "193.0\n",
      "0.0\n",
      "254.0\n",
      "0.0\n",
      "162.0\n",
      "42.0\n",
      "0.0\n",
      "148.0\n",
      "254.0\n",
      "0.0\n",
      "0.0\n",
      "252.0\n",
      "0.0\n",
      "0.0\n",
      "252.0\n",
      "8.0\n",
      "0.0\n",
      "86.0\n",
      "0.0\n",
      "254.0\n",
      "255.0\n",
      "0.0\n",
      "253.0\n",
      "0.0\n",
      "255.0\n",
      "125.0\n",
      "252.0\n",
      "0.0\n",
      "252.0\n",
      "0.0\n",
      "52.0\n",
      "34.0\n",
      "0.0\n",
      "254.0\n",
      "0.0\n",
      "114.0\n",
      "0.0\n",
      "138.0\n",
      "47.0\n",
      "207.0\n",
      "253.0\n",
      "232.0\n",
      "176.0\n",
      "253.0\n",
      "0.0\n",
      "240.0\n",
      "0.0\n",
      "0.0\n",
      "254.0\n",
      "0.0\n",
      "155.0\n",
      "253.0\n",
      "32.0\n",
      "0.0\n",
      "179.0\n",
      "0.0\n",
      "0.0\n",
      "253.0\n",
      "0.0\n",
      "226.0\n",
      "0.0\n",
      "133.0\n",
      "62.0\n",
      "63.0\n",
      "253.0\n",
      "230.0\n",
      "252.0\n",
      "253.0\n",
      "253.0\n",
      "196.0\n",
      "0.0\n",
      "0.0\n",
      "253.0\n",
      "0.0\n",
      "195.0\n",
      "252.0\n",
      "254.0\n",
      "41.0\n",
      "0.0\n",
      "0.0\n",
      "0.0\n",
      "223.0\n",
      "253.0\n",
      "253.0\n",
      "254.0\n",
      "253.0\n",
      "254.0\n",
      "254.0\n",
      "252.0\n",
      "81.0\n",
      "253.0\n",
      "0.0\n",
      "254.0\n",
      "233.0\n",
      "0.0\n",
      "0.0\n",
      "0.0\n",
      "253.0\n",
      "253.0\n",
      "0.0\n",
      "253.0\n",
      "253.0\n",
      "251.0\n",
      "253.0\n",
      "253.0\n",
      "0.0\n",
      "253.0\n",
      "0.0\n",
      "252.0\n",
      "255.0\n",
      "50.0\n",
      "253.0\n",
      "255.0\n",
      "0.0\n",
      "0.0\n",
      "12.0\n",
      "224.0\n",
      "0.0\n",
      "0.0\n",
      "0.0\n",
      "247.0\n",
      "254.0\n",
      "253.0\n",
      "0.0\n",
      "234.0\n",
      "254.0\n",
      "0.0\n",
      "57.0\n",
      "40.0\n",
      "0.0\n",
      "43.0\n",
      "0.0\n",
      "255.0\n",
      "0.0\n",
      "0.0\n",
      "0.0\n",
      "0.0\n",
      "0.0\n",
      "194.0\n",
      "5.0\n",
      "252.0\n",
      "253.0\n",
      "252.0\n",
      "254.0\n",
      "253.0\n",
      "252.0\n",
      "0.0\n",
      "70.0\n",
      "253.0\n",
      "253.0\n",
      "253.0\n",
      "64.0\n",
      "168.0\n",
      "252.0\n",
      "0.0\n",
      "0.0\n",
      "253.0\n",
      "0.0\n",
      "249.0\n",
      "252.0\n",
      "252.0\n",
      "253.0\n",
      "253.0\n",
      "0.0\n",
      "0.0\n",
      "253.0\n",
      "253.0\n",
      "212.0\n",
      "0.0\n",
      "252.0\n",
      "0.0\n",
      "214.0\n",
      "0.0\n",
      "198.0\n",
      "0.0\n",
      "252.0\n",
      "179.0\n",
      "191.0\n",
      "0.0\n",
      "199.0\n",
      "252.0\n",
      "0.0\n",
      "0.0\n",
      "0.0\n",
      "253.0\n",
      "67.0\n",
      "0.0\n",
      "180.0\n",
      "0.0\n",
      "250.0\n",
      "252.0\n",
      "189.0\n",
      "128.0\n",
      "0.0\n",
      "16.0\n",
      "0.0\n",
      "0.0\n",
      "254.0\n",
      "183.0\n",
      "0.0\n",
      "0.0\n",
      "252.0\n",
      "252.0\n",
      "0.0\n",
      "252.0\n",
      "252.0\n",
      "253.0\n",
      "252.0\n",
      "0.0\n",
      "239.0\n",
      "64.0\n",
      "0.0\n",
      "225.0\n",
      "252.0\n",
      "202.0\n",
      "0.0\n",
      "247.0\n",
      "0.0\n",
      "0.0\n",
      "0.0\n",
      "45.0\n",
      "0.0\n",
      "253.0\n",
      "0.0\n",
      "202.0\n",
      "255.0\n",
      "0.0\n",
      "0.0\n",
      "0.0\n",
      "69.0\n",
      "0.0\n",
      "240.0\n",
      "102.0\n",
      "253.0\n",
      "0.0\n",
      "61.0\n",
      "226.0\n",
      "97.0\n",
      "0.0\n",
      "0.0\n",
      "0.0\n",
      "0.0\n",
      "0.0\n",
      "253.0\n",
      "230.0\n",
      "47.0\n",
      "0.0\n",
      "0.0\n",
      "227.0\n",
      "0.0\n",
      "214.0\n",
      "20.0\n",
      "0.0\n",
      "239.0\n",
      "253.0\n",
      "0.0\n",
      "252.0\n",
      "0.0\n",
      "167.0\n",
      "252.0\n",
      "241.0\n",
      "138.0\n",
      "0.0\n",
      "0.0\n",
      "255.0\n",
      "0.0\n",
      "253.0\n",
      "29.0\n",
      "169.0\n",
      "0.0\n",
      "0.0\n",
      "0.0\n",
      "249.0\n",
      "100.0\n",
      "253.0\n",
      "254.0\n",
      "248.0\n",
      "253.0\n",
      "0.0\n",
      "0.0\n",
      "0.0\n",
      "0.0\n",
      "7.0\n",
      "0.0\n",
      "0.0\n",
      "253.0\n",
      "85.0\n",
      "38.0\n",
      "252.0\n",
      "174.0\n",
      "22.0\n",
      "253.0\n",
      "253.0\n",
      "195.0\n",
      "2.0\n",
      "0.0\n",
      "253.0\n",
      "0.0\n",
      "0.0\n",
      "253.0\n",
      "9.0\n",
      "0.0\n",
      "191.0\n",
      "0.0\n",
      "0.0\n",
      "0.0\n",
      "222.0\n",
      "255.0\n",
      "0.0\n",
      "253.0\n",
      "143.0\n",
      "0.0\n",
      "0.0\n",
      "0.0\n",
      "27.0\n",
      "116.0\n",
      "198.0\n",
      "0.0\n",
      "0.0\n",
      "201.0\n",
      "12.0\n",
      "0.0\n",
      "214.0\n",
      "255.0\n",
      "0.0\n",
      "252.0\n",
      "0.0\n",
      "6.0\n",
      "37.0\n",
      "0.0\n",
      "0.0\n",
      "0.0\n",
      "198.0\n",
      "17.0\n",
      "0.0\n",
      "253.0\n",
      "253.0\n",
      "0.0\n",
      "0.0\n",
      "253.0\n",
      "0.0\n",
      "0.0\n",
      "51.0\n",
      "253.0\n",
      "0.0\n",
      "253.0\n",
      "176.0\n",
      "0.0\n",
      "0.0\n",
      "0.0\n",
      "0.0\n",
      "58.0\n",
      "0.0\n",
      "0.0\n",
      "253.0\n",
      "0.0\n",
      "0.0\n",
      "0.0\n",
      "112.0\n",
      "64.0\n",
      "252.0\n",
      "0.0\n",
      "253.0\n",
      "249.0\n",
      "0.0\n",
      "16.0\n",
      "0.0\n",
      "0.0\n",
      "248.0\n",
      "0.0\n",
      "252.0\n",
      "254.0\n",
      "0.0\n",
      "149.0\n",
      "0.0\n",
      "0.0\n",
      "255.0\n",
      "253.0\n",
      "234.0\n",
      "253.0\n",
      "0.0\n",
      "252.0\n",
      "183.0\n",
      "129.0\n",
      "0.0\n",
      "253.0\n",
      "27.0\n",
      "0.0\n",
      "0.0\n",
      "181.0\n",
      "254.0\n",
      "15.0\n",
      "218.0\n",
      "0.0\n",
      "255.0\n",
      "0.0\n",
      "252.0\n",
      "253.0\n",
      "169.0\n",
      "0.0\n",
      "252.0\n",
      "253.0\n",
      "40.0\n",
      "0.0\n",
      "167.0\n",
      "253.0\n",
      "27.0\n",
      "252.0\n",
      "0.0\n",
      "37.0\n",
      "27.0\n",
      "0.0\n",
      "0.0\n",
      "192.0\n",
      "0.0\n",
      "0.0\n",
      "0.0\n",
      "63.0\n",
      "0.0\n",
      "0.0\n",
      "253.0\n",
      "255.0\n",
      "0.0\n",
      "236.0\n",
      "31.0\n",
      "19.0\n",
      "0.0\n",
      "2.0\n",
      "246.0\n",
      "0.0\n",
      "128.0\n",
      "0.0\n",
      "254.0\n",
      "253.0\n",
      "0.0\n",
      "253.0\n",
      "255.0\n",
      "0.0\n",
      "212.0\n",
      "182.0\n",
      "87.0\n",
      "0.0\n",
      "0.0\n",
      "193.0\n",
      "191.0\n",
      "254.0\n",
      "0.0\n",
      "253.0\n",
      "0.0\n",
      "253.0\n",
      "252.0\n",
      "129.0\n",
      "0.0\n",
      "0.0\n",
      "88.0\n",
      "128.0\n",
      "254.0\n",
      "123.0\n",
      "253.0\n",
      "0.0\n",
      "0.0\n",
      "0.0\n",
      "0.0\n",
      "0.0\n",
      "253.0\n",
      "11.0\n",
      "0.0\n",
      "68.0\n",
      "0.0\n",
      "105.0\n",
      "0.0\n",
      "0.0\n",
      "253.0\n",
      "243.0\n",
      "183.0\n",
      "0.0\n",
      "75.0\n",
      "95.0\n",
      "0.0\n",
      "189.0\n",
      "0.0\n",
      "253.0\n",
      "0.0\n",
      "0.0\n",
      "253.0\n",
      "177.0\n",
      "0.0\n",
      "0.0\n",
      "226.0\n",
      "0.0\n",
      "31.0\n",
      "0.0\n",
      "207.0\n",
      "191.0\n",
      "0.0\n",
      "93.0\n",
      "254.0\n",
      "231.0\n",
      "249.0\n",
      "0.0\n",
      "0.0\n",
      "161.0\n",
      "0.0\n",
      "233.0\n",
      "244.0\n",
      "0.0\n",
      "253.0\n",
      "163.0\n",
      "0.0\n",
      "253.0\n",
      "0.0\n",
      "226.0\n",
      "0.0\n",
      "253.0\n",
      "244.0\n",
      "0.0\n",
      "0.0\n",
      "253.0\n",
      "160.0\n",
      "0.0\n",
      "252.0\n",
      "252.0\n",
      "128.0\n",
      "215.0\n",
      "0.0\n",
      "252.0\n",
      "253.0\n",
      "20.0\n",
      "253.0\n",
      "253.0\n",
      "0.0\n",
      "253.0\n",
      "252.0\n",
      "0.0\n",
      "254.0\n",
      "254.0\n",
      "195.0\n",
      "252.0\n",
      "253.0\n",
      "0.0\n",
      "41.0\n",
      "150.0\n",
      "0.0\n",
      "192.0\n",
      "0.0\n",
      "190.0\n",
      "252.0\n",
      "0.0\n",
      "253.0\n",
      "140.0\n",
      "0.0\n",
      "0.0\n",
      "253.0\n",
      "244.0\n",
      "0.0\n",
      "0.0\n",
      "255.0\n",
      "0.0\n",
      "254.0\n",
      "0.0\n",
      "253.0\n",
      "253.0\n",
      "253.0\n",
      "0.0\n",
      "253.0\n",
      "252.0\n",
      "253.0\n",
      "253.0\n",
      "76.0\n",
      "255.0\n",
      "255.0\n",
      "254.0\n",
      "160.0\n",
      "252.0\n",
      "252.0\n",
      "0.0\n",
      "0.0\n",
      "252.0\n",
      "254.0\n",
      "253.0\n",
      "0.0\n",
      "72.0\n",
      "253.0\n",
      "252.0\n",
      "0.0\n",
      "0.0\n",
      "0.0\n",
      "0.0\n",
      "198.0\n",
      "57.0\n",
      "0.0\n",
      "0.0\n",
      "187.0\n",
      "146.0\n",
      "0.0\n",
      "0.0\n",
      "0.0\n",
      "0.0\n",
      "128.0\n",
      "0.0\n",
      "0.0\n",
      "253.0\n",
      "253.0\n",
      "253.0\n",
      "0.0\n",
      "253.0\n",
      "128.0\n",
      "252.0\n",
      "252.0\n",
      "171.0\n",
      "252.0\n",
      "0.0\n",
      "0.0\n",
      "0.0\n",
      "0.0\n",
      "254.0\n",
      "0.0\n",
      "0.0\n",
      "32.0\n",
      "0.0\n",
      "13.0\n",
      "0.0\n",
      "204.0\n",
      "0.0\n",
      "0.0\n",
      "0.0\n",
      "255.0\n",
      "253.0\n",
      "0.0\n",
      "28.0\n",
      "43.0\n",
      "0.0\n",
      "129.0\n",
      "254.0\n",
      "0.0\n",
      "0.0\n",
      "205.0\n",
      "191.0\n",
      "25.0\n",
      "0.0\n",
      "175.0\n",
      "0.0\n",
      "0.0\n",
      "254.0\n",
      "0.0\n",
      "42.0\n",
      "252.0\n",
      "141.0\n",
      "0.0\n",
      "0.0\n",
      "229.0\n",
      "0.0\n",
      "0.0\n",
      "205.0\n",
      "0.0\n",
      "0.0\n",
      "81.0\n",
      "0.0\n",
      "51.0\n",
      "186.0\n",
      "253.0\n",
      "49.0\n",
      "0.0\n",
      "80.0\n",
      "0.0\n",
      "0.0\n",
      "0.0\n",
      "0.0\n",
      "0.0\n",
      "203.0\n",
      "0.0\n",
      "0.0\n",
      "0.0\n",
      "243.0\n",
      "0.0\n",
      "57.0\n",
      "0.0\n",
      "51.0\n",
      "19.0\n",
      "50.0\n",
      "0.0\n",
      "252.0\n",
      "0.0\n",
      "35.0\n",
      "255.0\n",
      "0.0\n",
      "28.0\n",
      "57.0\n",
      "0.0\n",
      "139.0\n",
      "0.0\n",
      "0.0\n",
      "60.0\n",
      "137.0\n",
      "174.0\n",
      "0.0\n",
      "0.0\n",
      "0.0\n",
      "0.0\n",
      "0.0\n",
      "0.0\n",
      "0.0\n",
      "159.0\n",
      "0.0\n",
      "0.0\n",
      "0.0\n",
      "35.0\n",
      "104.0\n",
      "0.0\n",
      "253.0\n",
      "0.0\n",
      "238.0\n",
      "253.0\n",
      "203.0\n",
      "0.0\n",
      "0.0\n",
      "0.0\n",
      "255.0\n",
      "0.0\n",
      "252.0\n",
      "0.0\n",
      "252.0\n",
      "0.0\n",
      "0.0\n",
      "175.0\n",
      "0.0\n",
      "0.0\n",
      "253.0\n",
      "252.0\n",
      "253.0\n",
      "0.0\n",
      "1.0\n",
      "0.0\n",
      "105.0\n",
      "253.0\n",
      "254.0\n",
      "254.0\n",
      "253.0\n",
      "253.0\n",
      "0.0\n",
      "252.0\n",
      "227.0\n",
      "0.0\n",
      "0.0\n",
      "40.0\n",
      "253.0\n",
      "173.0\n",
      "8.0\n",
      "0.0\n",
      "169.0\n",
      "253.0\n",
      "32.0\n",
      "247.0\n",
      "21.0\n",
      "0.0\n",
      "14.0\n",
      "253.0\n",
      "254.0\n",
      "253.0\n",
      "136.0\n",
      "46.0\n",
      "72.0\n",
      "0.0\n",
      "0.0\n",
      "83.0\n",
      "0.0\n",
      "153.0\n",
      "254.0\n",
      "255.0\n",
      "253.0\n",
      "0.0\n",
      "0.0\n",
      "169.0\n",
      "254.0\n",
      "255.0\n",
      "0.0\n",
      "120.0\n",
      "45.0\n",
      "0.0\n",
      "0.0\n",
      "0.0\n",
      "0.0\n",
      "253.0\n",
      "226.0\n",
      "111.0\n",
      "253.0\n",
      "253.0\n",
      "0.0\n",
      "0.0\n",
      "253.0\n",
      "89.0\n",
      "0.0\n",
      "89.0\n",
      "0.0\n",
      "0.0\n",
      "236.0\n",
      "0.0\n",
      "0.0\n",
      "0.0\n",
      "0.0\n",
      "245.0\n",
      "0.0\n",
      "0.0\n",
      "255.0\n",
      "122.0\n",
      "0.0\n",
      "253.0\n",
      "31.0\n",
      "0.0\n",
      "73.0\n",
      "0.0\n",
      "254.0\n",
      "0.0\n",
      "144.0\n",
      "253.0\n",
      "64.0\n",
      "0.0\n",
      "248.0\n",
      "0.0\n",
      "0.0\n",
      "0.0\n",
      "0.0\n",
      "231.0\n",
      "253.0\n",
      "129.0\n",
      "254.0\n",
      "253.0\n",
      "139.0\n",
      "0.0\n",
      "253.0\n",
      "9.0\n",
      "253.0\n",
      "254.0\n",
      "0.0\n",
      "0.0\n",
      "254.0\n",
      "124.0\n",
      "0.0\n",
      "0.0\n",
      "0.0\n",
      "156.0\n",
      "232.0\n",
      "253.0\n",
      "115.0\n",
      "34.0\n",
      "29.0\n",
      "254.0\n",
      "253.0\n",
      "254.0\n",
      "172.0\n",
      "252.0\n",
      "13.0\n",
      "115.0\n",
      "184.0\n",
      "0.0\n",
      "245.0\n",
      "0.0\n",
      "0.0\n",
      "0.0\n",
      "0.0\n",
      "53.0\n",
      "0.0\n",
      "0.0\n",
      "254.0\n",
      "253.0\n",
      "110.0\n",
      "192.0\n",
      "254.0\n",
      "0.0\n",
      "0.0\n",
      "0.0\n",
      "200.0\n",
      "255.0\n",
      "0.0\n",
      "0.0\n",
      "231.0\n",
      "253.0\n",
      "0.0\n",
      "0.0\n",
      "240.0\n",
      "0.0\n",
      "231.0\n",
      "231.0\n",
      "121.0\n",
      "0.0\n",
      "59.0\n",
      "0.0\n",
      "253.0\n",
      "0.0\n",
      "207.0\n",
      "162.0\n",
      "0.0\n",
      "0.0\n",
      "252.0\n",
      "249.0\n",
      "0.0\n",
      "253.0\n",
      "246.0\n",
      "0.0\n",
      "229.0\n",
      "254.0\n",
      "0.0\n",
      "122.0\n",
      "233.0\n",
      "0.0\n",
      "253.0\n",
      "20.0\n",
      "13.0\n",
      "0.0\n",
      "255.0\n",
      "0.0\n",
      "252.0\n",
      "254.0\n",
      "236.0\n",
      "0.0\n",
      "254.0\n",
      "0.0\n",
      "0.0\n",
      "206.0\n",
      "254.0\n",
      "254.0\n",
      "0.0\n",
      "0.0\n",
      "0.0\n",
      "0.0\n",
      "0.0\n",
      "0.0\n",
      "0.0\n",
      "0.0\n",
      "120.0\n",
      "253.0\n",
      "0.0\n",
      "0.0\n",
      "37.0\n",
      "255.0\n",
      "6.0\n",
      "0.0\n",
      "0.0\n",
      "0.0\n",
      "253.0\n",
      "0.0\n",
      "95.0\n",
      "0.0\n",
      "0.0\n",
      "185.0\n",
      "0.0\n",
      "0.0\n",
      "0.0\n",
      "253.0\n",
      "254.0\n",
      "254.0\n",
      "253.0\n",
      "252.0\n",
      "254.0\n",
      "83.0\n",
      "254.0\n",
      "0.0\n",
      "0.0\n",
      "197.0\n",
      "73.0\n",
      "165.0\n",
      "176.0\n",
      "222.0\n",
      "0.0\n",
      "240.0\n",
      "253.0\n",
      "253.0\n",
      "84.0\n",
      "0.0\n",
      "34.0\n",
      "0.0\n",
      "253.0\n",
      "252.0\n",
      "0.0\n",
      "0.0\n",
      "0.0\n",
      "0.0\n",
      "0.0\n",
      "252.0\n",
      "128.0\n",
      "0.0\n",
      "253.0\n",
      "253.0\n",
      "253.0\n",
      "0.0\n",
      "0.0\n",
      "0.0\n",
      "81.0\n",
      "0.0\n",
      "0.0\n",
      "0.0\n",
      "135.0\n",
      "252.0\n",
      "239.0\n",
      "255.0\n",
      "0.0\n",
      "184.0\n",
      "253.0\n",
      "0.0\n",
      "185.0\n",
      "236.0\n",
      "0.0\n",
      "0.0\n",
      "153.0\n",
      "0.0\n",
      "252.0\n",
      "253.0\n",
      "253.0\n",
      "253.0\n",
      "253.0\n",
      "11.0\n",
      "0.0\n",
      "212.0\n",
      "179.0\n",
      "0.0\n",
      "0.0\n",
      "252.0\n",
      "121.0\n",
      "0.0\n",
      "255.0\n",
      "0.0\n",
      "66.0\n",
      "248.0\n",
      "255.0\n",
      "0.0\n",
      "0.0\n",
      "0.0\n",
      "202.0\n",
      "252.0\n",
      "0.0\n",
      "252.0\n",
      "0.0\n",
      "0.0\n",
      "204.0\n",
      "0.0\n",
      "11.0\n",
      "6.0\n",
      "0.0\n",
      "165.0\n",
      "0.0\n",
      "0.0\n",
      "254.0\n",
      "0.0\n",
      "253.0\n",
      "0.0\n",
      "173.0\n",
      "253.0\n",
      "254.0\n",
      "0.0\n",
      "28.0\n",
      "0.0\n",
      "0.0\n",
      "0.0\n",
      "0.0\n",
      "178.0\n",
      "0.0\n",
      "253.0\n",
      "253.0\n",
      "232.0\n",
      "253.0\n",
      "0.0\n",
      "0.0\n",
      "0.0\n",
      "236.0\n",
      "64.0\n",
      "254.0\n",
      "0.0\n",
      "0.0\n",
      "0.0\n",
      "252.0\n",
      "253.0\n",
      "0.0\n",
      "254.0\n",
      "230.0\n",
      "253.0\n",
      "183.0\n",
      "0.0\n",
      "253.0\n",
      "31.0\n",
      "114.0\n",
      "253.0\n",
      "0.0\n",
      "0.0\n",
      "0.0\n",
      "0.0\n",
      "94.0\n",
      "0.0\n",
      "0.0\n",
      "88.0\n",
      "253.0\n",
      "0.0\n",
      "253.0\n",
      "0.0\n",
      "0.0\n",
      "0.0\n",
      "252.0\n",
      "183.0\n",
      "0.0\n",
      "254.0\n",
      "181.0\n",
      "0.0\n",
      "0.0\n",
      "255.0\n",
      "250.0\n",
      "252.0\n",
      "254.0\n",
      "0.0\n",
      "252.0\n",
      "0.0\n",
      "253.0\n",
      "0.0\n",
      "113.0\n",
      "0.0\n",
      "32.0\n",
      "0.0\n",
      "253.0\n",
      "0.0\n",
      "0.0\n",
      "253.0\n",
      "252.0\n",
      "252.0\n",
      "253.0\n",
      "0.0\n",
      "252.0\n",
      "0.0\n",
      "253.0\n",
      "0.0\n",
      "253.0\n",
      "0.0\n",
      "253.0\n",
      "0.0\n",
      "0.0\n",
      "27.0\n",
      "254.0\n",
      "253.0\n",
      "9.0\n",
      "147.0\n",
      "54.0\n",
      "254.0\n",
      "167.0\n",
      "165.0\n",
      "0.0\n",
      "254.0\n",
      "0.0\n",
      "0.0\n",
      "0.0\n",
      "255.0\n",
      "253.0\n",
      "0.0\n",
      "253.0\n",
      "252.0\n",
      "22.0\n",
      "185.0\n",
      "189.0\n",
      "0.0\n",
      "207.0\n",
      "253.0\n",
      "212.0\n",
      "236.0\n",
      "254.0\n",
      "253.0\n",
      "0.0\n",
      "252.0\n",
      "253.0\n",
      "253.0\n",
      "0.0\n",
      "29.0\n",
      "253.0\n",
      "29.0\n",
      "0.0\n",
      "0.0\n",
      "0.0\n",
      "0.0\n",
      "247.0\n",
      "98.0\n",
      "135.0\n",
      "39.0\n",
      "253.0\n",
      "213.0\n",
      "254.0\n",
      "253.0\n",
      "0.0\n",
      "65.0\n",
      "233.0\n",
      "254.0\n",
      "216.0\n",
      "123.0\n",
      "0.0\n",
      "0.0\n",
      "109.0\n",
      "253.0\n",
      "0.0\n",
      "0.0\n",
      "177.0\n",
      "255.0\n",
      "0.0\n",
      "247.0\n",
      "253.0\n",
      "59.0\n",
      "0.0\n",
      "5.0\n",
      "0.0\n",
      "0.0\n",
      "0.0\n",
      "0.0\n",
      "63.0\n",
      "0.0\n",
      "4.0\n",
      "252.0\n",
      "254.0\n",
      "77.0\n",
      "0.0\n",
      "255.0\n",
      "252.0\n",
      "118.0\n",
      "252.0\n",
      "53.0\n",
      "196.0\n",
      "0.0\n",
      "252.0\n",
      "253.0\n",
      "240.0\n",
      "0.0\n",
      "16.0\n",
      "254.0\n",
      "0.0\n",
      "253.0\n",
      "252.0\n",
      "0.0\n",
      "0.0\n",
      "0.0\n",
      "144.0\n",
      "0.0\n",
      "243.0\n",
      "26.0\n",
      "254.0\n",
      "0.0\n",
      "254.0\n",
      "175.0\n",
      "254.0\n",
      "157.0\n",
      "0.0\n",
      "11.0\n",
      "0.0\n",
      "253.0\n",
      "0.0\n",
      "0.0\n",
      "0.0\n",
      "192.0\n",
      "48.0\n",
      "252.0\n",
      "255.0\n",
      "253.0\n",
      "195.0\n",
      "253.0\n",
      "102.0\n",
      "13.0\n",
      "251.0\n",
      "1.0\n",
      "180.0\n",
      "246.0\n",
      "253.0\n",
      "254.0\n",
      "14.0\n",
      "226.0\n",
      "252.0\n",
      "34.0\n",
      "254.0\n",
      "89.0\n",
      "126.0\n",
      "64.0\n",
      "0.0\n",
      "0.0\n",
      "253.0\n",
      "6.0\n",
      "0.0\n",
      "252.0\n",
      "169.0\n",
      "0.0\n",
      "0.0\n",
      "143.0\n",
      "222.0\n",
      "254.0\n",
      "0.0\n",
      "0.0\n",
      "254.0\n",
      "252.0\n",
      "0.0\n",
      "76.0\n",
      "115.0\n",
      "0.0\n",
      "7.0\n",
      "0.0\n",
      "252.0\n",
      "195.0\n",
      "0.0\n",
      "0.0\n",
      "32.0\n",
      "184.0\n",
      "175.0\n",
      "0.0\n",
      "0.0\n",
      "248.0\n",
      "0.0\n",
      "106.0\n",
      "0.0\n",
      "241.0\n",
      "0.0\n",
      "253.0\n",
      "234.0\n",
      "253.0\n",
      "148.0\n",
      "252.0\n",
      "0.0\n",
      "252.0\n",
      "68.0\n",
      "0.0\n",
      "0.0\n",
      "0.0\n",
      "0.0\n",
      "0.0\n",
      "7.0\n",
      "144.0\n",
      "0.0\n",
      "0.0\n",
      "0.0\n",
      "0.0\n",
      "0.0\n",
      "254.0\n",
      "0.0\n",
      "254.0\n",
      "23.0\n",
      "218.0\n",
      "0.0\n",
      "0.0\n",
      "213.0\n",
      "0.0\n",
      "253.0\n",
      "49.0\n",
      "254.0\n",
      "0.0\n",
      "175.0\n",
      "0.0\n",
      "93.0\n",
      "105.0\n",
      "153.0\n",
      "0.0\n",
      "20.0\n",
      "254.0\n",
      "0.0\n",
      "254.0\n",
      "253.0\n",
      "0.0\n",
      "0.0\n",
      "0.0\n",
      "0.0\n",
      "0.0\n",
      "90.0\n",
      "253.0\n",
      "0.0\n",
      "255.0\n",
      "238.0\n",
      "158.0\n",
      "12.0\n",
      "0.0\n",
      "0.0\n",
      "0.0\n",
      "0.0\n",
      "252.0\n",
      "253.0\n",
      "252.0\n",
      "0.0\n",
      "248.0\n",
      "68.0\n",
      "253.0\n",
      "252.0\n",
      "0.0\n",
      "225.0\n",
      "0.0\n",
      "254.0\n",
      "0.0\n",
      "0.0\n",
      "0.0\n",
      "0.0\n",
      "0.0\n",
      "0.0\n",
      "250.0\n",
      "0.0\n",
      "108.0\n",
      "0.0\n",
      "0.0\n",
      "0.0\n",
      "0.0\n",
      "0.0\n",
      "253.0\n",
      "244.0\n",
      "0.0\n",
      "254.0\n",
      "254.0\n",
      "0.0\n",
      "254.0\n",
      "0.0\n",
      "0.0\n",
      "60.0\n",
      "0.0\n",
      "180.0\n",
      "196.0\n",
      "0.0\n",
      "188.0\n",
      "0.0\n",
      "52.0\n",
      "0.0\n",
      "113.0\n",
      "254.0\n",
      "0.0\n",
      "255.0\n",
      "90.0\n",
      "0.0\n",
      "0.0\n",
      "0.0\n",
      "252.0\n",
      "0.0\n",
      "253.0\n",
      "253.0\n",
      "253.0\n",
      "252.0\n",
      "46.0\n",
      "192.0\n",
      "0.0\n",
      "0.0\n",
      "0.0\n",
      "139.0\n",
      "253.0\n",
      "200.0\n",
      "115.0\n",
      "0.0\n",
      "0.0\n",
      "254.0\n",
      "4.0\n",
      "0.0\n",
      "190.0\n",
      "255.0\n",
      "0.0\n",
      "2.0\n",
      "0.0\n",
      "160.0\n",
      "0.0\n",
      "0.0\n",
      "252.0\n",
      "240.0\n",
      "223.0\n",
      "0.0\n",
      "0.0\n",
      "253.0\n",
      "8.0\n",
      "19.0\n",
      "253.0\n",
      "0.0\n",
      "253.0\n",
      "234.0\n",
      "0.0\n",
      "0.0\n",
      "224.0\n",
      "253.0\n",
      "0.0\n",
      "255.0\n",
      "0.0\n",
      "0.0\n",
      "253.0\n",
      "191.0\n",
      "252.0\n",
      "0.0\n",
      "7.0\n",
      "5.0\n",
      "253.0\n",
      "0.0\n",
      "253.0\n",
      "252.0\n",
      "0.0\n",
      "233.0\n",
      "253.0\n",
      "0.0\n",
      "0.0\n",
      "0.0\n",
      "253.0\n",
      "0.0\n",
      "109.0\n",
      "74.0\n",
      "53.0\n",
      "0.0\n",
      "0.0\n",
      "255.0\n",
      "254.0\n",
      "254.0\n",
      "195.0\n",
      "0.0\n",
      "0.0\n",
      "146.0\n",
      "0.0\n",
      "121.0\n",
      "254.0\n",
      "0.0\n",
      "57.0\n",
      "254.0\n",
      "233.0\n",
      "38.0\n",
      "134.0\n",
      "0.0\n",
      "0.0\n",
      "0.0\n",
      "0.0\n",
      "0.0\n",
      "252.0\n",
      "253.0\n",
      "0.0\n",
      "0.0\n",
      "0.0\n",
      "17.0\n",
      "0.0\n",
      "0.0\n",
      "252.0\n",
      "255.0\n",
      "0.0\n",
      "0.0\n",
      "0.0\n",
      "0.0\n",
      "252.0\n",
      "0.0\n",
      "0.0\n",
      "162.0\n",
      "253.0\n",
      "253.0\n",
      "215.0\n",
      "139.0\n",
      "0.0\n",
      "0.0\n",
      "0.0\n",
      "0.0\n",
      "0.0\n",
      "0.0\n",
      "0.0\n",
      "253.0\n",
      "252.0\n",
      "0.0\n",
      "0.0\n",
      "0.0\n",
      "32.0\n",
      "0.0\n",
      "0.0\n",
      "186.0\n",
      "0.0\n",
      "0.0\n",
      "0.0\n",
      "0.0\n",
      "0.0\n",
      "0.0\n",
      "113.0\n",
      "252.0\n",
      "0.0\n",
      "25.0\n",
      "0.0\n",
      "254.0\n",
      "253.0\n",
      "0.0\n",
      "0.0\n",
      "12.0\n",
      "0.0\n",
      "252.0\n",
      "0.0\n",
      "0.0\n",
      "251.0\n",
      "0.0\n",
      "253.0\n",
      "0.0\n",
      "0.0\n",
      "253.0\n",
      "37.0\n",
      "71.0\n",
      "0.0\n",
      "0.0\n",
      "0.0\n",
      "0.0\n",
      "191.0\n",
      "189.0\n",
      "0.0\n",
      "0.0\n",
      "0.0\n",
      "252.0\n",
      "221.0\n",
      "0.0\n",
      "0.0\n",
      "143.0\n",
      "253.0\n",
      "253.0\n",
      "231.0\n",
      "231.0\n",
      "254.0\n",
      "160.0\n",
      "10.0\n",
      "40.0\n",
      "0.0\n",
      "31.0\n",
      "0.0\n",
      "0.0\n",
      "141.0\n",
      "253.0\n",
      "0.0\n",
      "253.0\n",
      "245.0\n",
      "0.0\n",
      "10.0\n",
      "0.0\n",
      "0.0\n",
      "0.0\n",
      "0.0\n",
      "13.0\n",
      "0.0\n",
      "0.0\n",
      "0.0\n",
      "0.0\n",
      "252.0\n",
      "0.0\n",
      "254.0\n",
      "255.0\n",
      "109.0\n",
      "0.0\n",
      "0.0\n",
      "0.0\n",
      "0.0\n",
      "252.0\n",
      "252.0\n",
      "252.0\n",
      "0.0\n",
      "154.0\n",
      "172.0\n",
      "0.0\n",
      "253.0\n",
      "253.0\n",
      "0.0\n",
      "252.0\n",
      "0.0\n",
      "0.0\n",
      "0.0\n",
      "0.0\n",
      "0.0\n",
      "0.0\n",
      "59.0\n",
      "253.0\n",
      "253.0\n",
      "0.0\n",
      "253.0\n",
      "197.0\n",
      "0.0\n",
      "0.0\n",
      "0.0\n",
      "253.0\n",
      "107.0\n",
      "0.0\n",
      "253.0\n",
      "0.0\n",
      "56.0\n",
      "0.0\n",
      "254.0\n",
      "0.0\n",
      "0.0\n",
      "49.0\n",
      "130.0\n",
      "253.0\n",
      "94.0\n",
      "0.0\n",
      "204.0\n",
      "14.0\n",
      "228.0\n",
      "16.0\n",
      "17.0\n",
      "0.0\n",
      "0.0\n",
      "140.0\n",
      "0.0\n",
      "0.0\n",
      "254.0\n",
      "0.0\n",
      "254.0\n",
      "0.0\n",
      "17.0\n",
      "0.0\n",
      "253.0\n",
      "0.0\n",
      "0.0\n",
      "0.0\n",
      "116.0\n",
      "254.0\n",
      "253.0\n",
      "143.0\n",
      "0.0\n",
      "0.0\n",
      "0.0\n",
      "18.0\n",
      "0.0\n",
      "0.0\n",
      "0.0\n",
      "0.0\n",
      "0.0\n",
      "0.0\n",
      "50.0\n",
      "0.0\n",
      "10.0\n",
      "255.0\n",
      "254.0\n",
      "212.0\n",
      "98.0\n",
      "0.0\n",
      "25.0\n",
      "0.0\n",
      "252.0\n",
      "255.0\n",
      "254.0\n",
      "253.0\n",
      "254.0\n",
      "0.0\n",
      "0.0\n",
      "12.0\n",
      "4.0\n",
      "0.0\n",
      "193.0\n",
      "0.0\n",
      "0.0\n",
      "0.0\n",
      "0.0\n",
      "0.0\n",
      "254.0\n",
      "231.0\n",
      "254.0\n",
      "0.0\n",
      "86.0\n",
      "253.0\n",
      "58.0\n",
      "0.0\n",
      "0.0\n",
      "22.0\n",
      "170.0\n",
      "218.0\n",
      "0.0\n",
      "0.0\n",
      "3.0\n",
      "0.0\n",
      "253.0\n",
      "201.0\n",
      "62.0\n",
      "0.0\n",
      "252.0\n",
      "0.0\n",
      "12.0\n",
      "226.0\n",
      "163.0\n",
      "255.0\n",
      "255.0\n",
      "252.0\n",
      "253.0\n",
      "86.0\n",
      "0.0\n",
      "255.0\n",
      "148.0\n",
      "0.0\n",
      "254.0\n",
      "233.0\n",
      "0.0\n",
      "253.0\n",
      "0.0\n",
      "0.0\n",
      "255.0\n",
      "213.0\n",
      "218.0\n",
      "0.0\n",
      "0.0\n",
      "3.0\n",
      "0.0\n",
      "68.0\n",
      "253.0\n",
      "195.0\n",
      "206.0\n",
      "0.0\n",
      "0.0\n",
      "226.0\n",
      "0.0\n",
      "0.0\n",
      "31.0\n",
      "52.0\n",
      "0.0\n",
      "0.0\n",
      "253.0\n",
      "0.0\n",
      "34.0\n",
      "0.0\n",
      "0.0\n",
      "0.0\n",
      "0.0\n",
      "0.0\n",
      "198.0\n",
      "254.0\n",
      "0.0\n",
      "0.0\n",
      "0.0\n",
      "0.0\n",
      "0.0\n",
      "0.0\n",
      "254.0\n",
      "247.0\n",
      "228.0\n",
      "163.0\n",
      "0.0\n",
      "233.0\n",
      "103.0\n",
      "211.0\n",
      "0.0\n",
      "0.0\n",
      "0.0\n",
      "0.0\n",
      "0.0\n",
      "249.0\n",
      "0.0\n",
      "207.0\n",
      "0.0\n",
      "31.0\n",
      "254.0\n",
      "0.0\n",
      "253.0\n",
      "82.0\n",
      "18.0\n",
      "0.0\n",
      "254.0\n",
      "254.0\n",
      "252.0\n",
      "111.0\n",
      "114.0\n",
      "0.0\n",
      "0.0\n",
      "0.0\n",
      "254.0\n",
      "0.0\n",
      "226.0\n",
      "0.0\n",
      "253.0\n",
      "200.0\n",
      "128.0\n",
      "248.0\n",
      "0.0\n",
      "0.0\n",
      "254.0\n",
      "121.0\n",
      "253.0\n",
      "14.0\n",
      "0.0\n",
      "0.0\n",
      "254.0\n",
      "0.0\n",
      "113.0\n",
      "0.0\n",
      "0.0\n",
      "142.0\n",
      "0.0\n",
      "0.0\n",
      "0.0\n",
      "253.0\n",
      "0.0\n",
      "253.0\n",
      "0.0\n",
      "0.0\n",
      "0.0\n",
      "253.0\n",
      "0.0\n",
      "0.0\n",
      "253.0\n",
      "0.0\n",
      "0.0\n",
      "235.0\n",
      "254.0\n",
      "254.0\n",
      "81.0\n",
      "163.0\n",
      "0.0\n",
      "254.0\n",
      "177.0\n",
      "65.0\n",
      "0.0\n",
      "0.0\n",
      "0.0\n",
      "255.0\n",
      "253.0\n",
      "0.0\n",
      "25.0\n",
      "0.0\n",
      "225.0\n",
      "28.0\n",
      "0.0\n",
      "108.0\n",
      "0.0\n",
      "0.0\n",
      "254.0\n",
      "0.0\n",
      "34.0\n",
      "232.0\n",
      "0.0\n",
      "214.0\n",
      "254.0\n",
      "0.0\n",
      "253.0\n",
      "0.0\n",
      "42.0\n",
      "254.0\n",
      "0.0\n",
      "87.0\n",
      "20.0\n",
      "0.0\n",
      "204.0\n",
      "0.0\n",
      "0.0\n",
      "0.0\n",
      "0.0\n",
      "0.0\n",
      "254.0\n",
      "241.0\n",
      "0.0\n",
      "0.0\n",
      "0.0\n",
      "0.0\n",
      "247.0\n",
      "135.0\n",
      "0.0\n",
      "27.0\n",
      "0.0\n",
      "116.0\n",
      "0.0\n",
      "121.0\n",
      "145.0\n",
      "253.0\n",
      "201.0\n",
      "0.0\n",
      "242.0\n",
      "254.0\n",
      "0.0\n",
      "79.0\n",
      "0.0\n",
      "0.0\n",
      "0.0\n",
      "116.0\n",
      "0.0\n",
      "185.0\n",
      "0.0\n",
      "0.0\n",
      "196.0\n",
      "0.0\n",
      "162.0\n",
      "0.0\n",
      "253.0\n",
      "201.0\n",
      "0.0\n",
      "42.0\n",
      "148.0\n",
      "0.0\n",
      "0.0\n",
      "15.0\n",
      "92.0\n",
      "254.0\n",
      "252.0\n",
      "31.0\n",
      "252.0\n",
      "0.0\n",
      "172.0\n",
      "0.0\n",
      "0.0\n",
      "213.0\n",
      "250.0\n",
      "0.0\n",
      "0.0\n",
      "46.0\n",
      "232.0\n",
      "0.0\n",
      "34.0\n",
      "0.0\n",
      "254.0\n",
      "76.0\n",
      "0.0\n",
      "208.0\n",
      "0.0\n",
      "0.0\n",
      "0.0\n",
      "138.0\n",
      "253.0\n",
      "0.0\n",
      "0.0\n",
      "0.0\n",
      "0.0\n",
      "252.0\n",
      "0.0\n",
      "244.0\n",
      "0.0\n",
      "0.0\n",
      "38.0\n",
      "0.0\n",
      "254.0\n",
      "0.0\n",
      "0.0\n",
      "0.0\n",
      "0.0\n",
      "0.0\n",
      "0.0\n",
      "0.0\n",
      "71.0\n",
      "253.0\n",
      "47.0\n",
      "20.0\n",
      "254.0\n",
      "0.0\n",
      "253.0\n",
      "80.0\n",
      "123.0\n",
      "0.0\n",
      "0.0\n",
      "0.0\n",
      "0.0\n",
      "252.0\n",
      "242.0\n",
      "254.0\n",
      "253.0\n",
      "0.0\n",
      "0.0\n",
      "0.0\n",
      "242.0\n",
      "0.0\n",
      "149.0\n",
      "254.0\n",
      "198.0\n",
      "0.0\n",
      "174.0\n",
      "0.0\n",
      "253.0\n",
      "133.0\n",
      "0.0\n",
      "254.0\n",
      "217.0\n",
      "253.0\n",
      "0.0\n",
      "253.0\n",
      "252.0\n",
      "0.0\n",
      "255.0\n",
      "0.0\n",
      "254.0\n",
      "0.0\n",
      "253.0\n"
     ]
    }
   ],
   "source": [
    "import random\n",
    "X_test_pixel = []\n",
    "y_test_pixel = y_test\n",
    "for i, img in enumerate(X_test):\n",
    "    x = int(7 + random.random() * 14)\n",
    "    y = int(7 + random.random() * 14)\n",
    "    print(img[0][y][x])\n",
    "\n",
    "    if img[0][y][x] <= 127:\n",
    "        img[0][y][x] = 0\n",
    "    else:\n",
    "        img[0][y][x] = 255\n",
    "\n",
    "\n",
    "    X_test_pixel.append(img)"
   ],
   "metadata": {
    "collapsed": false,
    "pycharm": {
     "name": "#%%\n"
    }
   }
  },
  {
   "cell_type": "code",
   "execution_count": 25,
   "outputs": [
    {
     "data": {
      "text/plain": "<Figure size 1000x700 with 10 Axes>",
      "image/png": "[encoded data removed]"
     },
     "metadata": {},
     "output_type": "display_data"
    }
   ],
   "source": [
    "plt.figure(figsize=(10, 7))\n",
    "for i in range(10):\n",
    "    plt.subplot(2, 5, i+1)\n",
    "    plt.imshow(X_test_pixel[i].reshape(28, 28), cmap='Greys')\n",
    "    plt.title(\"Цифра %d\" % y_test_pixel[i])"
   ],
   "metadata": {
    "collapsed": false,
    "pycharm": {
     "name": "#%%\n"
    }
   }
  },
  {
   "cell_type": "code",
   "execution_count": 26,
   "outputs": [],
   "source": [
    "X_test_pixel = np.reshape(X_test_pixel,(len(X_test_pixel), 1, 28, 28))\n",
    "# data = np.array(data)\n",
    "y_test_pixel = np.array(y_test_pixel)"
   ],
   "metadata": {
    "collapsed": false,
    "pycharm": {
     "name": "#%%\n"
    }
   }
  },
  {
   "cell_type": "code",
   "execution_count": 27,
   "outputs": [],
   "source": [
    "pixel_dataset = TensorDataset(torch.from_numpy(X_test_pixel).float(),\n",
    "                             torch.from_numpy(y_test_pixel).long())\n",
    "pixel_loader = DataLoader(pixel_dataset,\n",
    "                          shuffle=False,\n",
    "                          # pin_memory=True,\n",
    "                          # num_workers=8,\n",
    "                          # drop_last=True,\n",
    "                          batch_size=BATCH_SIZE)"
   ],
   "metadata": {
    "collapsed": false,
    "pycharm": {
     "name": "#%%\n"
    }
   }
  },
  {
   "cell_type": "code",
   "execution_count": 28,
   "outputs": [
    {
     "name": "stdout",
     "output_type": "stream",
     "text": [
      "Test accuracy: 98.69 %\n"
     ]
    }
   ],
   "source": [
    "mnistnet.eval()\n",
    "with torch.no_grad():\n",
    "    correct = 0\n",
    "    total = 0\n",
    "    predict_results = []\n",
    "    for images, labels in pixel_loader:\n",
    "        outputs = mnistnet(images)\n",
    "        predicted_pixel = torch.argmax(outputs, dim=1)\n",
    "        predict_results+=predicted_pixel\n",
    "        total += labels.shape[0]\n",
    "        correct += (predicted_pixel == labels).sum().item()\n",
    "\n",
    "    print(\"Test accuracy:\",\n",
    "        100 * correct / total, \"%\")"
   ],
   "metadata": {
    "collapsed": false,
    "pycharm": {
     "name": "#%%\n"
    }
   }
  },
  {
   "cell_type": "code",
   "execution_count": 29,
   "outputs": [
    {
     "name": "stdout",
     "output_type": "stream",
     "text": [
      "10000\n"
     ]
    },
    {
     "data": {
      "text/plain": "<Figure size 1000x700 with 10 Axes>",
      "image/png": "[encoded data removed]"
     },
     "metadata": {},
     "output_type": "display_data"
    }
   ],
   "source": [
    "plt.figure(figsize=(10, 7))\n",
    "print(len(predict_results))\n",
    "for i in range(10, 20):\n",
    "    plt.subplot(2, 5, i-9)\n",
    "    plt.imshow(X_test_pixel[i].reshape(28, 28), cmap='Greys')\n",
    "    plt.title(\"%d, pred: %d\" % (y_test_pixel[i], predict_results[i]))"
   ],
   "metadata": {
    "collapsed": false,
    "pycharm": {
     "name": "#%%\n"
    }
   }
  }
 ],
 "metadata": {
  "kernelspec": {
   "display_name": "Python 3",
   "language": "python",
   "name": "python3"
  },
  "language_info": {
   "codemirror_mode": {
    "name": "ipython",
    "version": 2
   },
   "file_extension": ".py",
   "mimetype": "text/x-python",
   "name": "python",
   "nbconvert_exporter": "python",
   "pygments_lexer": "ipython2",
   "version": "2.7.6"
  }
 },
 "nbformat": 4,
 "nbformat_minor": 0
}