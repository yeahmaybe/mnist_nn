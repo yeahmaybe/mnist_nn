{
 "cells": [
  {
   "cell_type": "code",
   "execution_count": 711,
   "metadata": {
    "collapsed": true,
    "pycharm": {
     "name": "#%%\n"
    }
   },
   "outputs": [],
   "source": [
    "import numpy as np\n",
    "import torch\n",
    "import torch.nn as tnn\n",
    "from torch.utils.data import TensorDataset, DataLoader\n",
    "from sklearn.datasets import fetch_openml\n",
    "\n",
    "from matplotlib import pyplot as plt"
   ]
  },
  {
   "cell_type": "code",
   "execution_count": 712,
   "outputs": [],
   "source": [
    "#device = torch.device('cuda' if torch.cuda.is_available() else 'cpu')"
   ],
   "metadata": {
    "collapsed": false,
    "pycharm": {
     "name": "#%%\n"
    }
   }
  },
  {
   "cell_type": "code",
   "execution_count": 713,
   "outputs": [],
   "source": [
    "X, y = fetch_openml('mnist_784', version=1, return_X_y=True, as_frame=False)\n",
    "y = y.astype(int)"
   ],
   "metadata": {
    "collapsed": false,
    "pycharm": {
     "name": "#%%\n"
    }
   }
  },
  {
   "cell_type": "code",
   "execution_count": 714,
   "outputs": [
    {
     "data": {
      "text/plain": "<Figure size 1000x700 with 10 Axes>",
      "image/png": "[encoded data removed]"
     },
     "metadata": {},
     "output_type": "display_data"
    }
   ],
   "source": [
    "plt.figure(figsize=(10, 7))\n",
    "for i in range(10):\n",
    "    plt.subplot(2, 5, i+1)\n",
    "    plt.imshow(X[i].reshape(28, 28), cmap='Greys')\n",
    "    plt.title(\"Цифра %d\" % y[i])"
   ],
   "metadata": {
    "collapsed": false,
    "pycharm": {
     "name": "#%%\n"
    }
   }
  },
  {
   "cell_type": "code",
   "execution_count": 715,
   "outputs": [],
   "source": [
    "def perturb_image(xs, image):\n",
    "    # If this function is passed just one perturbation vector,\n",
    "    # pack it in a list to keep the computation the same\n",
    "    if xs.ndim < 2:\n",
    "        xs = np.array([xs])\n",
    "\n",
    "    # Copy the image n == len(xs) times so that we can\n",
    "    # create n new perturbed images\n",
    "    tile = [len(xs)] + [1]*(xs.ndim+1)\n",
    "    imgs = np.tile(image, tile)\n",
    "\n",
    "    # Make sure to floor the members of xs as int types\n",
    "    xs = xs.astype(int)\n",
    "\n",
    "    for x, image in zip(xs, imgs):\n",
    "        # Split x into an array of 5-tuples (perturbation pixels)\n",
    "        # i.e., [[x,y,r,g,b], ...]\n",
    "        pixels = np.split(x, len(x) // 5)\n",
    "        for pixel in pixels:\n",
    "            # At each pixel's x,y position, assign its rgb value\n",
    "            x_pos, y_pos, *rgb = pixel\n",
    "            image[x_pos, y_pos] = rgb\n",
    "\n",
    "    return imgs"
   ],
   "metadata": {
    "collapsed": false,
    "pycharm": {
     "name": "#%%\n"
    }
   }
  },
  {
   "cell_type": "code",
   "execution_count": 716,
   "outputs": [],
   "source": [
    "X_train, X_test, y_train, y_test = X[:60000], X[60000:], y[:60000], y[60000:]\n",
    "train_dataset = TensorDataset(torch.from_numpy(X_train).float(),\n",
    "                              torch.from_numpy(y_train).long())\n",
    "train_loader = DataLoader(train_dataset, batch_size=64)\n",
    "\n",
    "test_dataset = TensorDataset(torch.from_numpy(X_test).float(),\n",
    "                              torch.from_numpy(y_test).long())\n",
    "test_loader = DataLoader(test_dataset, batch_size=64)"
   ],
   "metadata": {
    "collapsed": false,
    "pycharm": {
     "name": "#%%\n"
    }
   }
  },
  {
   "cell_type": "code",
   "execution_count": 717,
   "outputs": [
    {
     "ename": "IndexError",
     "evalue": "index 16 is out of bounds for axis 0 with size 1",
     "output_type": "error",
     "traceback": [
      "\u001B[0;31m---------------------------------------------------------------------------\u001B[0m",
      "\u001B[0;31mIndexError\u001B[0m                                Traceback (most recent call last)",
      "Cell \u001B[0;32mIn[717], line 2\u001B[0m\n\u001B[1;32m      1\u001B[0m pixel \u001B[38;5;241m=\u001B[39m np\u001B[38;5;241m.\u001B[39marray([\u001B[38;5;241m16\u001B[39m, \u001B[38;5;241m16\u001B[39m, \u001B[38;5;241m255\u001B[39m, \u001B[38;5;241m255\u001B[39m, \u001B[38;5;241m0\u001B[39m]) \u001B[38;5;66;03m# pixel = x,y,r,g,b\u001B[39;00m\n\u001B[0;32m----> 2\u001B[0m image_perturbed \u001B[38;5;241m=\u001B[39m \u001B[43mperturb_image\u001B[49m\u001B[43m(\u001B[49m\u001B[43mpixel\u001B[49m\u001B[43m,\u001B[49m\u001B[43m \u001B[49m\u001B[43mtest_dataset\u001B[49m\u001B[43m)\u001B[49m\n\u001B[1;32m      4\u001B[0m plt\u001B[38;5;241m.\u001B[39mfigure(figsize\u001B[38;5;241m=\u001B[39m(\u001B[38;5;241m10\u001B[39m, \u001B[38;5;241m7\u001B[39m))\n\u001B[1;32m      5\u001B[0m \u001B[38;5;28;01mfor\u001B[39;00m i \u001B[38;5;129;01min\u001B[39;00m \u001B[38;5;28mrange\u001B[39m(\u001B[38;5;241m10\u001B[39m):\n",
      "Cell \u001B[0;32mIn[715], line 22\u001B[0m, in \u001B[0;36mperturb_image\u001B[0;34m(xs, image)\u001B[0m\n\u001B[1;32m     19\u001B[0m     \u001B[38;5;28;01mfor\u001B[39;00m pixel \u001B[38;5;129;01min\u001B[39;00m pixels:\n\u001B[1;32m     20\u001B[0m         \u001B[38;5;66;03m# At each pixel's x,y position, assign its rgb value\u001B[39;00m\n\u001B[1;32m     21\u001B[0m         x_pos, y_pos, \u001B[38;5;241m*\u001B[39mrgb \u001B[38;5;241m=\u001B[39m pixel\n\u001B[0;32m---> 22\u001B[0m         image[x_pos, y_pos] \u001B[38;5;241m=\u001B[39m rgb\n\u001B[1;32m     24\u001B[0m \u001B[38;5;28;01mreturn\u001B[39;00m imgs\n",
      "\u001B[0;31mIndexError\u001B[0m: index 16 is out of bounds for axis 0 with size 1"
     ]
    }
   ],
   "source": [
    "pixel = np.array([16, 16, 255, 255, 0]) # pixel = x,y,r,g,b\n",
    "image_perturbed = perturb_image(pixel, test_dataset)\n",
    "\n",
    "plt.figure(figsize=(10, 7))\n",
    "for i in range(10):\n",
    "    plt.subplot(2, 5, i+1)\n",
    "    plt.imshow(image_perturbed[i].reshape(28, 28), cmap='Greys')"
   ],
   "metadata": {
    "collapsed": false,
    "pycharm": {
     "name": "#%%\n"
    }
   }
  },
  {
   "cell_type": "code",
   "execution_count": null,
   "outputs": [],
   "source": [
    "def evaluate_model():\n",
    "    global model\n",
    "    model.eval()\n",
    "    with torch.no_grad():\n",
    "        correct_out = 0\n",
    "        total_out = 0\n",
    "        for pics, lbls in test_loader:\n",
    "            out = model(pics)\n",
    "            pred = torch.argmax(out, dim=1)\n",
    "            total_out += lbls.shape[0]\n",
    "            correct_out += (pred == lbls).sum().item()\n",
    "    loss_current = criterion(out, lbls)\n",
    "    return correct_out / total_out, loss_current\n",
    "    # print(\"Test accuracy:\", 100 * correct_out / total, \"%\")"
   ],
   "metadata": {
    "collapsed": false,
    "pycharm": {
     "name": "#%%\n"
    }
   }
  },
  {
   "cell_type": "code",
   "execution_count": null,
   "outputs": [],
   "source": [
    "def train_accuracy():\n",
    "    global model\n",
    "    model.eval()\n",
    "    with torch.no_grad():\n",
    "        correct_out = 0\n",
    "        total_out = 0\n",
    "        for pics, lbls in train_loader:\n",
    "            out = model(pics)\n",
    "            pred = torch.argmax(out, dim=1)\n",
    "            total_out += lbls.shape[0]\n",
    "            correct_out += (pred == lbls).sum().item()\n",
    "    return correct_out / total_out"
   ],
   "metadata": {
    "collapsed": false,
    "pycharm": {
     "name": "#%%\n"
    }
   }
  },
  {
   "cell_type": "code",
   "execution_count": null,
   "outputs": [],
   "source": [
    "model = tnn.Sequential(tnn.Linear(in_features=X.shape[1], out_features=512),\n",
    "                      tnn.ReLU(),\n",
    "                      tnn.Linear(512, 128),\n",
    "                      tnn.ReLU(),\n",
    "                      tnn.Linear(128, 10)\n",
    "                    )"
   ],
   "metadata": {
    "collapsed": false,
    "pycharm": {
     "name": "#%%\n"
    }
   }
  },
  {
   "cell_type": "code",
   "execution_count": null,
   "outputs": [],
   "source": [
    "criterion = tnn.CrossEntropyLoss()\n",
    "optimizer = torch.optim.Adam(model.parameters(), lr=0.0001)"
   ],
   "metadata": {
    "collapsed": false,
    "pycharm": {
     "name": "#%%\n"
    }
   }
  },
  {
   "cell_type": "code",
   "execution_count": null,
   "outputs": [],
   "source": [],
   "metadata": {
    "collapsed": false,
    "pycharm": {
     "name": "#%%\n"
    }
   }
  },
  {
   "cell_type": "code",
   "execution_count": null,
   "outputs": [],
   "source": [
    "EPOCH_NUM = 100\n",
    "\n",
    "train_losses = []\n",
    "test_losses = []\n",
    "test_accuracies = []\n",
    "train_accuracies = []\n",
    "\n",
    "for epoch in range(EPOCH_NUM):\n",
    "    current_loss = 0\n",
    "    current_accuracy = 0\n",
    "    for i, (images, labels) in enumerate(train_loader):\n",
    "        outputs = model(images)\n",
    "        loss = criterion(outputs, labels)\n",
    "        optimizer.zero_grad()\n",
    "        loss.backward()\n",
    "        optimizer.step()\n",
    "        current_loss = loss.item()\n",
    "        if (i+1)%200 == 0:\n",
    "            print('Epoch [{}/{}], Step [{}/{}], Loss {:.4f}'.format(epoch+1, EPOCH_NUM, i+1, len(train_loader), current_loss))\n",
    "\n",
    "\n",
    "    train_accuracies.append(train_accuracy())\n",
    "    train_losses.append(current_loss)\n",
    "\n",
    "    test_accuracies.append(evaluate_model()[0])\n",
    "    test_losses.append(evaluate_model()[1])"
   ],
   "metadata": {
    "collapsed": false,
    "pycharm": {
     "name": "#%%\n"
    }
   }
  },
  {
   "cell_type": "code",
   "execution_count": null,
   "outputs": [],
   "source": [
    "epochs = range(1, EPOCH_NUM+1)\n",
    "plt.figure(figsize=(10, 7))\n",
    "plt.plot(epochs, train_losses)\n",
    "plt.plot(epochs, test_losses)\n",
    "plt.legend([\"Train Loss\", \"Test Loss\"])\n",
    "plt.show()\n",
    "\n",
    "train_losses[90]"
   ],
   "metadata": {
    "collapsed": false,
    "pycharm": {
     "name": "#%%\n"
    }
   }
  },
  {
   "cell_type": "code",
   "execution_count": null,
   "outputs": [],
   "source": [
    "epochs = range(1, EPOCH_NUM+1)\n",
    "plt.figure(figsize=(10, 7))\n",
    "plt.plot(epochs, train_accuracies)\n",
    "plt.plot(epochs, test_accuracies)\n",
    "plt.legend([\"Train Accuracy\", \"Test Accuracy\"])\n",
    "plt.show()"
   ],
   "metadata": {
    "collapsed": false,
    "pycharm": {
     "name": "#%%\n"
    }
   }
  },
  {
   "cell_type": "code",
   "execution_count": null,
   "outputs": [],
   "source": [
    "test_accuracies, train_accuracies"
   ],
   "metadata": {
    "collapsed": false,
    "pycharm": {
     "name": "#%%\n"
    }
   }
  },
  {
   "cell_type": "code",
   "execution_count": null,
   "outputs": [],
   "source": [
    "import cv2\n",
    "import numpy as np\n",
    "\n",
    "data = []\n",
    "classes = [2, 3, 6, 8, 9, 1, 0, 4, 7, 5]\n",
    "for i in range(10):\n",
    "    img = cv2.imread(\"my_dataset/\"+str(i+1)+\".png\")\n",
    "    img = cv2.cvtColor(img, cv2.COLOR_BGR2GRAY)\n",
    "\n",
    "    sharp_filter = np.array([[-1, 0, -1],\n",
    "                             [0, 7, 0],\n",
    "                             [-1, 0, -1]])\n",
    "    img = cv2.filter2D(img, ddepth=-1, kernel=sharp_filter)\n",
    "\n",
    "    img = cv2.bitwise_not(img)\n",
    "    img = img.astype('float32')\n",
    "    data.append(img)\n",
    "\n",
    "data = np.reshape(data,(len(data), 28*28))\n",
    "# data = np.array(data)\n",
    "classes = np.array(classes)\n",
    "\n",
    "print(data.shape)"
   ],
   "metadata": {
    "collapsed": false,
    "pycharm": {
     "name": "#%%\n"
    }
   }
  },
  {
   "cell_type": "code",
   "execution_count": null,
   "outputs": [],
   "source": [
    "plt.figure(figsize=(10, 7))\n",
    "for i in range(10):\n",
    "    plt.subplot(2, 5, i+1)\n",
    "    plt.imshow(data[i].reshape(28, 28), cmap='Greys')\n",
    "    plt.title(\"Цифра %d\" % classes[i])"
   ],
   "metadata": {
    "collapsed": false,
    "pycharm": {
     "name": "#%%\n"
    }
   }
  },
  {
   "cell_type": "code",
   "execution_count": null,
   "outputs": [],
   "source": [
    "experiment_dataset = TensorDataset(torch.from_numpy(data).float(),\n",
    "                              torch.from_numpy(classes).long())\n",
    "experiment_loader = DataLoader(experiment_dataset, batch_size=64)"
   ],
   "metadata": {
    "collapsed": false,
    "pycharm": {
     "name": "#%%\n"
    }
   }
  },
  {
   "cell_type": "code",
   "execution_count": null,
   "outputs": [],
   "source": [
    "model.eval()\n",
    "with torch.no_grad():\n",
    "    correct = 0\n",
    "    total = 0\n",
    "    for images, labels in experiment_loader:\n",
    "        outputs = model(images)\n",
    "        predicted = torch.argmax(outputs, dim=1)\n",
    "        total += labels.shape[0]\n",
    "        correct += (predicted == labels).sum().item()\n",
    "    print(\"Test accuracy:\",\n",
    "          100*correct/total, \"%\")"
   ],
   "metadata": {
    "collapsed": false,
    "pycharm": {
     "name": "#%%\n"
    }
   }
  },
  {
   "cell_type": "code",
   "execution_count": null,
   "outputs": [],
   "source": [
    "plt.figure(figsize=(10, 7))\n",
    "for i in range(10):\n",
    "    plt.subplot(2, 5, i+1)\n",
    "    plt.imshow(data[i].reshape(28, 28), cmap='Greys')\n",
    "    plt.title(\"%d, pred: %d\" % (classes[i], predicted[i]))"
   ],
   "metadata": {
    "collapsed": false,
    "pycharm": {
     "name": "#%%\n"
    }
   }
  }
 ],
 "metadata": {
  "kernelspec": {
   "display_name": "Python 3",
   "language": "python",
   "name": "python3"
  },
  "language_info": {
   "codemirror_mode": {
    "name": "ipython",
    "version": 2
   },
   "file_extension": ".py",
   "mimetype": "text/x-python",
   "name": "python",
   "nbconvert_exporter": "python",
   "pygments_lexer": "ipython2",
   "version": "2.7.6"
  }
 },
 "nbformat": 4,
 "nbformat_minor": 0
}